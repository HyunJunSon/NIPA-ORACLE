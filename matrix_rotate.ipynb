{
 "cells": [
  {
   "cell_type": "code",
   "execution_count": 5,
   "id": "11aeba93",
   "metadata": {},
   "outputs": [
    {
     "data": {
      "text/plain": [
       "[[1, 2, 3, 4, 5, 6],\n",
       " [7, 8, 9, 10, 11, 12],\n",
       " [13, 14, 15, 16, 17, 18],\n",
       " [19, 20, 21, 22, 23, 24],\n",
       " [25, 26, 27, 28, 29, 30],\n",
       " [31, 32, 33, 34, 35, 36]]"
      ]
     },
     "execution_count": 5,
     "metadata": {},
     "output_type": "execute_result"
    }
   ],
   "source": [
    "def solution(rows, columns):\n",
    "\n",
    "    # rows * colums 의 행렬을 이차원 배열로 생성\n",
    "    \n",
    "    return [ [ row+1 + column*columns for row in range(rows)] for column in range(columns)]\n",
    "\n",
    "solution(6,6)"
   ]
  },
  {
   "cell_type": "code",
   "execution_count": null,
   "id": "661be3ab",
   "metadata": {},
   "outputs": [],
   "source": [
    "def solution(rows, columns, queries):\n",
    "\n",
    "    # rows * colums 의 행렬을 이차원 배열로 생성\n",
    "    \n",
    "    matrix =  [ [ row+1 + column*columns for row in range(rows)] for column in range(columns)]\n",
    "    \n",
    "    # queries 값을 기반으로 rotate 할 값 뽑아내기\n",
    "    result = []\n",
    "    for x1,y1,x2,y2 in queries :\n",
    "      result.append(rotate(x1-1, y1-1, x2-1, y2-1, matrix))\n",
    "      \n",
    "def rotate(x1, y1, x2, y2, matrix) :\n",
    "\n",
    "    first = matrix[x1][y1]\n",
    "    min_value = first\n",
    "    \n",
    "    left = [matrix[k][y1] for k in range(x1,x2)]\n",
    "\n"
   ]
  },
  {
   "cell_type": "code",
   "execution_count": null,
   "id": "67f4ba55",
   "metadata": {},
   "outputs": [],
   "source": [
    "from collections import deque\n",
    "\n",
    "dq = deque([1,2,3,4,5])\n",
    "\n",
    "dq.append(4)\n",
    "dq.appendleft(3)\n",
    "\n",
    "# dq.pop() # 끝에 값 \n",
    "# dq.popleft()\n",
    "\n",
    "dq.rotate()\n",
    "dq.rotate()"
   ]
  },
  {
   "cell_type": "code",
   "execution_count": 34,
   "id": "f00ad9ad",
   "metadata": {},
   "outputs": [
    {
     "data": {
      "text/plain": [
       "3"
      ]
     },
     "execution_count": 34,
     "metadata": {},
     "output_type": "execute_result"
    }
   ],
   "source": [
    "from collections import deque\n",
    "\n",
    "dq = deque([12821,3,123,51,3,215,13,21,31])\n",
    "min(dq)\n"
   ]
  },
  {
   "cell_type": "code",
   "execution_count": 37,
   "id": "029bd4be",
   "metadata": {},
   "outputs": [
    {
     "data": {
      "text/plain": [
       "'12'"
      ]
     },
     "execution_count": 37,
     "metadata": {},
     "output_type": "execute_result"
    }
   ],
   "source": [
    "\"\".join((\"1\",\"2\"))"
   ]
  },
  {
   "cell_type": "code",
   "execution_count": null,
   "id": "81a8cbc5",
   "metadata": {},
   "outputs": [
    {
     "data": {
      "text/plain": [
       "['a', 'b', 'c', 'd', '']"
      ]
     },
     "execution_count": 38,
     "metadata": {},
     "output_type": "execute_result"
    }
   ],
   "source": [
    "\"axbxcxdx\".split(\"x\")\t"
   ]
  },
  {
   "cell_type": "code",
   "execution_count": 40,
   "id": "bc44eedf",
   "metadata": {},
   "outputs": [
    {
     "data": {
      "text/plain": [
       "'happy'"
      ]
     },
     "execution_count": 40,
     "metadata": {},
     "output_type": "execute_result"
    }
   ],
   "source": [
    "\"ihrhbakrfpndopljhygc\"[1::4]"
   ]
  },
  {
   "cell_type": "code",
   "execution_count": 45,
   "id": "9ddfb423",
   "metadata": {},
   "outputs": [
    {
     "data": {
      "text/plain": [
       "{3, 4}"
      ]
     },
     "execution_count": 45,
     "metadata": {},
     "output_type": "execute_result"
    }
   ],
   "source": [
    "set([1,2,4,3]) - set([1,2,7,9,10])"
   ]
  },
  {
   "cell_type": "code",
   "execution_count": null,
   "id": "8b2fb371",
   "metadata": {},
   "outputs": [
    {
     "data": {
      "text/plain": [
       "['a', 'b', 'c', 'd']"
      ]
     },
     "execution_count": 53,
     "metadata": {},
     "output_type": "execute_result"
    }
   ],
   "source": [
    "\" a b  c  d \".split() # 양쪽 공백제거, 다중공백 무시"
   ]
  },
  {
   "cell_type": "code",
   "execution_count": null,
   "id": "873a109d",
   "metadata": {},
   "outputs": [
    {
     "data": {
      "text/plain": [
       "['a', 'b', 'c', 'd', '']"
      ]
     },
     "execution_count": 64,
     "metadata": {},
     "output_type": "execute_result"
    }
   ],
   "source": [
    "\"a:b:c:d:\".split(\":\")"
   ]
  },
  {
   "cell_type": "code",
   "execution_count": 66,
   "id": "5dd3470a",
   "metadata": {},
   "outputs": [
    {
     "data": {
      "text/plain": [
       "['a:b:c', 'd']"
      ]
     },
     "execution_count": 66,
     "metadata": {},
     "output_type": "execute_result"
    }
   ],
   "source": [
    "\"a:b:c:d\".rsplit(\":\",1)"
   ]
  },
  {
   "cell_type": "code",
   "execution_count": 71,
   "id": "ea9da879",
   "metadata": {},
   "outputs": [
    {
     "data": {
      "text/plain": [
       "['a', 'b', 'c']"
      ]
     },
     "execution_count": 71,
     "metadata": {},
     "output_type": "execute_result"
    }
   ],
   "source": [
    "\"a\\nb\\nc\".splitlines()"
   ]
  },
  {
   "cell_type": "code",
   "execution_count": 84,
   "id": "5bf44b5f",
   "metadata": {},
   "outputs": [
    {
     "data": {
      "text/plain": [
       "['a', 'bc', 'd']"
      ]
     },
     "execution_count": 84,
     "metadata": {},
     "output_type": "execute_result"
    }
   ],
   "source": [
    "\"a bc d \".split()"
   ]
  },
  {
   "cell_type": "code",
   "execution_count": null,
   "id": "7e1a583d",
   "metadata": {},
   "outputs": [
    {
     "data": {
      "text/plain": [
       "['', 'onlettu', 'etom', 'to']"
      ]
     },
     "execution_count": 97,
     "metadata": {},
     "output_type": "execute_result"
    }
   ],
   "source": [
    "import re\n",
    "\n",
    "re.split(\"[abc]+\",\"baconlettucetomato\")"
   ]
  },
  {
   "cell_type": "code",
   "execution_count": 98,
   "id": "584be0ec",
   "metadata": {},
   "outputs": [
    {
     "data": {
      "text/plain": [
       "'stringstringstringstringstring'"
      ]
     },
     "execution_count": 98,
     "metadata": {},
     "output_type": "execute_result"
    }
   ],
   "source": [
    "\"string\"*5"
   ]
  },
  {
   "cell_type": "code",
   "execution_count": 110,
   "id": "5667270b",
   "metadata": {},
   "outputs": [
    {
     "data": {
      "text/plain": [
       "[('h', 'a', 'p', 'h'), ('e', 'b', 'q', 'e'), ('l', 'c', 'r', 'l')]"
      ]
     },
     "execution_count": 110,
     "metadata": {},
     "output_type": "execute_result"
    }
   ],
   "source": [
    "a = [1,2,3]\n",
    "b = ['a','b','c']\n",
    "c = ('p', 'q' ,'r')\n",
    "d = {'h':1, 'e':2, 'l':3}\n",
    "\n",
    "[(t,e,s,t) for t,e,s,t in zip(a,b,c,d)]"
   ]
  },
  {
   "cell_type": "code",
   "execution_count": 118,
   "id": "b3786318",
   "metadata": {},
   "outputs": [
    {
     "data": {
      "text/plain": [
       "-1011"
      ]
     },
     "execution_count": 118,
     "metadata": {},
     "output_type": "execute_result"
    }
   ],
   "source": [
    "~int(bin(10)[2:])"
   ]
  }
 ],
 "metadata": {
  "kernelspec": {
   "display_name": "Python 3",
   "language": "python",
   "name": "python3"
  },
  "language_info": {
   "codemirror_mode": {
    "name": "ipython",
    "version": 3
   },
   "file_extension": ".py",
   "mimetype": "text/x-python",
   "name": "python",
   "nbconvert_exporter": "python",
   "pygments_lexer": "ipython3",
   "version": "3.10.13"
  }
 },
 "nbformat": 4,
 "nbformat_minor": 5
}
