{
 "cells": [
  {
   "cell_type": "code",
   "execution_count": null,
   "id": "11aeba93",
   "metadata": {},
   "outputs": [],
   "source": [
    "import itertools\n",
    "\n",
    "def solution(line):\n",
    "    points = [\n",
    "        p\n",
    "        for a, b in itertools.combinations(line, 2)\n",
    "        if (p := get_cross_point(a, b)) is not None\n",
    "    ]\n",
    "    return draw_star_map(points)\n",
    "\n",
    "def get_cross_point(aline, bline):\n",
    "    A, B, E = aline\n",
    "    C, D, F = bline\n",
    "    div = A * D - B * C\n",
    "    if div == 0:\n",
    "        return None  # 평행/일치\n",
    "\n",
    "    nx = B * F - E * D\n",
    "    ny = E * C - A * F\n",
    "\n",
    "    # 정수 좌표인지: 나눗셈 전에 나머지 0 확인(음수 div도 OK)\n",
    "    if nx % div != 0 or ny % div != 0:\n",
    "        return None\n",
    "\n",
    "    x = nx // div\n",
    "    y = ny // div\n",
    "    return (x, y)\n",
    "\n",
    "def draw_star_map(points):\n",
    "    if not points:\n",
    "        return []\n",
    "\n",
    "    xs = [x for x, _ in points]\n",
    "    ys = [y for _, y in points]\n",
    "    min_x, max_x = min(xs), max(xs)\n",
    "    min_y, max_y = min(ys), max(ys)\n",
    "\n",
    "    w = max_x - min_x + 1\n",
    "    h = max_y - min_y + 1\n",
    "    board = [['.' for _ in range(w)] for _ in range(h)]\n",
    "\n",
    "    for x, y in set(points):  # 중복 제거\n",
    "        r = max_y - y\n",
    "        c = x - min_x\n",
    "        board[r][c] = '*'\n",
    "\n",
    "    return [''.join(row) for row in board]"
   ]
  },
  {
   "cell_type": "code",
   "execution_count": 8,
   "id": "9a89aa91",
   "metadata": {},
   "outputs": [
    {
     "name": "stdout",
     "output_type": "stream",
     "text": [
      "[(0, 4), (-4, -4), (4, -4), (4, 1), (-4, 1)]\n"
     ]
    }
   ],
   "source": [
    "solution([[2, -1, 4], [-2, -1, 4], [0, -1, 1], [5, -8, -12], [5, 8, 12]])"
   ]
  }
 ],
 "metadata": {
  "kernelspec": {
   "display_name": "Python 3",
   "language": "python",
   "name": "python3"
  },
  "language_info": {
   "codemirror_mode": {
    "name": "ipython",
    "version": 3
   },
   "file_extension": ".py",
   "mimetype": "text/x-python",
   "name": "python",
   "nbconvert_exporter": "python",
   "pygments_lexer": "ipython3",
   "version": "3.10.13"
  }
 },
 "nbformat": 4,
 "nbformat_minor": 5
}
