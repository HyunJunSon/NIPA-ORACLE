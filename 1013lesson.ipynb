{
 "cells": [
  {
   "cell_type": "markdown",
   "id": "091b540e",
   "metadata": {},
   "source": [
    "## Awesome ChatGPT Prompts "
   ]
  },
  {
   "cell_type": "code",
   "execution_count": null,
   "id": "174a3a5e",
   "metadata": {},
   "outputs": [
    {
     "data": {
      "text/html": [
       "<div>\n",
       "<style scoped>\n",
       "    .dataframe tbody tr th:only-of-type {\n",
       "        vertical-align: middle;\n",
       "    }\n",
       "\n",
       "    .dataframe tbody tr th {\n",
       "        vertical-align: top;\n",
       "    }\n",
       "\n",
       "    .dataframe thead th {\n",
       "        text-align: right;\n",
       "    }\n",
       "</style>\n",
       "<table border=\"1\" class=\"dataframe\">\n",
       "  <thead>\n",
       "    <tr style=\"text-align: right;\">\n",
       "      <th></th>\n",
       "      <th>act</th>\n",
       "      <th>prompt</th>\n",
       "    </tr>\n",
       "  </thead>\n",
       "  <tbody>\n",
       "    <tr>\n",
       "      <th>0</th>\n",
       "      <td>An Ethereum Developer</td>\n",
       "      <td>Imagine you are an experienced Ethereum develo...</td>\n",
       "    </tr>\n",
       "    <tr>\n",
       "      <th>1</th>\n",
       "      <td>SEO Prompt</td>\n",
       "      <td>Using WebPilot, create an outline for an artic...</td>\n",
       "    </tr>\n",
       "    <tr>\n",
       "      <th>2</th>\n",
       "      <td>Linux Terminal</td>\n",
       "      <td>I want you to act as a linux terminal. I will ...</td>\n",
       "    </tr>\n",
       "    <tr>\n",
       "      <th>3</th>\n",
       "      <td>English Translator and Improver</td>\n",
       "      <td>I want you to act as an English translator, sp...</td>\n",
       "    </tr>\n",
       "    <tr>\n",
       "      <th>4</th>\n",
       "      <td>`position` Interviewer</td>\n",
       "      <td>I want you to act as an interviewer. I will be...</td>\n",
       "    </tr>\n",
       "    <tr>\n",
       "      <th>...</th>\n",
       "      <td>...</td>\n",
       "      <td>...</td>\n",
       "    </tr>\n",
       "    <tr>\n",
       "      <th>95</th>\n",
       "      <td>Digital Art Gallery Guide</td>\n",
       "      <td>I want you to act as a digital art gallery gui...</td>\n",
       "    </tr>\n",
       "    <tr>\n",
       "      <th>96</th>\n",
       "      <td>Public Speaking Coach</td>\n",
       "      <td>I want you to act as a public speaking coach. ...</td>\n",
       "    </tr>\n",
       "    <tr>\n",
       "      <th>97</th>\n",
       "      <td>Makeup Artist</td>\n",
       "      <td>I want you to act as a makeup artist. You will...</td>\n",
       "    </tr>\n",
       "    <tr>\n",
       "      <th>98</th>\n",
       "      <td>Babysitter</td>\n",
       "      <td>I want you to act as a babysitter. You will be...</td>\n",
       "    </tr>\n",
       "    <tr>\n",
       "      <th>99</th>\n",
       "      <td>Tech Writer</td>\n",
       "      <td>I want you to act as a tech writer. You will a...</td>\n",
       "    </tr>\n",
       "  </tbody>\n",
       "</table>\n",
       "<p>100 rows × 2 columns</p>\n",
       "</div>"
      ],
      "text/plain": [
       "                                act  \\\n",
       "0             An Ethereum Developer   \n",
       "1                        SEO Prompt   \n",
       "2                    Linux Terminal   \n",
       "3   English Translator and Improver   \n",
       "4            `position` Interviewer   \n",
       "..                              ...   \n",
       "95        Digital Art Gallery Guide   \n",
       "96            Public Speaking Coach   \n",
       "97                    Makeup Artist   \n",
       "98                       Babysitter   \n",
       "99                      Tech Writer   \n",
       "\n",
       "                                               prompt  \n",
       "0   Imagine you are an experienced Ethereum develo...  \n",
       "1   Using WebPilot, create an outline for an artic...  \n",
       "2   I want you to act as a linux terminal. I will ...  \n",
       "3   I want you to act as an English translator, sp...  \n",
       "4   I want you to act as an interviewer. I will be...  \n",
       "..                                                ...  \n",
       "95  I want you to act as a digital art gallery gui...  \n",
       "96  I want you to act as a public speaking coach. ...  \n",
       "97  I want you to act as a makeup artist. You will...  \n",
       "98  I want you to act as a babysitter. You will be...  \n",
       "99  I want you to act as a tech writer. You will a...  \n",
       "\n",
       "[100 rows x 2 columns]"
      ]
     },
     "execution_count": 3,
     "metadata": {},
     "output_type": "execute_result"
    }
   ],
   "source": [
    "import pandas as pd\n",
    "\n",
    "df = pd.read_csv(\"hf://datasets/fka/awesome-chatgpt-prompts/prompts.csv\")\n",
    "df.head(100)"
   ]
  },
  {
   "cell_type": "code",
   "execution_count": null,
   "id": "a4834941",
   "metadata": {},
   "outputs": [],
   "source": [
    "from datasets import load_dataset\n",
    "\n",
    "# Login using e.g. `huggingface-cli login` to access this dataset\n",
    "ds = load_dataset(\"Open-Orca/OpenOrca\")"
   ]
  },
  {
   "cell_type": "code",
   "execution_count": null,
   "id": "f19b3be9",
   "metadata": {},
   "outputs": [],
   "source": [
    "config = {\n",
    "    \"user\": \"<your_user_ocid>\",\n",
    "    \"key_file\": \"<full_path_to_your_private_key>\",\n",
    "    \"fingerprint\": \"<fingerprint_of_your_public_key>\",\n",
    "    \"tenancy\": \"<your_tenancy_ocid>\",\n",
    "    \"region\": \"<your_oci_region>\"\n",
    "}\n",
    "\n",
    "from oci.config import validate_config\n",
    "validate_config(config)"
   ]
  },
  {
   "cell_type": "code",
   "execution_count": null,
   "id": "2b9f2660",
   "metadata": {},
   "outputs": [],
   "source": [
    "# oracle cloud cli 설정\n",
    "\n",
    "from oci.config import from_file\n",
    "config = from_file()\n",
    "\n",
    "# Using a different profile from the default location\n",
    "config = from_file(profile_name=\"integ-beta\")\n",
    "\n",
    "# Using the default profile from a different file\n",
    "config = from_file(file_location=\"~/.oci/config.prod\")"
   ]
  }
 ],
 "metadata": {
  "kernelspec": {
   "display_name": "langCh-env",
   "language": "python",
   "name": "python3"
  },
  "language_info": {
   "codemirror_mode": {
    "name": "ipython",
    "version": 3
   },
   "file_extension": ".py",
   "mimetype": "text/x-python",
   "name": "python",
   "nbconvert_exporter": "python",
   "pygments_lexer": "ipython3",
   "version": "3.10.18"
  }
 },
 "nbformat": 4,
 "nbformat_minor": 5
}
