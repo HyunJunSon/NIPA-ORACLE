{
 "cells": [
  {
   "cell_type": "markdown",
   "id": "70277a82",
   "metadata": {},
   "source": [
    "# CH1) LangChain 시작하기\n",
    "\n"
   ]
  },
  {
   "cell_type": "markdown",
   "id": "f546702c",
   "metadata": {},
   "source": [
    "### LangSmith 설정하기"
   ]
  },
  {
   "cell_type": "code",
   "execution_count": 1,
   "id": "15dfc771",
   "metadata": {},
   "outputs": [
    {
     "data": {
      "text/plain": [
       "True"
      ]
     },
     "execution_count": 1,
     "metadata": {},
     "output_type": "execute_result"
    }
   ],
   "source": [
    "from dotenv import load_dotenv\n",
    "\n",
    "load_dotenv()\n"
   ]
  },
  {
   "cell_type": "code",
   "execution_count": 2,
   "id": "7229444c",
   "metadata": {},
   "outputs": [
    {
     "name": "stdout",
     "output_type": "stream",
     "text": [
      "LangSmith 추적을 시작합니다.\n",
      "[프로젝트명]\n",
      "langchain-study\n"
     ]
    }
   ],
   "source": [
    "from langchain_teddynote import logging\n",
    "logging.langsmith(\"langchain-study\")\n",
    "\n",
    "# logging.langsmith(\"langchain-study\", set_enable=False) # langsmith 쓰지 않을때 끄는법\n"
   ]
  },
  {
   "cell_type": "markdown",
   "id": "fdbe4be4",
   "metadata": {},
   "source": [
    "### 04. OPenAI API 사용(GPT-40 멀티모달)"
   ]
  },
  {
   "cell_type": "code",
   "execution_count": null,
   "id": "9e71a175",
   "metadata": {},
   "outputs": [
    {
     "ename": "SyntaxError",
     "evalue": "invalid syntax. Perhaps you forgot a comma? (2891342050.py, line 5)",
     "output_type": "error",
     "traceback": [
      "\u001b[0;36m  Cell \u001b[0;32mIn[3], line 5\u001b[0;36m\u001b[0m\n\u001b[0;31m    model_name='gpt-4o'j\u001b[0m\n\u001b[0m               ^\u001b[0m\n\u001b[0;31mSyntaxError\u001b[0m\u001b[0;31m:\u001b[0m invalid syntax. Perhaps you forgot a comma?\n"
     ]
    }
   ],
   "source": [
    "from langchain_openai import ChatOpenAI\n",
    "\n",
    "llm = ChatOpenAI(\n",
    "    temperature=0.1, # 0 <- 정확성  창의성 -> 2\n",
    "    model_name='gpt-4o'\n",
    ")\n",
    "\n",
    "question = \"말레이시아의 수도는 어디인가요?\"\n",
    "response = llm.invoke(question)\n",
    "print(f\"[답변]: {response}\")\n",
    "print(f\"[답변]: {response}\")\n",
    "print(type(response))"
   ]
  },
  {
   "cell_type": "code",
   "execution_count": null,
   "id": "a5d07d9c",
   "metadata": {},
   "outputs": [
    {
     "data": {
      "text/plain": [
       "{'token_usage': {'completion_tokens': 36,\n",
       "  'prompt_tokens': 17,\n",
       "  'total_tokens': 53,\n",
       "  'completion_tokens_details': {'accepted_prediction_tokens': 0,\n",
       "   'audio_tokens': 0,\n",
       "   'reasoning_tokens': 0,\n",
       "   'rejected_prediction_tokens': 0},\n",
       "  'prompt_tokens_details': {'audio_tokens': 0, 'cached_tokens': 0}},\n",
       " 'model_name': 'gpt-4o-2024-08-06',\n",
       " 'system_fingerprint': 'fp_cbf1785567',\n",
       " 'id': 'chatcmpl-CQZQ2BAI7unvM8mJa7MTnpmIqw61M',\n",
       " 'service_tier': 'default',\n",
       " 'finish_reason': 'stop',\n",
       " 'logprobs': None}"
      ]
     },
     "execution_count": 4,
     "metadata": {},
     "output_type": "execute_result"
    }
   ],
   "source": [
    "response.content #'말레이시아의 수도는 쿠알라룸푸르입니다. 그러나 행정 수도는 푸트라자야로, 정부 기관들이 주로 위치해 있습니다.'\n",
    "response.response_metadata"
   ]
  },
  {
   "cell_type": "code",
   "execution_count": null,
   "id": "f25536a1",
   "metadata": {},
   "outputs": [
    {
     "data": {
      "text/plain": [
       "{'token_usage': {'completion_tokens': 15,\n",
       "  'prompt_tokens': 24,\n",
       "  'total_tokens': 39,\n",
       "  'completion_tokens_details': {'accepted_prediction_tokens': 0,\n",
       "   'audio_tokens': 0,\n",
       "   'reasoning_tokens': 0,\n",
       "   'rejected_prediction_tokens': 0},\n",
       "  'prompt_tokens_details': {'audio_tokens': 0, 'cached_tokens': 0}},\n",
       " 'model_name': 'gpt-3.5-turbo-0125',\n",
       " 'system_fingerprint': None,\n",
       " 'id': 'chatcmpl-CQZQ4sFblKVTcitPLns4vQFvrMH6S',\n",
       " 'service_tier': 'default',\n",
       " 'finish_reason': 'stop',\n",
       " 'logprobs': {'content': [{'token': '대',\n",
       "    'bytes': [235, 140, 128],\n",
       "    'logprob': -0.023170345,\n",
       "    'top_logprobs': []},\n",
       "   {'token': '한',\n",
       "    'bytes': [237, 149, 156],\n",
       "    'logprob': -1.9361265e-07,\n",
       "    'top_logprobs': []},\n",
       "   {'token': '\\\\xeb\\\\xaf',\n",
       "    'bytes': [235, 175],\n",
       "    'logprob': -1.9816675e-06,\n",
       "    'top_logprobs': []},\n",
       "   {'token': '\\\\xbc', 'bytes': [188], 'logprob': 0.0, 'top_logprobs': []},\n",
       "   {'token': '\\\\xea\\\\xb5',\n",
       "    'bytes': [234, 181],\n",
       "    'logprob': -6.704273e-07,\n",
       "    'top_logprobs': []},\n",
       "   {'token': '\\\\xad', 'bytes': [173], 'logprob': 0.0, 'top_logprobs': []},\n",
       "   {'token': '의',\n",
       "    'bytes': [236, 157, 152],\n",
       "    'logprob': -6.392203e-06,\n",
       "    'top_logprobs': []},\n",
       "   {'token': ' 수',\n",
       "    'bytes': [32, 236, 136, 152],\n",
       "    'logprob': -6.704273e-07,\n",
       "    'top_logprobs': []},\n",
       "   {'token': '도',\n",
       "    'bytes': [235, 143, 132],\n",
       "    'logprob': -4.3202e-07,\n",
       "    'top_logprobs': []},\n",
       "   {'token': '는',\n",
       "    'bytes': [235, 138, 148],\n",
       "    'logprob': -1.9361265e-07,\n",
       "    'top_logprobs': []},\n",
       "   {'token': ' 서',\n",
       "    'bytes': [32, 236, 132, 156],\n",
       "    'logprob': -5.5577775e-06,\n",
       "    'top_logprobs': []},\n",
       "   {'token': '\\\\xec\\\\x9a',\n",
       "    'bytes': [236, 154],\n",
       "    'logprob': 0.0,\n",
       "    'top_logprobs': []},\n",
       "   {'token': '\\\\xb8', 'bytes': [184], 'logprob': 0.0, 'top_logprobs': []},\n",
       "   {'token': '입니다',\n",
       "    'bytes': [236, 158, 133, 235, 139, 136, 235, 139, 164],\n",
       "    'logprob': -0.099872515,\n",
       "    'top_logprobs': []},\n",
       "   {'token': '.',\n",
       "    'bytes': [46],\n",
       "    'logprob': -3.1737043e-06,\n",
       "    'top_logprobs': []}],\n",
       "  'refusal': None}}"
      ]
     },
     "execution_count": 5,
     "metadata": {},
     "output_type": "execute_result"
    }
   ],
   "source": [
    "# LogProb 활성화\n",
    "\n",
    "llm_with_logprob = ChatOpenAI(\n",
    "    temperature=0.1,\n",
    "    max_tokens=2048,\n",
    "    model_name='gpt-3.5-turbo',\n",
    ").bind(logprobs=True)\n",
    "\n",
    "question = \"대한민국의 수도는 어디인가요?\"\n",
    "\n",
    "response = llm_with_logprob.invoke(question)\n",
    "\n",
    "response.response_metadata\n",
    "\n",
    "#이 코드는 OpenAI 모델이 생성하는 각 토큰의 “로그 확률(Log Probability)”을 함께 출력하도록 설정하는 예시입니다.\n",
    "#즉, 모델이 문장을 생성할 때 “각 단어(토큰)를 얼마나 확신 있게 예측했는지”를 수치로 볼 수 있게 하는 기능\n",
    "\n"
   ]
  },
  {
   "cell_type": "code",
   "execution_count": null,
   "id": "cfc9b614",
   "metadata": {},
   "outputs": [
    {
     "name": "stdout",
     "output_type": "stream",
     "text": [
      "<class 'generator'>\n",
      "대한민국에는 아름다운 관광지가 많이 있습니다. 아래는 그 중 10곳과 해당 주소입니다.\n",
      "\n",
      "1. **경복궁**\n",
      "   - 주소: 서울특별시 종로구 사직로 161\n",
      "\n",
      "2. **부산 해운대 해수욕장**\n",
      "   - 주소: 부산광역시 해운대구 우동\n",
      "\n",
      "3. **제주도 한라산 국립공원**\n",
      "   - 주소: 제주특별자치도 제주시 1100로\n",
      "\n",
      "4. **경주 불국사**\n",
      "   - 주소: 경상북도 경주시 불국로 385\n",
      "\n",
      "5. **전주 한옥마을**\n",
      "   - 주소: 전라북도 전주시 완산구 기린대로 99\n",
      "\n",
      "6. **설악산 국립공원**\n",
      "   - 주소: 강원도 속초시 설악산로\n",
      "\n",
      "7. **남이섬**\n",
      "   - 주소: 강원도 춘천시 남산면 남이섬길 1\n",
      "\n",
      "8. **안동 하회마을**\n",
      "   - 주소: 경상북도 안동시 풍천면 전서로 186\n",
      "\n",
      "9. **서울 남산타워 (N서울타워)**\n",
      "   - 주소: 서울특별시 용산구 남산공원길 105\n",
      "\n",
      "10. **순천만 습지**\n",
      "    - 주소: 전라남도 순천시 순천만길 513-25\n",
      "\n",
      "각 관광지는 고유의 매력을 가지고 있으며, 방문 시 다양한 문화와 자연을 경험할 수 있습니다."
     ]
    }
   ],
   "source": [
    "# 스트리밍 출력\n",
    "\n",
    "answer = llm.stream(\"대한민국의 아름다운 관광지 10곳과 주소를 알려주세요\")\n",
    "print(type(answer))\n",
    "for token in answer :  # <class 'langchain_core.messages.ai.AIMessageChunk'>\n",
    "  print(token.content, end=\"\", flush=True)"
   ]
  },
  {
   "cell_type": "code",
   "execution_count": null,
   "id": "893a0632",
   "metadata": {},
   "outputs": [
    {
     "name": "stdout",
     "output_type": "stream",
     "text": [
      "대한민국에는 아름다운 관광지가 많이 있습니다. 아래는 그 중 10곳과 해당 주소입니다.\n",
      "\n",
      "1. **경복궁**\n",
      "   - 주소: 서울특별시 종로구 사직로 161\n",
      "\n",
      "2. **부산 해운대 해수욕장**\n",
      "   - 주소: 부산광역시 해운대구 우동\n",
      "\n",
      "3. **제주도 한라산 국립공원**\n",
      "   - 주소: 제주특별자치도 제주시 1100로\n",
      "\n",
      "4. **경주 불국사**\n",
      "   - 주소: 경상북도 경주시 불국로 385\n",
      "\n",
      "5. **설악산 국립공원**\n",
      "   - 주소: 강원도 속초시 설악산로\n",
      "\n",
      "6. **전주 한옥마을**\n",
      "   - 주소: 전라북도 전주시 완산구 기린대로 99\n",
      "\n",
      "7. **남이섬**\n",
      "   - 주소: 강원도 춘천시 남산면 남이섬길 1\n",
      "\n",
      "8. **인천 차이나타운**\n",
      "   - 주소: 인천광역시 중구 차이나타운로59번길 20\n",
      "\n",
      "9. **안동 하회마을**\n",
      "   - 주소: 경상북도 안동시 풍천면 전서로 186\n",
      "\n",
      "10. **서울 남산타워 (N서울타워)**\n",
      "    - 주소: 서울특별시 용산구 남산공원길 105\n",
      "\n",
      "이곳들은 각각 독특한 매력을 가지고 있어 방문할 가치가 충분합니다. 여행 계획에 참고하시기 바랍니다!"
     ]
    }
   ],
   "source": [
    "from langchain_teddynote.messages import stream_response\n",
    "\n",
    "answer = llm.stream(\"대한민국의 아름다운 관광지 10곳과 주소를 알려주세요!\")\n",
    "stream_response(answer)\n"
   ]
  },
  {
   "cell_type": "code",
   "execution_count": null,
   "id": "e62097e9",
   "metadata": {},
   "outputs": [
    {
     "data": {
      "text/html": [
       "<img src=\"data:image/jpeg;base64,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\"/>"
      ],
      "text/plain": [
       "<IPython.core.display.Image object>"
      ]
     },
     "metadata": {},
     "output_type": "display_data"
    },
    {
     "name": "stdout",
     "output_type": "stream",
     "text": [
      "The image is a table with a header labeled \"TABLE 001: LOREM IPSUM DOLOR AMIS ENIMA ACCUMER TUNA.\" It contains several columns and rows filled with placeholder text and numerical data. Here's a breakdown:\n",
      "\n",
      "### Columns:\n",
      "1. **Loremis**: Contains numerical values.\n",
      "2. **Amis terim**: Contains percentages.\n",
      "3. **Gáto lepis**: Contains \"YES,\" \"NO,\" or \"N/A.\"\n",
      "4. **Tortores**: Contains currency values in dollars.\n",
      "\n",
      "### Rows:\n",
      "- Each row has a label with placeholder text (e.g., \"Lorem dolor siamet,\" \"Consecter odio\").\n",
      "- The data in the rows corresponds to the columns, providing a mix of numbers, percentages, binary options, and dollar amounts.\n",
      "\n",
      "### Footer:\n",
      "- Contains additional placeholder text, likely serving as a note or explanation for the table.\n",
      "\n",
      "The table seems to be a mock-up or template, using \"Lorem Ipsum\" text commonly used in design to fill space and demonstrate layout."
     ]
    }
   ],
   "source": [
    "from langchain_teddynote.models import MultiModal\n",
    "from langchain_teddynote.messages import stream_response\n",
    "\n",
    "llm = ChatOpenAI(\n",
    "    temperature=0.1,  # 창의성 (0.0 ~ 2.0)\n",
    "    max_tokens=2048,  # 최대 토큰수\n",
    "    model_name=\"gpt-4o\",  # 모델명\n",
    ")\n",
    "\n",
    "# 멀티모달 객체 생성\n",
    "multimodal_llm = MultiModal(llm)\n",
    "\n",
    "# 샘플 이미지 주소(웹사이트로 부터 바로 인식)\n",
    "IMAGE_URL = \"https://t3.ftcdn.net/jpg/03/77/33/96/360_F_377339633_Rtv9I77sSmSNcev8bEcnVxTHrXB4nRJ5.jpg\"\n",
    "\n",
    "# 이미지 파일로 부터 질의\n",
    "answer = multimodal_llm.stream(IMAGE_URL)\n",
    "# 스트리밍 방식으로 각 토큰을 출력합니다. (실시간 출력)\n",
    "stream_response(answer)"
   ]
  },
  {
   "cell_type": "code",
   "execution_count": null,
   "id": "66c1b755",
   "metadata": {},
   "outputs": [
    {
     "data": {
      "text/html": [
       "<img src=\"data:image/png;base64,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\"/>"
      ],
      "text/plain": [
       "<IPython.core.display.Image object>"
      ]
     },
     "metadata": {},
     "output_type": "display_data"
    },
    {
     "name": "stdout",
     "output_type": "stream",
     "text": [
      "주어진 재무제표에서 몇 가지 흥미로운 사실을 정리해보겠습니다.\n",
      "\n",
      "1. **유동자산의 변화**:\n",
      "   - 제 19기(2019년)에는 유동자산이 8,349,633백만원으로, 제 18기(2018년) 대비 소폭 증가했습니다. 이는 현금 및 현금성 자산의 감소에도 불구하고 매출채권의 증가가 주요 원인입니다.\n",
      "\n",
      "2. **현금 및 현금성 자산**:\n",
      "   - 제 19기에는 1,002,263백만원으로, 전년도 대비 크게 감소했습니다. 이는 회사의 유동성 관리에 주의가 필요함을 시사합니다.\n",
      "\n",
      "3. **매출채권**:\n",
      "   - 제 19기에는 3,911,935백만원으로, 전년도 대비 증가했습니다. 이는 매출 증가 또는 회수 지연을 의미할 수 있습니다.\n",
      "\n",
      "4. **기타유동금융자산**:\n",
      "   - 제 19기에는 10,879백만원으로, 전년도와 동일합니다. 이는 해당 항목에서 큰 변화가 없음을 나타냅니다.\n",
      "\n",
      "5. **비유동자산의 증가**:\n",
      "   - 제 19기에는 18,677,453백만원으로, 전년도 대비 증가했습니다. 이는 장기적인 투자나 자산 취득이 있었음을 나타낼 수 있습니다.\n",
      "\n",
      "6. **기타장기수취채권**:\n",
      "   - 제 19기에는 505,489백만원으로, 전년도 대비 크게 증가했습니다. 이는 장기적인 채권 회수 계획이 필요함을 시사합니다.\n",
      "\n",
      "이러한 변화들은 회사의 재무 상태와 운영 전략에 대한 중요한 정보를 제공하며, 추가적인 분석이 필요할 수 있습니다."
     ]
    }
   ],
   "source": [
    "# system , user 프롬프트 수정\n",
    "\n",
    "system_prompt = \"\"\"당신은 표(재무제표) 를 해석하는 금융 AI 어시스턴트 입니다. \n",
    "당신의 임무는 주어진 테이블 형식의 재무제표를 바탕으로 흥미로운 사실을 정리하여 친절하게 답변하는 것입니다.\"\"\"\n",
    "\n",
    "user_prompt = \"\"\"당신에게 주어진 표는 회사의 재무제표 입니다. 흥미로운 사실을 정리하여 답변하세요.\"\"\"\n",
    "\n",
    "# 멀티모달 객체 생성\n",
    "multimodal_llm_with_prompt = MultiModal(\n",
    "    llm, system_prompt=system_prompt, user_prompt=user_prompt)\n",
    "\n",
    "# 로컬 PC 에 저장되어 있는 이미지의 경로 입력\n",
    "IMAGE_PATH_FROM_FILE = \"data/cpa_data.png\"\n",
    "\n",
    "# 이미지 파일로 부터 질의(스트림 방식)\n",
    "answer = multimodal_llm_with_prompt.stream(IMAGE_PATH_FROM_FILE)\n",
    "\n",
    "# 스트리밍 방식으로 각 토큰을 출력합니다. (실시간 출력)\n",
    "stream_response(answer)"
   ]
  },
  {
   "cell_type": "code",
   "execution_count": null,
   "id": "fd8688ca",
   "metadata": {},
   "outputs": [],
   "source": [
    "### 프롬프트 템플릿의 활용"
   ]
  },
  {
   "cell_type": "code",
   "execution_count": null,
   "id": "c6c93890",
   "metadata": {},
   "outputs": [
    {
     "data": {
      "text/plain": [
       "ChatOpenAI(client=<openai.resources.chat.completions.completions.Completions object at 0x17a18add0>, async_client=<openai.resources.chat.completions.completions.AsyncCompletions object at 0x17a18b370>, root_client=<openai.OpenAI object at 0x17a189900>, root_async_client=<openai.AsyncOpenAI object at 0x17a18ae90>, temperature=0.1, model_kwargs={}, openai_api_key=SecretStr('**********'), max_tokens=2048)"
      ]
     },
     "execution_count": 11,
     "metadata": {},
     "output_type": "execute_result"
    }
   ],
   "source": [
    "from langchain_teddynote.messages import stream_response  # 스트리밍 출력\n",
    "from langchain_core.prompts import PromptTemplate\n",
    "\n",
    "template = \"{country}의 수도는 어디인가요?\"\n",
    "\n",
    "prompt_template = PromptTemplate.from_template(template)\n",
    "prompt_template\n",
    "\n",
    "prompt = prompt_template.format(country=\"대한민국\")\n",
    "prompt\n",
    "\n",
    "prompt = prompt_template.format(country=\"미국\")\n",
    "prompt\n",
    "\n",
    "from langchain_openai import ChatOpenAI\n",
    "\n",
    "model = ChatOpenAI(\n",
    "    model=\"gpt-3.5-turbo\",\n",
    "    max_tokens=2048,\n",
    "    temperature=0.1,\n",
    ")\n",
    "model"
   ]
  },
  {
   "attachments": {
    "image.png": {
     "image/png": "[encoded data removed]"
    }
   },
   "cell_type": "markdown",
   "id": "51686f42",
   "metadata": {},
   "source": [
    "![image.png](attachment:image.png)"
   ]
  },
  {
   "cell_type": "code",
   "execution_count": null,
   "id": "b3aeea05",
   "metadata": {},
   "outputs": [
    {
     "name": "stdout",
     "output_type": "stream",
     "text": [
      "인공지능 모델은 데이터를 입력하고 그 데이터에 따라서 스스로 학습하는 시스템입니다. 이 모델은 데이터를 받아들이고 그 데이터에서 패턴을 찾아내어 문제를 해결하는 능력을 갖게 됩니다. \n",
      "\n",
      "모델의 학습 과정은 크게 입력층, 은닉층, 출력층으로 구성됩니다. 입력층에는 데이터가 들어오고, 은닉층에서는 데이터의 패턴을 찾아내는 역할을 합니다. 이렇게 찾아낸 패턴은 출력층으로 전달되어 최종적인 결과물을 도출합니다.\n",
      "\n",
      "모델은 입력받은 데이터와 실제 결과를 비교하면서 오차를 줄이는 방향으로 학습을 진행합니다. 이때 사용되는 알고리즘에는 다양한 종류가 있지만, 대표적으로 사용되는 것 중 하나는 역전파 알고리즘입니다. 이 알고리즘은 오차를 최소화하는 방향으로 가중치와 편향을 조정하면서 모델을 업데이트해 나갑니다.\n",
      "\n",
      "이러한 과정을 반복하면 모델은 계속해서 데이터를 학습하고 정확도를 높여가며 최종적으로 원하는 작업을 수행할 수 있는 능력을 갖게 됩니다."
     ]
    }
   ],
   "source": [
    "# prompt 를 PromptTemplate 객체로 생성합니다.\n",
    "prompt = PromptTemplate.from_template(\"{topic}에 대해 쉽게 설명해주세요.\")\n",
    "model = ChatOpenAI()\n",
    "chain = prompt | model\n",
    "\n",
    "input = {\"topic\" : \"인공지능 모델의 학습 원리\"} # 디렉토리\n",
    "\n",
    "chain.invoke(input).content\n",
    "\n",
    "# 스트리밍 출력을 위한 요청\n",
    "answer = chain.stream(input)\n",
    "# 스트리밍 출력\n",
    "stream_response(answer)"
   ]
  },
  {
   "cell_type": "code",
   "execution_count": null,
   "id": "3968f4b6",
   "metadata": {},
   "outputs": [
    {
     "data": {
      "text/plain": [
       "'인공지능 모델의 학습 원리는 데이터를 입력으로 받아서 패턴을 학습하고 이를 기반으로 예측이나 결정을 내리는 과정입니다. 일반적으로 인공지능 모델은 다음과 같은 과정을 거쳐 학습을 진행합니다.\\n\\n1. 데이터 수집: 우선 인공지능 모델을 학습시키기 위한 다양한 데이터를 수집합니다.\\n\\n2. 데이터 전처리: 수집한 데이터를 정제하고 필요한 형태로 가공합니다.\\n\\n3. 모델 선택: 어떤 종류의 모델을 사용할지 선택하고 모델의 구조를 정의합니다.\\n\\n4. 학습: 정의한 모델에 데이터를 입력으로 주고, 입력 데이터와 정답 데이터 간의 오차를 최소화하는 방향으로 가중치를 조정하며 모델을 학습시킵니다.\\n\\n5. 평가: 학습된 모델의 성능을 평가하고, 필요하다면 모델을 수정하거나 재학습시킵니다.\\n\\n이러한 과정을 반복하여 모델을 세밀하게 튜닝하고 정확도를 높여가는 것이 인공지능 모델의 학습 원리입니다.'"
      ]
     },
     "execution_count": 13,
     "metadata": {},
     "output_type": "execute_result"
    }
   ],
   "source": [
    "from langchain_core.output_parsers import StrOutputParser\n",
    "\n",
    "output_parser = StrOutputParser()\n",
    "\n",
    "chain = prompt | model | output_parser\n",
    "\n",
    "# chain 객체의 invoke 메서드를 사용하여 input을 전달합니다.\n",
    "input = {\"topic\": \"인공지능 모델의 학습 원리\"}\n",
    "chain.invoke(input)\n",
    "\n"
   ]
  },
  {
   "cell_type": "code",
   "execution_count": null,
   "id": "c241f2a3",
   "metadata": {},
   "outputs": [
    {
     "name": "stdout",
     "output_type": "stream",
     "text": [
      "영어회화:  \n",
      "\"Hello, I'd like to order the grilled salmon with a side of mashed potatoes, please. And could I also have a glass of white wine? Thank you.\"\n",
      "\n",
      "한글해석:  \n",
      "\"안녕하세요, 구운 연어에 마시 포테이토 사이드를 주문하고 싶어요. 그리고 화이트 와인 한 잔도 주실 수 있나요? 감사합니다.\""
     ]
    }
   ],
   "source": [
    "# 템플릿을 변경하여 적용\n",
    "\n",
    "template = \"\"\"\n",
    "당신은 영어를 가르치는 10년차 영어 선생님입니다. 상황에 [FORMAT]에 영어 회화를 작성해 주세요.\n",
    "\n",
    "상황:\n",
    "{question}\n",
    "\n",
    "FORMAT:\n",
    "- 영어회화:\n",
    "- 한글해석:\n",
    "\"\"\"\n",
    "\n",
    "prompt = PromptTemplate.from_template(template)\n",
    "model = ChatOpenAI(model_name=\"gpt-4-turbo\")\n",
    "output_parser = StrOutputParser()\n",
    "\n",
    "chain = prompt | model | output_parser\n",
    "\n",
    "answer = chain.stream({\"question\": \"저는 식당에 가서 음식을 주문하고 싶어요\"})\n",
    "stream_response(answer)\n"
   ]
  },
  {
   "cell_type": "code",
   "execution_count": null,
   "id": "f98da94f",
   "metadata": {},
   "outputs": [
    {
     "name": "stdout",
     "output_type": "stream",
     "text": [
      "영어회화:\n",
      "- Hello, I’d like to order a pizza for delivery, please.\n",
      "- Sure, what would you like to order?\n",
      "- Could I get a large pepperoni pizza with extra cheese?\n",
      "- Anything else to add to your order?\n",
      "- Yes, can you include 2 orders of garlic bread and a 2-liter bottle of Coke?\n",
      "- Absolutely, that comes to $27.95. Can I have your address please?\n",
      "- It’s 452 Elm Street, Apartment 2B.\n",
      "- Great, your order will be there in about 30-40 minutes.\n",
      "- Thank you!\n",
      "\n",
      "한글해석:\n",
      "- 안녕하세요, 배달로 피자 한 판 주문하고 싶습니다.\n",
      "- 네, 무엇을 주문하시겠어요?\n",
      "- 큰 사이즈 페퍼로니 피자에 치즈를 추가로 더 해주세요.\n",
      "- 주문하실 다른 메뉴는 있으신가요?\n",
      "- 네, 마늘빵 2개와 콜라 2리터도 함께 주시면 됩니다.\n",
      "- 알겠습니다, 총 금액은 $27.95입니다. 주소를 알려주시겠어요?\n",
      "- 452 엘름 스트리트, 아파트 2B입니다.\n",
      "- 좋습니다, 대략 30-40분 내에 배달될 예정입니다.\n",
      "- 감사합니다!"
     ]
    }
   ],
   "source": [
    "# 이번에는 question 을 '미국에서 피자 주문'으로 설정하여 실행합니다.\n",
    "# 스트리밍 출력을 위한 요청\n",
    "answer = chain.stream({\"question\": \"미국에서 피자 주문\"})\n",
    "# 스트리밍 출력\n",
    "stream_response(answer)"
   ]
  },
  {
   "cell_type": "markdown",
   "id": "eecf9591",
   "metadata": {},
   "source": [
    "#### LCEL 인터페이스\n"
   ]
  },
  {
   "cell_type": "code",
   "execution_count": null,
   "id": "5a255a78",
   "metadata": {},
   "outputs": [
    {
     "name": "stdout",
     "output_type": "stream",
     "text": [
      "LangSmith 추적을 시작합니다.\n",
      "[프로젝트명]\n",
      "langchain-study\n"
     ]
    }
   ],
   "source": [
    "# API KEY를 환경변수로 관리하기 위한 설정 파일\n",
    "from dotenv import load_dotenv\n",
    "\n",
    "# API KEY 정보로드\n",
    "load_dotenv()\n",
    "\n",
    "# LangSmith 추적을 설정합니다. https://smith.langchain.com\n",
    "from langchain_teddynote import logging\n",
    "\n",
    "# 프로젝트 이름을 입력합니다.\n",
    "logging.langsmith(\"langchain-study\")"
   ]
  },
  {
   "cell_type": "code",
   "execution_count": null,
   "id": "f3f58f39",
   "metadata": {},
   "outputs": [
    {
     "ename": "SyntaxError",
     "evalue": "invalid syntax (3436238397.py, line 12)",
     "output_type": "error",
     "traceback": [
      "\u001b[0;36m  Cell \u001b[0;32mIn[17], line 12\u001b[0;36m\u001b[0m\n\u001b[0;31m    print(token, end=\"\", flush=True)b\u001b[0m\n\u001b[0m                                    ^\u001b[0m\n\u001b[0;31mSyntaxError\u001b[0m\u001b[0;31m:\u001b[0m invalid syntax\n"
     ]
    }
   ],
   "source": [
    "from langchain_openai import ChatOpenAI\n",
    "from langchain_core.prompts import PromptTemplate\n",
    "from langchain_core.output_parsers import StrOutputParser\n",
    "\n",
    "model = ChatOpenAI()\n",
    "\n",
    "prompt = PromptTemplate.from_template(\"{topic} 에 대하여 3문장으로 설명해줘\")\n",
    "\n",
    "chain = prompt | model | StrOutputParser()\n",
    "\n",
    "for token in chain.stream({\"topic\": \"멀티모달\"}) :\n",
    "  print(token, end=\"\", flush=True)"
   ]
  },
  {
   "cell_type": "code",
   "execution_count": null,
   "id": "f1818711",
   "metadata": {},
   "outputs": [
    {
     "data": {
      "text/plain": [
       "'ChatGPT는 대화형 인공지능 챗봇으로, 자연어 처리 기술을 활용하여 대화 상대와 상호작용합니다. 사용자의 질문에 대답을 제공하거나 대화를 이어가는 등 다양한 대화 기능을 수행합니다. ChatGPT는 자연스러운 대화를 통해 사용자에게 유용한 정보나 도움을 제공하는 데 활용됩니다.'"
      ]
     },
     "execution_count": 43,
     "metadata": {},
     "output_type": "execute_result"
    }
   ],
   "source": [
    "chain.invoke({\"topic\": \"ChatGPT\"}) # buffer 차면 한꺼번에"
   ]
  },
  {
   "cell_type": "code",
   "execution_count": null,
   "id": "55ea9905",
   "metadata": {},
   "outputs": [
    {
     "data": {
      "text/plain": [
       "['Kubernetes는 컨테이너화된 애플리케이션을 자동화하고 관리하기 위한 오픈소스 플랫폼입니다. 다양한 클라우드 환경에서 사용되며 스케일링, 로드 밸런싱, 자가복구 등의 기능을 제공합니다. 쿠버네티스는 애플리케이션을 더 효율적이고 신속하게 배포하고 확장할 수 있도록 도와줍니다.',\n",
       " 'Langchain은 보안 및 독점성이 확보된 블록체인 네트워크를 구축하는 플랫폼입니다. 이 플랫폼을 통해 기업이 안전하게 데이터를 저장하고 교류할 수 있으며, 이를 통해 효율적인 비즈니스 운영을 이룰 수 있습니다. 특히 언어 및 커뮤니케이션 분야에서의 활용이 강점으로 꼽힙니다.',\n",
       " 'Langraph는 언어 이해 기술을 기반으로 하는 자연어 검색 및 분석 솔루션을 제공하는 기술 기업이다. 사용자가 원하는 정보를 효율적으로 찾을 수 있도록 다양한 자연어 처리 기술을 적용하여 검색 엔진 및 텍스트 마이닝 솔루션을 제공한다. Langraph의 솔루션은 다양한 분야에서 효율적인 정보 검색 및 분석을 지원하여 기업이나 조직의 업무 효율성을 높이는 데 기여한다.',\n",
       " '파이썬은 간단하고 쉽게 배울 수 있는 프로그래밍 언어입니다. Python은 다양한 분야에서 사용되며 커뮤니티가 활발하여 문제 해결에 도움을 받기 쉽습니다. 높은 가독성과 확장성을 갖춘 Python은 데이터 분석, 웹 개발, 인공지능 등 다양한 분야에서 인기를 얻고 있습니다.',\n",
       " 'C++은 범용 프로그래밍 언어로, 강력하고 유연한 기능을 제공하여 다양한 종류의 소프트웨어를 개발할 수 있습니다. C++은 객체지향 및 절차지향 프로그래밍을 지원하며, 높은 성능과 효율성을 제공하여 시스템 프로그래밍이나 게임 개발 등에 널리 사용됩니다. 또한 C++은 많은 라이브러리와 프레임워크를 지원하여 개발 시간을 단축하고 코드의 재사용성을 높일 수 있습니다.',\n",
       " '자바는 객체지향 프로그래밍 언어로 개발자들이 다양한 플랫폼에서 사용할 수 있도록 만들어졌습니다. 자바는 자동 메모리 관리 및 다양한 라이브러리 지원으로 개발 생산성을 높이는데 도움을 줍니다. 자바는 다양한 응용 프로그램, 웹 애플리케이션, 모바일 애플리케이션 등을 개발할 수 있는 유연하고 강력한 언어입니다.']"
      ]
     },
     "execution_count": 47,
     "metadata": {},
     "output_type": "execute_result"
    }
   ],
   "source": [
    "chain.batch(\n",
    "  [{\"topic\": \"kubernetes\"},{\"topic\": \"langchain\"}, {\"topic\":\"langraph\"},\n",
    "   {\"topic\": \"python\"},{\"topic\": \"c++\"}, {\"topic\":\"java\"}\n",
    "   ]\n",
    "  ,\n",
    "  config={\"max_concurrency\": 3}\n",
    "  )\n",
    "\n",
    "# return -> [str,str,str]"
   ]
  },
  {
   "cell_type": "code",
   "execution_count": null,
   "id": "779ffd1f",
   "metadata": {},
   "outputs": [
    {
     "name": "stdout",
     "output_type": "stream",
     "text": [
      "<class 'langchain_core.runnables.base.RunnableSequence'>\n"
     ]
    }
   ],
   "source": [
    "print(type(chain)) # <class 'langchain_core.runnables.base.RunnableSequence'>"
   ]
  },
  {
   "cell_type": "markdown",
   "id": "63e79e7b",
   "metadata": {},
   "source": [
    "### 비동기의 이해"
   ]
  },
  {
   "cell_type": "code",
   "execution_count": null,
   "id": "9d8a0782",
   "metadata": {},
   "outputs": [
    {
     "name": "stdout",
     "output_type": "stream",
     "text": [
      "21.33초 걸렸습니다\n"
     ]
    }
   ],
   "source": [
    "import requests\n",
    "import asyncio\n",
    "from bs4 import BeautifulSoup\n",
    "import time\n",
    "\n",
    "s = time.time()\n",
    "result = []\n",
    "\n",
    "#-------------------A 파트 ---------------------\n",
    "\n",
    "async def getpage(url) :\n",
    "          loop = asyncio.get_running_loop()\n",
    "          req = await loop.run_in_executor(None, requests.get, url)\n",
    "          html = req.text\n",
    "          soup = await loop.run_in_executor(None, BeautifulSoup, html, 'lxml')\n",
    "          \n",
    "          return soup\n",
    "\n",
    "#-------------------B 파트 ---------------------\n",
    "\n",
    "async def main() :\n",
    "  \n",
    "          urls = [\n",
    "            \"https://wp.me/p9x2w1-x\",\n",
    "            \"https://wp.me/p9x2w1-w\",\n",
    "            \"https://wp.me/p9x2w1-t\",\n",
    "            \"https://wp.me/p9x2w1-q\",\n",
    "            \"https://wp.me/p9x2w1-p\",\n",
    "            \"https://wp.me/p9x2w1-j\",\n",
    "            \"https://wp.me/p9x2w1-h\",\n",
    "          ]\n",
    "          \n",
    "          tasks = [asyncio.create_task(getpage(u)) for u in urls]\n",
    "          r = await asyncio.gather(*tasks)\n",
    "          global result\n",
    "          result = r\n",
    "  \n",
    "  #-------------------C 파트 ---------------------\n",
    "  \n",
    "# loop = asyncio.get_event_loop()\n",
    "# loop.run_until_complete(main())\n",
    "# loop.close()\n",
    "if __name__ == \"__main__\":\n",
    "    # asyncio.run(main())  # 최신 방식\n",
    "    await main() # jupyter 환경이라서 이렇게 실행\n",
    "    e = time.time()\n",
    "    print(\"{0:.2f}초 걸렸습니다\".format(e - s))\n"
   ]
  },
  {
   "cell_type": "code",
   "execution_count": null,
   "id": "58ccad79",
   "metadata": {},
   "outputs": [
    {
     "data": {
      "text/plain": [
       "NoneType"
      ]
     },
     "execution_count": 58,
     "metadata": {},
     "output_type": "execute_result"
    }
   ],
   "source": [
    "def do_sync():\n",
    "  pass\n",
    "\n",
    "type(do_sync()) #NoneType"
   ]
  },
  {
   "cell_type": "code",
   "execution_count": null,
   "id": "af388988",
   "metadata": {},
   "outputs": [
    {
     "name": "stderr",
     "output_type": "stream",
     "text": [
      "/var/folders/qb/k2smljtx419g49xbkmv9zs700000gn/T/ipykernel_36231/1330890721.py:4: RuntimeWarning: coroutine 'main_async' was never awaited\n",
      "  type(main_async()) # coroutine\n",
      "RuntimeWarning: Enable tracemalloc to get the object allocation traceback\n"
     ]
    },
    {
     "data": {
      "text/plain": [
       "coroutine"
      ]
     },
     "execution_count": 62,
     "metadata": {},
     "output_type": "execute_result"
    }
   ],
   "source": [
    "async def main_async() :\n",
    "  await do_sync()\n",
    "  \n",
    "type(main_async()) # coroutine"
   ]
  },
  {
   "cell_type": "code",
   "execution_count": null,
   "id": "c66b8d69",
   "metadata": {},
   "outputs": [
    {
     "name": "stdout",
     "output_type": "stream",
     "text": [
      "3명 중 1번째 사용자 조회 중\n",
      "3명 중 2번째 사용자 조회 중\n",
      "3명 중 3번째 사용자 조회 중\n",
      "> 총 3명 사용자 동기 조회 완료!\n",
      "2명 중 1번째 사용자 조회 중\n",
      "2명 중 2번째 사용자 조회 중\n",
      "> 총 2명 사용자 동기 조회 완료!\n",
      "1명 중 1번째 사용자 조회 중\n",
      "> 총 1명 사용자 동기 조회 완료!\n",
      ">>>> 동기 처리 총 소요시간 :  6.023026943206787\n"
     ]
    }
   ],
   "source": [
    "import time\n",
    "\n",
    "def find_users_sync(n) :\n",
    "  for i in range(1, n+1) :\n",
    "    print(f'{n}명 중 {i}번째 사용자 조회 중')\n",
    "    time.sleep(1)\n",
    "    \n",
    "  print(f'> 총 {n}명 사용자 동기 조회 완료!')\n",
    "  \n",
    "  \n",
    "def process_sync() :\n",
    "  start = time.time()\n",
    "  find_users_sync(3)\n",
    "  find_users_sync(2)\n",
    "  find_users_sync(1)\n",
    "  end = time.time()\n",
    "  print(f'>>>> 동기 처리 총 소요시간 :  {end - start}')\n",
    "  \n",
    "if __name__ == \"__main__\" :\n",
    "  process_sync()"
   ]
  },
  {
   "cell_type": "code",
   "execution_count": null,
   "id": "7e5035fb",
   "metadata": {},
   "outputs": [
    {
     "name": "stdout",
     "output_type": "stream",
     "text": [
      "3명 중 1번째 사용자 조회 중\n",
      "2명 중 1번째 사용자 조회 중\n",
      "1명 중 1번째 사용자 조회 중\n",
      "3명 중 2번째 사용자 조회 중\n",
      "2명 중 2번째 사용자 조회 중\n",
      "> 총 1명 사용자 동기 조회 완료!\n",
      "3명 중 3번째 사용자 조회 중\n",
      "> 총 2명 사용자 동기 조회 완료!\n",
      "> 총 3명 사용자 동기 조회 완료!\n",
      ">>>> 비동기 처리 총 소요시간 :  3.0054101943969727\n"
     ]
    }
   ],
   "source": [
    "import time\n",
    "import asyncio\n",
    "\n",
    "async def find_users_sync(n) :\n",
    "  for i in range(1, n+1) :\n",
    "    print(f'{n}명 중 {i}번째 사용자 조회 중')\n",
    "    await asyncio.sleep(1)\n",
    "    \n",
    "  print(f'> 총 {n}명 사용자 동기 조회 완료!')\n",
    "  \n",
    "  \n",
    "async def process_async() :\n",
    "    start = time.time()\n",
    "    await asyncio.gather(\n",
    "        find_users_sync(3),\n",
    "        find_users_sync(2),\n",
    "        find_users_sync(1),\n",
    "    )\n",
    "    \n",
    "    end = time.time()\n",
    "    print(f'>>>> 비동기 처리 총 소요시간 :  {end - start}')\n",
    "  \n",
    "# if __name__ == \"__main__\" :\n",
    "#   asyncio.run(process_async())\n",
    "\n",
    "await process_async()"
   ]
  },
  {
   "cell_type": "code",
   "execution_count": null,
   "id": "16ed9ec2",
   "metadata": {},
   "outputs": [
    {
     "name": "stdout",
     "output_type": "stream",
     "text": [
      "스레드 작업 중...\n",
      "스레드 작업 중...\n"
     ]
    }
   ],
   "source": [
    "import threading\n",
    "\n",
    "def work():\n",
    "    print(\"스레드 작업 중...\")\n",
    "\n",
    "t1 = threading.Thread(target=work)\n",
    "t2 = threading.Thread(target=work)\n",
    "t1.start()\n",
    "t2.start()"
   ]
  },
  {
   "cell_type": "markdown",
   "id": "7665ded1",
   "metadata": {},
   "source": [
    "### async stream : 비동기 스트림"
   ]
  },
  {
   "cell_type": "code",
   "execution_count": null,
   "id": "fdcee7c8",
   "metadata": {},
   "outputs": [
    {
     "name": "stdout",
     "output_type": "stream",
     "text": [
      "멀티모달은 여러 종류의 다양한 매체와 기술을 조합하여 정보를 전달하고 상호작용하는 방법을 의미합니다. 이는 텍스트, 이미지, 비디오 및 음성 등 다양한 형태의 콘텐츠를 이용하여 사용자에게 다양한 경험을 제공할 수 있습니다. 멀티모달은 사용자들이 더 쉽게 정보를 이해하고 상호작용할 수 있도록 도와주는 중요한 디자인 요소입니다."
     ]
    }
   ],
   "source": [
    "from langchain_openai import ChatOpenAI\n",
    "from langchain_core.prompts import PromptTemplate\n",
    "from langchain_core.output_parsers import StrOutputParser\n",
    "\n",
    "model = ChatOpenAI()\n",
    "\n",
    "prompt = PromptTemplate.from_template(\"{topic} 에 대하여 3문장으로 설명해줘\")\n",
    "\n",
    "chain = prompt | model | StrOutputParser()\n",
    "\n",
    "for token in chain.stream(\"멀티모달\") : # 값이 하나인경우 dict 형태 아니어도 된다.\n",
    "  print(token, end=\"\", flush=True)"
   ]
  },
  {
   "cell_type": "code",
   "execution_count": null,
   "id": "39f0f8f5",
   "metadata": {},
   "outputs": [
    {
     "data": {
      "text/plain": [
       "'ChatGPT는 인공지능 채팅 모델로, 사용자와 자연스럽게 대화하며 정보나 답변을 제공합니다. 사용자의 질문에 따라 다양한 주제에 대한 지식을 제공하고 상호작용하는 데 활용됩니다. 데이터 학습과 기계학습 기술을 사용하여 문맥에 맞는 응답을 생성하며, 대화 상대로서 혁신적인 솔루션을 제공합니다.'"
      ]
     },
     "execution_count": 75,
     "metadata": {},
     "output_type": "execute_result"
    }
   ],
   "source": [
    "chain.invoke(\"ChatGPT\") # 한방에 나온다. cf) stream -> 실시간"
   ]
  },
  {
   "cell_type": "code",
   "execution_count": null,
   "id": "3d2d099e",
   "metadata": {},
   "outputs": [
    {
     "data": {
      "text/plain": [
       "['Google Germini은 구글의 광고 서비스를 관리하고 최적화하는 소프트웨어 플랫폼입니다. 이를 통해 사용자는 광고 예산을 관리하고 광고 성과를 추적할 수 있습니다. 더욱 효율적인 마케팅 전략을 구사할 수 있게 해주는 도구입니다.',\n",
       " 'CursorAI는 인공지능 기반의 자동화 도구로써 효율적인 작업 처리를 지원합니다. 특히 데이터 분석이나 문서 작성과 같은 반복적인 작업을 자동화하여 업무 효율을 높일 수 있습니다. 또한 사용자의 작업 습관 및 패턴을 학습하여 보다 더 정확하고 효율적인 서비스를 제공합니다.']"
      ]
     },
     "execution_count": 78,
     "metadata": {},
     "output_type": "execute_result"
    }
   ],
   "source": [
    "chain.batch([{'topic': 'Google Germini'},{'topic': 'cursorAI'}])"
   ]
  },
  {
   "cell_type": "code",
   "execution_count": null,
   "id": "ab16d51d",
   "metadata": {},
   "outputs": [
    {
     "data": {
      "text/plain": [
       "['ChatGPT는 인공지능 챗봇으로 자연어 처리 기술을 사용하여 사람과의 대화를 모방합니다. 이를 통해 사용자는 ChatGPT를 통해 질문에 답변을 받거나 대화를 나눌 수 있습니다. ChatGPT는 학습을 통해 점차적으로 더 자연스러운 대화를 제공하며, 다양한 분야에서 활용될 수 있습니다.',\n",
       " 'Instagram은 사진과 동영상을 공유하고 다른 사람들과 소통할 수 있는 소셜 미디어 플랫폼이다. \\n\\n사용자들은 해시태그를 활용하여 관심사에 맞는 콘텐츠를 발견하고 팔로잉을 통해 새로운 소식을 받아볼 수 있다.\\n\\n인플루언서와 브랜드들은 팔로워들에게 광고와 협찬을 통해 제품을 홍보하거나 소비자들과 소통하는데 활용되는 중요한 플랫폼이다.',\n",
       " '멀티모달은 여러 가지 다양한 형태의 정보를 결합하여 제공하는 시스템으로, 텍스트, 이미지, 동영상, 음성 등 다양한 형태의 자료를 활용해 사용자에게 정보를 전달합니다. 이를 통해 사용자는 보다 풍부하고 다채로운 경험을 할 수 있으며, 정보를 효과적으로 전달하고 수용할 수 있습니다. 다양한 매체를 활용하는 멀티모달은 현대 사회에서 정보 전달과 소통의 중요한 수단으로 활용되고 있습니다.',\n",
       " '프로그래밍은 컴퓨터에게 실행할 작업을 지시하는 일종의 커뮤니케이션 방법이다. 코드로 작성된 명령어들은 컴퓨터가 이해할 수 있는 형태로 변환되어 실행되며, 이를 통해 원하는 결과를 얻을 수 있다. 프로그래밍은 문제를 해결하고 새로운 기술을 개발하는 데에 중요한 역할을 한다.',\n",
       " '머신러닝은 데이터를 사용하여 컴퓨터가 스스로 학습하고 패턴을 발견하는 인공지능 기술이다. 이를 통해 머신러닝 모델은 예측, 분류, 군집화 등의 작업을 수행할 수 있으며, 다양한 분야에서 활용되고 있다. 머신러닝은 알고리즘의 향상과 데이터의 품질에 크게 의존하며, 지속적인 학습을 통해 성능을 개선할 수 있다.']"
      ]
     },
     "execution_count": 79,
     "metadata": {},
     "output_type": "execute_result"
    }
   ],
   "source": [
    "chain.batch(\n",
    "    [\n",
    "        {\"topic\": \"ChatGPT\"},\n",
    "        {\"topic\": \"Instagram\"},\n",
    "        {\"topic\": \"멀티모달\"},\n",
    "        {\"topic\": \"프로그래밍\"},\n",
    "        {\"topic\": \"머신러닝\"},\n",
    "    ],\n",
    "    config={\"max_concurrency\": 3},\n",
    ")\n"
   ]
  },
  {
   "cell_type": "markdown",
   "id": "69d667d1",
   "metadata": {},
   "source": [
    "### async stream,invoke,batch: 비동기 스트림, 인보크, 배치"
   ]
  },
  {
   "cell_type": "code",
   "execution_count": null,
   "id": "0a30bc86",
   "metadata": {},
   "outputs": [
    {
     "name": "stdout",
     "output_type": "stream",
     "text": [
      "Youtube는 온라인 동영상 플랫폼으로, 사용자들은 무료로 다양한 영상 콘텐츠를 시청할 수 있습니다. 또한 사용자들은 자신의 채널을 만들어 영상을 업로드하고 다른 사람들과 공유할 수도 있습니다. Youtube는 세계적으로 매우 인기 있는 서비스로, 각종 영상 콘텐츠를 쉽게 찾아볼 수 있는 편리한 검색 기능을 제공합니다."
     ]
    }
   ],
   "source": [
    "async for token in chain.astream(\"Youtube\") : \n",
    "  print(token, end=\"\", flush=True)"
   ]
  },
  {
   "cell_type": "code",
   "execution_count": null,
   "id": "db2c479c",
   "metadata": {},
   "outputs": [
    {
     "data": {
      "text/plain": [
       "'NVIDIA는 그래픽 처리 장치 및 시스템을 개발하는 미국의 기업으로, 주로 게임용 그래픽카드와 인공지능 분야에서 높은 기술력을 가지고 있습니다. 주요 제품으로는 GeForce 그래픽카드와 Tesla GPU가 있으며, 다양한 산업 분야에서 활용되고 있습니다. NVIDIA는 그래픽카드 시장에서 세계적인 선두 기업으로 손꼽히며 혁신적인 기술과 제품을 개발하고 있습니다.'"
      ]
     },
     "execution_count": 83,
     "metadata": {},
     "output_type": "execute_result"
    }
   ],
   "source": [
    "my_process = chain.ainvoke(\"NVIDIA\")\n",
    "await my_process"
   ]
  },
  {
   "cell_type": "code",
   "execution_count": null,
   "id": "04d56f1b",
   "metadata": {},
   "outputs": [
    {
     "data": {
      "text/plain": [
       "['YouTube는 동영상을 업로드, 시청하고 공유할 수 있는 온라인 동영상 플랫폼이다. 사용자들은 다양한 콘텐츠를 즐길 수 있으며, 시청자들은 구독을 통해 자신이 좋아하는 채널을 지원할 수 있다. 또한 광고 수익을 통해 동영상 제작자들이 수익을 창출할 수 있는 플랫폼이기도 하다.',\n",
       " 'Instagram은 사진과 동영상을 공유하는 소셜 미디어 플랫폼으로, 사용자들은 자신의 일상을 시각적으로 공유하고 소통할 수 있습니다. 해시태그를 활용하여 관심사에 맞는 컨텐츠를 찾을 수 있고, 팔로워들과 소통하며 커뮤니티를 형성할 수 있습니다. 인스타그램 스토리 기능을 통해 실시간으로 이야기를 공유하고, 흥미로운 순간을 담을 수 있습니다.',\n",
       " 'Facebook은 사회관계망 서비스로서 전 세계적으로 가장 인기 있는 SNS 중 하나이다. 사용자들은 친구와 가족과 소통하고 콘텐츠를 공유하며 정보를 얻을 수 있다. 또한 광고 및 비즈니스 마케팅을 위한 플랫폼으로도 활발히 이용되고 있다.']"
      ]
     },
     "execution_count": 84,
     "metadata": {},
     "output_type": "execute_result"
    }
   ],
   "source": [
    "my_batch_process = chain.abatch(\n",
    "  [{\"topic\": \"YouTube\"}, {\"topic\": \"Instagram\"}, {\"topic\": \"Facebook\"}]\n",
    ")\n",
    "\n",
    "await my_batch_process"
   ]
  },
  {
   "cell_type": "markdown",
   "id": "dd62b837",
   "metadata": {},
   "source": [
    "### 병렬성 (parallel)"
   ]
  },
  {
   "cell_type": "code",
   "execution_count": null,
   "id": "24acb4d7",
   "metadata": {},
   "outputs": [
    {
     "name": "stdout",
     "output_type": "stream",
     "text": [
      "<class 'str'>\n",
      "말레이시아의 면적은 약 329,847제곱킬로미터입니다.\n"
     ]
    },
    {
     "data": {
      "text/plain": [
       "{'capital': '대한민국의 수도는 서울이다.', 'area': '대한민국의 면적은 약 100,363 제곱 킬로미터입니다.'}"
      ]
     },
     "execution_count": 94,
     "metadata": {},
     "output_type": "execute_result"
    }
   ],
   "source": [
    "from langchain_core.runnables import RunnableParallel\n",
    "\n",
    "# {county} 의 수도를 물어보는 체인을 생성합니다.\n",
    "\n",
    "chain1 = (\n",
    "  PromptTemplate.from_template(\"{country} 의 수도는 어디야?\")\n",
    "  | model\n",
    "  | StrOutputParser()\n",
    ")\n",
    "\n",
    "# {county} 의 면적를 물어보는 체인을 생성합니다.\n",
    "\n",
    "chain2 = (\n",
    "  PromptTemplate.from_template(\"{country} 의 면적은 얼마야?\")\n",
    "  | model\n",
    "  | StrOutputParser()\n",
    ")\n",
    "\n",
    "combined = RunnableParallel(capital= chain1, area= chain2)\n",
    "\n",
    "print(type(chain1.invoke(\"대한민국\")))\n",
    "print(chain2.invoke(\"말레이시아\"))\n",
    "\n",
    "combined.invoke(\"대한민국\") # -> dict #{'capital': '대한민국의 수도는 서울이다.', 'area': '대한민국의 면적은 약 100,363 제곱 킬로미터입니다.'}"
   ]
  },
  {
   "cell_type": "markdown",
   "id": "8e231b34",
   "metadata": {},
   "source": [
    "### 배치에서의 병렬처리"
   ]
  },
  {
   "cell_type": "code",
   "execution_count": null,
   "id": "74b47b81",
   "metadata": {},
   "outputs": [
    {
     "data": {
      "text/plain": [
       "['대한민국의 수도는 서울입니다.', '미국의 수도는 워싱턴 D.C.입니다.']"
      ]
     },
     "execution_count": 96,
     "metadata": {},
     "output_type": "execute_result"
    }
   ],
   "source": [
    "chain1.batch([{\"country\": \"대한민국\"}, {\"country\": \"미국\"}])\n"
   ]
  },
  {
   "cell_type": "code",
   "execution_count": null,
   "id": "e9569a0f",
   "metadata": {},
   "outputs": [
    {
     "data": {
      "text/plain": [
       "['대한민국의 총 면적은 약 100,363㎢ 입니다.', '미국의 면적은 약 9,834만 제곱 킬로미터 입니다.']"
      ]
     },
     "execution_count": 97,
     "metadata": {},
     "output_type": "execute_result"
    }
   ],
   "source": [
    "chain2.batch([{\"country\": \"대한민국\"}, {\"country\": \"미국\"}])"
   ]
  },
  {
   "cell_type": "code",
   "execution_count": null,
   "id": "f05a8350",
   "metadata": {},
   "outputs": [
    {
     "data": {
      "text/plain": [
       "[{'capital': '대한민국의 수도는 서울입니다.', 'area': '대한민국의 면적은 약 100,363km² 입니다.'},\n",
       " {'capital': '미국의 수도는 워싱턴 D.C.입니다.', 'area': '미국의 면적은 약 9,826,675 km² 입니다.'}]"
      ]
     },
     "execution_count": 98,
     "metadata": {},
     "output_type": "execute_result"
    }
   ],
   "source": [
    "combined.batch([{\"country\": \"대한민국\"}, {\"country\": \"미국\"}]) # -> List[dict]"
   ]
  },
  {
   "cell_type": "markdown",
   "id": "55b6e5e6",
   "metadata": {},
   "source": [
    "### RunnablePassthrough"
   ]
  },
  {
   "cell_type": "code",
   "execution_count": null,
   "id": "61b02bf5",
   "metadata": {},
   "outputs": [
    {
     "data": {
      "text/plain": [
       "AIMessage(content='50입니다.', additional_kwargs={'refusal': None}, response_metadata={'token_usage': {'completion_tokens': 3, 'prompt_tokens': 16, 'total_tokens': 19, 'completion_tokens_details': {'accepted_prediction_tokens': 0, 'audio_tokens': 0, 'reasoning_tokens': 0, 'rejected_prediction_tokens': 0}, 'prompt_tokens_details': {'audio_tokens': 0, 'cached_tokens': 0}}, 'model_name': 'gpt-3.5-turbo-0125', 'system_fingerprint': None, 'id': 'chatcmpl-CQQzccL9oeJ0nepVyJ7TQzdNrTLRE', 'service_tier': 'default', 'finish_reason': 'stop', 'logprobs': None}, id='run--4127fa3b-7278-497c-9505-a32c0c7f30be-0', usage_metadata={'input_tokens': 16, 'output_tokens': 3, 'total_tokens': 19, 'input_token_details': {'audio': 0, 'cache_read': 0}, 'output_token_details': {'audio': 0, 'reasoning': 0}})"
      ]
     },
     "execution_count": 102,
     "metadata": {},
     "output_type": "execute_result"
    }
   ],
   "source": [
    "from langchain_core.prompts import PromptTemplate\n",
    "from langchain_openai import ChatOpenAI\n",
    "\n",
    "# prompt 와 llm 을 생성합니다.\n",
    "prompt = PromptTemplate.from_template(\"{num} 의 10배는?\")\n",
    "llm = ChatOpenAI(temperature=0)\n",
    "\n",
    "# chain 을 생성합니다.\n",
    "chain = prompt | llm\n",
    "\n",
    "chain.invoke(5)"
   ]
  },
  {
   "cell_type": "code",
   "execution_count": null,
   "id": "fa894b48",
   "metadata": {},
   "outputs": [
    {
     "data": {
      "text/plain": [
       "10"
      ]
     },
     "execution_count": 107,
     "metadata": {},
     "output_type": "execute_result"
    }
   ],
   "source": [
    "from langchain_core.runnables import RunnablePassthrough\n",
    "RunnablePassthrough().invoke(10) # 항등함수처럼 작용. 즉 input data가 그대로 리턴ㅠ"
   ]
  },
  {
   "cell_type": "code",
   "execution_count": null,
   "id": "92ab464c",
   "metadata": {},
   "outputs": [
    {
     "data": {
      "text/plain": [
       "AIMessage(content='100입니다.', additional_kwargs={'refusal': None}, response_metadata={'token_usage': {'completion_tokens': 3, 'prompt_tokens': 16, 'total_tokens': 19, 'completion_tokens_details': {'accepted_prediction_tokens': 0, 'audio_tokens': 0, 'reasoning_tokens': 0, 'rejected_prediction_tokens': 0}, 'prompt_tokens_details': {'audio_tokens': 0, 'cached_tokens': 0}}, 'model_name': 'gpt-3.5-turbo-0125', 'system_fingerprint': None, 'id': 'chatcmpl-CQR3qPOUe6GABBwf8KEC3DkROk5dx', 'service_tier': 'default', 'finish_reason': 'stop', 'logprobs': None}, id='run--0e98c508-6825-4ab2-8ee6-1d88f6771813-0', usage_metadata={'input_tokens': 16, 'output_tokens': 3, 'total_tokens': 19, 'input_token_details': {'audio': 0, 'cache_read': 0}, 'output_token_details': {'audio': 0, 'reasoning': 0}})"
      ]
     },
     "execution_count": 108,
     "metadata": {},
     "output_type": "execute_result"
    }
   ],
   "source": [
    "runnable_chain = {\"num\": RunnablePassthrough()} | prompt | ChatOpenAI()\n",
    "\n",
    "runnable_chain.invoke(10) # ->AIMessage(content='100입니다.', additional_kwargs={'refusal': None}, response_metadata={'token_usage': {'completion_tokens': 3, 'prompt_tokens': 16, 'total_tokens': 19, 'completion_tokens_details': {'accepted_prediction_tokens': 0, 'audio_tokens': 0, 'reasoning_tokens': 0, 'rejected_prediction_tokens': 0}, 'prompt_tokens_details': {'audio_tokens': 0, 'cached_tokens': 0}}, 'model_name': 'gpt-3.5-turbo-0125', 'system_fingerprint': None, 'id': 'chatcmpl-CQR3qPOUe6GABBwf8KEC3DkROk5dx', 'service_tier': 'default', 'finish_reason': 'stop', 'logprobs': None}, id='run--0e98c508-6825-4ab2-8ee6-1d88f6771813-0', usage_metadata={'input_tokens': 16, 'output_tokens': 3, 'total_tokens': 19, 'input_token_details': {'audio': 0, 'cache_read': 0}, 'output_token_details': {'audio': 0, 'reasoning': 0}})\n"
   ]
  },
  {
   "cell_type": "code",
   "execution_count": null,
   "id": "863a0639",
   "metadata": {},
   "outputs": [
    {
     "data": {
      "text/plain": [
       "'항등함수'"
      ]
     },
     "execution_count": 113,
     "metadata": {},
     "output_type": "execute_result"
    }
   ],
   "source": [
    "# runnalbepassthrough.assigh()\n",
    "\n",
    "RunnablePassthrough().invoke('항등함수') # {'numb': 1}"
   ]
  },
  {
   "cell_type": "code",
   "execution_count": null,
   "id": "24bc4232",
   "metadata": {},
   "outputs": [
    {
     "data": {
      "text/plain": [
       "{'num': 1, 'new_num': 3}"
      ]
     },
     "execution_count": 116,
     "metadata": {},
     "output_type": "execute_result"
    }
   ],
   "source": [
    "(RunnablePassthrough.assign(new_num = lambda d : d[\"num\"] * 3)).invoke({\"num\":1})\n",
    "\n",
    "# invoke 의 매개변수는 항등함수로 작동\n",
    "# 추가로 매개변수 값을 이용해서 dict에 값을 추가해서 리턴함"
   ]
  },
  {
   "cell_type": "code",
   "execution_count": null,
   "id": "9c7c2deb",
   "metadata": {},
   "outputs": [
    {
     "data": {
      "text/plain": [
       "{'soccerPlayer': '박지성손흥민', 'best_player': '박지성'}"
      ]
     },
     "execution_count": 118,
     "metadata": {},
     "output_type": "execute_result"
    }
   ],
   "source": [
    "(RunnablePassthrough.assign(best_player = lambda d : d[\"soccerPlayer\"][:3])).invoke({\"soccerPlayer\":\"박지성손흥민\"})\n",
    "\n",
    "# {'soccerPlayer': '박지성손흥민', 'best_player': '박지성'}\n"
   ]
  },
  {
   "cell_type": "markdown",
   "id": "a2833120",
   "metadata": {},
   "source": [
    "### RunnableParallel"
   ]
  },
  {
   "cell_type": "code",
   "execution_count": null,
   "id": "4b6c186c",
   "metadata": {},
   "outputs": [
    {
     "data": {
      "text/plain": [
       "{'passed': {'num': 1}, 'extra': {'num': 1, 'mult': 3}, 'modified': 2}"
      ]
     },
     "execution_count": 120,
     "metadata": {},
     "output_type": "execute_result"
    }
   ],
   "source": [
    "from langchain_core.runnables import RunnableParallel\n",
    "\n",
    "# 여러 인스턴스를 병렬로 실행한다.\n",
    "\n",
    "runnable = RunnableParallel(\n",
    "    passed = RunnablePassthrough(), # 입력된 인자를 그대로 통과시킨다.\n",
    "    extra = RunnablePassthrough.assign(mult = lambda x: x[\"num\"] * 3), #인자추가\n",
    "    modified= lambda x: x[\"num\"] +1,  # 입력된 딕셔너리 값에 해당값을 더한다.\n",
    ")\n",
    "\n",
    "runnable.invoke({\"num\": 1})\n",
    "\n",
    "# {'passed': {'num': 1}, 'extra': {'num': 1, 'mult': 3}, 'modified': 2}"
   ]
  },
  {
   "cell_type": "code",
   "execution_count": null,
   "id": "bd88d405",
   "metadata": {},
   "outputs": [
    {
     "data": {
      "text/plain": [
       "{'차범근': {'축구': 1}, '박지성': {'축구': 1, '이강인': 3}, '손흥민': 2}"
      ]
     },
     "execution_count": 128,
     "metadata": {},
     "output_type": "execute_result"
    }
   ],
   "source": [
    "#\n",
    "\n",
    "runnable = RunnableParallel(\n",
    "    차범근 = RunnablePassthrough(), # 입력된 인자를 그대로 통과시킨다.\n",
    "    박지성 = RunnablePassthrough.assign(이강인 = lambda x: x[\"축구\"] * 3), #인자추가\n",
    "    손흥민 = lambda x: x[\"축구\"] +1,  # 입력된 딕셔너리 값에 해당값을 더한다.\n",
    ")\n",
    "\n",
    "# 각 매개변수의 값은 리턴되는 딕셔너리의 각 키 값이 된다.\n",
    "# \n",
    "runnable.invoke({\"축구\": 1})\n"
   ]
  },
  {
   "cell_type": "code",
   "execution_count": null,
   "id": "869fa511",
   "metadata": {},
   "outputs": [
    {
     "data": {
      "text/plain": [
       "{'capital': AIMessage(content='서울특별시입니다.', additional_kwargs={'refusal': None}, response_metadata={'token_usage': {'completion_tokens': 10, 'prompt_tokens': 19, 'total_tokens': 29, 'completion_tokens_details': {'accepted_prediction_tokens': 0, 'audio_tokens': 0, 'reasoning_tokens': 0, 'rejected_prediction_tokens': 0}, 'prompt_tokens_details': {'audio_tokens': 0, 'cached_tokens': 0}}, 'model_name': 'gpt-3.5-turbo-0125', 'system_fingerprint': None, 'id': 'chatcmpl-CQRfS18m1jNDqkbApj08VjeaTuy3r', 'service_tier': 'default', 'finish_reason': 'stop', 'logprobs': None}, id='run--a06d03df-39e5-4931-b6e0-fc38a2cd5783-0', usage_metadata={'input_tokens': 19, 'output_tokens': 10, 'total_tokens': 29, 'input_token_details': {'audio': 0, 'cache_read': 0}, 'output_token_details': {'audio': 0, 'reasoning': 0}}),\n",
       " 'area': AIMessage(content='대한민국의 면적은 약 100,363 km² 입니다.', additional_kwargs={'refusal': None}, response_metadata={'token_usage': {'completion_tokens': 22, 'prompt_tokens': 20, 'total_tokens': 42, 'completion_tokens_details': {'accepted_prediction_tokens': 0, 'audio_tokens': 0, 'reasoning_tokens': 0, 'rejected_prediction_tokens': 0}, 'prompt_tokens_details': {'audio_tokens': 0, 'cached_tokens': 0}}, 'model_name': 'gpt-3.5-turbo-0125', 'system_fingerprint': None, 'id': 'chatcmpl-CQRfSGbn1bI2JDHXVNJ5fymeZiVh0', 'service_tier': 'default', 'finish_reason': 'stop', 'logprobs': None}, id='run--bd900ad8-7f22-44c4-abe2-1c5fca47b0b4-0', usage_metadata={'input_tokens': 20, 'output_tokens': 22, 'total_tokens': 42, 'input_token_details': {'audio': 0, 'cache_read': 0}, 'output_token_details': {'audio': 0, 'reasoning': 0}})}"
      ]
     },
     "execution_count": 129,
     "metadata": {},
     "output_type": "execute_result"
    }
   ],
   "source": [
    "chain1 = (\n",
    "    {\"country\": RunnablePassthrough()}\n",
    "    | PromptTemplate.from_template(\"{country} 의 수도는?\")\n",
    "    | ChatOpenAI()\n",
    ")\n",
    "chain2 = (\n",
    "    {\"country\": RunnablePassthrough()}\n",
    "    | PromptTemplate.from_template(\"{country} 의 면적은?\")\n",
    "    | ChatOpenAI()\n",
    ")\n",
    "\n",
    "combined_chain = RunnableParallel(capital=chain1, area=chain2)\n",
    "combined_chain.invoke(\"대한민국\")\n",
    "\n",
    "#{'capital': AIMessage(content='서울특별시입니다.', additional_kwargs={'refusal': None}, response_metadata={'token_usage': {'completion_tokens': 10, 'prompt_tokens': 19, 'total_tokens': 29, 'completion_tokens_details': {'accepted_prediction_tokens': 0, 'audio_tokens': 0, 'reasoning_tokens': 0, 'rejected_prediction_tokens': 0}, 'prompt_tokens_details': {'audio_tokens': 0, 'cached_tokens': 0}}, 'model_name': 'gpt-3.5-turbo-0125', 'system_fingerprint': None, 'id': 'chatcmpl-CQRfS18m1jNDqkbApj08VjeaTuy3r', 'service_tier': 'default', 'finish_reason': 'stop', 'logprobs': None}, id='run--a06d03df-39e5-4931-b6e0-fc38a2cd5783-0', usage_metadata={'input_tokens': 19, 'output_tokens': 10, 'total_tokens': 29, 'input_token_details': {'audio': 0, 'cache_read': 0}, 'output_token_details': {'audio': 0, 'reasoning': 0}}),\n",
    "# 'area': AIMessage(content='대한민국의 면적은 약 100,363 km² 입니다.', additional_kwargs={'refusal': None}, response_metadata={'token_usage': {'completion_tokens': 22, 'prompt_tokens': 20, 'total_tokens': 42, 'completion_tokens_details': {'accepted_prediction_tokens': 0, 'audio_tokens': 0, 'reasoning_tokens': 0, 'rejected_prediction_tokens': 0}, 'prompt_tokens_details': {'audio_tokens': 0, 'cached_tokens': 0}}, 'model_name': 'gpt-3.5-turbo-0125', 'system_fingerprint': None, 'id': 'chatcmpl-CQRfSGbn1bI2JDHXVNJ5fymeZiVh0', 'service_tier': 'default', 'finish_reason': 'stop', 'logprobs': None}, id='run--bd900ad8-7f22-44c4-abe2-1c5fca47b0b4-0', usage_metadata={'input_tokens': 20, 'output_tokens': 22, 'total_tokens': 42, 'input_token_details': {'audio': 0, 'cache_read': 0}, 'output_token_details': {'audio': 0, 'reasoning': 0}})}\n"
   ]
  },
  {
   "cell_type": "markdown",
   "id": "5edc94a0",
   "metadata": {},
   "source": [
    "### RunnableLambda"
   ]
  },
  {
   "cell_type": "code",
   "execution_count": null,
   "id": "2a8518e9",
   "metadata": {},
   "outputs": [
    {
     "data": {
      "text/plain": [
       "'Oct-14'"
      ]
     },
     "execution_count": 139,
     "metadata": {},
     "output_type": "execute_result"
    }
   ],
   "source": [
    "from langchain_core.output_parsers import StrOutputParser\n",
    "from langchain_core.prompts import PromptTemplate\n",
    "from langchain_openai import ChatOpenAI\n",
    "from datetime import datetime\n",
    "\n",
    "def get_today(_) :\n",
    "  return datetime.today().strftime(\"%b-%d\")\n",
    "\n",
    "get_today(None)"
   ]
  },
  {
   "cell_type": "code",
   "execution_count": null,
   "id": "244fcece",
   "metadata": {},
   "outputs": [
    {
     "data": {
      "text/plain": [
       "'6월 24일이 생일인 축구선수 중 잘 알려진 선수 세 명을 나이순으로 나열하면 다음과 같습니다:\\n\\n1. 리오넬 메시 (Lionel Messi) - 1987년 6월 24일\\n2. 후안 로만 리켈메 (Juan Román Riquelme) - 1978년 6월 24일\\n3. 파블로 자발레타 (Pablo Zabaleta) - 1985년 6월 24일\\n\\n이 목록은 잘 알려진 선수들 중에서 선택한 것이며, 다른 선수들도 있을 수 있습니다.'"
      ]
     },
     "execution_count": 142,
     "metadata": {},
     "output_type": "execute_result"
    }
   ],
   "source": [
    "from langchain_core.runnables import RunnableLambda, RunnablePassthrough\n",
    "\n",
    "prompt = PromptTemplate.from_template(\n",
    "    # '{today} 가 생일인 유명인 {n} 명을 나열하세요. 생년월일을 표기해 주세요.'\n",
    ")\n",
    "\n",
    "llm = ChatOpenAI(temperature=0, model_name=\"gpt-4o\")\n",
    "\n",
    "chain = (\n",
    "  {\"today\": RunnableLambda(get_today), \"n\": RunnablePassthrough()}\n",
    "  | prompt\n",
    "  | llm\n",
    "  | StrOutputParser()\n",
    ")\n",
    "\n",
    "chain.invoke(3)"
   ]
  },
  {
   "cell_type": "code",
   "execution_count": null,
   "id": "a1ccc91a",
   "metadata": {},
   "outputs": [
    {
     "data": {
      "text/plain": [
       "AIMessage(content='5 + 10은 15 입니다.', additional_kwargs={'refusal': None}, response_metadata={'token_usage': {'completion_tokens': 10, 'prompt_tokens': 22, 'total_tokens': 32, 'completion_tokens_details': {'accepted_prediction_tokens': 0, 'audio_tokens': 0, 'reasoning_tokens': 0, 'rejected_prediction_tokens': 0}, 'prompt_tokens_details': {'audio_tokens': 0, 'cached_tokens': 0}}, 'model_name': 'gpt-3.5-turbo-0125', 'system_fingerprint': None, 'id': 'chatcmpl-CQSGBLSuhle473Ux6uUsu5kjauE8i', 'service_tier': 'default', 'finish_reason': 'stop', 'logprobs': None}, id='run--a369542d-8d2b-4086-b44f-910561d1cb12-0', usage_metadata={'input_tokens': 22, 'output_tokens': 10, 'total_tokens': 32, 'input_token_details': {'audio': 0, 'cache_read': 0}, 'output_token_details': {'audio': 0, 'reasoning': 0}})"
      ]
     },
     "execution_count": 8,
     "metadata": {},
     "output_type": "execute_result"
    }
   ],
   "source": [
    "from operator import itemgetter # 특정키를 추출합니다.\n",
    "\n",
    "from langchain_core.prompts import ChatPromptTemplate\n",
    "from langchain_core.runnables import RunnableLambda\n",
    "from langchain_openai import ChatOpenAI\n",
    "\n",
    "def length_function(text):\n",
    "    return len(text)\n",
    "  \n",
    "def _multiple_length_fucntion(text1, text2):\n",
    "    return len(text1) + len(text2)\n",
    "\n",
    "def multiple_length_fucntion(_dict):\n",
    "    return _multiple_length_fucntion(_dict[\"text1\"], _dict[\"text2\"])\n",
    "  \n",
    "  \n",
    "prompt = ChatPromptTemplate.from_template(\"{a} + {b} 는 무엇인가요?\")\n",
    "model = ChatOpenAI()\n",
    "chain1 = prompt | model\n",
    "\n",
    "chain = (\n",
    "  {\n",
    "    \"a\": itemgetter(\"word1\") | RunnableLambda(length_function),\n",
    "    \"b\": {\"text1\": itemgetter(\"word1\"), \"text2\": itemgetter(\"word2\")}\n",
    "    | RunnableLambda(multiple_length_fucntion),\n",
    "  }\n",
    "  | prompt\n",
    "  | model\n",
    ")\n",
    "\n",
    "chain.invoke({\"word1\": \"hello\", \"word2\": \"world\"})\n"
   ]
  },
  {
   "cell_type": "code",
   "execution_count": null,
   "id": "25ddd975",
   "metadata": {},
   "outputs": [
    {
     "data": {
      "text/plain": [
       "operator.itemgetter('word1')"
      ]
     },
     "execution_count": 9,
     "metadata": {},
     "output_type": "execute_result"
    }
   ],
   "source": [
    "itemgetter(\"word1\") # operator.itemgetter('word1')"
   ]
  },
  {
   "cell_type": "markdown",
   "id": "b5f18a66",
   "metadata": {},
   "source": [
    "# CH02 프롬프트(Prompt)"
   ]
  },
  {
   "cell_type": "code",
   "execution_count": null,
   "id": "fc27e0fc",
   "metadata": {},
   "outputs": [
    {
     "name": "stdout",
     "output_type": "stream",
     "text": [
      "LangSmith 추적을 시작합니다.\n",
      "[프로젝트명]\n",
      "langchain-study\n"
     ]
    }
   ],
   "source": [
    "from dotenv import load_dotenv\n",
    "\n",
    "load_dotenv()\n",
    "\n",
    "from langchain_teddynote import logging\n",
    "\n",
    "logging.langsmith(\"langchain-study\")"
   ]
  },
  {
   "cell_type": "code",
   "execution_count": 5,
   "id": "e7aaff86",
   "metadata": {},
   "outputs": [],
   "source": [
    "from langchain_openai import ChatOpenAI\n",
    "from langchain_core.prompts import PromptTemplate\n",
    "llm = ChatOpenAI()"
   ]
  },
  {
   "cell_type": "code",
   "execution_count": 6,
   "id": "181103b2",
   "metadata": {},
   "outputs": [
    {
     "data": {
      "text/plain": [
       "PromptTemplate(input_variables=['country'], input_types={}, partial_variables={}, template='{country}의 수도는 어디인가요?')"
      ]
     },
     "execution_count": 6,
     "metadata": {},
     "output_type": "execute_result"
    }
   ],
   "source": [
    "template = \"{country}의 수도는 어디인가요?\"\n",
    "prompt = PromptTemplate.from_template(template)\n",
    "prompt"
   ]
  },
  {
   "cell_type": "code",
   "execution_count": 7,
   "id": "d2b0540d",
   "metadata": {},
   "outputs": [],
   "source": [
    "prompt = prompt.format(country= '대한민국') # 리턴값이 str "
   ]
  },
  {
   "cell_type": "code",
   "execution_count": 8,
   "id": "5140138a",
   "metadata": {},
   "outputs": [
    {
     "data": {
      "text/plain": [
       "'대한민국의 수도는 서울입니다.'"
      ]
     },
     "execution_count": 8,
     "metadata": {},
     "output_type": "execute_result"
    }
   ],
   "source": [
    "template = \"{country}의 수도는 어디인가요?\"\n",
    "prompt = PromptTemplate.from_template(template)\n",
    "\n",
    "chain = prompt | llm\n",
    "\n",
    "chain.invoke({\"country\": \"대한민국\"}).content # '대한민국의 수도는 서울입니다.'\n",
    "chain.invoke(\"대한민국\").content # '대한민국의 수도는서울이며, 대한민국 정부와 국회가 위치해 있습니다.'"
   ]
  },
  {
   "cell_type": "markdown",
   "id": "2756eda4",
   "metadata": {},
   "source": [
    "### PromptTemplate 객체 생성과 동시에 prompt 생성"
   ]
  },
  {
   "cell_type": "code",
   "execution_count": 9,
   "id": "7589be9f",
   "metadata": {},
   "outputs": [
    {
     "data": {
      "text/plain": [
       "'대한민국의 수도는 어디인가요?'"
      ]
     },
     "execution_count": 9,
     "metadata": {},
     "output_type": "execute_result"
    }
   ],
   "source": [
    "template = \"{country}의 수도는 어디인가요?\"\n",
    "prompt =PromptTemplate.from_template(\n",
    "  template = template,\n",
    "  input_variable = [\"country\"]\n",
    ")\n",
    "\n",
    "# prompt.format({\"country\" : \"대한민국\"}) X \n",
    "# prompt.format(\"대한민국\") X\n",
    "\n",
    "prompt.format(country = \"대한민국\") #'대한민국의 수도는 어디인가요?'\n",
    "\n",
    "# invoke는 단일값일 경우 값만 넘겨도 되지만, format은 키, value 다 써줘야 한다."
   ]
  },
  {
   "cell_type": "code",
   "execution_count": null,
   "id": "fa27cc68",
   "metadata": {},
   "outputs": [
    {
     "data": {
      "text/plain": [
       "'대한민국의 수도는 서울이고, 캐나다의 수도는 오타와입니다.'"
      ]
     },
     "execution_count": 10,
     "metadata": {},
     "output_type": "execute_result"
    }
   ],
   "source": [
    "template = \"{country1} 과 {country2}의 수도는 각각 어디인가요?\"\n",
    "\n",
    "prompt = PromptTemplate(\n",
    "  template = template,\n",
    "  input_variables = [\"country1\"],\n",
    "  partial_variables = {\n",
    "    \"country2\": \"미국\"\n",
    "  } \n",
    ")\n",
    "\n",
    "prompt # PromptTemplate(input_variables=['country1'], input_types={}, partial_variables={'country2': '미국'}, template='{country1} 과 {country2}의 수도는 각각 어디인가요?')\n",
    "prompt.format(country1 = \"대한민국\")\n",
    "\n",
    "prompt_partial = prompt.partial(country2 = \"캐나다\" )\n",
    "prompt_partial\n",
    "\n",
    "prompt_partial.format(country1 =\"대한민국\")\n",
    "chain = prompt_partial | llm\n",
    "chain.invoke(\"대한민국\").content\n"
   ]
  },
  {
   "cell_type": "code",
   "execution_count": 11,
   "id": "42c1cb91",
   "metadata": {},
   "outputs": [
    {
     "data": {
      "text/plain": [
       "'대한민국의 수도는 서울이며, 호주의 수도는 캔버라입니다.'"
      ]
     },
     "execution_count": 11,
     "metadata": {},
     "output_type": "execute_result"
    }
   ],
   "source": [
    "chain.invoke({\"country1\":\"대한민국\", \"country2\":\"호주\"}).content"
   ]
  },
  {
   "cell_type": "markdown",
   "id": "c9d4e4c2",
   "metadata": {},
   "source": [
    "### partial_variables"
   ]
  },
  {
   "cell_type": "code",
   "execution_count": 12,
   "id": "c008155a",
   "metadata": {},
   "outputs": [
    {
     "data": {
      "text/plain": [
       "'October 14'"
      ]
     },
     "execution_count": 12,
     "metadata": {},
     "output_type": "execute_result"
    }
   ],
   "source": [
    "from datetime import datetime\n",
    "def get_today() :\n",
    "  return datetime.today().strftime(\"%B %d\")\n",
    "\n",
    "get_today()"
   ]
  },
  {
   "cell_type": "code",
   "execution_count": 14,
   "id": "50113e1c",
   "metadata": {},
   "outputs": [
    {
     "data": {
      "text/plain": [
       "'오늘의 날짜는 October 14입니다. 오늘이 생일인 유명인 3명을 나열해 주세요. 생년월일을 표기해주세요.'"
      ]
     },
     "execution_count": 14,
     "metadata": {},
     "output_type": "execute_result"
    }
   ],
   "source": [
    "prompt = PromptTemplate(\n",
    "  template = \"오늘의 날짜는 {today}입니다. 오늘이 생일인 유명인 {n}명을 나열해 주세요. 생년월일을 표기해주세요.\",\n",
    "  input_variables= [\"n\"],\n",
    "  partial_variables = {\n",
    "    \"today\": get_today\n",
    "  },\n",
    ")\n",
    "\n",
    "prompt.format(n=3)"
   ]
  },
  {
   "cell_type": "code",
   "execution_count": null,
   "id": "df7e0e9b",
   "metadata": {},
   "outputs": [
    {
     "data": {
      "text/plain": [
       "AIMessage(content='3의 수도는 서울이며, 캐나다의 수도는 오타와입니다.', additional_kwargs={'refusal': None}, response_metadata={'token_usage': {'completion_tokens': 28, 'prompt_tokens': 30, 'total_tokens': 58, 'completion_tokens_details': {'accepted_prediction_tokens': 0, 'audio_tokens': 0, 'reasoning_tokens': 0, 'rejected_prediction_tokens': 0}, 'prompt_tokens_details': {'audio_tokens': 0, 'cached_tokens': 0}}, 'model_name': 'gpt-3.5-turbo-0125', 'system_fingerprint': None, 'id': 'chatcmpl-CQZvz7ILWAoDhRDxh3zCVvF3fRwZD', 'service_tier': 'default', 'finish_reason': 'stop', 'logprobs': None}, id='run--905ccff6-695c-4b0d-b72a-82bd504e1d5f-0', usage_metadata={'input_tokens': 30, 'output_tokens': 28, 'total_tokens': 58, 'input_token_details': {'audio': 0, 'cache_read': 0}, 'output_token_details': {'audio': 0, 'reasoning': 0}})"
      ]
     },
     "execution_count": 15,
     "metadata": {},
     "output_type": "execute_result"
    }
   ],
   "source": [
    "chain.invoke(3)"
   ]
  },
  {
   "cell_type": "code",
   "execution_count": 6,
   "id": "eadc4926",
   "metadata": {},
   "outputs": [
    {
     "data": {
      "text/plain": [
       "'사과의 색깔이 무엇인가요?'"
      ]
     },
     "execution_count": 6,
     "metadata": {},
     "output_type": "execute_result"
    }
   ],
   "source": [
    "from langchain_core.prompts import load_prompt\n",
    "\n",
    "prompt = load_prompt(\"prompts/fruit_color.yaml\")\n",
    "prompt.format(fruit=\"사과\")"
   ]
  },
  {
   "cell_type": "code",
   "execution_count": null,
   "id": "95e1af8c",
   "metadata": {},
   "outputs": [],
   "source": [
    "from langchain_core.prompts import ChatPromptTemplate\n",
    "\n",
    "chat_template = ChatPromptTemplate.from_messages(\n",
    "  [\n",
    "    (\"system\", \"당신은 친절한 AI 어시스턴트입니다. 당신의 이름은 {name}입니다.\"),\n",
    "    (\"human\", \"반가워요!\"),\n",
    "    (\"ai\", \"안녕하세요 무엇을 도와드릴까요?\"),\n",
    "    (\"human\", \"반가워요!\"),\n",
    "  ]\n",
    ")\n",
    "\n",
    "llm.invoke(messgaes).øntent\n",
    "\n",
    "messages = chat_template.format_messages(name=\"테드\", user_input=\"당신의 이름은 무엇입니까?\")"
   ]
  }
 ],
 "metadata": {
  "kernelspec": {
   "display_name": "langCh-env",
   "language": "python",
   "name": "python3"
  },
  "language_info": {
   "codemirror_mode": {
    "name": "ipython",
    "version": 3
   },
   "file_extension": ".py",
   "mimetype": "text/x-python",
   "name": "python",
   "nbconvert_exporter": "python",
   "pygments_lexer": "ipython3",
   "version": "3.10.18"
  }
 },
 "nbformat": 4,
 "nbformat_minor": 5
}
