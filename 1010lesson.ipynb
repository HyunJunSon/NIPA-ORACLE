{
 "cells": [
  {
   "cell_type": "code",
   "execution_count": null,
   "id": "033b1a31",
   "metadata": {},
   "outputs": [
    {
     "data": {
      "text/plain": [
       "'Hello World'"
      ]
     },
     "execution_count": 1,
     "metadata": {},
     "output_type": "execute_result"
    }
   ],
   "source": [
    "# html 문자열 파싱\n",
    "from bs4 import BeautifulSoup\n",
    "html_doc = \"<html><body><h1>Hello World</h1></body></html>\"\n",
    "soup = BeautifulSoup(html_doc, 'html.parser')\n",
    "\n",
    "soup.find('h1').get_text()  # 'Hello World'"
   ]
  },
  {
   "cell_type": "code",
   "execution_count": 2,
   "id": "311bc2c5",
   "metadata": {},
   "outputs": [
    {
     "data": {
      "text/plain": [
       "'This is Test'"
      ]
     },
     "execution_count": 2,
     "metadata": {},
     "output_type": "execute_result"
    }
   ],
   "source": [
    "#파일에서 파싱\n",
    "url = \"example.html\"\n",
    "with open(url, 'r') as f :\n",
    "  soup = BeautifulSoup(f, 'html.parser')\n",
    "  \n",
    "soup.find('title').get_text()\n"
   ]
  },
  {
   "cell_type": "code",
   "execution_count": 5,
   "id": "84ce58a0",
   "metadata": {},
   "outputs": [
    {
     "data": {
      "text/plain": [
       "'네이버페이 증권'"
      ]
     },
     "execution_count": 5,
     "metadata": {},
     "output_type": "execute_result"
    }
   ],
   "source": [
    "#웹페이지에서 파싱\n",
    "import requests\n",
    "url = \"https://m.stock.naver.com/investment/news/flashnews\"\n",
    "res = requests.get(url)\n",
    "soup = BeautifulSoup(res.text, 'html.parser')\n",
    "soup.find('title').get_text()"
   ]
  },
  {
   "cell_type": "code",
   "execution_count": 12,
   "id": "bd845474",
   "metadata": {},
   "outputs": [
    {
     "data": {
      "text/plain": [
       "['https://m.naver.com/',\n",
       " 'https://new-m.pay.naver.com',\n",
       " '/',\n",
       " '/search',\n",
       " 'https://new-m.pay.naver.com/member/payservice',\n",
       " '#',\n",
       " 'https://policy.naver.com/policy-mobile/term.html?type=1',\n",
       " 'https://policy.naver.com/policy-mobile/privacy.html',\n",
       " 'https://help.naver.com/alias/contents2/finance/finance_1.naver',\n",
       " 'https://home.pay.naver.com/',\n",
       " 'https://point.pay.naver.com/main',\n",
       " 'https://new-m.pay.naver.com/historybenefit/home',\n",
       " 'https://m.stock.naver.com/',\n",
       " 'https://fin.land.naver.com/']"
      ]
     },
     "execution_count": 12,
     "metadata": {},
     "output_type": "execute_result"
    }
   ],
   "source": [
    "# 요소찾기 : 태그이름으로\n",
    "\n",
    "# 모든태그 찾기\n",
    "\n",
    "all_links = soup.find_all('a')\n",
    "# for link in all_links :\n",
    "#   print(link.get('href'))\n",
    "links = [ l.get('href') for l in all_links if l.get('href') is not None]\n",
    "links\n",
    "\n"
   ]
  },
  {
   "cell_type": "code",
   "execution_count": null,
   "id": "6858380a",
   "metadata": {},
   "outputs": [
    {
     "data": {
      "text/plain": [
       "[]"
      ]
     },
     "execution_count": 17,
     "metadata": {},
     "output_type": "execute_result"
    }
   ],
   "source": [
    "elements = soup.select('.module_article__983nq')\n",
    "elements "
   ]
  },
  {
   "cell_type": "code",
   "execution_count": 21,
   "id": "e1015cda",
   "metadata": {},
   "outputs": [
    {
     "data": {
      "text/plain": [
       "[<div class=\"FlexibleLayout-module_article__bwPeF FlexibleLayout-module_type-gray150__l7e7q\"><div class=\"FlexibleLayout-module_row__P4p6X\"><div style=\"height:96px\"><div class=\"StickyHeaderArea-module_article__hVjGg\" style=\"transform:translateY(0)\"><div><div class=\"Gnb_article__LPMiJ\"><header class=\"CommonHeader-module_article__sFY73 CommonHeader-module_left__lnT7u CommonHeader-module_bg-white__fJiiv\"><div class=\"CommonHeader-module_inner__CNjq5\"><h1 class=\"HeaderBrandMain-module_article__KG81J\"><a class=\"HeaderNpayButton-module_link__dCMvi\" href=\"https://m.naver.com/\"><svg fill=\"none\" height=\"22\" viewbox=\"0 0 22 22\" width=\"22\" xmlns=\"http://www.w3.org/2000/svg\"><path d=\"M22 11C22 13.1756 21.3549 15.3023 20.1462 17.1113C18.9375 18.9202 17.2195 20.3301 15.2095 21.1627C13.1995 21.9952 10.9878 22.2131 8.85401 21.7886C6.72022 21.3642 4.76021 20.3166 3.22183 18.7782C1.68345 17.2398 0.635805 15.2798 0.211368 13.146C-0.213069 11.0122 0.00476301 8.80047 0.837327 6.79048C1.66989 4.78049 3.07979 3.06253 4.88873 1.85383C6.69767 0.645137 8.82441 0 11 0C13.9174 0 16.7153 1.15892 18.7782 3.22183C20.8411 5.28473 22 8.08262 22 11ZM12.8398 5.83V11.3602L8.98976 5.83H5.83V16.1838H9.1575V10.637L13.0075 16.17H16.1783V5.83H12.8398Z\" fill=\"black\"></path></svg><span class=\"blind\">네이버</span></a><a class=\"HeaderNpayButton-module_link__dCMvi\" href=\"https://new-m.pay.naver.com\"><svg fill=\"none\" height=\"22\" viewbox=\"0 0 39 22\" width=\"39\" xmlns=\"http://www.w3.org/2000/svg\"><path d=\"M34.4319 5.21944L31.3913 12.1478L27.9518 5.21944H25.3072L30.1783 14.8317L28.1703 19.3358H30.7384L37 5.2331L34.4319 5.21944ZM23.6171 15.9331H21.1037V14.9328C20.1894 15.7342 19.0108 16.1685 17.7953 16.1518C14.7901 16.1518 12.4379 13.692 12.4379 10.5763C12.4379 7.46057 14.7874 5.00079 17.7953 5.00079C19.0104 4.9833 20.189 5.41657 21.1037 6.21701V5.21944H23.6171V15.9331ZM21.3987 10.5899C21.3987 8.57019 19.9891 7.03694 18.1204 7.03694C16.2517 7.03694 14.842 8.57019 14.842 10.5899C14.842 12.6097 16.249 14.1429 18.1204 14.1429C19.9918 14.1429 21.3987 12.596 21.3987 10.5899ZM0.00819554 19.3358H2.63088V15.023C3.52823 15.7695 4.66309 16.1699 5.83001 16.1518C8.83516 16.1518 11.1901 13.692 11.1901 10.5763C11.1901 7.46057 8.83789 5.00079 5.83001 5.00079C4.61166 4.9789 3.42899 5.4126 2.51341 6.21701V5.21944H0L0.00819554 19.3358ZM5.51856 7.03694C7.38722 7.03694 8.79691 8.57019 8.79691 10.5899C8.79691 12.6097 7.38722 14.1429 5.51856 14.1429C3.6499 14.1429 2.24021 12.6097 2.24021 10.5899C2.24021 8.57019 3.63351 7.03694 5.51856 7.03694Z\" fill=\"black\"></path></svg><span class=\"blind\">네이버페이</span></a><a class=\"HeaderName-module_article__-dT0a HeaderName-module_type-main__nbL5S\" href=\"/\">증권</a></h1><div class=\"CommonHeader-module_aside-right__auJsW\"><span class=\"blind\">메뉴모음</span><div class=\"SearchBoxButton-module_article__OZIez\"><a class=\"HeaderButton-module_article__KwTay SearchBoxButton-module_button__8sjYv\" href=\"/search\"><span class=\"SearchBoxButton-module_icon-search__ZW3zk\"><svg fill=\"none\" height=\"18\" viewbox=\"0 0 24 24\" width=\"18\" xmlns=\"http://www.w3.org/2000/svg\"><path clip-rule=\"evenodd\" d=\"M3.51966 10.25C3.51966 6.39487 6.64487 3.26966 10.5 3.26966C14.3551 3.26966 17.4803 6.39487 17.4803 10.25C17.4803 14.1051 14.3551 17.2303 10.5 17.2303C6.64487 17.2303 3.51966 14.1051 3.51966 10.25ZM10.5 1.5C5.66751 1.5 1.75 5.41751 1.75 10.25C1.75 15.0825 5.66751 19 10.5 19C12.5965 19 14.5209 18.2626 16.0278 17.0331C16.0625 17.0872 16.1035 17.1384 16.1508 17.1857L20.7501 21.785C21.1049 22.1399 21.6803 22.1399 22.0351 21.785C22.39 21.4302 22.39 20.8548 22.0351 20.5L17.4358 15.9006C17.3885 15.8534 17.3373 15.8124 17.2832 15.7777C18.5127 14.2708 19.25 12.3465 19.25 10.25C19.25 5.41751 15.3325 1.5 10.5 1.5Z\" fill=\"#1E1E23\" fill-rule=\"evenodd\"></path></svg></span><span class=\"SearchBoxButton-module_text__umyAC\">종목 검색</span><span class=\"blind\">검색</span></a></div><a class=\"HeaderButton-module_article__KwTay\" href=\"https://new-m.pay.naver.com/member/payservice\"><svg fill=\"none\" height=\"24\" viewbox=\"0 0 24 24\" width=\"24\" xmlns=\"http://www.w3.org/2000/svg\"><path clip-rule=\"evenodd\" d=\"M2 4C2 3.44772 2.44772 3 3 3H21C21.5523 3 22 3.44772 22 4C22 4.55228 21.5523 5 21 5H3C2.44772 5 2 4.55228 2 4Z\" fill=\"#1E1E23\" fill-rule=\"evenodd\"></path><path clip-rule=\"evenodd\" d=\"M2 12C2 11.4477 2.44772 11 3 11H21C21.5523 11 22 11.4477 22 12C22 12.5523 21.5523 13 21 13H3C2.44772 13 2 12.5523 2 12Z\" fill=\"#1E1E23\" fill-rule=\"evenodd\"></path><path clip-rule=\"evenodd\" d=\"M2 20C2 19.4477 2.44772 19 3 19H21C21.5523 19 22 19.4477 22 20C22 20.5523 21.5523 21 21 21H3C2.44772 21 2 20.5523 2 20Z\" fill=\"#1E1E23\" fill-rule=\"evenodd\"></path></svg><span class=\"blind\">전체메뉴</span></a></div></div></header></div></div><div class=\"\"><div class=\"Lnb_article__psmaj\"><div class=\"LineTab-module_article__IxSsG LineTab-module_bg-white__l-Qhm\"><ul class=\"LineTab-module_list__hJZ3g LineTab-module_main__Hebbk LineTab-module_flexible__svdK1 LineTab-module_max-width-wide__iZJgE\"><li class=\"LineTab-module_item__Q0W6v\"><button class=\"LineTab-module_link__MCdtL\" type=\"button\"><span>홈</span></button></li><li class=\"LineTab-module_item__Q0W6v\"><button class=\"LineTab-module_link__MCdtL\" type=\"button\"><span>국내</span></button></li><li class=\"LineTab-module_item__Q0W6v\"><button class=\"LineTab-module_link__MCdtL\" type=\"button\"><span>해외</span></button></li><li class=\"LineTab-module_item__Q0W6v\"><button class=\"LineTab-module_link__MCdtL\" type=\"button\"><span>공모주</span></button></li><li class=\"LineTab-module_item__Q0W6v\"><button class=\"LineTab-module_link__MCdtL\" type=\"button\"><span>토론</span></button></li><li class=\"LineTab-module_item__Q0W6v\"><button class=\"LineTab-module_link__MCdtL\" type=\"button\"><span>지표</span></button></li><li class=\"LineTab-module_item__Q0W6v\"><button class=\"LineTab-module_link__MCdtL\" type=\"button\"><span>가상자산</span></button></li><li class=\"LineTab-module_item__Q0W6v\"><button class=\"LineTab-module_link__MCdtL LineTab-module_is-selected__Uty3h\" type=\"button\"><span>투자정보</span><span class=\"blind\">현재 위치</span></button></li></ul></div></div></div></div></div></div><div class=\"FlexibleLayout-module_wrapper__9uXan\"><div class=\"FlexibleLayout-module_inner__hGuDc FlexibleLayout-module_type-full-height__423Op FlexibleLayout-module_type-white__AWDSF FlexibleLayout-module_width-type-wide__oCYon\" id=\"content\"><div class=\"InvestmentTab_article__1Haf5\"><ul class=\"SolidTab-module_article__EanQk SolidTab-module_colorset-gray100__b8aZl SolidTab-module_fixed__NWHdi\"><li class=\"SolidTab-module_item__11wk5\"><button class=\"SolidTab-module_link__WnM4u SolidTab-module_is-selected__AE3DW\" type=\"button\"><span>뉴스</span><span class=\"blind\">현재 위치</span></button></li><li class=\"SolidTab-module_item__11wk5\"><button class=\"SolidTab-module_link__WnM4u\" type=\"button\"><span>리서치</span></button></li></ul></div><div class=\"Tab_round__1KIkF Tab_article_news__vNfxr\" id=\"\"><div class=\"Tab_area__pf_rC\"><div class=\"Tab_inner__lcpbv\"><ul class=\"Tab_list___bH51\"><li class=\"Tab_item__puifm Tab_isSelected__GzQvl\" id=\"tab_flashnews\"><a class=\"Tab_link__4W7i9\" data-nlogs=\"nav.rtn\"><span class=\"Tab_text__D56Aa\">실시간 속보</span></a></li><li class=\"Tab_item__puifm\" id=\"tab_mainnews\"><a class=\"Tab_link__4W7i9\" data-nlogs=\"nav.mnw\"><span class=\"Tab_text__D56Aa\">주요뉴스</span></a></li><li class=\"Tab_item__puifm\" id=\"tab_ranknews\"><a class=\"Tab_link__4W7i9\" data-nlogs=\"nav.pon\"><span class=\"Tab_text__D56Aa\">많이 본 뉴스</span></a></li><li class=\"Tab_item__puifm\" id=\"tab_worldnews\"><a class=\"Tab_link__4W7i9\" data-nlogs=\"nav.gnw\"><span class=\"Tab_text__D56Aa\">해외뉴스</span></a></li></ul></div></div></div><div class=\"WithSkeleton_article__qmGuu\"><div class=\"SkeletonArea-module_article__AjomK\" style=\"display:block\"><span class=\"blind\">로딩중</span><div class=\"SkeletonListImage-module_article__Yzd79 SkeletonListImage-module_image-right__E3oDC SkeletonListImage-module_color-gray150__7feIq\"><span class=\"SkeletonListImage-module_skeleton__oM7bN SkeletonListImage-module_card__91jrD\"></span><span class=\"SkeletonListImage-module_skeleton__oM7bN SkeletonListImage-module_text__kgO7g\"></span><span class=\"SkeletonListImage-module_skeleton__oM7bN SkeletonListImage-module_text__kgO7g\"></span><span class=\"SkeletonListImage-module_skeleton__oM7bN SkeletonListImage-module_text-short__bCfGR\"></span></div><div class=\"SkeletonListImage-module_article__Yzd79 SkeletonListImage-module_image-right__E3oDC SkeletonListImage-module_color-gray150__7feIq\"><span class=\"SkeletonListImage-module_skeleton__oM7bN SkeletonListImage-module_card__91jrD\"></span><span class=\"SkeletonListImage-module_skeleton__oM7bN SkeletonListImage-module_text__kgO7g\"></span><span class=\"SkeletonListImage-module_skeleton__oM7bN SkeletonListImage-module_text__kgO7g\"></span><span class=\"SkeletonListImage-module_skeleton__oM7bN SkeletonListImage-module_text-short__bCfGR\"></span></div><div class=\"SkeletonListImage-module_article__Yzd79 SkeletonListImage-module_image-right__E3oDC SkeletonListImage-module_color-gray150__7feIq\"><span class=\"SkeletonListImage-module_skeleton__oM7bN SkeletonListImage-module_card__91jrD\"></span><span class=\"SkeletonListImage-module_skeleton__oM7bN SkeletonListImage-module_text__kgO7g\"></span><span class=\"SkeletonListImage-module_skeleton__oM7bN SkeletonListImage-module_text__kgO7g\"></span><span class=\"SkeletonListImage-module_skeleton__oM7bN SkeletonListImage-module_text-short__bCfGR\"></span></div><div class=\"SkeletonListImage-module_article__Yzd79 SkeletonListImage-module_image-right__E3oDC SkeletonListImage-module_color-gray150__7feIq\"><span class=\"SkeletonListImage-module_skeleton__oM7bN SkeletonListImage-module_card__91jrD\"></span><span class=\"SkeletonListImage-module_skeleton__oM7bN SkeletonListImage-module_text__kgO7g\"></span><span class=\"SkeletonListImage-module_skeleton__oM7bN SkeletonListImage-module_text__kgO7g\"></span><span class=\"SkeletonListImage-module_skeleton__oM7bN SkeletonListImage-module_text-short__bCfGR\"></span></div><div class=\"SkeletonListImage-module_article__Yzd79 SkeletonListImage-module_image-right__E3oDC SkeletonListImage-module_color-gray150__7feIq\"><span class=\"SkeletonListImage-module_skeleton__oM7bN SkeletonListImage-module_card__91jrD\"></span><span class=\"SkeletonListImage-module_skeleton__oM7bN SkeletonListImage-module_text__kgO7g\"></span><span class=\"SkeletonListImage-module_skeleton__oM7bN SkeletonListImage-module_text__kgO7g\"></span><span class=\"SkeletonListImage-module_skeleton__oM7bN SkeletonListImage-module_text-short__bCfGR\"></span></div><div class=\"SkeletonListImage-module_article__Yzd79 SkeletonListImage-module_image-right__E3oDC SkeletonListImage-module_color-gray150__7feIq\"><span class=\"SkeletonListImage-module_skeleton__oM7bN SkeletonListImage-module_card__91jrD\"></span><span class=\"SkeletonListImage-module_skeleton__oM7bN SkeletonListImage-module_text__kgO7g\"></span><span class=\"SkeletonListImage-module_skeleton__oM7bN SkeletonListImage-module_text__kgO7g\"></span><span class=\"SkeletonListImage-module_skeleton__oM7bN SkeletonListImage-module_text-short__bCfGR\"></span></div><div class=\"SkeletonListImage-module_article__Yzd79 SkeletonListImage-module_image-right__E3oDC SkeletonListImage-module_color-gray150__7feIq\"><span class=\"SkeletonListImage-module_skeleton__oM7bN SkeletonListImage-module_card__91jrD\"></span><span class=\"SkeletonListImage-module_skeleton__oM7bN SkeletonListImage-module_text__kgO7g\"></span><span class=\"SkeletonListImage-module_skeleton__oM7bN SkeletonListImage-module_text__kgO7g\"></span><span class=\"SkeletonListImage-module_skeleton__oM7bN SkeletonListImage-module_text-short__bCfGR\"></span></div><div class=\"SkeletonListImage-module_article__Yzd79 SkeletonListImage-module_image-right__E3oDC SkeletonListImage-module_color-gray150__7feIq\"><span class=\"SkeletonListImage-module_skeleton__oM7bN SkeletonListImage-module_card__91jrD\"></span><span class=\"SkeletonListImage-module_skeleton__oM7bN SkeletonListImage-module_text__kgO7g\"></span><span class=\"SkeletonListImage-module_skeleton__oM7bN SkeletonListImage-module_text__kgO7g\"></span><span class=\"SkeletonListImage-module_skeleton__oM7bN SkeletonListImage-module_text-short__bCfGR\"></span></div><div class=\"SkeletonListImage-module_article__Yzd79 SkeletonListImage-module_image-right__E3oDC SkeletonListImage-module_color-gray150__7feIq\"><span class=\"SkeletonListImage-module_skeleton__oM7bN SkeletonListImage-module_card__91jrD\"></span><span class=\"SkeletonListImage-module_skeleton__oM7bN SkeletonListImage-module_text__kgO7g\"></span><span class=\"SkeletonListImage-module_skeleton__oM7bN SkeletonListImage-module_text__kgO7g\"></span><span class=\"SkeletonListImage-module_skeleton__oM7bN SkeletonListImage-module_text-short__bCfGR\"></span></div><div class=\"SkeletonListImage-module_article__Yzd79 SkeletonListImage-module_image-right__E3oDC SkeletonListImage-module_color-gray150__7feIq\"><span class=\"SkeletonListImage-module_skeleton__oM7bN SkeletonListImage-module_card__91jrD\"></span><span class=\"SkeletonListImage-module_skeleton__oM7bN SkeletonListImage-module_text__kgO7g\"></span><span class=\"SkeletonListImage-module_skeleton__oM7bN SkeletonListImage-module_text__kgO7g\"></span><span class=\"SkeletonListImage-module_skeleton__oM7bN SkeletonListImage-module_text-short__bCfGR\"></span></div><div class=\"SkeletonListImage-module_article__Yzd79 SkeletonListImage-module_image-right__E3oDC SkeletonListImage-module_color-gray150__7feIq\"><span class=\"SkeletonListImage-module_skeleton__oM7bN SkeletonListImage-module_card__91jrD\"></span><span class=\"SkeletonListImage-module_skeleton__oM7bN SkeletonListImage-module_text__kgO7g\"></span><span class=\"SkeletonListImage-module_skeleton__oM7bN SkeletonListImage-module_text__kgO7g\"></span><span class=\"SkeletonListImage-module_skeleton__oM7bN SkeletonListImage-module_text-short__bCfGR\"></span></div><div class=\"SkeletonListImage-module_article__Yzd79 SkeletonListImage-module_image-right__E3oDC SkeletonListImage-module_color-gray150__7feIq\"><span class=\"SkeletonListImage-module_skeleton__oM7bN SkeletonListImage-module_card__91jrD\"></span><span class=\"SkeletonListImage-module_skeleton__oM7bN SkeletonListImage-module_text__kgO7g\"></span><span class=\"SkeletonListImage-module_skeleton__oM7bN SkeletonListImage-module_text__kgO7g\"></span><span class=\"SkeletonListImage-module_skeleton__oM7bN SkeletonListImage-module_text-short__bCfGR\"></span></div><div class=\"SkeletonListImage-module_article__Yzd79 SkeletonListImage-module_image-right__E3oDC SkeletonListImage-module_color-gray150__7feIq\"><span class=\"SkeletonListImage-module_skeleton__oM7bN SkeletonListImage-module_card__91jrD\"></span><span class=\"SkeletonListImage-module_skeleton__oM7bN SkeletonListImage-module_text__kgO7g\"></span><span class=\"SkeletonListImage-module_skeleton__oM7bN SkeletonListImage-module_text__kgO7g\"></span><span class=\"SkeletonListImage-module_skeleton__oM7bN SkeletonListImage-module_text-short__bCfGR\"></span></div><div class=\"SkeletonListImage-module_article__Yzd79 SkeletonListImage-module_image-right__E3oDC SkeletonListImage-module_color-gray150__7feIq\"><span class=\"SkeletonListImage-module_skeleton__oM7bN SkeletonListImage-module_card__91jrD\"></span><span class=\"SkeletonListImage-module_skeleton__oM7bN SkeletonListImage-module_text__kgO7g\"></span><span class=\"SkeletonListImage-module_skeleton__oM7bN SkeletonListImage-module_text__kgO7g\"></span><span class=\"SkeletonListImage-module_skeleton__oM7bN SkeletonListImage-module_text-short__bCfGR\"></span></div><div class=\"SkeletonListImage-module_article__Yzd79 SkeletonListImage-module_image-right__E3oDC SkeletonListImage-module_color-gray150__7feIq\"><span class=\"SkeletonListImage-module_skeleton__oM7bN SkeletonListImage-module_card__91jrD\"></span><span class=\"SkeletonListImage-module_skeleton__oM7bN SkeletonListImage-module_text__kgO7g\"></span><span class=\"SkeletonListImage-module_skeleton__oM7bN SkeletonListImage-module_text__kgO7g\"></span><span class=\"SkeletonListImage-module_skeleton__oM7bN SkeletonListImage-module_text-short__bCfGR\"></span></div><div class=\"SkeletonListImage-module_article__Yzd79 SkeletonListImage-module_image-right__E3oDC SkeletonListImage-module_color-gray150__7feIq\"><span class=\"SkeletonListImage-module_skeleton__oM7bN SkeletonListImage-module_card__91jrD\"></span><span class=\"SkeletonListImage-module_skeleton__oM7bN SkeletonListImage-module_text__kgO7g\"></span><span class=\"SkeletonListImage-module_skeleton__oM7bN SkeletonListImage-module_text__kgO7g\"></span><span class=\"SkeletonListImage-module_skeleton__oM7bN SkeletonListImage-module_text-short__bCfGR\"></span></div><div class=\"SkeletonListImage-module_article__Yzd79 SkeletonListImage-module_image-right__E3oDC SkeletonListImage-module_color-gray150__7feIq\"><span class=\"SkeletonListImage-module_skeleton__oM7bN SkeletonListImage-module_card__91jrD\"></span><span class=\"SkeletonListImage-module_skeleton__oM7bN SkeletonListImage-module_text__kgO7g\"></span><span class=\"SkeletonListImage-module_skeleton__oM7bN SkeletonListImage-module_text__kgO7g\"></span><span class=\"SkeletonListImage-module_skeleton__oM7bN SkeletonListImage-module_text-short__bCfGR\"></span></div><div class=\"SkeletonListImage-module_article__Yzd79 SkeletonListImage-module_image-right__E3oDC SkeletonListImage-module_color-gray150__7feIq\"><span class=\"SkeletonListImage-module_skeleton__oM7bN SkeletonListImage-module_card__91jrD\"></span><span class=\"SkeletonListImage-module_skeleton__oM7bN SkeletonListImage-module_text__kgO7g\"></span><span class=\"SkeletonListImage-module_skeleton__oM7bN SkeletonListImage-module_text__kgO7g\"></span><span class=\"SkeletonListImage-module_skeleton__oM7bN SkeletonListImage-module_text-short__bCfGR\"></span></div><div class=\"SkeletonListImage-module_article__Yzd79 SkeletonListImage-module_image-right__E3oDC SkeletonListImage-module_color-gray150__7feIq\"><span class=\"SkeletonListImage-module_skeleton__oM7bN SkeletonListImage-module_card__91jrD\"></span><span class=\"SkeletonListImage-module_skeleton__oM7bN SkeletonListImage-module_text__kgO7g\"></span><span class=\"SkeletonListImage-module_skeleton__oM7bN SkeletonListImage-module_text__kgO7g\"></span><span class=\"SkeletonListImage-module_skeleton__oM7bN SkeletonListImage-module_text-short__bCfGR\"></span></div><div class=\"SkeletonListImage-module_article__Yzd79 SkeletonListImage-module_image-right__E3oDC SkeletonListImage-module_color-gray150__7feIq\"><span class=\"SkeletonListImage-module_skeleton__oM7bN SkeletonListImage-module_card__91jrD\"></span><span class=\"SkeletonListImage-module_skeleton__oM7bN SkeletonListImage-module_text__kgO7g\"></span><span class=\"SkeletonListImage-module_skeleton__oM7bN SkeletonListImage-module_text__kgO7g\"></span><span class=\"SkeletonListImage-module_skeleton__oM7bN SkeletonListImage-module_text-short__bCfGR\"></span></div></div></div></div></div><div class=\"FlexibleLayout-module_row__P4p6X\"><div class=\"Footer-module_article__P38DG Footer-module_type-gray150__6VPmE Footer-module_width-type-wide__oqRPi Footer-module_is-bottom-margin__ZtHqT\"><div class=\"Footer-module_inner__J3glp\"><ul class=\"FooterQuickMenu-module_article__UX9-p\"><li class=\"FooterQuickMenu-module_item__UTOXd\"><a class=\"FooterQuickMenu-module_link__t0NIA\" data-nlogs=\"fot.login\" href=\"#\" target=\"_self\">로그인</a></li><li class=\"FooterQuickMenu-module_item__UTOXd\"><a class=\"FooterQuickMenu-module_link__t0NIA\" data-nlogs=\"fot.terms\" href=\"https://policy.naver.com/policy-mobile/term.html?type=1\" target=\"_self\">이용약관</a></li><li class=\"FooterQuickMenu-module_item__UTOXd\"><a class=\"FooterQuickMenu-module_link__t0NIA FooterQuickMenu-module_type-bold__Ngdla\" data-nlogs=\"fot.personal\" href=\"https://policy.naver.com/policy-mobile/privacy.html\" target=\"_self\">개인정보 처리방침</a></li><li class=\"FooterQuickMenu-module_item__UTOXd\"><a class=\"FooterQuickMenu-module_link__t0NIA\" data-nlogs=\"fot.help\" href=\"https://help.naver.com/alias/contents2/finance/finance_1.naver\" target=\"_self\">증권 고객센터</a></li><li class=\"FooterQuickMenu-module_item__UTOXd\"><span class=\"FooterQuickMenu-module_link__t0NIA\">기사배열 원칙 책임자 : 김수향</span></li><li class=\"FooterQuickMenu-module_item__UTOXd\"><span class=\"FooterQuickMenu-module_link__t0NIA\">청소년 보호 책임자 : 이정규</span></li></ul><div class=\"FooterInfo-module_article__NFe97 FooterInfo-module_type-gray700__CWZ1x\"><div class=\"FooterInfo-module_description__afB71\">네이버파이낸셜㈜은 전자결제서비스제공자 및 통신판매중개자이며 통신판매의 당사자가 아닙니다. 상품, 상품정보 및 거래에 관한 의무와 책임은 판매자에게 있습니다.</div><div class=\"FooterInfo-module_area-fold__-VV5Q\"><button class=\"FooterInfo-module_button__MRyzl\" data-nlogs=\"fot.corpinfo\" type=\"button\">네이버파이낸셜㈜ 사업자 정보<span class=\"FooterInfo-module_icon__pyqRF\"><svg fill=\"none\" height=\"4\" viewbox=\"0 0 10 6\" width=\"8\" xmlns=\"http://www.w3.org/2000/svg\"><path d=\"M1 1L5 5L9 1\" stroke=\"#767678\" stroke-linecap=\"round\" stroke-linejoin=\"round\" stroke-width=\"1.2\"></path></svg><span class=\"blind\">펼치기</span></span></button></div></div></div></div><button class=\"BackToTopButton_article__9ygZx BackToTopButton_above-bnb__hJqU6\" data-nlogs=\"smn.up\"><span class=\"BackToTopButton_icon__CVusi\"><svg fill=\"none\" height=\"17\" viewbox=\"0 0 24 24\" width=\"17\" xmlns=\"http://www.w3.org/2000/svg\"><path clip-rule=\"evenodd\" d=\"M2.57983 12.0001C2.57983 11.503 2.98278 11.1001 3.47983 11.1001H21.4999C21.997 11.1001 22.3999 11.503 22.3999 12.0001C22.3999 12.4972 21.997 12.9001 21.4999 12.9001H3.47983C2.98278 12.9001 2.57983 12.4972 2.57983 12.0001Z\" fill=\"#1e1e23\" fill-rule=\"evenodd\"></path><path clip-rule=\"evenodd\" d=\"M11.6574 3.3637C12.0089 3.71517 12.0089 4.28502 11.6574 4.63649L4.27445 12.0195L11.6558 19.362C12.0082 19.7126 12.0097 20.2824 11.6591 20.6348C11.3086 20.9872 10.7387 20.9887 10.3863 20.6382L2.36526 12.6592C2.19574 12.4906 2.10029 12.2615 2.09998 12.0224C2.09966 11.7833 2.19451 11.5538 2.36358 11.3848L10.3847 3.3637C10.7361 3.01223 11.306 3.01223 11.6574 3.3637Z\" fill=\"#1e1e23\" fill-rule=\"evenodd\"></path></svg></span><span class=\"blind\">맨위로</span></button></div></div>,\n",
       " <div class=\"StickyHeaderArea-module_article__hVjGg\" style=\"transform:translateY(0)\"><div><div class=\"Gnb_article__LPMiJ\"><header class=\"CommonHeader-module_article__sFY73 CommonHeader-module_left__lnT7u CommonHeader-module_bg-white__fJiiv\"><div class=\"CommonHeader-module_inner__CNjq5\"><h1 class=\"HeaderBrandMain-module_article__KG81J\"><a class=\"HeaderNpayButton-module_link__dCMvi\" href=\"https://m.naver.com/\"><svg fill=\"none\" height=\"22\" viewbox=\"0 0 22 22\" width=\"22\" xmlns=\"http://www.w3.org/2000/svg\"><path d=\"M22 11C22 13.1756 21.3549 15.3023 20.1462 17.1113C18.9375 18.9202 17.2195 20.3301 15.2095 21.1627C13.1995 21.9952 10.9878 22.2131 8.85401 21.7886C6.72022 21.3642 4.76021 20.3166 3.22183 18.7782C1.68345 17.2398 0.635805 15.2798 0.211368 13.146C-0.213069 11.0122 0.00476301 8.80047 0.837327 6.79048C1.66989 4.78049 3.07979 3.06253 4.88873 1.85383C6.69767 0.645137 8.82441 0 11 0C13.9174 0 16.7153 1.15892 18.7782 3.22183C20.8411 5.28473 22 8.08262 22 11ZM12.8398 5.83V11.3602L8.98976 5.83H5.83V16.1838H9.1575V10.637L13.0075 16.17H16.1783V5.83H12.8398Z\" fill=\"black\"></path></svg><span class=\"blind\">네이버</span></a><a class=\"HeaderNpayButton-module_link__dCMvi\" href=\"https://new-m.pay.naver.com\"><svg fill=\"none\" height=\"22\" viewbox=\"0 0 39 22\" width=\"39\" xmlns=\"http://www.w3.org/2000/svg\"><path d=\"M34.4319 5.21944L31.3913 12.1478L27.9518 5.21944H25.3072L30.1783 14.8317L28.1703 19.3358H30.7384L37 5.2331L34.4319 5.21944ZM23.6171 15.9331H21.1037V14.9328C20.1894 15.7342 19.0108 16.1685 17.7953 16.1518C14.7901 16.1518 12.4379 13.692 12.4379 10.5763C12.4379 7.46057 14.7874 5.00079 17.7953 5.00079C19.0104 4.9833 20.189 5.41657 21.1037 6.21701V5.21944H23.6171V15.9331ZM21.3987 10.5899C21.3987 8.57019 19.9891 7.03694 18.1204 7.03694C16.2517 7.03694 14.842 8.57019 14.842 10.5899C14.842 12.6097 16.249 14.1429 18.1204 14.1429C19.9918 14.1429 21.3987 12.596 21.3987 10.5899ZM0.00819554 19.3358H2.63088V15.023C3.52823 15.7695 4.66309 16.1699 5.83001 16.1518C8.83516 16.1518 11.1901 13.692 11.1901 10.5763C11.1901 7.46057 8.83789 5.00079 5.83001 5.00079C4.61166 4.9789 3.42899 5.4126 2.51341 6.21701V5.21944H0L0.00819554 19.3358ZM5.51856 7.03694C7.38722 7.03694 8.79691 8.57019 8.79691 10.5899C8.79691 12.6097 7.38722 14.1429 5.51856 14.1429C3.6499 14.1429 2.24021 12.6097 2.24021 10.5899C2.24021 8.57019 3.63351 7.03694 5.51856 7.03694Z\" fill=\"black\"></path></svg><span class=\"blind\">네이버페이</span></a><a class=\"HeaderName-module_article__-dT0a HeaderName-module_type-main__nbL5S\" href=\"/\">증권</a></h1><div class=\"CommonHeader-module_aside-right__auJsW\"><span class=\"blind\">메뉴모음</span><div class=\"SearchBoxButton-module_article__OZIez\"><a class=\"HeaderButton-module_article__KwTay SearchBoxButton-module_button__8sjYv\" href=\"/search\"><span class=\"SearchBoxButton-module_icon-search__ZW3zk\"><svg fill=\"none\" height=\"18\" viewbox=\"0 0 24 24\" width=\"18\" xmlns=\"http://www.w3.org/2000/svg\"><path clip-rule=\"evenodd\" d=\"M3.51966 10.25C3.51966 6.39487 6.64487 3.26966 10.5 3.26966C14.3551 3.26966 17.4803 6.39487 17.4803 10.25C17.4803 14.1051 14.3551 17.2303 10.5 17.2303C6.64487 17.2303 3.51966 14.1051 3.51966 10.25ZM10.5 1.5C5.66751 1.5 1.75 5.41751 1.75 10.25C1.75 15.0825 5.66751 19 10.5 19C12.5965 19 14.5209 18.2626 16.0278 17.0331C16.0625 17.0872 16.1035 17.1384 16.1508 17.1857L20.7501 21.785C21.1049 22.1399 21.6803 22.1399 22.0351 21.785C22.39 21.4302 22.39 20.8548 22.0351 20.5L17.4358 15.9006C17.3885 15.8534 17.3373 15.8124 17.2832 15.7777C18.5127 14.2708 19.25 12.3465 19.25 10.25C19.25 5.41751 15.3325 1.5 10.5 1.5Z\" fill=\"#1E1E23\" fill-rule=\"evenodd\"></path></svg></span><span class=\"SearchBoxButton-module_text__umyAC\">종목 검색</span><span class=\"blind\">검색</span></a></div><a class=\"HeaderButton-module_article__KwTay\" href=\"https://new-m.pay.naver.com/member/payservice\"><svg fill=\"none\" height=\"24\" viewbox=\"0 0 24 24\" width=\"24\" xmlns=\"http://www.w3.org/2000/svg\"><path clip-rule=\"evenodd\" d=\"M2 4C2 3.44772 2.44772 3 3 3H21C21.5523 3 22 3.44772 22 4C22 4.55228 21.5523 5 21 5H3C2.44772 5 2 4.55228 2 4Z\" fill=\"#1E1E23\" fill-rule=\"evenodd\"></path><path clip-rule=\"evenodd\" d=\"M2 12C2 11.4477 2.44772 11 3 11H21C21.5523 11 22 11.4477 22 12C22 12.5523 21.5523 13 21 13H3C2.44772 13 2 12.5523 2 12Z\" fill=\"#1E1E23\" fill-rule=\"evenodd\"></path><path clip-rule=\"evenodd\" d=\"M2 20C2 19.4477 2.44772 19 3 19H21C21.5523 19 22 19.4477 22 20C22 20.5523 21.5523 21 21 21H3C2.44772 21 2 20.5523 2 20Z\" fill=\"#1E1E23\" fill-rule=\"evenodd\"></path></svg><span class=\"blind\">전체메뉴</span></a></div></div></header></div></div><div class=\"\"><div class=\"Lnb_article__psmaj\"><div class=\"LineTab-module_article__IxSsG LineTab-module_bg-white__l-Qhm\"><ul class=\"LineTab-module_list__hJZ3g LineTab-module_main__Hebbk LineTab-module_flexible__svdK1 LineTab-module_max-width-wide__iZJgE\"><li class=\"LineTab-module_item__Q0W6v\"><button class=\"LineTab-module_link__MCdtL\" type=\"button\"><span>홈</span></button></li><li class=\"LineTab-module_item__Q0W6v\"><button class=\"LineTab-module_link__MCdtL\" type=\"button\"><span>국내</span></button></li><li class=\"LineTab-module_item__Q0W6v\"><button class=\"LineTab-module_link__MCdtL\" type=\"button\"><span>해외</span></button></li><li class=\"LineTab-module_item__Q0W6v\"><button class=\"LineTab-module_link__MCdtL\" type=\"button\"><span>공모주</span></button></li><li class=\"LineTab-module_item__Q0W6v\"><button class=\"LineTab-module_link__MCdtL\" type=\"button\"><span>토론</span></button></li><li class=\"LineTab-module_item__Q0W6v\"><button class=\"LineTab-module_link__MCdtL\" type=\"button\"><span>지표</span></button></li><li class=\"LineTab-module_item__Q0W6v\"><button class=\"LineTab-module_link__MCdtL\" type=\"button\"><span>가상자산</span></button></li><li class=\"LineTab-module_item__Q0W6v\"><button class=\"LineTab-module_link__MCdtL LineTab-module_is-selected__Uty3h\" type=\"button\"><span>투자정보</span><span class=\"blind\">현재 위치</span></button></li></ul></div></div></div></div>,\n",
       " <header class=\"CommonHeader-module_article__sFY73 CommonHeader-module_left__lnT7u CommonHeader-module_bg-white__fJiiv\"><div class=\"CommonHeader-module_inner__CNjq5\"><h1 class=\"HeaderBrandMain-module_article__KG81J\"><a class=\"HeaderNpayButton-module_link__dCMvi\" href=\"https://m.naver.com/\"><svg fill=\"none\" height=\"22\" viewbox=\"0 0 22 22\" width=\"22\" xmlns=\"http://www.w3.org/2000/svg\"><path d=\"M22 11C22 13.1756 21.3549 15.3023 20.1462 17.1113C18.9375 18.9202 17.2195 20.3301 15.2095 21.1627C13.1995 21.9952 10.9878 22.2131 8.85401 21.7886C6.72022 21.3642 4.76021 20.3166 3.22183 18.7782C1.68345 17.2398 0.635805 15.2798 0.211368 13.146C-0.213069 11.0122 0.00476301 8.80047 0.837327 6.79048C1.66989 4.78049 3.07979 3.06253 4.88873 1.85383C6.69767 0.645137 8.82441 0 11 0C13.9174 0 16.7153 1.15892 18.7782 3.22183C20.8411 5.28473 22 8.08262 22 11ZM12.8398 5.83V11.3602L8.98976 5.83H5.83V16.1838H9.1575V10.637L13.0075 16.17H16.1783V5.83H12.8398Z\" fill=\"black\"></path></svg><span class=\"blind\">네이버</span></a><a class=\"HeaderNpayButton-module_link__dCMvi\" href=\"https://new-m.pay.naver.com\"><svg fill=\"none\" height=\"22\" viewbox=\"0 0 39 22\" width=\"39\" xmlns=\"http://www.w3.org/2000/svg\"><path d=\"M34.4319 5.21944L31.3913 12.1478L27.9518 5.21944H25.3072L30.1783 14.8317L28.1703 19.3358H30.7384L37 5.2331L34.4319 5.21944ZM23.6171 15.9331H21.1037V14.9328C20.1894 15.7342 19.0108 16.1685 17.7953 16.1518C14.7901 16.1518 12.4379 13.692 12.4379 10.5763C12.4379 7.46057 14.7874 5.00079 17.7953 5.00079C19.0104 4.9833 20.189 5.41657 21.1037 6.21701V5.21944H23.6171V15.9331ZM21.3987 10.5899C21.3987 8.57019 19.9891 7.03694 18.1204 7.03694C16.2517 7.03694 14.842 8.57019 14.842 10.5899C14.842 12.6097 16.249 14.1429 18.1204 14.1429C19.9918 14.1429 21.3987 12.596 21.3987 10.5899ZM0.00819554 19.3358H2.63088V15.023C3.52823 15.7695 4.66309 16.1699 5.83001 16.1518C8.83516 16.1518 11.1901 13.692 11.1901 10.5763C11.1901 7.46057 8.83789 5.00079 5.83001 5.00079C4.61166 4.9789 3.42899 5.4126 2.51341 6.21701V5.21944H0L0.00819554 19.3358ZM5.51856 7.03694C7.38722 7.03694 8.79691 8.57019 8.79691 10.5899C8.79691 12.6097 7.38722 14.1429 5.51856 14.1429C3.6499 14.1429 2.24021 12.6097 2.24021 10.5899C2.24021 8.57019 3.63351 7.03694 5.51856 7.03694Z\" fill=\"black\"></path></svg><span class=\"blind\">네이버페이</span></a><a class=\"HeaderName-module_article__-dT0a HeaderName-module_type-main__nbL5S\" href=\"/\">증권</a></h1><div class=\"CommonHeader-module_aside-right__auJsW\"><span class=\"blind\">메뉴모음</span><div class=\"SearchBoxButton-module_article__OZIez\"><a class=\"HeaderButton-module_article__KwTay SearchBoxButton-module_button__8sjYv\" href=\"/search\"><span class=\"SearchBoxButton-module_icon-search__ZW3zk\"><svg fill=\"none\" height=\"18\" viewbox=\"0 0 24 24\" width=\"18\" xmlns=\"http://www.w3.org/2000/svg\"><path clip-rule=\"evenodd\" d=\"M3.51966 10.25C3.51966 6.39487 6.64487 3.26966 10.5 3.26966C14.3551 3.26966 17.4803 6.39487 17.4803 10.25C17.4803 14.1051 14.3551 17.2303 10.5 17.2303C6.64487 17.2303 3.51966 14.1051 3.51966 10.25ZM10.5 1.5C5.66751 1.5 1.75 5.41751 1.75 10.25C1.75 15.0825 5.66751 19 10.5 19C12.5965 19 14.5209 18.2626 16.0278 17.0331C16.0625 17.0872 16.1035 17.1384 16.1508 17.1857L20.7501 21.785C21.1049 22.1399 21.6803 22.1399 22.0351 21.785C22.39 21.4302 22.39 20.8548 22.0351 20.5L17.4358 15.9006C17.3885 15.8534 17.3373 15.8124 17.2832 15.7777C18.5127 14.2708 19.25 12.3465 19.25 10.25C19.25 5.41751 15.3325 1.5 10.5 1.5Z\" fill=\"#1E1E23\" fill-rule=\"evenodd\"></path></svg></span><span class=\"SearchBoxButton-module_text__umyAC\">종목 검색</span><span class=\"blind\">검색</span></a></div><a class=\"HeaderButton-module_article__KwTay\" href=\"https://new-m.pay.naver.com/member/payservice\"><svg fill=\"none\" height=\"24\" viewbox=\"0 0 24 24\" width=\"24\" xmlns=\"http://www.w3.org/2000/svg\"><path clip-rule=\"evenodd\" d=\"M2 4C2 3.44772 2.44772 3 3 3H21C21.5523 3 22 3.44772 22 4C22 4.55228 21.5523 5 21 5H3C2.44772 5 2 4.55228 2 4Z\" fill=\"#1E1E23\" fill-rule=\"evenodd\"></path><path clip-rule=\"evenodd\" d=\"M2 12C2 11.4477 2.44772 11 3 11H21C21.5523 11 22 11.4477 22 12C22 12.5523 21.5523 13 21 13H3C2.44772 13 2 12.5523 2 12Z\" fill=\"#1E1E23\" fill-rule=\"evenodd\"></path><path clip-rule=\"evenodd\" d=\"M2 20C2 19.4477 2.44772 19 3 19H21C21.5523 19 22 19.4477 22 20C22 20.5523 21.5523 21 21 21H3C2.44772 21 2 20.5523 2 20Z\" fill=\"#1E1E23\" fill-rule=\"evenodd\"></path></svg><span class=\"blind\">전체메뉴</span></a></div></div></header>,\n",
       " <h1 class=\"HeaderBrandMain-module_article__KG81J\"><a class=\"HeaderNpayButton-module_link__dCMvi\" href=\"https://m.naver.com/\"><svg fill=\"none\" height=\"22\" viewbox=\"0 0 22 22\" width=\"22\" xmlns=\"http://www.w3.org/2000/svg\"><path d=\"M22 11C22 13.1756 21.3549 15.3023 20.1462 17.1113C18.9375 18.9202 17.2195 20.3301 15.2095 21.1627C13.1995 21.9952 10.9878 22.2131 8.85401 21.7886C6.72022 21.3642 4.76021 20.3166 3.22183 18.7782C1.68345 17.2398 0.635805 15.2798 0.211368 13.146C-0.213069 11.0122 0.00476301 8.80047 0.837327 6.79048C1.66989 4.78049 3.07979 3.06253 4.88873 1.85383C6.69767 0.645137 8.82441 0 11 0C13.9174 0 16.7153 1.15892 18.7782 3.22183C20.8411 5.28473 22 8.08262 22 11ZM12.8398 5.83V11.3602L8.98976 5.83H5.83V16.1838H9.1575V10.637L13.0075 16.17H16.1783V5.83H12.8398Z\" fill=\"black\"></path></svg><span class=\"blind\">네이버</span></a><a class=\"HeaderNpayButton-module_link__dCMvi\" href=\"https://new-m.pay.naver.com\"><svg fill=\"none\" height=\"22\" viewbox=\"0 0 39 22\" width=\"39\" xmlns=\"http://www.w3.org/2000/svg\"><path d=\"M34.4319 5.21944L31.3913 12.1478L27.9518 5.21944H25.3072L30.1783 14.8317L28.1703 19.3358H30.7384L37 5.2331L34.4319 5.21944ZM23.6171 15.9331H21.1037V14.9328C20.1894 15.7342 19.0108 16.1685 17.7953 16.1518C14.7901 16.1518 12.4379 13.692 12.4379 10.5763C12.4379 7.46057 14.7874 5.00079 17.7953 5.00079C19.0104 4.9833 20.189 5.41657 21.1037 6.21701V5.21944H23.6171V15.9331ZM21.3987 10.5899C21.3987 8.57019 19.9891 7.03694 18.1204 7.03694C16.2517 7.03694 14.842 8.57019 14.842 10.5899C14.842 12.6097 16.249 14.1429 18.1204 14.1429C19.9918 14.1429 21.3987 12.596 21.3987 10.5899ZM0.00819554 19.3358H2.63088V15.023C3.52823 15.7695 4.66309 16.1699 5.83001 16.1518C8.83516 16.1518 11.1901 13.692 11.1901 10.5763C11.1901 7.46057 8.83789 5.00079 5.83001 5.00079C4.61166 4.9789 3.42899 5.4126 2.51341 6.21701V5.21944H0L0.00819554 19.3358ZM5.51856 7.03694C7.38722 7.03694 8.79691 8.57019 8.79691 10.5899C8.79691 12.6097 7.38722 14.1429 5.51856 14.1429C3.6499 14.1429 2.24021 12.6097 2.24021 10.5899C2.24021 8.57019 3.63351 7.03694 5.51856 7.03694Z\" fill=\"black\"></path></svg><span class=\"blind\">네이버페이</span></a><a class=\"HeaderName-module_article__-dT0a HeaderName-module_type-main__nbL5S\" href=\"/\">증권</a></h1>,\n",
       " <a class=\"HeaderName-module_article__-dT0a HeaderName-module_type-main__nbL5S\" href=\"/\">증권</a>,\n",
       " <div class=\"SearchBoxButton-module_article__OZIez\"><a class=\"HeaderButton-module_article__KwTay SearchBoxButton-module_button__8sjYv\" href=\"/search\"><span class=\"SearchBoxButton-module_icon-search__ZW3zk\"><svg fill=\"none\" height=\"18\" viewbox=\"0 0 24 24\" width=\"18\" xmlns=\"http://www.w3.org/2000/svg\"><path clip-rule=\"evenodd\" d=\"M3.51966 10.25C3.51966 6.39487 6.64487 3.26966 10.5 3.26966C14.3551 3.26966 17.4803 6.39487 17.4803 10.25C17.4803 14.1051 14.3551 17.2303 10.5 17.2303C6.64487 17.2303 3.51966 14.1051 3.51966 10.25ZM10.5 1.5C5.66751 1.5 1.75 5.41751 1.75 10.25C1.75 15.0825 5.66751 19 10.5 19C12.5965 19 14.5209 18.2626 16.0278 17.0331C16.0625 17.0872 16.1035 17.1384 16.1508 17.1857L20.7501 21.785C21.1049 22.1399 21.6803 22.1399 22.0351 21.785C22.39 21.4302 22.39 20.8548 22.0351 20.5L17.4358 15.9006C17.3885 15.8534 17.3373 15.8124 17.2832 15.7777C18.5127 14.2708 19.25 12.3465 19.25 10.25C19.25 5.41751 15.3325 1.5 10.5 1.5Z\" fill=\"#1E1E23\" fill-rule=\"evenodd\"></path></svg></span><span class=\"SearchBoxButton-module_text__umyAC\">종목 검색</span><span class=\"blind\">검색</span></a></div>,\n",
       " <a class=\"HeaderButton-module_article__KwTay SearchBoxButton-module_button__8sjYv\" href=\"/search\"><span class=\"SearchBoxButton-module_icon-search__ZW3zk\"><svg fill=\"none\" height=\"18\" viewbox=\"0 0 24 24\" width=\"18\" xmlns=\"http://www.w3.org/2000/svg\"><path clip-rule=\"evenodd\" d=\"M3.51966 10.25C3.51966 6.39487 6.64487 3.26966 10.5 3.26966C14.3551 3.26966 17.4803 6.39487 17.4803 10.25C17.4803 14.1051 14.3551 17.2303 10.5 17.2303C6.64487 17.2303 3.51966 14.1051 3.51966 10.25ZM10.5 1.5C5.66751 1.5 1.75 5.41751 1.75 10.25C1.75 15.0825 5.66751 19 10.5 19C12.5965 19 14.5209 18.2626 16.0278 17.0331C16.0625 17.0872 16.1035 17.1384 16.1508 17.1857L20.7501 21.785C21.1049 22.1399 21.6803 22.1399 22.0351 21.785C22.39 21.4302 22.39 20.8548 22.0351 20.5L17.4358 15.9006C17.3885 15.8534 17.3373 15.8124 17.2832 15.7777C18.5127 14.2708 19.25 12.3465 19.25 10.25C19.25 5.41751 15.3325 1.5 10.5 1.5Z\" fill=\"#1E1E23\" fill-rule=\"evenodd\"></path></svg></span><span class=\"SearchBoxButton-module_text__umyAC\">종목 검색</span><span class=\"blind\">검색</span></a>,\n",
       " <a class=\"HeaderButton-module_article__KwTay\" href=\"https://new-m.pay.naver.com/member/payservice\"><svg fill=\"none\" height=\"24\" viewbox=\"0 0 24 24\" width=\"24\" xmlns=\"http://www.w3.org/2000/svg\"><path clip-rule=\"evenodd\" d=\"M2 4C2 3.44772 2.44772 3 3 3H21C21.5523 3 22 3.44772 22 4C22 4.55228 21.5523 5 21 5H3C2.44772 5 2 4.55228 2 4Z\" fill=\"#1E1E23\" fill-rule=\"evenodd\"></path><path clip-rule=\"evenodd\" d=\"M2 12C2 11.4477 2.44772 11 3 11H21C21.5523 11 22 11.4477 22 12C22 12.5523 21.5523 13 21 13H3C2.44772 13 2 12.5523 2 12Z\" fill=\"#1E1E23\" fill-rule=\"evenodd\"></path><path clip-rule=\"evenodd\" d=\"M2 20C2 19.4477 2.44772 19 3 19H21C21.5523 19 22 19.4477 22 20C22 20.5523 21.5523 21 21 21H3C2.44772 21 2 20.5523 2 20Z\" fill=\"#1E1E23\" fill-rule=\"evenodd\"></path></svg><span class=\"blind\">전체메뉴</span></a>,\n",
       " <div class=\"LineTab-module_article__IxSsG LineTab-module_bg-white__l-Qhm\"><ul class=\"LineTab-module_list__hJZ3g LineTab-module_main__Hebbk LineTab-module_flexible__svdK1 LineTab-module_max-width-wide__iZJgE\"><li class=\"LineTab-module_item__Q0W6v\"><button class=\"LineTab-module_link__MCdtL\" type=\"button\"><span>홈</span></button></li><li class=\"LineTab-module_item__Q0W6v\"><button class=\"LineTab-module_link__MCdtL\" type=\"button\"><span>국내</span></button></li><li class=\"LineTab-module_item__Q0W6v\"><button class=\"LineTab-module_link__MCdtL\" type=\"button\"><span>해외</span></button></li><li class=\"LineTab-module_item__Q0W6v\"><button class=\"LineTab-module_link__MCdtL\" type=\"button\"><span>공모주</span></button></li><li class=\"LineTab-module_item__Q0W6v\"><button class=\"LineTab-module_link__MCdtL\" type=\"button\"><span>토론</span></button></li><li class=\"LineTab-module_item__Q0W6v\"><button class=\"LineTab-module_link__MCdtL\" type=\"button\"><span>지표</span></button></li><li class=\"LineTab-module_item__Q0W6v\"><button class=\"LineTab-module_link__MCdtL\" type=\"button\"><span>가상자산</span></button></li><li class=\"LineTab-module_item__Q0W6v\"><button class=\"LineTab-module_link__MCdtL LineTab-module_is-selected__Uty3h\" type=\"button\"><span>투자정보</span><span class=\"blind\">현재 위치</span></button></li></ul></div>,\n",
       " <ul class=\"SolidTab-module_article__EanQk SolidTab-module_colorset-gray100__b8aZl SolidTab-module_fixed__NWHdi\"><li class=\"SolidTab-module_item__11wk5\"><button class=\"SolidTab-module_link__WnM4u SolidTab-module_is-selected__AE3DW\" type=\"button\"><span>뉴스</span><span class=\"blind\">현재 위치</span></button></li><li class=\"SolidTab-module_item__11wk5\"><button class=\"SolidTab-module_link__WnM4u\" type=\"button\"><span>리서치</span></button></li></ul>,\n",
       " <div class=\"SkeletonArea-module_article__AjomK\" style=\"display:block\"><span class=\"blind\">로딩중</span><div class=\"SkeletonListImage-module_article__Yzd79 SkeletonListImage-module_image-right__E3oDC SkeletonListImage-module_color-gray150__7feIq\"><span class=\"SkeletonListImage-module_skeleton__oM7bN SkeletonListImage-module_card__91jrD\"></span><span class=\"SkeletonListImage-module_skeleton__oM7bN SkeletonListImage-module_text__kgO7g\"></span><span class=\"SkeletonListImage-module_skeleton__oM7bN SkeletonListImage-module_text__kgO7g\"></span><span class=\"SkeletonListImage-module_skeleton__oM7bN SkeletonListImage-module_text-short__bCfGR\"></span></div><div class=\"SkeletonListImage-module_article__Yzd79 SkeletonListImage-module_image-right__E3oDC SkeletonListImage-module_color-gray150__7feIq\"><span class=\"SkeletonListImage-module_skeleton__oM7bN SkeletonListImage-module_card__91jrD\"></span><span class=\"SkeletonListImage-module_skeleton__oM7bN SkeletonListImage-module_text__kgO7g\"></span><span class=\"SkeletonListImage-module_skeleton__oM7bN SkeletonListImage-module_text__kgO7g\"></span><span class=\"SkeletonListImage-module_skeleton__oM7bN SkeletonListImage-module_text-short__bCfGR\"></span></div><div class=\"SkeletonListImage-module_article__Yzd79 SkeletonListImage-module_image-right__E3oDC SkeletonListImage-module_color-gray150__7feIq\"><span class=\"SkeletonListImage-module_skeleton__oM7bN SkeletonListImage-module_card__91jrD\"></span><span class=\"SkeletonListImage-module_skeleton__oM7bN SkeletonListImage-module_text__kgO7g\"></span><span class=\"SkeletonListImage-module_skeleton__oM7bN SkeletonListImage-module_text__kgO7g\"></span><span class=\"SkeletonListImage-module_skeleton__oM7bN SkeletonListImage-module_text-short__bCfGR\"></span></div><div class=\"SkeletonListImage-module_article__Yzd79 SkeletonListImage-module_image-right__E3oDC SkeletonListImage-module_color-gray150__7feIq\"><span class=\"SkeletonListImage-module_skeleton__oM7bN SkeletonListImage-module_card__91jrD\"></span><span class=\"SkeletonListImage-module_skeleton__oM7bN SkeletonListImage-module_text__kgO7g\"></span><span class=\"SkeletonListImage-module_skeleton__oM7bN SkeletonListImage-module_text__kgO7g\"></span><span class=\"SkeletonListImage-module_skeleton__oM7bN SkeletonListImage-module_text-short__bCfGR\"></span></div><div class=\"SkeletonListImage-module_article__Yzd79 SkeletonListImage-module_image-right__E3oDC SkeletonListImage-module_color-gray150__7feIq\"><span class=\"SkeletonListImage-module_skeleton__oM7bN SkeletonListImage-module_card__91jrD\"></span><span class=\"SkeletonListImage-module_skeleton__oM7bN SkeletonListImage-module_text__kgO7g\"></span><span class=\"SkeletonListImage-module_skeleton__oM7bN SkeletonListImage-module_text__kgO7g\"></span><span class=\"SkeletonListImage-module_skeleton__oM7bN SkeletonListImage-module_text-short__bCfGR\"></span></div><div class=\"SkeletonListImage-module_article__Yzd79 SkeletonListImage-module_image-right__E3oDC SkeletonListImage-module_color-gray150__7feIq\"><span class=\"SkeletonListImage-module_skeleton__oM7bN SkeletonListImage-module_card__91jrD\"></span><span class=\"SkeletonListImage-module_skeleton__oM7bN SkeletonListImage-module_text__kgO7g\"></span><span class=\"SkeletonListImage-module_skeleton__oM7bN SkeletonListImage-module_text__kgO7g\"></span><span class=\"SkeletonListImage-module_skeleton__oM7bN SkeletonListImage-module_text-short__bCfGR\"></span></div><div class=\"SkeletonListImage-module_article__Yzd79 SkeletonListImage-module_image-right__E3oDC SkeletonListImage-module_color-gray150__7feIq\"><span class=\"SkeletonListImage-module_skeleton__oM7bN SkeletonListImage-module_card__91jrD\"></span><span class=\"SkeletonListImage-module_skeleton__oM7bN SkeletonListImage-module_text__kgO7g\"></span><span class=\"SkeletonListImage-module_skeleton__oM7bN SkeletonListImage-module_text__kgO7g\"></span><span class=\"SkeletonListImage-module_skeleton__oM7bN SkeletonListImage-module_text-short__bCfGR\"></span></div><div class=\"SkeletonListImage-module_article__Yzd79 SkeletonListImage-module_image-right__E3oDC SkeletonListImage-module_color-gray150__7feIq\"><span class=\"SkeletonListImage-module_skeleton__oM7bN SkeletonListImage-module_card__91jrD\"></span><span class=\"SkeletonListImage-module_skeleton__oM7bN SkeletonListImage-module_text__kgO7g\"></span><span class=\"SkeletonListImage-module_skeleton__oM7bN SkeletonListImage-module_text__kgO7g\"></span><span class=\"SkeletonListImage-module_skeleton__oM7bN SkeletonListImage-module_text-short__bCfGR\"></span></div><div class=\"SkeletonListImage-module_article__Yzd79 SkeletonListImage-module_image-right__E3oDC SkeletonListImage-module_color-gray150__7feIq\"><span class=\"SkeletonListImage-module_skeleton__oM7bN SkeletonListImage-module_card__91jrD\"></span><span class=\"SkeletonListImage-module_skeleton__oM7bN SkeletonListImage-module_text__kgO7g\"></span><span class=\"SkeletonListImage-module_skeleton__oM7bN SkeletonListImage-module_text__kgO7g\"></span><span class=\"SkeletonListImage-module_skeleton__oM7bN SkeletonListImage-module_text-short__bCfGR\"></span></div><div class=\"SkeletonListImage-module_article__Yzd79 SkeletonListImage-module_image-right__E3oDC SkeletonListImage-module_color-gray150__7feIq\"><span class=\"SkeletonListImage-module_skeleton__oM7bN SkeletonListImage-module_card__91jrD\"></span><span class=\"SkeletonListImage-module_skeleton__oM7bN SkeletonListImage-module_text__kgO7g\"></span><span class=\"SkeletonListImage-module_skeleton__oM7bN SkeletonListImage-module_text__kgO7g\"></span><span class=\"SkeletonListImage-module_skeleton__oM7bN SkeletonListImage-module_text-short__bCfGR\"></span></div><div class=\"SkeletonListImage-module_article__Yzd79 SkeletonListImage-module_image-right__E3oDC SkeletonListImage-module_color-gray150__7feIq\"><span class=\"SkeletonListImage-module_skeleton__oM7bN SkeletonListImage-module_card__91jrD\"></span><span class=\"SkeletonListImage-module_skeleton__oM7bN SkeletonListImage-module_text__kgO7g\"></span><span class=\"SkeletonListImage-module_skeleton__oM7bN SkeletonListImage-module_text__kgO7g\"></span><span class=\"SkeletonListImage-module_skeleton__oM7bN SkeletonListImage-module_text-short__bCfGR\"></span></div><div class=\"SkeletonListImage-module_article__Yzd79 SkeletonListImage-module_image-right__E3oDC SkeletonListImage-module_color-gray150__7feIq\"><span class=\"SkeletonListImage-module_skeleton__oM7bN SkeletonListImage-module_card__91jrD\"></span><span class=\"SkeletonListImage-module_skeleton__oM7bN SkeletonListImage-module_text__kgO7g\"></span><span class=\"SkeletonListImage-module_skeleton__oM7bN SkeletonListImage-module_text__kgO7g\"></span><span class=\"SkeletonListImage-module_skeleton__oM7bN SkeletonListImage-module_text-short__bCfGR\"></span></div><div class=\"SkeletonListImage-module_article__Yzd79 SkeletonListImage-module_image-right__E3oDC SkeletonListImage-module_color-gray150__7feIq\"><span class=\"SkeletonListImage-module_skeleton__oM7bN SkeletonListImage-module_card__91jrD\"></span><span class=\"SkeletonListImage-module_skeleton__oM7bN SkeletonListImage-module_text__kgO7g\"></span><span class=\"SkeletonListImage-module_skeleton__oM7bN SkeletonListImage-module_text__kgO7g\"></span><span class=\"SkeletonListImage-module_skeleton__oM7bN SkeletonListImage-module_text-short__bCfGR\"></span></div><div class=\"SkeletonListImage-module_article__Yzd79 SkeletonListImage-module_image-right__E3oDC SkeletonListImage-module_color-gray150__7feIq\"><span class=\"SkeletonListImage-module_skeleton__oM7bN SkeletonListImage-module_card__91jrD\"></span><span class=\"SkeletonListImage-module_skeleton__oM7bN SkeletonListImage-module_text__kgO7g\"></span><span class=\"SkeletonListImage-module_skeleton__oM7bN SkeletonListImage-module_text__kgO7g\"></span><span class=\"SkeletonListImage-module_skeleton__oM7bN SkeletonListImage-module_text-short__bCfGR\"></span></div><div class=\"SkeletonListImage-module_article__Yzd79 SkeletonListImage-module_image-right__E3oDC SkeletonListImage-module_color-gray150__7feIq\"><span class=\"SkeletonListImage-module_skeleton__oM7bN SkeletonListImage-module_card__91jrD\"></span><span class=\"SkeletonListImage-module_skeleton__oM7bN SkeletonListImage-module_text__kgO7g\"></span><span class=\"SkeletonListImage-module_skeleton__oM7bN SkeletonListImage-module_text__kgO7g\"></span><span class=\"SkeletonListImage-module_skeleton__oM7bN SkeletonListImage-module_text-short__bCfGR\"></span></div><div class=\"SkeletonListImage-module_article__Yzd79 SkeletonListImage-module_image-right__E3oDC SkeletonListImage-module_color-gray150__7feIq\"><span class=\"SkeletonListImage-module_skeleton__oM7bN SkeletonListImage-module_card__91jrD\"></span><span class=\"SkeletonListImage-module_skeleton__oM7bN SkeletonListImage-module_text__kgO7g\"></span><span class=\"SkeletonListImage-module_skeleton__oM7bN SkeletonListImage-module_text__kgO7g\"></span><span class=\"SkeletonListImage-module_skeleton__oM7bN SkeletonListImage-module_text-short__bCfGR\"></span></div><div class=\"SkeletonListImage-module_article__Yzd79 SkeletonListImage-module_image-right__E3oDC SkeletonListImage-module_color-gray150__7feIq\"><span class=\"SkeletonListImage-module_skeleton__oM7bN SkeletonListImage-module_card__91jrD\"></span><span class=\"SkeletonListImage-module_skeleton__oM7bN SkeletonListImage-module_text__kgO7g\"></span><span class=\"SkeletonListImage-module_skeleton__oM7bN SkeletonListImage-module_text__kgO7g\"></span><span class=\"SkeletonListImage-module_skeleton__oM7bN SkeletonListImage-module_text-short__bCfGR\"></span></div><div class=\"SkeletonListImage-module_article__Yzd79 SkeletonListImage-module_image-right__E3oDC SkeletonListImage-module_color-gray150__7feIq\"><span class=\"SkeletonListImage-module_skeleton__oM7bN SkeletonListImage-module_card__91jrD\"></span><span class=\"SkeletonListImage-module_skeleton__oM7bN SkeletonListImage-module_text__kgO7g\"></span><span class=\"SkeletonListImage-module_skeleton__oM7bN SkeletonListImage-module_text__kgO7g\"></span><span class=\"SkeletonListImage-module_skeleton__oM7bN SkeletonListImage-module_text-short__bCfGR\"></span></div><div class=\"SkeletonListImage-module_article__Yzd79 SkeletonListImage-module_image-right__E3oDC SkeletonListImage-module_color-gray150__7feIq\"><span class=\"SkeletonListImage-module_skeleton__oM7bN SkeletonListImage-module_card__91jrD\"></span><span class=\"SkeletonListImage-module_skeleton__oM7bN SkeletonListImage-module_text__kgO7g\"></span><span class=\"SkeletonListImage-module_skeleton__oM7bN SkeletonListImage-module_text__kgO7g\"></span><span class=\"SkeletonListImage-module_skeleton__oM7bN SkeletonListImage-module_text-short__bCfGR\"></span></div><div class=\"SkeletonListImage-module_article__Yzd79 SkeletonListImage-module_image-right__E3oDC SkeletonListImage-module_color-gray150__7feIq\"><span class=\"SkeletonListImage-module_skeleton__oM7bN SkeletonListImage-module_card__91jrD\"></span><span class=\"SkeletonListImage-module_skeleton__oM7bN SkeletonListImage-module_text__kgO7g\"></span><span class=\"SkeletonListImage-module_skeleton__oM7bN SkeletonListImage-module_text__kgO7g\"></span><span class=\"SkeletonListImage-module_skeleton__oM7bN SkeletonListImage-module_text-short__bCfGR\"></span></div></div>,\n",
       " <div class=\"SkeletonListImage-module_article__Yzd79 SkeletonListImage-module_image-right__E3oDC SkeletonListImage-module_color-gray150__7feIq\"><span class=\"SkeletonListImage-module_skeleton__oM7bN SkeletonListImage-module_card__91jrD\"></span><span class=\"SkeletonListImage-module_skeleton__oM7bN SkeletonListImage-module_text__kgO7g\"></span><span class=\"SkeletonListImage-module_skeleton__oM7bN SkeletonListImage-module_text__kgO7g\"></span><span class=\"SkeletonListImage-module_skeleton__oM7bN SkeletonListImage-module_text-short__bCfGR\"></span></div>,\n",
       " <div class=\"SkeletonListImage-module_article__Yzd79 SkeletonListImage-module_image-right__E3oDC SkeletonListImage-module_color-gray150__7feIq\"><span class=\"SkeletonListImage-module_skeleton__oM7bN SkeletonListImage-module_card__91jrD\"></span><span class=\"SkeletonListImage-module_skeleton__oM7bN SkeletonListImage-module_text__kgO7g\"></span><span class=\"SkeletonListImage-module_skeleton__oM7bN SkeletonListImage-module_text__kgO7g\"></span><span class=\"SkeletonListImage-module_skeleton__oM7bN SkeletonListImage-module_text-short__bCfGR\"></span></div>,\n",
       " <div class=\"SkeletonListImage-module_article__Yzd79 SkeletonListImage-module_image-right__E3oDC SkeletonListImage-module_color-gray150__7feIq\"><span class=\"SkeletonListImage-module_skeleton__oM7bN SkeletonListImage-module_card__91jrD\"></span><span class=\"SkeletonListImage-module_skeleton__oM7bN SkeletonListImage-module_text__kgO7g\"></span><span class=\"SkeletonListImage-module_skeleton__oM7bN SkeletonListImage-module_text__kgO7g\"></span><span class=\"SkeletonListImage-module_skeleton__oM7bN SkeletonListImage-module_text-short__bCfGR\"></span></div>,\n",
       " <div class=\"SkeletonListImage-module_article__Yzd79 SkeletonListImage-module_image-right__E3oDC SkeletonListImage-module_color-gray150__7feIq\"><span class=\"SkeletonListImage-module_skeleton__oM7bN SkeletonListImage-module_card__91jrD\"></span><span class=\"SkeletonListImage-module_skeleton__oM7bN SkeletonListImage-module_text__kgO7g\"></span><span class=\"SkeletonListImage-module_skeleton__oM7bN SkeletonListImage-module_text__kgO7g\"></span><span class=\"SkeletonListImage-module_skeleton__oM7bN SkeletonListImage-module_text-short__bCfGR\"></span></div>,\n",
       " <div class=\"SkeletonListImage-module_article__Yzd79 SkeletonListImage-module_image-right__E3oDC SkeletonListImage-module_color-gray150__7feIq\"><span class=\"SkeletonListImage-module_skeleton__oM7bN SkeletonListImage-module_card__91jrD\"></span><span class=\"SkeletonListImage-module_skeleton__oM7bN SkeletonListImage-module_text__kgO7g\"></span><span class=\"SkeletonListImage-module_skeleton__oM7bN SkeletonListImage-module_text__kgO7g\"></span><span class=\"SkeletonListImage-module_skeleton__oM7bN SkeletonListImage-module_text-short__bCfGR\"></span></div>,\n",
       " <div class=\"SkeletonListImage-module_article__Yzd79 SkeletonListImage-module_image-right__E3oDC SkeletonListImage-module_color-gray150__7feIq\"><span class=\"SkeletonListImage-module_skeleton__oM7bN SkeletonListImage-module_card__91jrD\"></span><span class=\"SkeletonListImage-module_skeleton__oM7bN SkeletonListImage-module_text__kgO7g\"></span><span class=\"SkeletonListImage-module_skeleton__oM7bN SkeletonListImage-module_text__kgO7g\"></span><span class=\"SkeletonListImage-module_skeleton__oM7bN SkeletonListImage-module_text-short__bCfGR\"></span></div>,\n",
       " <div class=\"SkeletonListImage-module_article__Yzd79 SkeletonListImage-module_image-right__E3oDC SkeletonListImage-module_color-gray150__7feIq\"><span class=\"SkeletonListImage-module_skeleton__oM7bN SkeletonListImage-module_card__91jrD\"></span><span class=\"SkeletonListImage-module_skeleton__oM7bN SkeletonListImage-module_text__kgO7g\"></span><span class=\"SkeletonListImage-module_skeleton__oM7bN SkeletonListImage-module_text__kgO7g\"></span><span class=\"SkeletonListImage-module_skeleton__oM7bN SkeletonListImage-module_text-short__bCfGR\"></span></div>,\n",
       " <div class=\"SkeletonListImage-module_article__Yzd79 SkeletonListImage-module_image-right__E3oDC SkeletonListImage-module_color-gray150__7feIq\"><span class=\"SkeletonListImage-module_skeleton__oM7bN SkeletonListImage-module_card__91jrD\"></span><span class=\"SkeletonListImage-module_skeleton__oM7bN SkeletonListImage-module_text__kgO7g\"></span><span class=\"SkeletonListImage-module_skeleton__oM7bN SkeletonListImage-module_text__kgO7g\"></span><span class=\"SkeletonListImage-module_skeleton__oM7bN SkeletonListImage-module_text-short__bCfGR\"></span></div>,\n",
       " <div class=\"SkeletonListImage-module_article__Yzd79 SkeletonListImage-module_image-right__E3oDC SkeletonListImage-module_color-gray150__7feIq\"><span class=\"SkeletonListImage-module_skeleton__oM7bN SkeletonListImage-module_card__91jrD\"></span><span class=\"SkeletonListImage-module_skeleton__oM7bN SkeletonListImage-module_text__kgO7g\"></span><span class=\"SkeletonListImage-module_skeleton__oM7bN SkeletonListImage-module_text__kgO7g\"></span><span class=\"SkeletonListImage-module_skeleton__oM7bN SkeletonListImage-module_text-short__bCfGR\"></span></div>,\n",
       " <div class=\"SkeletonListImage-module_article__Yzd79 SkeletonListImage-module_image-right__E3oDC SkeletonListImage-module_color-gray150__7feIq\"><span class=\"SkeletonListImage-module_skeleton__oM7bN SkeletonListImage-module_card__91jrD\"></span><span class=\"SkeletonListImage-module_skeleton__oM7bN SkeletonListImage-module_text__kgO7g\"></span><span class=\"SkeletonListImage-module_skeleton__oM7bN SkeletonListImage-module_text__kgO7g\"></span><span class=\"SkeletonListImage-module_skeleton__oM7bN SkeletonListImage-module_text-short__bCfGR\"></span></div>,\n",
       " <div class=\"SkeletonListImage-module_article__Yzd79 SkeletonListImage-module_image-right__E3oDC SkeletonListImage-module_color-gray150__7feIq\"><span class=\"SkeletonListImage-module_skeleton__oM7bN SkeletonListImage-module_card__91jrD\"></span><span class=\"SkeletonListImage-module_skeleton__oM7bN SkeletonListImage-module_text__kgO7g\"></span><span class=\"SkeletonListImage-module_skeleton__oM7bN SkeletonListImage-module_text__kgO7g\"></span><span class=\"SkeletonListImage-module_skeleton__oM7bN SkeletonListImage-module_text-short__bCfGR\"></span></div>,\n",
       " <div class=\"SkeletonListImage-module_article__Yzd79 SkeletonListImage-module_image-right__E3oDC SkeletonListImage-module_color-gray150__7feIq\"><span class=\"SkeletonListImage-module_skeleton__oM7bN SkeletonListImage-module_card__91jrD\"></span><span class=\"SkeletonListImage-module_skeleton__oM7bN SkeletonListImage-module_text__kgO7g\"></span><span class=\"SkeletonListImage-module_skeleton__oM7bN SkeletonListImage-module_text__kgO7g\"></span><span class=\"SkeletonListImage-module_skeleton__oM7bN SkeletonListImage-module_text-short__bCfGR\"></span></div>,\n",
       " <div class=\"SkeletonListImage-module_article__Yzd79 SkeletonListImage-module_image-right__E3oDC SkeletonListImage-module_color-gray150__7feIq\"><span class=\"SkeletonListImage-module_skeleton__oM7bN SkeletonListImage-module_card__91jrD\"></span><span class=\"SkeletonListImage-module_skeleton__oM7bN SkeletonListImage-module_text__kgO7g\"></span><span class=\"SkeletonListImage-module_skeleton__oM7bN SkeletonListImage-module_text__kgO7g\"></span><span class=\"SkeletonListImage-module_skeleton__oM7bN SkeletonListImage-module_text-short__bCfGR\"></span></div>,\n",
       " <div class=\"SkeletonListImage-module_article__Yzd79 SkeletonListImage-module_image-right__E3oDC SkeletonListImage-module_color-gray150__7feIq\"><span class=\"SkeletonListImage-module_skeleton__oM7bN SkeletonListImage-module_card__91jrD\"></span><span class=\"SkeletonListImage-module_skeleton__oM7bN SkeletonListImage-module_text__kgO7g\"></span><span class=\"SkeletonListImage-module_skeleton__oM7bN SkeletonListImage-module_text__kgO7g\"></span><span class=\"SkeletonListImage-module_skeleton__oM7bN SkeletonListImage-module_text-short__bCfGR\"></span></div>,\n",
       " <div class=\"SkeletonListImage-module_article__Yzd79 SkeletonListImage-module_image-right__E3oDC SkeletonListImage-module_color-gray150__7feIq\"><span class=\"SkeletonListImage-module_skeleton__oM7bN SkeletonListImage-module_card__91jrD\"></span><span class=\"SkeletonListImage-module_skeleton__oM7bN SkeletonListImage-module_text__kgO7g\"></span><span class=\"SkeletonListImage-module_skeleton__oM7bN SkeletonListImage-module_text__kgO7g\"></span><span class=\"SkeletonListImage-module_skeleton__oM7bN SkeletonListImage-module_text-short__bCfGR\"></span></div>,\n",
       " <div class=\"SkeletonListImage-module_article__Yzd79 SkeletonListImage-module_image-right__E3oDC SkeletonListImage-module_color-gray150__7feIq\"><span class=\"SkeletonListImage-module_skeleton__oM7bN SkeletonListImage-module_card__91jrD\"></span><span class=\"SkeletonListImage-module_skeleton__oM7bN SkeletonListImage-module_text__kgO7g\"></span><span class=\"SkeletonListImage-module_skeleton__oM7bN SkeletonListImage-module_text__kgO7g\"></span><span class=\"SkeletonListImage-module_skeleton__oM7bN SkeletonListImage-module_text-short__bCfGR\"></span></div>,\n",
       " <div class=\"SkeletonListImage-module_article__Yzd79 SkeletonListImage-module_image-right__E3oDC SkeletonListImage-module_color-gray150__7feIq\"><span class=\"SkeletonListImage-module_skeleton__oM7bN SkeletonListImage-module_card__91jrD\"></span><span class=\"SkeletonListImage-module_skeleton__oM7bN SkeletonListImage-module_text__kgO7g\"></span><span class=\"SkeletonListImage-module_skeleton__oM7bN SkeletonListImage-module_text__kgO7g\"></span><span class=\"SkeletonListImage-module_skeleton__oM7bN SkeletonListImage-module_text-short__bCfGR\"></span></div>,\n",
       " <div class=\"SkeletonListImage-module_article__Yzd79 SkeletonListImage-module_image-right__E3oDC SkeletonListImage-module_color-gray150__7feIq\"><span class=\"SkeletonListImage-module_skeleton__oM7bN SkeletonListImage-module_card__91jrD\"></span><span class=\"SkeletonListImage-module_skeleton__oM7bN SkeletonListImage-module_text__kgO7g\"></span><span class=\"SkeletonListImage-module_skeleton__oM7bN SkeletonListImage-module_text__kgO7g\"></span><span class=\"SkeletonListImage-module_skeleton__oM7bN SkeletonListImage-module_text-short__bCfGR\"></span></div>,\n",
       " <div class=\"SkeletonListImage-module_article__Yzd79 SkeletonListImage-module_image-right__E3oDC SkeletonListImage-module_color-gray150__7feIq\"><span class=\"SkeletonListImage-module_skeleton__oM7bN SkeletonListImage-module_card__91jrD\"></span><span class=\"SkeletonListImage-module_skeleton__oM7bN SkeletonListImage-module_text__kgO7g\"></span><span class=\"SkeletonListImage-module_skeleton__oM7bN SkeletonListImage-module_text__kgO7g\"></span><span class=\"SkeletonListImage-module_skeleton__oM7bN SkeletonListImage-module_text-short__bCfGR\"></span></div>,\n",
       " <div class=\"SkeletonListImage-module_article__Yzd79 SkeletonListImage-module_image-right__E3oDC SkeletonListImage-module_color-gray150__7feIq\"><span class=\"SkeletonListImage-module_skeleton__oM7bN SkeletonListImage-module_card__91jrD\"></span><span class=\"SkeletonListImage-module_skeleton__oM7bN SkeletonListImage-module_text__kgO7g\"></span><span class=\"SkeletonListImage-module_skeleton__oM7bN SkeletonListImage-module_text__kgO7g\"></span><span class=\"SkeletonListImage-module_skeleton__oM7bN SkeletonListImage-module_text-short__bCfGR\"></span></div>,\n",
       " <div class=\"Footer-module_article__P38DG Footer-module_type-gray150__6VPmE Footer-module_width-type-wide__oqRPi Footer-module_is-bottom-margin__ZtHqT\"><div class=\"Footer-module_inner__J3glp\"><ul class=\"FooterQuickMenu-module_article__UX9-p\"><li class=\"FooterQuickMenu-module_item__UTOXd\"><a class=\"FooterQuickMenu-module_link__t0NIA\" data-nlogs=\"fot.login\" href=\"#\" target=\"_self\">로그인</a></li><li class=\"FooterQuickMenu-module_item__UTOXd\"><a class=\"FooterQuickMenu-module_link__t0NIA\" data-nlogs=\"fot.terms\" href=\"https://policy.naver.com/policy-mobile/term.html?type=1\" target=\"_self\">이용약관</a></li><li class=\"FooterQuickMenu-module_item__UTOXd\"><a class=\"FooterQuickMenu-module_link__t0NIA FooterQuickMenu-module_type-bold__Ngdla\" data-nlogs=\"fot.personal\" href=\"https://policy.naver.com/policy-mobile/privacy.html\" target=\"_self\">개인정보 처리방침</a></li><li class=\"FooterQuickMenu-module_item__UTOXd\"><a class=\"FooterQuickMenu-module_link__t0NIA\" data-nlogs=\"fot.help\" href=\"https://help.naver.com/alias/contents2/finance/finance_1.naver\" target=\"_self\">증권 고객센터</a></li><li class=\"FooterQuickMenu-module_item__UTOXd\"><span class=\"FooterQuickMenu-module_link__t0NIA\">기사배열 원칙 책임자 : 김수향</span></li><li class=\"FooterQuickMenu-module_item__UTOXd\"><span class=\"FooterQuickMenu-module_link__t0NIA\">청소년 보호 책임자 : 이정규</span></li></ul><div class=\"FooterInfo-module_article__NFe97 FooterInfo-module_type-gray700__CWZ1x\"><div class=\"FooterInfo-module_description__afB71\">네이버파이낸셜㈜은 전자결제서비스제공자 및 통신판매중개자이며 통신판매의 당사자가 아닙니다. 상품, 상품정보 및 거래에 관한 의무와 책임은 판매자에게 있습니다.</div><div class=\"FooterInfo-module_area-fold__-VV5Q\"><button class=\"FooterInfo-module_button__MRyzl\" data-nlogs=\"fot.corpinfo\" type=\"button\">네이버파이낸셜㈜ 사업자 정보<span class=\"FooterInfo-module_icon__pyqRF\"><svg fill=\"none\" height=\"4\" viewbox=\"0 0 10 6\" width=\"8\" xmlns=\"http://www.w3.org/2000/svg\"><path d=\"M1 1L5 5L9 1\" stroke=\"#767678\" stroke-linecap=\"round\" stroke-linejoin=\"round\" stroke-width=\"1.2\"></path></svg><span class=\"blind\">펼치기</span></span></button></div></div></div></div>,\n",
       " <ul class=\"FooterQuickMenu-module_article__UX9-p\"><li class=\"FooterQuickMenu-module_item__UTOXd\"><a class=\"FooterQuickMenu-module_link__t0NIA\" data-nlogs=\"fot.login\" href=\"#\" target=\"_self\">로그인</a></li><li class=\"FooterQuickMenu-module_item__UTOXd\"><a class=\"FooterQuickMenu-module_link__t0NIA\" data-nlogs=\"fot.terms\" href=\"https://policy.naver.com/policy-mobile/term.html?type=1\" target=\"_self\">이용약관</a></li><li class=\"FooterQuickMenu-module_item__UTOXd\"><a class=\"FooterQuickMenu-module_link__t0NIA FooterQuickMenu-module_type-bold__Ngdla\" data-nlogs=\"fot.personal\" href=\"https://policy.naver.com/policy-mobile/privacy.html\" target=\"_self\">개인정보 처리방침</a></li><li class=\"FooterQuickMenu-module_item__UTOXd\"><a class=\"FooterQuickMenu-module_link__t0NIA\" data-nlogs=\"fot.help\" href=\"https://help.naver.com/alias/contents2/finance/finance_1.naver\" target=\"_self\">증권 고객센터</a></li><li class=\"FooterQuickMenu-module_item__UTOXd\"><span class=\"FooterQuickMenu-module_link__t0NIA\">기사배열 원칙 책임자 : 김수향</span></li><li class=\"FooterQuickMenu-module_item__UTOXd\"><span class=\"FooterQuickMenu-module_link__t0NIA\">청소년 보호 책임자 : 이정규</span></li></ul>,\n",
       " <div class=\"FooterInfo-module_article__NFe97 FooterInfo-module_type-gray700__CWZ1x\"><div class=\"FooterInfo-module_description__afB71\">네이버파이낸셜㈜은 전자결제서비스제공자 및 통신판매중개자이며 통신판매의 당사자가 아닙니다. 상품, 상품정보 및 거래에 관한 의무와 책임은 판매자에게 있습니다.</div><div class=\"FooterInfo-module_area-fold__-VV5Q\"><button class=\"FooterInfo-module_button__MRyzl\" data-nlogs=\"fot.corpinfo\" type=\"button\">네이버파이낸셜㈜ 사업자 정보<span class=\"FooterInfo-module_icon__pyqRF\"><svg fill=\"none\" height=\"4\" viewbox=\"0 0 10 6\" width=\"8\" xmlns=\"http://www.w3.org/2000/svg\"><path d=\"M1 1L5 5L9 1\" stroke=\"#767678\" stroke-linecap=\"round\" stroke-linejoin=\"round\" stroke-width=\"1.2\"></path></svg><span class=\"blind\">펼치기</span></span></button></div></div>,\n",
       " <ul class=\"BottomNavigationBarUI-module_article__wEzsF\"><li class=\"BottomNavigationBarUI-module_item__rBLJB\"><a class=\"IconText-module_article__983nq\" href=\"https://home.pay.naver.com/\"><div class=\"IconText-module_icon__Ltssg\"><div><svg fill=\"none\" height=\"24\" viewbox=\"0 0 24 24\" width=\"24\" xmlns=\"http://www.w3.org/2000/svg\"><path d=\"M15.6011 10.4619C15.7448 10.0896 16.1618 9.90477 16.5326 10.0491C16.8724 10.1813 17.0554 10.5442 16.9729 10.8905L16.9437 10.9844L14.8001 16.5383C14.577 17.1162 13.7982 17.152 13.5073 16.6433L13.4587 16.5416L11.9571 12.7049L10.4685 16.5397C10.2427 17.1214 9.45605 17.1505 9.17095 16.6341L9.12363 16.5308L7.05028 10.9769C6.91071 10.603 7.09939 10.1863 7.47171 10.0462C7.813 9.91773 8.19013 10.0662 8.35812 10.3798L8.39856 10.4694L9.81072 14.253L11.2835 10.4605C11.5075 9.88373 12.2852 9.84872 12.5758 10.357L12.6243 10.4586L14.1237 14.2877L15.6011 10.4619Z\" fill=\"#1E1E23\"></path><path d=\"M8.06081 12.5247C8.45843 12.5247 8.78076 12.8484 8.78076 13.2476C8.78076 13.6136 8.50991 13.9161 8.15851 13.964L8.06081 13.9706H6.71995C6.32233 13.9706 6 13.6469 6 13.2476C6 12.8817 6.27085 12.5792 6.62226 12.5313L6.71995 12.5247H8.06081Z\" fill=\"#1E1E23\"></path><path d=\"M17.2801 12.5247C17.6777 12.5247 18 12.8484 18 13.2476C18 13.6136 17.7292 13.9161 17.3777 13.964L17.2801 13.9706H15.9392C15.5416 13.9706 15.2192 13.6469 15.2192 13.2476C15.2192 12.8817 15.4901 12.5792 15.8415 12.5313L15.9392 12.5247H17.2801Z\" fill=\"#1E1E23\"></path><path clip-rule=\"evenodd\" d=\"M3.5 4.75C3.08579 4.75 2.75 5.08579 2.75 5.5V19.5C2.75 19.9142 3.08579 20.25 3.5 20.25H20.5C20.9142 20.25 21.25 19.9142 21.25 19.5V7.86111C21.25 7.4469 20.9142 7.11111 20.5 7.11111H12.6295L10.1136 4.93297C9.9773 4.81496 9.80303 4.75 9.62272 4.75H3.5ZM1.25 5.5C1.25 4.25736 2.25736 3.25 3.5 3.25H9.62272C10.1636 3.25 10.6865 3.44487 11.0954 3.79892L13.1886 5.61111H20.5C21.7426 5.61111 22.75 6.61847 22.75 7.86111V19.5C22.75 20.7426 21.7426 21.75 20.5 21.75H3.5C2.25736 21.75 1.25 20.7426 1.25 19.5V5.5Z\" fill=\"#1E1E23\" fill-rule=\"evenodd\"></path></svg></div></div>금융</a></li><li class=\"BottomNavigationBarUI-module_item__rBLJB\"><a class=\"IconText-module_article__983nq\" href=\"https://point.pay.naver.com/main\"><div class=\"IconText-module_icon__Ltssg\"><div><svg fill=\"none\" height=\"24\" viewbox=\"0 0 24 24\" width=\"24\" xmlns=\"http://www.w3.org/2000/svg\"><circle cx=\"12\" cy=\"12\" r=\"10.25\" stroke=\"#1E1E23\" stroke-width=\"1.5\"></circle><path d=\"M14.7078 7.86938C15.1217 7.8696 15.4576 8.20548 15.4578 8.61938V11.3596H17.0447L17.1208 11.3635C17.4992 11.4018 17.7947 11.7212 17.7947 12.1096C17.7947 12.498 17.4992 12.8174 17.1208 12.8557L17.0447 12.8596H15.4578V15.6282C15.4576 16.4491 14.4087 16.7927 13.9226 16.1311L9.95972 10.7327V15.7239C9.95951 16.1378 9.62369 16.4737 9.20972 16.4739C8.79563 16.4739 8.45993 16.1379 8.45972 15.7239V12.8596H7.03979C6.62558 12.8596 6.28979 12.5238 6.28979 12.1096C6.28979 11.6954 6.62558 11.3596 7.03979 11.3596H8.45972V8.75024C8.45972 7.98045 9.38143 7.62974 9.89722 8.13403L9.99487 8.24634L13.9578 13.6438V8.61938C13.958 8.20535 14.2937 7.86938 14.7078 7.86938Z\" fill=\"#1E1E23\"></path></svg></div></div>포인트</a></li><li class=\"BottomNavigationBarUI-module_item__rBLJB\"><a class=\"IconText-module_article__983nq\" href=\"https://new-m.pay.naver.com/historybenefit/home\"><div class=\"IconText-module_icon__Ltssg\"><div><svg fill=\"none\" height=\"24\" viewbox=\"0 0 24 24\" width=\"24\" xmlns=\"http://www.w3.org/2000/svg\"><path clip-rule=\"evenodd\" d=\"M4.5 3.75C4.08579 3.75 3.75 4.08579 3.75 4.5V21.0988C4.6703 20.4998 5.86015 20.5054 6.77543 21.1156L7.36132 21.5062L6.95844 22.1105L7.36133 21.5062C7.4453 21.5621 7.5547 21.5621 7.63867 21.5062L8.0547 22.1302L7.63868 21.5062L8.22457 21.1156C9.1483 20.4997 10.3517 20.4997 11.2754 21.1156L11.8613 21.5062L11.4453 22.1302L11.8613 21.5062C11.9453 21.5621 12.0547 21.5621 12.1387 21.5062L12.7246 21.1156C13.6483 20.4997 14.8517 20.4997 15.7754 21.1156L16.3613 21.5062L15.9453 22.1302L16.3613 21.5062C16.4453 21.5621 16.5547 21.5621 16.6387 21.5062L17.2246 21.1156C18.1398 20.5054 19.3297 20.4998 20.25 21.0988V4.5C20.25 4.08579 19.9142 3.75 19.5 3.75H4.5ZM2.25 4.5C2.25 3.25736 3.25736 2.25 4.5 2.25H19.5C20.7426 2.25 21.75 3.25736 21.75 4.5V22.5C21.75 22.7766 21.5978 23.0307 21.3539 23.1613C21.11 23.2918 20.8141 23.2775 20.584 23.124L19.4434 22.3636C19.0235 22.0837 18.4765 22.0837 18.0566 22.3636L17.4707 22.7542C16.8829 23.1461 16.1171 23.1461 15.5293 22.7542L14.9434 22.3636C14.5235 22.0837 13.9765 22.0837 13.5566 22.3636L12.9707 22.7542C12.3829 23.1461 11.6171 23.1461 11.0293 22.7542L10.4434 22.3636L10.8191 21.8L10.4434 22.3636C10.0235 22.0837 9.4765 22.0837 9.05662 22.3636L8.6406 21.7396L9.05662 22.3636L8.47072 22.7542C7.8829 23.1461 7.1171 23.1461 6.52928 22.7542L5.94338 22.3636L6.3594 21.7396L5.94337 22.3636C5.5235 22.0837 4.9765 22.0837 4.55662 22.3636L4.14713 21.7494L4.55662 22.3636L3.41602 23.124C3.18588 23.2775 2.88997 23.2918 2.64611 23.1613C2.40224 23.0307 2.25 22.7766 2.25 22.5V4.5Z\" fill=\"#1E1E23\" fill-rule=\"evenodd\"></path><path d=\"M6 7.75C6 7.33579 6.30996 7 6.69231 7H17.3077C17.69 7 18 7.33579 18 7.75C18 8.16421 17.69 8.5 17.3077 8.5H6.69231C6.30996 8.5 6 8.16421 6 7.75Z\" fill=\"#1E1E23\"></path><path d=\"M6 11.75C6 11.3358 6.30996 11 6.69231 11H17.3077C17.69 11 18 11.3358 18 11.75C18 12.1642 17.69 12.5 17.3077 12.5H6.69231C6.30996 12.5 6 12.1642 6 11.75Z\" fill=\"#1E1E23\"></path><path d=\"M6 15.75C6 15.3358 6.30996 15 6.69231 15H11.7692C12.1516 15 12.4615 15.3358 12.4615 15.75C12.4615 16.1642 12.1516 16.5 11.7692 16.5H6.69231C6.30996 16.5 6 16.1642 6 15.75Z\" fill=\"#1E1E23\"></path></svg></div></div>결제</a></li><li class=\"BottomNavigationBarUI-module_item__rBLJB\"><a class=\"IconText-module_article__983nq IconText-module_is-selected__81QfW\" href=\"https://m.stock.naver.com/\"><div class=\"IconText-module_icon__Ltssg\"><div><svg fill=\"none\" height=\"24\" viewbox=\"0 0 24 24\" width=\"24\" xmlns=\"http://www.w3.org/2000/svg\"><path d=\"M3 20.5V15.5037C3 15.1869 3.15016 14.8888 3.40477 14.7002L7.55258 11.6277C8.06099 11.2511 8.75103 11.234 9.27747 11.585L12.0225 13.415C12.549 13.766 13.239 13.7489 13.7474 13.3723L19.0857 9.41798C19.8777 8.83134 21 9.39668 21 10.3822V20.5C21 21.3284 20.3284 22 19.5 22H4.5C3.67157 22 3 21.3284 3 20.5Z\" fill=\"#1E1E23\"></path><path clip-rule=\"evenodd\" d=\"M18.6393 8.81531C19.9262 7.86203 21.75 8.7807 21.75 10.3822V20.5C21.75 21.7426 20.7426 22.75 19.5 22.75H4.5C3.25736 22.75 2.25 21.7426 2.25 20.5V15.5037C2.25 14.9492 2.51278 14.4276 2.95835 14.0975L3.40477 14.7002L2.95835 14.0975L7.10616 11.0251C7.86877 10.4602 8.90384 10.4345 9.69349 10.9609L12.4386 12.791C12.7018 12.9665 13.0468 12.9579 13.301 12.7696L18.6393 8.81531ZM20.25 10.3822C20.25 10.0127 19.8291 9.80066 19.5321 10.0206L14.1938 13.9749C13.4312 14.5398 12.3962 14.5655 11.6065 14.0391L8.86145 12.209C8.59823 12.0335 8.2532 12.0421 7.999 12.2304L3.85119 15.3028L3.41031 14.7076L3.85119 15.3028C3.78754 15.35 3.75 15.4245 3.75 15.5037V20.5C3.75 20.9142 4.08579 21.25 4.5 21.25H19.5C19.9142 21.25 20.25 20.9142 20.25 20.5V10.3822Z\" fill=\"#1E1E23\" fill-rule=\"evenodd\"></path><path clip-rule=\"evenodd\" d=\"M21.6027 3.55358C21.8493 3.88643 21.7793 4.35612 21.4465 4.60267L13.9114 10.1842C13.3183 10.6236 12.5132 10.6435 11.899 10.2341L8.86149 8.20902C8.59827 8.03354 8.25325 8.04209 7.99905 8.23039L3.44647 11.6027C3.11362 11.8492 2.64393 11.7793 2.39738 11.4464C2.15083 11.1136 2.22078 10.6439 2.55363 10.3973L7.1062 7.02505C7.86882 6.46015 8.90389 6.43451 9.69354 6.96094L12.7311 8.98598C12.8188 9.04447 12.9338 9.04162 13.0186 8.97885L20.5536 3.39733C20.8865 3.15078 21.3562 3.22074 21.6027 3.55358Z\" fill=\"#1E1E23\" fill-rule=\"evenodd\"></path><path clip-rule=\"evenodd\" d=\"M16.75 3.5C16.75 3.08579 17.0858 2.75 17.5 2.75H20.5C21.1904 2.75 21.75 3.30964 21.75 4V7C21.75 7.41421 21.4142 7.75 21 7.75C20.5858 7.75 20.25 7.41421 20.25 7V4.25H17.5C17.0858 4.25 16.75 3.91421 16.75 3.5Z\" fill=\"#1E1E23\" fill-rule=\"evenodd\"></path></svg></div></div>증권<span class=\"blind\">현재 페이지</span></a></li><li class=\"BottomNavigationBarUI-module_item__rBLJB\"><a class=\"IconText-module_article__983nq\" href=\"https://fin.land.naver.com/\"><div class=\"IconText-module_icon__Ltssg\"><div><svg fill=\"none\" height=\"24\" viewbox=\"0 0 24 24\" width=\"24\" xmlns=\"http://www.w3.org/2000/svg\"><path d=\"M8 9.40001C8 9.17909 8.17909 9.00001 8.4 9.00001H10.6C10.8209 9.00001 11 9.17909 11 9.40001V11.6C11 11.8209 10.8209 12 10.6 12H8.4C8.17909 12 8 11.8209 8 11.6V9.40001Z\" fill=\"#1E1E23\"></path><path d=\"M8 14.4C8 14.1791 8.17909 14 8.4 14H10.6C10.8209 14 11 14.1791 11 14.4V16.6C11 16.8209 10.8209 17 10.6 17H8.4C8.17909 17 8 16.8209 8 16.6V14.4Z\" fill=\"#1E1E23\"></path><path d=\"M13 9.40001C13 9.17909 13.1791 9.00001 13.4 9.00001H15.6C15.8209 9.00001 16 9.17909 16 9.40001V11.6C16 11.8209 15.8209 12 15.6 12H13.4C13.1791 12 13 11.8209 13 11.6V9.40001Z\" fill=\"#1E1E23\"></path><path d=\"M13 14.4C13 14.1791 13.1791 14 13.4 14H15.6C15.8209 14 16 14.1791 16 14.4V16.6C16 16.8209 15.8209 17 15.6 17H13.4C13.1791 17 13 16.8209 13 16.6V14.4Z\" fill=\"#1E1E23\"></path><path clip-rule=\"evenodd\" d=\"M12.3642 3.06032C12.1377 2.93448 11.8623 2.93448 11.6358 3.06032L4.13577 7.22699C3.89767 7.35927 3.75 7.61023 3.75 7.88261V20.5C3.75 20.9142 4.08579 21.25 4.5 21.25H19.5C19.9142 21.25 20.25 20.9142 20.25 20.5V7.88261C20.25 7.61023 20.1023 7.35927 19.8642 7.22699L12.3642 3.06032ZM10.9073 1.74909C11.5869 1.37156 12.4131 1.37156 13.0927 1.74909L20.5927 5.91575C21.307 6.31259 21.75 7.06548 21.75 7.88261V20.5C21.75 21.7426 20.7426 22.75 19.5 22.75H4.5C3.25736 22.75 2.25 21.7426 2.25 20.5V7.88261C2.25 7.06548 2.69301 6.31259 3.4073 5.91576L10.9073 1.74909Z\" fill=\"#1E1E23\" fill-rule=\"evenodd\"></path></svg></div></div>부동산</a></li></ul>,\n",
       " <a class=\"IconText-module_article__983nq\" href=\"https://home.pay.naver.com/\"><div class=\"IconText-module_icon__Ltssg\"><div><svg fill=\"none\" height=\"24\" viewbox=\"0 0 24 24\" width=\"24\" xmlns=\"http://www.w3.org/2000/svg\"><path d=\"M15.6011 10.4619C15.7448 10.0896 16.1618 9.90477 16.5326 10.0491C16.8724 10.1813 17.0554 10.5442 16.9729 10.8905L16.9437 10.9844L14.8001 16.5383C14.577 17.1162 13.7982 17.152 13.5073 16.6433L13.4587 16.5416L11.9571 12.7049L10.4685 16.5397C10.2427 17.1214 9.45605 17.1505 9.17095 16.6341L9.12363 16.5308L7.05028 10.9769C6.91071 10.603 7.09939 10.1863 7.47171 10.0462C7.813 9.91773 8.19013 10.0662 8.35812 10.3798L8.39856 10.4694L9.81072 14.253L11.2835 10.4605C11.5075 9.88373 12.2852 9.84872 12.5758 10.357L12.6243 10.4586L14.1237 14.2877L15.6011 10.4619Z\" fill=\"#1E1E23\"></path><path d=\"M8.06081 12.5247C8.45843 12.5247 8.78076 12.8484 8.78076 13.2476C8.78076 13.6136 8.50991 13.9161 8.15851 13.964L8.06081 13.9706H6.71995C6.32233 13.9706 6 13.6469 6 13.2476C6 12.8817 6.27085 12.5792 6.62226 12.5313L6.71995 12.5247H8.06081Z\" fill=\"#1E1E23\"></path><path d=\"M17.2801 12.5247C17.6777 12.5247 18 12.8484 18 13.2476C18 13.6136 17.7292 13.9161 17.3777 13.964L17.2801 13.9706H15.9392C15.5416 13.9706 15.2192 13.6469 15.2192 13.2476C15.2192 12.8817 15.4901 12.5792 15.8415 12.5313L15.9392 12.5247H17.2801Z\" fill=\"#1E1E23\"></path><path clip-rule=\"evenodd\" d=\"M3.5 4.75C3.08579 4.75 2.75 5.08579 2.75 5.5V19.5C2.75 19.9142 3.08579 20.25 3.5 20.25H20.5C20.9142 20.25 21.25 19.9142 21.25 19.5V7.86111C21.25 7.4469 20.9142 7.11111 20.5 7.11111H12.6295L10.1136 4.93297C9.9773 4.81496 9.80303 4.75 9.62272 4.75H3.5ZM1.25 5.5C1.25 4.25736 2.25736 3.25 3.5 3.25H9.62272C10.1636 3.25 10.6865 3.44487 11.0954 3.79892L13.1886 5.61111H20.5C21.7426 5.61111 22.75 6.61847 22.75 7.86111V19.5C22.75 20.7426 21.7426 21.75 20.5 21.75H3.5C2.25736 21.75 1.25 20.7426 1.25 19.5V5.5Z\" fill=\"#1E1E23\" fill-rule=\"evenodd\"></path></svg></div></div>금융</a>,\n",
       " <a class=\"IconText-module_article__983nq\" href=\"https://point.pay.naver.com/main\"><div class=\"IconText-module_icon__Ltssg\"><div><svg fill=\"none\" height=\"24\" viewbox=\"0 0 24 24\" width=\"24\" xmlns=\"http://www.w3.org/2000/svg\"><circle cx=\"12\" cy=\"12\" r=\"10.25\" stroke=\"#1E1E23\" stroke-width=\"1.5\"></circle><path d=\"M14.7078 7.86938C15.1217 7.8696 15.4576 8.20548 15.4578 8.61938V11.3596H17.0447L17.1208 11.3635C17.4992 11.4018 17.7947 11.7212 17.7947 12.1096C17.7947 12.498 17.4992 12.8174 17.1208 12.8557L17.0447 12.8596H15.4578V15.6282C15.4576 16.4491 14.4087 16.7927 13.9226 16.1311L9.95972 10.7327V15.7239C9.95951 16.1378 9.62369 16.4737 9.20972 16.4739C8.79563 16.4739 8.45993 16.1379 8.45972 15.7239V12.8596H7.03979C6.62558 12.8596 6.28979 12.5238 6.28979 12.1096C6.28979 11.6954 6.62558 11.3596 7.03979 11.3596H8.45972V8.75024C8.45972 7.98045 9.38143 7.62974 9.89722 8.13403L9.99487 8.24634L13.9578 13.6438V8.61938C13.958 8.20535 14.2937 7.86938 14.7078 7.86938Z\" fill=\"#1E1E23\"></path></svg></div></div>포인트</a>,\n",
       " <a class=\"IconText-module_article__983nq\" href=\"https://new-m.pay.naver.com/historybenefit/home\"><div class=\"IconText-module_icon__Ltssg\"><div><svg fill=\"none\" height=\"24\" viewbox=\"0 0 24 24\" width=\"24\" xmlns=\"http://www.w3.org/2000/svg\"><path clip-rule=\"evenodd\" d=\"M4.5 3.75C4.08579 3.75 3.75 4.08579 3.75 4.5V21.0988C4.6703 20.4998 5.86015 20.5054 6.77543 21.1156L7.36132 21.5062L6.95844 22.1105L7.36133 21.5062C7.4453 21.5621 7.5547 21.5621 7.63867 21.5062L8.0547 22.1302L7.63868 21.5062L8.22457 21.1156C9.1483 20.4997 10.3517 20.4997 11.2754 21.1156L11.8613 21.5062L11.4453 22.1302L11.8613 21.5062C11.9453 21.5621 12.0547 21.5621 12.1387 21.5062L12.7246 21.1156C13.6483 20.4997 14.8517 20.4997 15.7754 21.1156L16.3613 21.5062L15.9453 22.1302L16.3613 21.5062C16.4453 21.5621 16.5547 21.5621 16.6387 21.5062L17.2246 21.1156C18.1398 20.5054 19.3297 20.4998 20.25 21.0988V4.5C20.25 4.08579 19.9142 3.75 19.5 3.75H4.5ZM2.25 4.5C2.25 3.25736 3.25736 2.25 4.5 2.25H19.5C20.7426 2.25 21.75 3.25736 21.75 4.5V22.5C21.75 22.7766 21.5978 23.0307 21.3539 23.1613C21.11 23.2918 20.8141 23.2775 20.584 23.124L19.4434 22.3636C19.0235 22.0837 18.4765 22.0837 18.0566 22.3636L17.4707 22.7542C16.8829 23.1461 16.1171 23.1461 15.5293 22.7542L14.9434 22.3636C14.5235 22.0837 13.9765 22.0837 13.5566 22.3636L12.9707 22.7542C12.3829 23.1461 11.6171 23.1461 11.0293 22.7542L10.4434 22.3636L10.8191 21.8L10.4434 22.3636C10.0235 22.0837 9.4765 22.0837 9.05662 22.3636L8.6406 21.7396L9.05662 22.3636L8.47072 22.7542C7.8829 23.1461 7.1171 23.1461 6.52928 22.7542L5.94338 22.3636L6.3594 21.7396L5.94337 22.3636C5.5235 22.0837 4.9765 22.0837 4.55662 22.3636L4.14713 21.7494L4.55662 22.3636L3.41602 23.124C3.18588 23.2775 2.88997 23.2918 2.64611 23.1613C2.40224 23.0307 2.25 22.7766 2.25 22.5V4.5Z\" fill=\"#1E1E23\" fill-rule=\"evenodd\"></path><path d=\"M6 7.75C6 7.33579 6.30996 7 6.69231 7H17.3077C17.69 7 18 7.33579 18 7.75C18 8.16421 17.69 8.5 17.3077 8.5H6.69231C6.30996 8.5 6 8.16421 6 7.75Z\" fill=\"#1E1E23\"></path><path d=\"M6 11.75C6 11.3358 6.30996 11 6.69231 11H17.3077C17.69 11 18 11.3358 18 11.75C18 12.1642 17.69 12.5 17.3077 12.5H6.69231C6.30996 12.5 6 12.1642 6 11.75Z\" fill=\"#1E1E23\"></path><path d=\"M6 15.75C6 15.3358 6.30996 15 6.69231 15H11.7692C12.1516 15 12.4615 15.3358 12.4615 15.75C12.4615 16.1642 12.1516 16.5 11.7692 16.5H6.69231C6.30996 16.5 6 16.1642 6 15.75Z\" fill=\"#1E1E23\"></path></svg></div></div>결제</a>,\n",
       " <a class=\"IconText-module_article__983nq IconText-module_is-selected__81QfW\" href=\"https://m.stock.naver.com/\"><div class=\"IconText-module_icon__Ltssg\"><div><svg fill=\"none\" height=\"24\" viewbox=\"0 0 24 24\" width=\"24\" xmlns=\"http://www.w3.org/2000/svg\"><path d=\"M3 20.5V15.5037C3 15.1869 3.15016 14.8888 3.40477 14.7002L7.55258 11.6277C8.06099 11.2511 8.75103 11.234 9.27747 11.585L12.0225 13.415C12.549 13.766 13.239 13.7489 13.7474 13.3723L19.0857 9.41798C19.8777 8.83134 21 9.39668 21 10.3822V20.5C21 21.3284 20.3284 22 19.5 22H4.5C3.67157 22 3 21.3284 3 20.5Z\" fill=\"#1E1E23\"></path><path clip-rule=\"evenodd\" d=\"M18.6393 8.81531C19.9262 7.86203 21.75 8.7807 21.75 10.3822V20.5C21.75 21.7426 20.7426 22.75 19.5 22.75H4.5C3.25736 22.75 2.25 21.7426 2.25 20.5V15.5037C2.25 14.9492 2.51278 14.4276 2.95835 14.0975L3.40477 14.7002L2.95835 14.0975L7.10616 11.0251C7.86877 10.4602 8.90384 10.4345 9.69349 10.9609L12.4386 12.791C12.7018 12.9665 13.0468 12.9579 13.301 12.7696L18.6393 8.81531ZM20.25 10.3822C20.25 10.0127 19.8291 9.80066 19.5321 10.0206L14.1938 13.9749C13.4312 14.5398 12.3962 14.5655 11.6065 14.0391L8.86145 12.209C8.59823 12.0335 8.2532 12.0421 7.999 12.2304L3.85119 15.3028L3.41031 14.7076L3.85119 15.3028C3.78754 15.35 3.75 15.4245 3.75 15.5037V20.5C3.75 20.9142 4.08579 21.25 4.5 21.25H19.5C19.9142 21.25 20.25 20.9142 20.25 20.5V10.3822Z\" fill=\"#1E1E23\" fill-rule=\"evenodd\"></path><path clip-rule=\"evenodd\" d=\"M21.6027 3.55358C21.8493 3.88643 21.7793 4.35612 21.4465 4.60267L13.9114 10.1842C13.3183 10.6236 12.5132 10.6435 11.899 10.2341L8.86149 8.20902C8.59827 8.03354 8.25325 8.04209 7.99905 8.23039L3.44647 11.6027C3.11362 11.8492 2.64393 11.7793 2.39738 11.4464C2.15083 11.1136 2.22078 10.6439 2.55363 10.3973L7.1062 7.02505C7.86882 6.46015 8.90389 6.43451 9.69354 6.96094L12.7311 8.98598C12.8188 9.04447 12.9338 9.04162 13.0186 8.97885L20.5536 3.39733C20.8865 3.15078 21.3562 3.22074 21.6027 3.55358Z\" fill=\"#1E1E23\" fill-rule=\"evenodd\"></path><path clip-rule=\"evenodd\" d=\"M16.75 3.5C16.75 3.08579 17.0858 2.75 17.5 2.75H20.5C21.1904 2.75 21.75 3.30964 21.75 4V7C21.75 7.41421 21.4142 7.75 21 7.75C20.5858 7.75 20.25 7.41421 20.25 7V4.25H17.5C17.0858 4.25 16.75 3.91421 16.75 3.5Z\" fill=\"#1E1E23\" fill-rule=\"evenodd\"></path></svg></div></div>증권<span class=\"blind\">현재 페이지</span></a>,\n",
       " <a class=\"IconText-module_article__983nq\" href=\"https://fin.land.naver.com/\"><div class=\"IconText-module_icon__Ltssg\"><div><svg fill=\"none\" height=\"24\" viewbox=\"0 0 24 24\" width=\"24\" xmlns=\"http://www.w3.org/2000/svg\"><path d=\"M8 9.40001C8 9.17909 8.17909 9.00001 8.4 9.00001H10.6C10.8209 9.00001 11 9.17909 11 9.40001V11.6C11 11.8209 10.8209 12 10.6 12H8.4C8.17909 12 8 11.8209 8 11.6V9.40001Z\" fill=\"#1E1E23\"></path><path d=\"M8 14.4C8 14.1791 8.17909 14 8.4 14H10.6C10.8209 14 11 14.1791 11 14.4V16.6C11 16.8209 10.8209 17 10.6 17H8.4C8.17909 17 8 16.8209 8 16.6V14.4Z\" fill=\"#1E1E23\"></path><path d=\"M13 9.40001C13 9.17909 13.1791 9.00001 13.4 9.00001H15.6C15.8209 9.00001 16 9.17909 16 9.40001V11.6C16 11.8209 15.8209 12 15.6 12H13.4C13.1791 12 13 11.8209 13 11.6V9.40001Z\" fill=\"#1E1E23\"></path><path d=\"M13 14.4C13 14.1791 13.1791 14 13.4 14H15.6C15.8209 14 16 14.1791 16 14.4V16.6C16 16.8209 15.8209 17 15.6 17H13.4C13.1791 17 13 16.8209 13 16.6V14.4Z\" fill=\"#1E1E23\"></path><path clip-rule=\"evenodd\" d=\"M12.3642 3.06032C12.1377 2.93448 11.8623 2.93448 11.6358 3.06032L4.13577 7.22699C3.89767 7.35927 3.75 7.61023 3.75 7.88261V20.5C3.75 20.9142 4.08579 21.25 4.5 21.25H19.5C19.9142 21.25 20.25 20.9142 20.25 20.5V7.88261C20.25 7.61023 20.1023 7.35927 19.8642 7.22699L12.3642 3.06032ZM10.9073 1.74909C11.5869 1.37156 12.4131 1.37156 13.0927 1.74909L20.5927 5.91575C21.307 6.31259 21.75 7.06548 21.75 7.88261V20.5C21.75 21.7426 20.7426 22.75 19.5 22.75H4.5C3.25736 22.75 2.25 21.7426 2.25 20.5V7.88261C2.25 7.06548 2.69301 6.31259 3.4073 5.91576L10.9073 1.74909Z\" fill=\"#1E1E23\" fill-rule=\"evenodd\"></path></svg></div></div>부동산</a>]"
      ]
     },
     "execution_count": 21,
     "metadata": {},
     "output_type": "execute_result"
    }
   ],
   "source": [
    "soup.select('[class*=\"module_article\"]')"
   ]
  },
  {
   "cell_type": "code",
   "execution_count": 26,
   "id": "1fc675e8",
   "metadata": {},
   "outputs": [
    {
     "data": {
      "text/plain": [
       "[<h2 class=\"blind\" id=\"bottom-navigation\">페이 서비스메뉴</h2>]"
      ]
     },
     "execution_count": 26,
     "metadata": {},
     "output_type": "execute_result"
    }
   ],
   "source": [
    "# items = soup.select('[id^=\"portal\"]')\n",
    "items = soup.select('#bottom-navigation')\n",
    "items"
   ]
  },
  {
   "cell_type": "code",
   "execution_count": 36,
   "id": "59369c30",
   "metadata": {},
   "outputs": [
    {
     "name": "stdout",
     "output_type": "stream",
     "text": [
      "[<a class=\"HeaderNpayButton-module_link__dCMvi\" href=\"https://m.naver.com/\"><svg fill=\"none\" height=\"22\" viewbox=\"0 0 22 22\" width=\"22\" xmlns=\"http://www.w3.org/2000/svg\"><path d=\"M22 11C22 13.1756 21.3549 15.3023 20.1462 17.1113C18.9375 18.9202 17.2195 20.3301 15.2095 21.1627C13.1995 21.9952 10.9878 22.2131 8.85401 21.7886C6.72022 21.3642 4.76021 20.3166 3.22183 18.7782C1.68345 17.2398 0.635805 15.2798 0.211368 13.146C-0.213069 11.0122 0.00476301 8.80047 0.837327 6.79048C1.66989 4.78049 3.07979 3.06253 4.88873 1.85383C6.69767 0.645137 8.82441 0 11 0C13.9174 0 16.7153 1.15892 18.7782 3.22183C20.8411 5.28473 22 8.08262 22 11ZM12.8398 5.83V11.3602L8.98976 5.83H5.83V16.1838H9.1575V10.637L13.0075 16.17H16.1783V5.83H12.8398Z\" fill=\"black\"></path></svg><span class=\"blind\">네이버</span></a>, <a class=\"HeaderNpayButton-module_link__dCMvi\" href=\"https://new-m.pay.naver.com\"><svg fill=\"none\" height=\"22\" viewbox=\"0 0 39 22\" width=\"39\" xmlns=\"http://www.w3.org/2000/svg\"><path d=\"M34.4319 5.21944L31.3913 12.1478L27.9518 5.21944H25.3072L30.1783 14.8317L28.1703 19.3358H30.7384L37 5.2331L34.4319 5.21944ZM23.6171 15.9331H21.1037V14.9328C20.1894 15.7342 19.0108 16.1685 17.7953 16.1518C14.7901 16.1518 12.4379 13.692 12.4379 10.5763C12.4379 7.46057 14.7874 5.00079 17.7953 5.00079C19.0104 4.9833 20.189 5.41657 21.1037 6.21701V5.21944H23.6171V15.9331ZM21.3987 10.5899C21.3987 8.57019 19.9891 7.03694 18.1204 7.03694C16.2517 7.03694 14.842 8.57019 14.842 10.5899C14.842 12.6097 16.249 14.1429 18.1204 14.1429C19.9918 14.1429 21.3987 12.596 21.3987 10.5899ZM0.00819554 19.3358H2.63088V15.023C3.52823 15.7695 4.66309 16.1699 5.83001 16.1518C8.83516 16.1518 11.1901 13.692 11.1901 10.5763C11.1901 7.46057 8.83789 5.00079 5.83001 5.00079C4.61166 4.9789 3.42899 5.4126 2.51341 6.21701V5.21944H0L0.00819554 19.3358ZM5.51856 7.03694C7.38722 7.03694 8.79691 8.57019 8.79691 10.5899C8.79691 12.6097 7.38722 14.1429 5.51856 14.1429C3.6499 14.1429 2.24021 12.6097 2.24021 10.5899C2.24021 8.57019 3.63351 7.03694 5.51856 7.03694Z\" fill=\"black\"></path></svg><span class=\"blind\">네이버페이</span></a>, <a class=\"HeaderName-module_article__-dT0a HeaderName-module_type-main__nbL5S\" href=\"/\">증권</a>, <a class=\"HeaderButton-module_article__KwTay SearchBoxButton-module_button__8sjYv\" href=\"/search\"><span class=\"SearchBoxButton-module_icon-search__ZW3zk\"><svg fill=\"none\" height=\"18\" viewbox=\"0 0 24 24\" width=\"18\" xmlns=\"http://www.w3.org/2000/svg\"><path clip-rule=\"evenodd\" d=\"M3.51966 10.25C3.51966 6.39487 6.64487 3.26966 10.5 3.26966C14.3551 3.26966 17.4803 6.39487 17.4803 10.25C17.4803 14.1051 14.3551 17.2303 10.5 17.2303C6.64487 17.2303 3.51966 14.1051 3.51966 10.25ZM10.5 1.5C5.66751 1.5 1.75 5.41751 1.75 10.25C1.75 15.0825 5.66751 19 10.5 19C12.5965 19 14.5209 18.2626 16.0278 17.0331C16.0625 17.0872 16.1035 17.1384 16.1508 17.1857L20.7501 21.785C21.1049 22.1399 21.6803 22.1399 22.0351 21.785C22.39 21.4302 22.39 20.8548 22.0351 20.5L17.4358 15.9006C17.3885 15.8534 17.3373 15.8124 17.2832 15.7777C18.5127 14.2708 19.25 12.3465 19.25 10.25C19.25 5.41751 15.3325 1.5 10.5 1.5Z\" fill=\"#1E1E23\" fill-rule=\"evenodd\"></path></svg></span><span class=\"SearchBoxButton-module_text__umyAC\">종목 검색</span><span class=\"blind\">검색</span></a>, <a class=\"HeaderButton-module_article__KwTay\" href=\"https://new-m.pay.naver.com/member/payservice\"><svg fill=\"none\" height=\"24\" viewbox=\"0 0 24 24\" width=\"24\" xmlns=\"http://www.w3.org/2000/svg\"><path clip-rule=\"evenodd\" d=\"M2 4C2 3.44772 2.44772 3 3 3H21C21.5523 3 22 3.44772 22 4C22 4.55228 21.5523 5 21 5H3C2.44772 5 2 4.55228 2 4Z\" fill=\"#1E1E23\" fill-rule=\"evenodd\"></path><path clip-rule=\"evenodd\" d=\"M2 12C2 11.4477 2.44772 11 3 11H21C21.5523 11 22 11.4477 22 12C22 12.5523 21.5523 13 21 13H3C2.44772 13 2 12.5523 2 12Z\" fill=\"#1E1E23\" fill-rule=\"evenodd\"></path><path clip-rule=\"evenodd\" d=\"M2 20C2 19.4477 2.44772 19 3 19H21C21.5523 19 22 19.4477 22 20C22 20.5523 21.5523 21 21 21H3C2.44772 21 2 20.5523 2 20Z\" fill=\"#1E1E23\" fill-rule=\"evenodd\"></path></svg><span class=\"blind\">전체메뉴</span></a>, <a class=\"Tab_link__4W7i9\" data-nlogs=\"nav.rtn\"><span class=\"Tab_text__D56Aa\">실시간 속보</span></a>, <a class=\"Tab_link__4W7i9\" data-nlogs=\"nav.mnw\"><span class=\"Tab_text__D56Aa\">주요뉴스</span></a>, <a class=\"Tab_link__4W7i9\" data-nlogs=\"nav.pon\"><span class=\"Tab_text__D56Aa\">많이 본 뉴스</span></a>, <a class=\"Tab_link__4W7i9\" data-nlogs=\"nav.gnw\"><span class=\"Tab_text__D56Aa\">해외뉴스</span></a>, <a class=\"NewsList_link__EB1t5\" href=\"https://n.news.naver.com/article/011/0004541748\" rel=\"noreferrer noopener\" target=\"_blank\"><span class=\"NewsList_inner__AXU8T\"><strong class=\"NewsList_title__v55VO\">'비철금속 거목' 최창걸 고려아연 명예회장 영결식 엄수</strong><p class=\"NewsList_text__d5Emm\">고(故) 최창걸 고려아연(010130) 명예회장의 영결식이 10일 오전 서울 종로구 고려아연 본사에서 엄수됐다. 현장에는 아들인 최윤범 고려아연 회장을 비롯해 유중근 여사(전 대한적십자 총재) 등 유가족과 이제중 부회장, 임직원들이 참석해 고인의 마지막 길을 배웅했다. 약 한 시간 동안 비공개로 진행된 영결식은 약력 보고와 추모 영상, 조사, 헌화 순...</p><span class=\"NewsList_information__kcJNR\"><cite class=\"NewsList_description__vmFPo\">서울경제</cite><time class=\"NewsList_description__vmFPo\">5분 전</time></span></span><span class=\"NewsList_thumb__1wE7y\"><img alt=\"'비철금속 거목' 최창걸 고려아연 명예회장 영결식 엄수\" class=\"img\" data-src=\"https://imgnews.pstatic.net/image/origin/011/2025/10/10/4541748.jpg?type=nf206_146\" height=\"70\" src=\"https://imgnews.pstatic.net/image/origin/011/2025/10/10/4541748.jpg?type=nf206_146\" width=\"103\"/></span></a>, <a class=\"NewsList_link__EB1t5\" href=\"https://n.news.naver.com/article/003/0013526970\" rel=\"noreferrer noopener\" target=\"_blank\"><span class=\"NewsList_inner__AXU8T\"><strong class=\"NewsList_title__v55VO\">티쓰리, 30억 규모 자사주 취득 결정</strong><p class=\"NewsList_text__d5Emm\">티쓰리는 30억원 규모의 자기주식 취득을 결정했다고 10일 공시했다. 취득 목적은 '주주가치 제고를 목적으로 자기주식 취득 후 소각'이다. 취득예상기간은 이달 13일부터 내년 1월 12일까지이며, 취득예정주식은 158만611주다. </p><span class=\"NewsList_information__kcJNR\"><cite class=\"NewsList_description__vmFPo\">뉴시스</cite><time class=\"NewsList_description__vmFPo\">6분 전</time></span></span></a>, <a class=\"NewsList_link__EB1t5\" href=\"https://n.news.naver.com/article/016/0002540004\" rel=\"noreferrer noopener\" target=\"_blank\"><span class=\"NewsList_inner__AXU8T\"><strong class=\"NewsList_title__v55VO\">‘사상 첫 3600 정복’ 코스피, 연휴 내 참았던 투심 폭발…4000피向 질주 걸림돌 ‘이 지점’ [투자360]</strong><p class=\"NewsList_text__d5Emm\">코스피, 장중 3610 선까지 훌쩍 뛰어 넘어 ‘사상 최고’ 추석 연휴 美 증시·AI주 랠리 호재로…三電·SK하닉 ‘활활’ 美 연준 금리 추가 인하 가능성도 투심 자극 원/달러 환율 1420원 돌파…韓 랠리 주역 外人 투심 약화 우려 코스피가 10일 장중 한때 3600선을 돌파했다. 이날 오전 서울 중구 하나은행 딜링룸 전광판에 9시 2분 기준 코스피...</p><span class=\"NewsList_information__kcJNR\"><cite class=\"NewsList_description__vmFPo\">헤럴드경제</cite><time class=\"NewsList_description__vmFPo\">6분 전</time></span></span><span class=\"NewsList_thumb__1wE7y\"><img alt=\"‘사상 첫 3600 정복’ 코스피, 연휴 내 참았던 투심 폭발…4000피向 질주 걸림돌 ‘이 지점’ [투자360]\" class=\"img\" data-src=\"https://imgnews.pstatic.net/image/origin/016/2025/10/10/2540004.jpg?type=nf206_146\" height=\"70\" src=\"https://imgnews.pstatic.net/image/origin/016/2025/10/10/2540004.jpg?type=nf206_146\" width=\"103\"/></span></a>, <a class=\"NewsList_link__EB1t5\" href=\"https://n.news.naver.com/article/016/0002540003\" rel=\"noreferrer noopener\" target=\"_blank\"><span class=\"NewsList_inner__AXU8T\"><strong class=\"NewsList_title__v55VO\">에브리싱 랠리 속 진짜 주인공은 금?…S&amp;P500을 추월한 ‘금의 시대’</strong><p class=\"NewsList_text__d5Emm\">S&amp;P500/금 비율 2.16→1.69배로 급감…팬데믹 이후 최저 골드만 “내년 말 온스당 4900달러”·시티그룹 “금 상승장 장기화 경향” [헤럴드경제=문이림 기자] 글로벌 금융 시장에 위험자산과 안전자산 가격이 동시에 급등하는 ‘에브리싱 랠리’가 펼쳐지는 가운데 주식의 시대가 저물고 금의 시대가 도래하고 있다는 분석이 나온다. 주식과 금의 상대적 ...</p><span class=\"NewsList_information__kcJNR\"><cite class=\"NewsList_description__vmFPo\">헤럴드경제</cite><time class=\"NewsList_description__vmFPo\">6분 전</time></span></span><span class=\"NewsList_thumb__1wE7y\"><img alt=\"에브리싱 랠리 속 진짜 주인공은 금?…S&amp;P500을 추월한 ‘금의 시대’\" class=\"img\" data-src=\"https://imgnews.pstatic.net/image/origin/016/2025/10/10/2540003.jpg?type=nf206_146\" height=\"70\" src=\"https://imgnews.pstatic.net/image/origin/016/2025/10/10/2540003.jpg?type=nf206_146\" width=\"103\"/></span></a>, <a class=\"NewsList_link__EB1t5\" href=\"https://n.news.naver.com/article/629/0000432712\" rel=\"noreferrer noopener\" target=\"_blank\"><span class=\"NewsList_inner__AXU8T\"><strong class=\"NewsList_title__v55VO\">연휴 끝 실적 시즌 시작…'추석 랠리' 올해도 통할까</strong><p class=\"NewsList_text__d5Emm\">코스피, 10일 장 초반 3600선 돌파 삼성전자·SK하이닉스 상승세 주도 긴 추석 연휴가 끝나자마자 증시가 폭발적인 기세로 치솟았다. 반도체발 훈풍에 힘입어 코스피가 사상 첫 3600선을 돌파했다. 실적 시즌과 금리 인하 기대감이 맞물리며 투자심리에도 불이 붙었다. ◆ 코스피, 사상 첫 3600선 돌파…SK하이닉스·삼성전자 52주 신고가 한국거래소에...</p><span class=\"NewsList_information__kcJNR\"><cite class=\"NewsList_description__vmFPo\">더팩트</cite><time class=\"NewsList_description__vmFPo\">7분 전</time></span></span><span class=\"NewsList_thumb__1wE7y\"><img alt=\"연휴 끝 실적 시즌 시작…'추석 랠리' 올해도 통할까\" class=\"img\" data-src=\"https://imgnews.pstatic.net/image/origin/629/2025/10/10/432712.jpg?type=nf206_146\" height=\"70\" src=\"https://imgnews.pstatic.net/image/origin/629/2025/10/10/432712.jpg?type=nf206_146\" width=\"103\"/></span></a>, <a class=\"NewsList_link__EB1t5\" href=\"https://n.news.naver.com/article/277/0005662617\" rel=\"noreferrer noopener\" target=\"_blank\"><span class=\"NewsList_inner__AXU8T\"><strong class=\"NewsList_title__v55VO\">[특징주]온코닉테라퓨틱스, 췌장암 신약 기대감·무상증자 권리락에 '上'</strong><p class=\"NewsList_text__d5Emm\">온코닉테라퓨틱스가 췌장암 신약 개발 기대감과 무상증자 권리락 효과로 10일 장 초반 상한가를 기록 중이다. 이날 오전 10시 17분 기준 코스닥 시장에서 온코닉테라퓨틱스 주가는 일일 최대 상승폭인 29.75% 뛴 2만1150원을 나타내고 있다. 주가는 이날 개장과 동시에 상한가로 직행했다. 이날 온코닉테라퓨틱스는 자사가 개발 중인 차세대 합성치사 이중...</p><span class=\"NewsList_information__kcJNR\"><cite class=\"NewsList_description__vmFPo\">아시아경제</cite><time class=\"NewsList_description__vmFPo\">8분 전</time></span></span><span class=\"NewsList_thumb__1wE7y\"><img alt=\"[특징주]온코닉테라퓨틱스, 췌장암 신약 기대감·무상증자 권리락에 '上'\" class=\"img\" data-src=\"https://imgnews.pstatic.net/image/origin/277/2025/10/10/5662617.jpg?type=nf206_146\" height=\"70\" src=\"https://imgnews.pstatic.net/image/origin/277/2025/10/10/5662617.jpg?type=nf206_146\" width=\"103\"/></span></a>, <a class=\"NewsList_link__EB1t5\" href=\"https://n.news.naver.com/article/417/0001105756\" rel=\"noreferrer noopener\" target=\"_blank\"><span class=\"NewsList_inner__AXU8T\"><strong class=\"NewsList_title__v55VO\">한국타이어, 영국 전기차 전시회 참가… 현지 소통 강화</strong><p class=\"NewsList_text__d5Emm\">한국타이어앤테크놀로지(한국타이어)가 오는 11일부터 12일(현지시각)까지 영국에서 열리는 '에브리싱 일렉트릭 판버러 2025'에 대표후원사로 참가한다. 에브리싱 일렉트릭은 영국 전기차 전문 매체 '풀리 차지드'가 주최하는 영국 대표 전기차 박람회로, 글로벌 전기차 산업의 시장 동향과 최신 기술 정보를 공유하는 행사다. 한국타이어는 전기차 전용 타이어 ...</p><span class=\"NewsList_information__kcJNR\"><cite class=\"NewsList_description__vmFPo\">머니S</cite><time class=\"NewsList_description__vmFPo\">9분 전</time></span></span><span class=\"NewsList_thumb__1wE7y\"><img alt=\"한국타이어, 영국 전기차 전시회 참가… 현지 소통 강화\" class=\"img\" data-src=\"https://imgnews.pstatic.net/image/origin/417/2025/10/10/1105756.jpg?type=nf206_146\" height=\"70\" src=\"https://imgnews.pstatic.net/image/origin/417/2025/10/10/1105756.jpg?type=nf206_146\" width=\"103\"/></span></a>, <a class=\"NewsList_link__EB1t5\" href=\"https://n.news.naver.com/article/018/0006134664\" rel=\"noreferrer noopener\" target=\"_blank\"><span class=\"NewsList_inner__AXU8T\"><strong class=\"NewsList_title__v55VO\">[알림]제36회 신용평가 전문가설문(SRE)을 실시합니다</strong><p class=\"NewsList_text__d5Emm\">제36회 이데일리 신용평가 전문가 설문(SRE: Survey of Credit Rating by Edaily)을 실시합니다. SRE는 회사채시장 전문가들이 국내 3대 신용평가회사 신뢰 수준과 서비스 만족도를 평가하는 정기조사로 매년 10월 실시합니다. 지난 30회 SRE까지 매년 4월과 10월 두 차례에 걸쳐 조사를 진행했으나 31회부터는 매년 10월...</p><span class=\"NewsList_information__kcJNR\"><cite class=\"NewsList_description__vmFPo\">이데일리</cite><time class=\"NewsList_description__vmFPo\">10분 전</time></span></span><span class=\"NewsList_thumb__1wE7y\"><img alt=\"[알림]제36회 신용평가 전문가설문(SRE)을 실시합니다\" class=\"img\" data-src=\"https://imgnews.pstatic.net/image/origin/018/2025/10/10/6134664.jpg?type=nf206_146\" height=\"70\" src=\"https://imgnews.pstatic.net/image/origin/018/2025/10/10/6134664.jpg?type=nf206_146\" width=\"103\"/></span></a>, <a class=\"NewsList_link__EB1t5\" href=\"https://n.news.naver.com/article/018/0006134663\" rel=\"noreferrer noopener\" target=\"_blank\"><span class=\"NewsList_inner__AXU8T\"><strong class=\"NewsList_title__v55VO\">프로티움사이언스, 누적 수주액 400억원 달성…올해 216억원 수주</strong><p class=\"NewsList_text__d5Emm\">바이오 위탁개발분석생산기업(CDAMO) 프로티움사이언스가 올해 216억원의 수주를 기록했다. 10일 프로티움사이언스에 따르면 올해 수주까지 설립 4년만에 누적 수주 400억원을 돌파해 적지 않은 성과다. 회사는 연말까지 누적 수주액 430억원 달성을 목표로 하고 있다. 프로티움사이언스는 2021년 설립된 바이오 CDMO 전문기업으로, 설립 이후 꾸준한...</p><span class=\"NewsList_information__kcJNR\"><cite class=\"NewsList_description__vmFPo\">이데일리</cite><time class=\"NewsList_description__vmFPo\">10분 전</time></span></span></a>, <a class=\"NewsList_link__EB1t5\" href=\"https://n.news.naver.com/article/421/0008529944\" rel=\"noreferrer noopener\" target=\"_blank\"><span class=\"NewsList_inner__AXU8T\"><strong class=\"NewsList_title__v55VO\">\"2.7%만 더 오르면\"…삼성전자, 역대 최고가 임박</strong><p class=\"NewsList_text__d5Emm\">한유주 박승희 기자 = 삼성전자(005930) 주가가 9만4000원대까지 오르며 액면 분할 이후 최고가를 찍은 2021년 1월11일 이후 가장 높은 성적을 거뒀다. 그간 랠리를 견인해 온 외국인 보유율도 11개월 만에 최고치를 기록했다. 10일 오전 9시55분 삼성전자는 전 거래일보다 5.84% 상승한 9만4200원에 거래 중이다. 장중 9만4300원...</p><span class=\"NewsList_information__kcJNR\"><cite class=\"NewsList_description__vmFPo\">뉴스1</cite><time class=\"NewsList_description__vmFPo\">11분 전</time></span></span><span class=\"NewsList_thumb__1wE7y\"><img alt='\"2.7%만 더 오르면\"…삼성전자, 역대 최고가 임박' class=\"img\" data-src=\"https://imgnews.pstatic.net/image/origin/421/2025/10/10/8529944.jpg?type=nf206_146\" height=\"70\" src=\"https://imgnews.pstatic.net/image/origin/421/2025/10/10/8529944.jpg?type=nf206_146\" width=\"103\"/></span></a>, <a class=\"NewsList_link__EB1t5\" href=\"https://n.news.naver.com/article/366/0001113367\" rel=\"noreferrer noopener\" target=\"_blank\"><span class=\"NewsList_inner__AXU8T\"><strong class=\"NewsList_title__v55VO\">한투운용 ACE ETF 리브랜딩 3주년 기념 커피차·기프티콘 이벤트</strong><p class=\"NewsList_text__d5Emm\">여의도역 5번 출구 인근서 커피차 진행 한국투자신탁운용은 오는 13일 상장지수펀드(ETF) 리브랜딩 3주년을 기념해 깜짝 이벤트를 진행한다고 10일 밝혔다. 한국투자신탁운용은 지난 2022년 10월 13일 ETF 브랜드를 ACE로 변경한 바 있다. 한국투자신탁운용이 준비한 깜짝 이벤트는 ‘커피차’이다. 리브랜딩 3주년에 맞춰 여의도역 5번 출구와 여의...</p><span class=\"NewsList_information__kcJNR\"><cite class=\"NewsList_description__vmFPo\">조선비즈</cite><time class=\"NewsList_description__vmFPo\">13분 전</time></span></span><span class=\"NewsList_thumb__1wE7y\"><img alt=\"한투운용&amp;#160;ACE ETF&amp;#160;리브랜딩&amp;#160;3주년 기념 커피차·기프티콘 이벤트\" class=\"img\" data-src=\"https://imgnews.pstatic.net/image/origin/366/2025/10/10/1113367.jpg?type=nf206_146\" height=\"70\" src=\"https://imgnews.pstatic.net/image/origin/366/2025/10/10/1113367.jpg?type=nf206_146\" width=\"103\"/></span></a>, <a class=\"NewsList_link__EB1t5\" href=\"https://n.news.naver.com/article/277/0005662608\" rel=\"noreferrer noopener\" target=\"_blank\"><span class=\"NewsList_inner__AXU8T\"><strong class=\"NewsList_title__v55VO\">[포토] 치솟는 코스피</strong><p class=\"NewsList_text__d5Emm\">코스피가 사상 첫 3,610선을 돌파한 10일 서울 중구 하나은행 딜링룸 모니터에 코스피를 비롯해 원/달러 환율 등이 표시돼 있다. 이날 코스피 지수는 전 거래일 대비 48.90포인트(1.38%) 오른 3,598.11에, 원/달러 환율은 23.0원 오른 1423.0원, 코스닥은 4.61포인트(0.54%) 오른 858.86에 개장했다. 출발했다. </p><span class=\"NewsList_information__kcJNR\"><cite class=\"NewsList_description__vmFPo\">아시아경제</cite><time class=\"NewsList_description__vmFPo\">14분 전</time></span></span><span class=\"NewsList_thumb__1wE7y\"><img alt=\"[포토] 치솟는 코스피\" class=\"img\" data-src=\"https://imgnews.pstatic.net/image/origin/277/2025/10/10/5662608.jpg?type=nf206_146\" height=\"70\" src=\"https://imgnews.pstatic.net/image/origin/277/2025/10/10/5662608.jpg?type=nf206_146\" width=\"103\"/></span></a>, <a class=\"NewsList_link__EB1t5\" href=\"https://n.news.naver.com/article/277/0005662605\" rel=\"noreferrer noopener\" target=\"_blank\"><span class=\"NewsList_inner__AXU8T\"><strong class=\"NewsList_title__v55VO\">[포토] 끝없이 질주하는 코스피</strong><p class=\"NewsList_text__d5Emm\">코스피가 사상 첫 3,610선을 돌파한 10일 서울 중구 하나은행 딜링룸 모니터에 코스피를 비롯해 원/달러 환율 등이 표시돼 있다. 이날 코스피 지수는 전 거래일 대비 48.90포인트(1.38%) 오른 3,598.11에, 원/달러 환율은 23.0원 오른 1423.0원, 코스닥은 4.61포인트(0.54%) 오른 858.86에 개장했다. 출발했다. </p><span class=\"NewsList_information__kcJNR\"><cite class=\"NewsList_description__vmFPo\">아시아경제</cite><time class=\"NewsList_description__vmFPo\">15분 전</time></span></span><span class=\"NewsList_thumb__1wE7y\"><img alt=\"[포토] 끝없이 질주하는 코스피\" class=\"img\" data-src=\"https://imgnews.pstatic.net/image/origin/277/2025/10/10/5662605.jpg?type=nf206_146\" height=\"70\" src=\"https://imgnews.pstatic.net/image/origin/277/2025/10/10/5662605.jpg?type=nf206_146\" width=\"103\"/></span></a>, <a class=\"NewsList_link__EB1t5\" href=\"https://n.news.naver.com/article/018/0006134661\" rel=\"noreferrer noopener\" target=\"_blank\"><span class=\"NewsList_inner__AXU8T\"><strong class=\"NewsList_title__v55VO\">\"3600선 '혈' 뚫은 코스피, 연말까지 3700선 돌파 전망\"[스톡톡스]</strong><p class=\"NewsList_text__d5Emm\">추석 연휴 이후 첫 거래일, 코스피가 3600선을 뚫은 가운데 연말 3700선까지 넘어설 것이라는 증권가 전망이 나왔다. 인공지능(AI) 반도체 상승 모멘텀이 연말까지 지속할 것이란 분석이 나오면서다. 10일 서울 중구 하나은행 딜링룸 현황판에 코스피 지수 등이 표시되고 있다.(사진=연합뉴스) 10일 김용구 유안타증권 연구원은 이데일리와 통화에서 “추...</p><span class=\"NewsList_information__kcJNR\"><cite class=\"NewsList_description__vmFPo\">이데일리</cite><time class=\"NewsList_description__vmFPo\">15분 전</time></span></span><span class=\"NewsList_thumb__1wE7y\"><img alt=\"&quot;3600선 '혈' 뚫은 코스피, 연말까지 3700선 돌파 전망&quot;[스톡톡스]\" class=\"img\" data-src=\"https://imgnews.pstatic.net/image/origin/018/2025/10/10/6134661.jpg?type=nf206_146\" height=\"70\" src=\"https://imgnews.pstatic.net/image/origin/018/2025/10/10/6134661.jpg?type=nf206_146\" width=\"103\"/></span></a>, <a class=\"NewsList_link__EB1t5\" href=\"https://n.news.naver.com/article/015/0005194928\" rel=\"noreferrer noopener\" target=\"_blank\"><span class=\"NewsList_inner__AXU8T\"><strong class=\"NewsList_title__v55VO\">\"한계 있는 본업, 두나무는 히든카드\" 네이버 주가 강세</strong><p class=\"NewsList_text__d5Emm\">네이버 주가가 장중 강세다. 두나무와의 결합으로 실적 개선 기대감이 부각된 영향으로 풀이된다. 10일 오전 10시17분 현재 네이버 주가는 전날 대비 1만4000원(5.53%) 오른 26만7000원에 거래되고 있다. 이날 이지은 대신증권 연구원은 네이버 종목 분석 보고서를 내고 \"네이버파이낸셜-두나무의 자회사 편입 및 두나무 연결 실적 반영이 현실화할...</p><span class=\"NewsList_information__kcJNR\"><cite class=\"NewsList_description__vmFPo\">한국경제</cite><time class=\"NewsList_description__vmFPo\">15분 전</time></span></span><span class=\"NewsList_thumb__1wE7y\"><img alt='\"한계 있는 본업, 두나무는 히든카드\" 네이버 주가 강세' class=\"img\" data-src=\"https://imgnews.pstatic.net/image/origin/015/2025/10/10/5194928.jpg?type=nf206_146\" height=\"70\" src=\"https://imgnews.pstatic.net/image/origin/015/2025/10/10/5194928.jpg?type=nf206_146\" width=\"103\"/></span></a>, <a class=\"NewsList_link__EB1t5\" href=\"https://n.news.naver.com/article/277/0005662604\" rel=\"noreferrer noopener\" target=\"_blank\"><span class=\"NewsList_inner__AXU8T\"><strong class=\"NewsList_title__v55VO\">[포토] 코스피 2% 가까이 폭등</strong><p class=\"NewsList_text__d5Emm\">코스피가 사상 첫 3,610선을 돌파한 10일 서울 중구 하나은행 딜링룸 모니터에 코스피를 비롯해 원/달러 환율 등이 표시돼 있다. 이날 코스피 지수는 전 거래일 대비 48.90포인트(1.38%) 오른 3,598.11에, 원/달러 환율은 23.0원 오른 1423.0원, 코스닥은 4.61포인트(0.54%) 오른 858.86에 개장했다. 출발했다. </p><span class=\"NewsList_information__kcJNR\"><cite class=\"NewsList_description__vmFPo\">아시아경제</cite><time class=\"NewsList_description__vmFPo\">16분 전</time></span></span><span class=\"NewsList_thumb__1wE7y\"><img alt=\"[포토] 코스피 2% 가까이 폭등\" class=\"img\" data-src=\"https://imgnews.pstatic.net/image/origin/277/2025/10/10/5662604.jpg?type=nf206_146\" height=\"70\" src=\"https://imgnews.pstatic.net/image/origin/277/2025/10/10/5662604.jpg?type=nf206_146\" width=\"103\"/></span></a>, <a class=\"NewsList_link__EB1t5\" href=\"https://n.news.naver.com/article/016/0002539995\" rel=\"noreferrer noopener\" target=\"_blank\"><span class=\"NewsList_inner__AXU8T\"><strong class=\"NewsList_title__v55VO\">“불법 공매도 ‘엄벌’은 말뿐”…금융당국, 과징금 최대 80% 깎았다</strong><p class=\"NewsList_text__d5Emm\">올해 9월까지 총 65건에 1027억 과징금 ‘고의성 부족’·‘이해 부족’ 사유로 감경 “선진 시장선 통하지 않는 사유” 비판도 불법 공매도 과징금 부과 규모가 큰 제재 대상 현황 [허영 의원실 제공] [헤럴드경제=경예은 기자] 금융당국이 불법 공매도에 대한 엄중 처벌을 천명했지만, 실제 과징금은 최대 80%까지 감경된 것으로 확인됐다. ‘고의성 부족...</p><span class=\"NewsList_information__kcJNR\"><cite class=\"NewsList_description__vmFPo\">헤럴드경제</cite><time class=\"NewsList_description__vmFPo\">16분 전</time></span></span><span class=\"NewsList_thumb__1wE7y\"><img alt=\"“불법 공매도 ‘엄벌’은 말뿐”…금융당국, 과징금 최대 80% 깎았다\" class=\"img\" data-src=\"https://imgnews.pstatic.net/image/origin/016/2025/10/10/2539995.jpg?type=nf206_146\" height=\"70\" src=\"https://imgnews.pstatic.net/image/origin/016/2025/10/10/2539995.jpg?type=nf206_146\" width=\"103\"/></span></a>, <a class=\"NewsList_link__EB1t5\" href=\"https://n.news.naver.com/article/648/0000040575\" rel=\"noreferrer noopener\" target=\"_blank\"><span class=\"NewsList_inner__AXU8T\"><strong class=\"NewsList_title__v55VO\">'초임' 진옥동·임종룡 연임 할까…이 정부 첫 금융 CEO 인사</strong><p class=\"NewsList_text__d5Emm\">이재명 정부 출범 후 첫 최고경영자(CEO) 인사를 앞두고 금융권이 술렁이고 있다. 진옥동 신한금융지주 회장, 임종룡 우리금융지주 회장, 빈대인 BNK금융지주 회장이 내년 3월 임기를 마친다. 새 정부 '생산적 금융 정책' 기조에 발맞춰 연임 의지를 보이고 있지만 정권 교체에 따른 기류변화로 인사 태풍이 불 수 있다는 관측도 나온다. 10일 금융권에 ...</p><span class=\"NewsList_information__kcJNR\"><cite class=\"NewsList_description__vmFPo\">비즈워치</cite><time class=\"NewsList_description__vmFPo\">16분 전</time></span></span><span class=\"NewsList_thumb__1wE7y\"><img alt=\"'초임' 진옥동·임종룡 연임 할까…이 정부 첫 금융 CEO 인사\" class=\"img\" data-src=\"https://imgnews.pstatic.net/image/origin/648/2025/10/10/40575.jpg?type=nf206_146\" height=\"70\" src=\"https://imgnews.pstatic.net/image/origin/648/2025/10/10/40575.jpg?type=nf206_146\" width=\"103\"/></span></a>, <a class=\"NewsList_link__EB1t5\" href=\"https://n.news.naver.com/article/029/0002986277\" rel=\"noreferrer noopener\" target=\"_blank\"><span class=\"NewsList_inner__AXU8T\"><strong class=\"NewsList_title__v55VO\">비트코인, 연휴 중 최고가 돌파 후 12만달러선서 ‘횡보’</strong><p class=\"NewsList_text__d5Emm\">연휴 기간 중 사상 최고가를 경신했던 비트코인이 차익 실현 매도에 12만달러대를 유지하고 있다. 10일 코인게코에 따르면 이날 오전 10시 기준 비트코인은 24시간 전보다 1.0% 하락한 12만1802달러에 거래되고 있다. 비트코인은 지난 7일 12만6000달러를 돌파하며 사상 최고가를 경신했다. 상승 흐름을 견인한 건 미국 주식시장 강세, 상장지수펀...</p><span class=\"NewsList_information__kcJNR\"><cite class=\"NewsList_description__vmFPo\">디지털타임스</cite><time class=\"NewsList_description__vmFPo\">20분 전</time></span></span><span class=\"NewsList_thumb__1wE7y\"><img alt=\"비트코인, 연휴 중 최고가 돌파 후 12만달러선서 ‘횡보’\" class=\"img\" data-src=\"https://imgnews.pstatic.net/image/origin/029/2025/10/10/2986277.jpg?type=nf206_146\" height=\"70\" src=\"https://imgnews.pstatic.net/image/origin/029/2025/10/10/2986277.jpg?type=nf206_146\" width=\"103\"/></span></a>, <a class=\"NewsList_link__EB1t5\" href=\"https://n.news.naver.com/article/215/0001226596\" rel=\"noreferrer noopener\" target=\"_blank\"><span class=\"NewsList_inner__AXU8T\"><strong class=\"NewsList_title__v55VO\">코스피, 사상 첫 3600선 돌파…삼성전자·SK하이닉스 신고가</strong><p class=\"NewsList_text__d5Emm\">추석 연휴 기간 쉬어간 코스피가 10일 장 초반 3,600선을 기록했다. 이날 코스피는 전 거래일보다 48.90포인트(1.38%) 오른 3,598.11에 장을 열었다. 개장 직후 3,606.86을 기록한 뒤, 오전 9시 23분 기준 3,594선에서 움직이고 있다. 투자자별 매매동향을 살펴보면, 외국인과 개인이 각각 1,324억 원, 2,042억 원 순...</p><span class=\"NewsList_information__kcJNR\"><cite class=\"NewsList_description__vmFPo\">한국경제TV</cite><time class=\"NewsList_description__vmFPo\">20분 전</time></span></span><span class=\"NewsList_thumb__1wE7y\"><img alt=\"코스피, 사상 첫 3600선 돌파…삼성전자·SK하이닉스 신고가\" class=\"img\" data-src=\"https://imgnews.pstatic.net/image/origin/215/2025/10/10/1226596.jpg?type=nf206_146\" height=\"70\" src=\"https://imgnews.pstatic.net/image/origin/215/2025/10/10/1226596.jpg?type=nf206_146\" width=\"103\"/></span></a>, <a class=\"FooterQuickMenu-module_link__t0NIA\" data-nlogs=\"fot.login\" href=\"#\" target=\"_self\">로그인</a>, <a class=\"FooterQuickMenu-module_link__t0NIA\" data-nlogs=\"fot.terms\" href=\"https://policy.naver.com/policy-mobile/term.html?type=1\" target=\"_self\">이용약관</a>, <a class=\"FooterQuickMenu-module_link__t0NIA FooterQuickMenu-module_type-bold__Ngdla\" data-nlogs=\"fot.personal\" href=\"https://policy.naver.com/policy-mobile/privacy.html\" target=\"_self\">개인정보 처리방침</a>, <a class=\"FooterQuickMenu-module_link__t0NIA\" data-nlogs=\"fot.help\" href=\"https://help.naver.com/alias/contents2/finance/finance_1.naver\" target=\"_self\">증권 고객센터</a>, <a class=\"IconText-module_article__983nq\" href=\"https://home.pay.naver.com/\"><div class=\"IconText-module_icon__Ltssg\"><div><svg fill=\"none\" height=\"24\" viewbox=\"0 0 24 24\" width=\"24\" xmlns=\"http://www.w3.org/2000/svg\"><path d=\"M15.6011 10.4619C15.7448 10.0896 16.1618 9.90477 16.5326 10.0491C16.8724 10.1813 17.0554 10.5442 16.9729 10.8905L16.9437 10.9844L14.8001 16.5383C14.577 17.1162 13.7982 17.152 13.5073 16.6433L13.4587 16.5416L11.9571 12.7049L10.4685 16.5397C10.2427 17.1214 9.45605 17.1505 9.17095 16.6341L9.12363 16.5308L7.05028 10.9769C6.91071 10.603 7.09939 10.1863 7.47171 10.0462C7.813 9.91773 8.19013 10.0662 8.35812 10.3798L8.39856 10.4694L9.81072 14.253L11.2835 10.4605C11.5075 9.88373 12.2852 9.84872 12.5758 10.357L12.6243 10.4586L14.1237 14.2877L15.6011 10.4619Z\" fill=\"#1E1E23\"></path><path d=\"M8.06081 12.5247C8.45843 12.5247 8.78076 12.8484 8.78076 13.2476C8.78076 13.6136 8.50991 13.9161 8.15851 13.964L8.06081 13.9706H6.71995C6.32233 13.9706 6 13.6469 6 13.2476C6 12.8817 6.27085 12.5792 6.62226 12.5313L6.71995 12.5247H8.06081Z\" fill=\"#1E1E23\"></path><path d=\"M17.2801 12.5247C17.6777 12.5247 18 12.8484 18 13.2476C18 13.6136 17.7292 13.9161 17.3777 13.964L17.2801 13.9706H15.9392C15.5416 13.9706 15.2192 13.6469 15.2192 13.2476C15.2192 12.8817 15.4901 12.5792 15.8415 12.5313L15.9392 12.5247H17.2801Z\" fill=\"#1E1E23\"></path><path clip-rule=\"evenodd\" d=\"M3.5 4.75C3.08579 4.75 2.75 5.08579 2.75 5.5V19.5C2.75 19.9142 3.08579 20.25 3.5 20.25H20.5C20.9142 20.25 21.25 19.9142 21.25 19.5V7.86111C21.25 7.4469 20.9142 7.11111 20.5 7.11111H12.6295L10.1136 4.93297C9.9773 4.81496 9.80303 4.75 9.62272 4.75H3.5ZM1.25 5.5C1.25 4.25736 2.25736 3.25 3.5 3.25H9.62272C10.1636 3.25 10.6865 3.44487 11.0954 3.79892L13.1886 5.61111H20.5C21.7426 5.61111 22.75 6.61847 22.75 7.86111V19.5C22.75 20.7426 21.7426 21.75 20.5 21.75H3.5C2.25736 21.75 1.25 20.7426 1.25 19.5V5.5Z\" fill=\"#1E1E23\" fill-rule=\"evenodd\"></path></svg></div></div>금융</a>, <a class=\"IconText-module_article__983nq\" href=\"https://point.pay.naver.com/main\"><div class=\"IconText-module_icon__Ltssg\"><div><svg fill=\"none\" height=\"24\" viewbox=\"0 0 24 24\" width=\"24\" xmlns=\"http://www.w3.org/2000/svg\"><circle cx=\"12\" cy=\"12\" r=\"10.25\" stroke=\"#1E1E23\" stroke-width=\"1.5\"></circle><path d=\"M14.7078 7.86938C15.1217 7.8696 15.4576 8.20548 15.4578 8.61938V11.3596H17.0447L17.1208 11.3635C17.4992 11.4018 17.7947 11.7212 17.7947 12.1096C17.7947 12.498 17.4992 12.8174 17.1208 12.8557L17.0447 12.8596H15.4578V15.6282C15.4576 16.4491 14.4087 16.7927 13.9226 16.1311L9.95972 10.7327V15.7239C9.95951 16.1378 9.62369 16.4737 9.20972 16.4739C8.79563 16.4739 8.45993 16.1379 8.45972 15.7239V12.8596H7.03979C6.62558 12.8596 6.28979 12.5238 6.28979 12.1096C6.28979 11.6954 6.62558 11.3596 7.03979 11.3596H8.45972V8.75024C8.45972 7.98045 9.38143 7.62974 9.89722 8.13403L9.99487 8.24634L13.9578 13.6438V8.61938C13.958 8.20535 14.2937 7.86938 14.7078 7.86938Z\" fill=\"#1E1E23\"></path></svg></div></div>포인트</a>, <a class=\"IconText-module_article__983nq\" href=\"https://new-m.pay.naver.com/historybenefit/home\"><div class=\"IconText-module_icon__Ltssg\"><div><svg fill=\"none\" height=\"24\" viewbox=\"0 0 24 24\" width=\"24\" xmlns=\"http://www.w3.org/2000/svg\"><path clip-rule=\"evenodd\" d=\"M4.5 3.75C4.08579 3.75 3.75 4.08579 3.75 4.5V21.0988C4.6703 20.4998 5.86015 20.5054 6.77543 21.1156L7.36132 21.5062L6.95844 22.1105L7.36133 21.5062C7.4453 21.5621 7.5547 21.5621 7.63867 21.5062L8.0547 22.1302L7.63868 21.5062L8.22457 21.1156C9.1483 20.4997 10.3517 20.4997 11.2754 21.1156L11.8613 21.5062L11.4453 22.1302L11.8613 21.5062C11.9453 21.5621 12.0547 21.5621 12.1387 21.5062L12.7246 21.1156C13.6483 20.4997 14.8517 20.4997 15.7754 21.1156L16.3613 21.5062L15.9453 22.1302L16.3613 21.5062C16.4453 21.5621 16.5547 21.5621 16.6387 21.5062L17.2246 21.1156C18.1398 20.5054 19.3297 20.4998 20.25 21.0988V4.5C20.25 4.08579 19.9142 3.75 19.5 3.75H4.5ZM2.25 4.5C2.25 3.25736 3.25736 2.25 4.5 2.25H19.5C20.7426 2.25 21.75 3.25736 21.75 4.5V22.5C21.75 22.7766 21.5978 23.0307 21.3539 23.1613C21.11 23.2918 20.8141 23.2775 20.584 23.124L19.4434 22.3636C19.0235 22.0837 18.4765 22.0837 18.0566 22.3636L17.4707 22.7542C16.8829 23.1461 16.1171 23.1461 15.5293 22.7542L14.9434 22.3636C14.5235 22.0837 13.9765 22.0837 13.5566 22.3636L12.9707 22.7542C12.3829 23.1461 11.6171 23.1461 11.0293 22.7542L10.4434 22.3636L10.8191 21.8L10.4434 22.3636C10.0235 22.0837 9.4765 22.0837 9.05662 22.3636L8.6406 21.7396L9.05662 22.3636L8.47072 22.7542C7.8829 23.1461 7.1171 23.1461 6.52928 22.7542L5.94338 22.3636L6.3594 21.7396L5.94337 22.3636C5.5235 22.0837 4.9765 22.0837 4.55662 22.3636L4.14713 21.7494L4.55662 22.3636L3.41602 23.124C3.18588 23.2775 2.88997 23.2918 2.64611 23.1613C2.40224 23.0307 2.25 22.7766 2.25 22.5V4.5Z\" fill=\"#1E1E23\" fill-rule=\"evenodd\"></path><path d=\"M6 7.75C6 7.33579 6.30996 7 6.69231 7H17.3077C17.69 7 18 7.33579 18 7.75C18 8.16421 17.69 8.5 17.3077 8.5H6.69231C6.30996 8.5 6 8.16421 6 7.75Z\" fill=\"#1E1E23\"></path><path d=\"M6 11.75C6 11.3358 6.30996 11 6.69231 11H17.3077C17.69 11 18 11.3358 18 11.75C18 12.1642 17.69 12.5 17.3077 12.5H6.69231C6.30996 12.5 6 12.1642 6 11.75Z\" fill=\"#1E1E23\"></path><path d=\"M6 15.75C6 15.3358 6.30996 15 6.69231 15H11.7692C12.1516 15 12.4615 15.3358 12.4615 15.75C12.4615 16.1642 12.1516 16.5 11.7692 16.5H6.69231C6.30996 16.5 6 16.1642 6 15.75Z\" fill=\"#1E1E23\"></path></svg></div></div>결제</a>, <a class=\"IconText-module_article__983nq IconText-module_is-selected__81QfW\" href=\"https://m.stock.naver.com/\"><div class=\"IconText-module_icon__Ltssg\"><div><svg fill=\"none\" height=\"24\" viewbox=\"0 0 24 24\" width=\"24\" xmlns=\"http://www.w3.org/2000/svg\"><path d=\"M3 20.5V15.5037C3 15.1869 3.15016 14.8888 3.40477 14.7002L7.55258 11.6277C8.06099 11.2511 8.75103 11.234 9.27747 11.585L12.0225 13.415C12.549 13.766 13.239 13.7489 13.7474 13.3723L19.0857 9.41798C19.8777 8.83134 21 9.39668 21 10.3822V20.5C21 21.3284 20.3284 22 19.5 22H4.5C3.67157 22 3 21.3284 3 20.5Z\" fill=\"#1E1E23\"></path><path clip-rule=\"evenodd\" d=\"M18.6393 8.81531C19.9262 7.86203 21.75 8.7807 21.75 10.3822V20.5C21.75 21.7426 20.7426 22.75 19.5 22.75H4.5C3.25736 22.75 2.25 21.7426 2.25 20.5V15.5037C2.25 14.9492 2.51278 14.4276 2.95835 14.0975L3.40477 14.7002L2.95835 14.0975L7.10616 11.0251C7.86877 10.4602 8.90384 10.4345 9.69349 10.9609L12.4386 12.791C12.7018 12.9665 13.0468 12.9579 13.301 12.7696L18.6393 8.81531ZM20.25 10.3822C20.25 10.0127 19.8291 9.80066 19.5321 10.0206L14.1938 13.9749C13.4312 14.5398 12.3962 14.5655 11.6065 14.0391L8.86145 12.209C8.59823 12.0335 8.2532 12.0421 7.999 12.2304L3.85119 15.3028L3.41031 14.7076L3.85119 15.3028C3.78754 15.35 3.75 15.4245 3.75 15.5037V20.5C3.75 20.9142 4.08579 21.25 4.5 21.25H19.5C19.9142 21.25 20.25 20.9142 20.25 20.5V10.3822Z\" fill=\"#1E1E23\" fill-rule=\"evenodd\"></path><path clip-rule=\"evenodd\" d=\"M21.6027 3.55358C21.8493 3.88643 21.7793 4.35612 21.4465 4.60267L13.9114 10.1842C13.3183 10.6236 12.5132 10.6435 11.899 10.2341L8.86149 8.20902C8.59827 8.03354 8.25325 8.04209 7.99905 8.23039L3.44647 11.6027C3.11362 11.8492 2.64393 11.7793 2.39738 11.4464C2.15083 11.1136 2.22078 10.6439 2.55363 10.3973L7.1062 7.02505C7.86882 6.46015 8.90389 6.43451 9.69354 6.96094L12.7311 8.98598C12.8188 9.04447 12.9338 9.04162 13.0186 8.97885L20.5536 3.39733C20.8865 3.15078 21.3562 3.22074 21.6027 3.55358Z\" fill=\"#1E1E23\" fill-rule=\"evenodd\"></path><path clip-rule=\"evenodd\" d=\"M16.75 3.5C16.75 3.08579 17.0858 2.75 17.5 2.75H20.5C21.1904 2.75 21.75 3.30964 21.75 4V7C21.75 7.41421 21.4142 7.75 21 7.75C20.5858 7.75 20.25 7.41421 20.25 7V4.25H17.5C17.0858 4.25 16.75 3.91421 16.75 3.5Z\" fill=\"#1E1E23\" fill-rule=\"evenodd\"></path></svg></div></div>증권<span class=\"blind\">현재 페이지</span></a>, <a class=\"IconText-module_article__983nq\" href=\"https://fin.land.naver.com/\"><div class=\"IconText-module_icon__Ltssg\"><div><svg fill=\"none\" height=\"24\" viewbox=\"0 0 24 24\" width=\"24\" xmlns=\"http://www.w3.org/2000/svg\"><path d=\"M8 9.40001C8 9.17909 8.17909 9.00001 8.4 9.00001H10.6C10.8209 9.00001 11 9.17909 11 9.40001V11.6C11 11.8209 10.8209 12 10.6 12H8.4C8.17909 12 8 11.8209 8 11.6V9.40001Z\" fill=\"#1E1E23\"></path><path d=\"M8 14.4C8 14.1791 8.17909 14 8.4 14H10.6C10.8209 14 11 14.1791 11 14.4V16.6C11 16.8209 10.8209 17 10.6 17H8.4C8.17909 17 8 16.8209 8 16.6V14.4Z\" fill=\"#1E1E23\"></path><path d=\"M13 9.40001C13 9.17909 13.1791 9.00001 13.4 9.00001H15.6C15.8209 9.00001 16 9.17909 16 9.40001V11.6C16 11.8209 15.8209 12 15.6 12H13.4C13.1791 12 13 11.8209 13 11.6V9.40001Z\" fill=\"#1E1E23\"></path><path d=\"M13 14.4C13 14.1791 13.1791 14 13.4 14H15.6C15.8209 14 16 14.1791 16 14.4V16.6C16 16.8209 15.8209 17 15.6 17H13.4C13.1791 17 13 16.8209 13 16.6V14.4Z\" fill=\"#1E1E23\"></path><path clip-rule=\"evenodd\" d=\"M12.3642 3.06032C12.1377 2.93448 11.8623 2.93448 11.6358 3.06032L4.13577 7.22699C3.89767 7.35927 3.75 7.61023 3.75 7.88261V20.5C3.75 20.9142 4.08579 21.25 4.5 21.25H19.5C19.9142 21.25 20.25 20.9142 20.25 20.5V7.88261C20.25 7.61023 20.1023 7.35927 19.8642 7.22699L12.3642 3.06032ZM10.9073 1.74909C11.5869 1.37156 12.4131 1.37156 13.0927 1.74909L20.5927 5.91575C21.307 6.31259 21.75 7.06548 21.75 7.88261V20.5C21.75 21.7426 20.7426 22.75 19.5 22.75H4.5C3.25736 22.75 2.25 21.7426 2.25 20.5V7.88261C2.25 7.06548 2.69301 6.31259 3.4073 5.91576L10.9073 1.74909Z\" fill=\"#1E1E23\" fill-rule=\"evenodd\"></path></svg></div></div>부동산</a>]\n"
     ]
    }
   ],
   "source": [
    "from selenium import webdriver\n",
    "from bs4 import BeautifulSoup\n",
    "import time\n",
    "\n",
    "driver = webdriver.Chrome()\n",
    "driver.get(\"https://m.stock.naver.com/investment/news/flashnews\")\n",
    "\n",
    "# JS가 DOM을 렌더링할 때까지 기다림\n",
    "time.sleep(3)\n",
    "\n",
    "html = driver.page_source\n",
    "soup = BeautifulSoup(html, \"html.parser\")\n",
    "\n",
    "elements = soup.select(\"a\")\n",
    "print(elements)\n",
    "driver.quit()"
   ]
  },
  {
   "cell_type": "code",
   "execution_count": null,
   "id": "3a8c8591",
   "metadata": {},
   "outputs": [
    {
     "data": {
      "text/plain": [
       "[<img alt=\"'비철금속 거목' 최창걸 고려아연 명예회장 영결식 엄수\" class=\"img\" data-src=\"https://imgnews.pstatic.net/image/origin/011/2025/10/10/4541748.jpg?type=nf206_146\" height=\"70\" src=\"https://imgnews.pstatic.net/image/origin/011/2025/10/10/4541748.jpg?type=nf206_146\" width=\"103\"/>,\n",
       " <img alt=\"‘사상 첫 3600 정복’ 코스피, 연휴 내 참았던 투심 폭발…4000피向 질주 걸림돌 ‘이 지점’ [투자360]\" class=\"img\" data-src=\"https://imgnews.pstatic.net/image/origin/016/2025/10/10/2540004.jpg?type=nf206_146\" height=\"70\" src=\"https://imgnews.pstatic.net/image/origin/016/2025/10/10/2540004.jpg?type=nf206_146\" width=\"103\"/>,\n",
       " <img alt=\"에브리싱 랠리 속 진짜 주인공은 금?…S&amp;P500을 추월한 ‘금의 시대’\" class=\"img\" data-src=\"https://imgnews.pstatic.net/image/origin/016/2025/10/10/2540003.jpg?type=nf206_146\" height=\"70\" src=\"https://imgnews.pstatic.net/image/origin/016/2025/10/10/2540003.jpg?type=nf206_146\" width=\"103\"/>,\n",
       " <img alt=\"연휴 끝 실적 시즌 시작…'추석 랠리' 올해도 통할까\" class=\"img\" data-src=\"https://imgnews.pstatic.net/image/origin/629/2025/10/10/432712.jpg?type=nf206_146\" height=\"70\" src=\"https://imgnews.pstatic.net/image/origin/629/2025/10/10/432712.jpg?type=nf206_146\" width=\"103\"/>,\n",
       " <img alt=\"[특징주]온코닉테라퓨틱스, 췌장암 신약 기대감·무상증자 권리락에 '上'\" class=\"img\" data-src=\"https://imgnews.pstatic.net/image/origin/277/2025/10/10/5662617.jpg?type=nf206_146\" height=\"70\" src=\"https://imgnews.pstatic.net/image/origin/277/2025/10/10/5662617.jpg?type=nf206_146\" width=\"103\"/>,\n",
       " <img alt=\"한국타이어, 영국 전기차 전시회 참가… 현지 소통 강화\" class=\"img\" data-src=\"https://imgnews.pstatic.net/image/origin/417/2025/10/10/1105756.jpg?type=nf206_146\" height=\"70\" src=\"https://imgnews.pstatic.net/image/origin/417/2025/10/10/1105756.jpg?type=nf206_146\" width=\"103\"/>,\n",
       " <img alt=\"[알림]제36회 신용평가 전문가설문(SRE)을 실시합니다\" class=\"img\" data-src=\"https://imgnews.pstatic.net/image/origin/018/2025/10/10/6134664.jpg?type=nf206_146\" height=\"70\" src=\"https://imgnews.pstatic.net/image/origin/018/2025/10/10/6134664.jpg?type=nf206_146\" width=\"103\"/>,\n",
       " <img alt='\"2.7%만 더 오르면\"…삼성전자, 역대 최고가 임박' class=\"img\" data-src=\"https://imgnews.pstatic.net/image/origin/421/2025/10/10/8529944.jpg?type=nf206_146\" height=\"70\" src=\"https://imgnews.pstatic.net/image/origin/421/2025/10/10/8529944.jpg?type=nf206_146\" width=\"103\"/>,\n",
       " <img alt=\"한투운용&amp;#160;ACE ETF&amp;#160;리브랜딩&amp;#160;3주년 기념 커피차·기프티콘 이벤트\" class=\"img\" data-src=\"https://imgnews.pstatic.net/image/origin/366/2025/10/10/1113367.jpg?type=nf206_146\" height=\"70\" src=\"https://imgnews.pstatic.net/image/origin/366/2025/10/10/1113367.jpg?type=nf206_146\" width=\"103\"/>,\n",
       " <img alt=\"[포토] 치솟는 코스피\" class=\"img\" data-src=\"https://imgnews.pstatic.net/image/origin/277/2025/10/10/5662608.jpg?type=nf206_146\" height=\"70\" src=\"https://imgnews.pstatic.net/image/origin/277/2025/10/10/5662608.jpg?type=nf206_146\" width=\"103\"/>,\n",
       " <img alt=\"[포토] 끝없이 질주하는 코스피\" class=\"img\" data-src=\"https://imgnews.pstatic.net/image/origin/277/2025/10/10/5662605.jpg?type=nf206_146\" height=\"70\" src=\"https://imgnews.pstatic.net/image/origin/277/2025/10/10/5662605.jpg?type=nf206_146\" width=\"103\"/>,\n",
       " <img alt=\"&quot;3600선 '혈' 뚫은 코스피, 연말까지 3700선 돌파 전망&quot;[스톡톡스]\" class=\"img\" data-src=\"https://imgnews.pstatic.net/image/origin/018/2025/10/10/6134661.jpg?type=nf206_146\" height=\"70\" src=\"https://imgnews.pstatic.net/image/origin/018/2025/10/10/6134661.jpg?type=nf206_146\" width=\"103\"/>,\n",
       " <img alt='\"한계 있는 본업, 두나무는 히든카드\" 네이버 주가 강세' class=\"img\" data-src=\"https://imgnews.pstatic.net/image/origin/015/2025/10/10/5194928.jpg?type=nf206_146\" height=\"70\" src=\"https://imgnews.pstatic.net/image/origin/015/2025/10/10/5194928.jpg?type=nf206_146\" width=\"103\"/>,\n",
       " <img alt=\"[포토] 코스피 2% 가까이 폭등\" class=\"img\" data-src=\"https://imgnews.pstatic.net/image/origin/277/2025/10/10/5662604.jpg?type=nf206_146\" height=\"70\" src=\"https://imgnews.pstatic.net/image/origin/277/2025/10/10/5662604.jpg?type=nf206_146\" width=\"103\"/>,\n",
       " <img alt=\"“불법 공매도 ‘엄벌’은 말뿐”…금융당국, 과징금 최대 80% 깎았다\" class=\"img\" data-src=\"https://imgnews.pstatic.net/image/origin/016/2025/10/10/2539995.jpg?type=nf206_146\" height=\"70\" src=\"https://imgnews.pstatic.net/image/origin/016/2025/10/10/2539995.jpg?type=nf206_146\" width=\"103\"/>,\n",
       " <img alt=\"'초임' 진옥동·임종룡 연임 할까…이 정부 첫 금융 CEO 인사\" class=\"img\" data-src=\"https://imgnews.pstatic.net/image/origin/648/2025/10/10/40575.jpg?type=nf206_146\" height=\"70\" src=\"https://imgnews.pstatic.net/image/origin/648/2025/10/10/40575.jpg?type=nf206_146\" width=\"103\"/>,\n",
       " <img alt=\"비트코인, 연휴 중 최고가 돌파 후 12만달러선서 ‘횡보’\" class=\"img\" data-src=\"https://imgnews.pstatic.net/image/origin/029/2025/10/10/2986277.jpg?type=nf206_146\" height=\"70\" src=\"https://imgnews.pstatic.net/image/origin/029/2025/10/10/2986277.jpg?type=nf206_146\" width=\"103\"/>,\n",
       " <img alt=\"코스피, 사상 첫 3600선 돌파…삼성전자·SK하이닉스 신고가\" class=\"img\" data-src=\"https://imgnews.pstatic.net/image/origin/215/2025/10/10/1226596.jpg?type=nf206_146\" height=\"70\" src=\"https://imgnews.pstatic.net/image/origin/215/2025/10/10/1226596.jpg?type=nf206_146\" width=\"103\"/>]"
      ]
     },
     "execution_count": 43,
     "metadata": {},
     "output_type": "execute_result"
    }
   ],
   "source": [
    "images = soup.find_all('img', src=True)\n",
    "images"
   ]
  },
  {
   "cell_type": "code",
   "execution_count": 47,
   "id": "e4de3067",
   "metadata": {},
   "outputs": [
    {
     "data": {
      "text/plain": [
       "[<img alt=\"'비철금속 거목' 최창걸 고려아연 명예회장 영결식 엄수\" class=\"img\" data-src=\"https://imgnews.pstatic.net/image/origin/011/2025/10/10/4541748.jpg?type=nf206_146\" height=\"70\" src=\"https://imgnews.pstatic.net/image/origin/011/2025/10/10/4541748.jpg?type=nf206_146\" width=\"103\"/>,\n",
       " <img alt=\"‘사상 첫 3600 정복’ 코스피, 연휴 내 참았던 투심 폭발…4000피向 질주 걸림돌 ‘이 지점’ [투자360]\" class=\"img\" data-src=\"https://imgnews.pstatic.net/image/origin/016/2025/10/10/2540004.jpg?type=nf206_146\" height=\"70\" src=\"https://imgnews.pstatic.net/image/origin/016/2025/10/10/2540004.jpg?type=nf206_146\" width=\"103\"/>,\n",
       " <img alt=\"에브리싱 랠리 속 진짜 주인공은 금?…S&amp;P500을 추월한 ‘금의 시대’\" class=\"img\" data-src=\"https://imgnews.pstatic.net/image/origin/016/2025/10/10/2540003.jpg?type=nf206_146\" height=\"70\" src=\"https://imgnews.pstatic.net/image/origin/016/2025/10/10/2540003.jpg?type=nf206_146\" width=\"103\"/>,\n",
       " <img alt=\"연휴 끝 실적 시즌 시작…'추석 랠리' 올해도 통할까\" class=\"img\" data-src=\"https://imgnews.pstatic.net/image/origin/629/2025/10/10/432712.jpg?type=nf206_146\" height=\"70\" src=\"https://imgnews.pstatic.net/image/origin/629/2025/10/10/432712.jpg?type=nf206_146\" width=\"103\"/>,\n",
       " <img alt=\"[특징주]온코닉테라퓨틱스, 췌장암 신약 기대감·무상증자 권리락에 '上'\" class=\"img\" data-src=\"https://imgnews.pstatic.net/image/origin/277/2025/10/10/5662617.jpg?type=nf206_146\" height=\"70\" src=\"https://imgnews.pstatic.net/image/origin/277/2025/10/10/5662617.jpg?type=nf206_146\" width=\"103\"/>,\n",
       " <img alt=\"한국타이어, 영국 전기차 전시회 참가… 현지 소통 강화\" class=\"img\" data-src=\"https://imgnews.pstatic.net/image/origin/417/2025/10/10/1105756.jpg?type=nf206_146\" height=\"70\" src=\"https://imgnews.pstatic.net/image/origin/417/2025/10/10/1105756.jpg?type=nf206_146\" width=\"103\"/>,\n",
       " <img alt=\"[알림]제36회 신용평가 전문가설문(SRE)을 실시합니다\" class=\"img\" data-src=\"https://imgnews.pstatic.net/image/origin/018/2025/10/10/6134664.jpg?type=nf206_146\" height=\"70\" src=\"https://imgnews.pstatic.net/image/origin/018/2025/10/10/6134664.jpg?type=nf206_146\" width=\"103\"/>,\n",
       " <img alt='\"2.7%만 더 오르면\"…삼성전자, 역대 최고가 임박' class=\"img\" data-src=\"https://imgnews.pstatic.net/image/origin/421/2025/10/10/8529944.jpg?type=nf206_146\" height=\"70\" src=\"https://imgnews.pstatic.net/image/origin/421/2025/10/10/8529944.jpg?type=nf206_146\" width=\"103\"/>,\n",
       " <img alt=\"한투운용&amp;#160;ACE ETF&amp;#160;리브랜딩&amp;#160;3주년 기념 커피차·기프티콘 이벤트\" class=\"img\" data-src=\"https://imgnews.pstatic.net/image/origin/366/2025/10/10/1113367.jpg?type=nf206_146\" height=\"70\" src=\"https://imgnews.pstatic.net/image/origin/366/2025/10/10/1113367.jpg?type=nf206_146\" width=\"103\"/>,\n",
       " <img alt=\"[포토] 치솟는 코스피\" class=\"img\" data-src=\"https://imgnews.pstatic.net/image/origin/277/2025/10/10/5662608.jpg?type=nf206_146\" height=\"70\" src=\"https://imgnews.pstatic.net/image/origin/277/2025/10/10/5662608.jpg?type=nf206_146\" width=\"103\"/>,\n",
       " <img alt=\"[포토] 끝없이 질주하는 코스피\" class=\"img\" data-src=\"https://imgnews.pstatic.net/image/origin/277/2025/10/10/5662605.jpg?type=nf206_146\" height=\"70\" src=\"https://imgnews.pstatic.net/image/origin/277/2025/10/10/5662605.jpg?type=nf206_146\" width=\"103\"/>,\n",
       " <img alt=\"&quot;3600선 '혈' 뚫은 코스피, 연말까지 3700선 돌파 전망&quot;[스톡톡스]\" class=\"img\" data-src=\"https://imgnews.pstatic.net/image/origin/018/2025/10/10/6134661.jpg?type=nf206_146\" height=\"70\" src=\"https://imgnews.pstatic.net/image/origin/018/2025/10/10/6134661.jpg?type=nf206_146\" width=\"103\"/>,\n",
       " <img alt='\"한계 있는 본업, 두나무는 히든카드\" 네이버 주가 강세' class=\"img\" data-src=\"https://imgnews.pstatic.net/image/origin/015/2025/10/10/5194928.jpg?type=nf206_146\" height=\"70\" src=\"https://imgnews.pstatic.net/image/origin/015/2025/10/10/5194928.jpg?type=nf206_146\" width=\"103\"/>,\n",
       " <img alt=\"[포토] 코스피 2% 가까이 폭등\" class=\"img\" data-src=\"https://imgnews.pstatic.net/image/origin/277/2025/10/10/5662604.jpg?type=nf206_146\" height=\"70\" src=\"https://imgnews.pstatic.net/image/origin/277/2025/10/10/5662604.jpg?type=nf206_146\" width=\"103\"/>,\n",
       " <img alt=\"“불법 공매도 ‘엄벌’은 말뿐”…금융당국, 과징금 최대 80% 깎았다\" class=\"img\" data-src=\"https://imgnews.pstatic.net/image/origin/016/2025/10/10/2539995.jpg?type=nf206_146\" height=\"70\" src=\"https://imgnews.pstatic.net/image/origin/016/2025/10/10/2539995.jpg?type=nf206_146\" width=\"103\"/>,\n",
       " <img alt=\"'초임' 진옥동·임종룡 연임 할까…이 정부 첫 금융 CEO 인사\" class=\"img\" data-src=\"https://imgnews.pstatic.net/image/origin/648/2025/10/10/40575.jpg?type=nf206_146\" height=\"70\" src=\"https://imgnews.pstatic.net/image/origin/648/2025/10/10/40575.jpg?type=nf206_146\" width=\"103\"/>,\n",
       " <img alt=\"비트코인, 연휴 중 최고가 돌파 후 12만달러선서 ‘횡보’\" class=\"img\" data-src=\"https://imgnews.pstatic.net/image/origin/029/2025/10/10/2986277.jpg?type=nf206_146\" height=\"70\" src=\"https://imgnews.pstatic.net/image/origin/029/2025/10/10/2986277.jpg?type=nf206_146\" width=\"103\"/>,\n",
       " <img alt=\"코스피, 사상 첫 3600선 돌파…삼성전자·SK하이닉스 신고가\" class=\"img\" data-src=\"https://imgnews.pstatic.net/image/origin/215/2025/10/10/1226596.jpg?type=nf206_146\" height=\"70\" src=\"https://imgnews.pstatic.net/image/origin/215/2025/10/10/1226596.jpg?type=nf206_146\" width=\"103\"/>]"
      ]
     },
     "execution_count": 47,
     "metadata": {},
     "output_type": "execute_result"
    }
   ],
   "source": [
    "# logo = soup.find('img', {'src': 'logo.png'})\n",
    "logos = soup.select('img[src*=\"pstatic\"]')\n",
    "logos"
   ]
  },
  {
   "cell_type": "code",
   "execution_count": 50,
   "id": "ad1d8bc4",
   "metadata": {},
   "outputs": [
    {
     "data": {
      "text/plain": [
       "[<img alt=\"'비철금속 거목' 최창걸 고려아연 명예회장 영결식 엄수\" class=\"img\" data-src=\"https://imgnews.pstatic.net/image/origin/011/2025/10/10/4541748.jpg?type=nf206_146\" height=\"70\" src=\"https://imgnews.pstatic.net/image/origin/011/2025/10/10/4541748.jpg?type=nf206_146\" width=\"103\"/>,\n",
       " <img alt=\"‘사상 첫 3600 정복’ 코스피, 연휴 내 참았던 투심 폭발…4000피向 질주 걸림돌 ‘이 지점’ [투자360]\" class=\"img\" data-src=\"https://imgnews.pstatic.net/image/origin/016/2025/10/10/2540004.jpg?type=nf206_146\" height=\"70\" src=\"https://imgnews.pstatic.net/image/origin/016/2025/10/10/2540004.jpg?type=nf206_146\" width=\"103\"/>,\n",
       " <img alt=\"에브리싱 랠리 속 진짜 주인공은 금?…S&amp;P500을 추월한 ‘금의 시대’\" class=\"img\" data-src=\"https://imgnews.pstatic.net/image/origin/016/2025/10/10/2540003.jpg?type=nf206_146\" height=\"70\" src=\"https://imgnews.pstatic.net/image/origin/016/2025/10/10/2540003.jpg?type=nf206_146\" width=\"103\"/>,\n",
       " <img alt=\"연휴 끝 실적 시즌 시작…'추석 랠리' 올해도 통할까\" class=\"img\" data-src=\"https://imgnews.pstatic.net/image/origin/629/2025/10/10/432712.jpg?type=nf206_146\" height=\"70\" src=\"https://imgnews.pstatic.net/image/origin/629/2025/10/10/432712.jpg?type=nf206_146\" width=\"103\"/>,\n",
       " <img alt=\"[특징주]온코닉테라퓨틱스, 췌장암 신약 기대감·무상증자 권리락에 '上'\" class=\"img\" data-src=\"https://imgnews.pstatic.net/image/origin/277/2025/10/10/5662617.jpg?type=nf206_146\" height=\"70\" src=\"https://imgnews.pstatic.net/image/origin/277/2025/10/10/5662617.jpg?type=nf206_146\" width=\"103\"/>,\n",
       " <img alt=\"한국타이어, 영국 전기차 전시회 참가… 현지 소통 강화\" class=\"img\" data-src=\"https://imgnews.pstatic.net/image/origin/417/2025/10/10/1105756.jpg?type=nf206_146\" height=\"70\" src=\"https://imgnews.pstatic.net/image/origin/417/2025/10/10/1105756.jpg?type=nf206_146\" width=\"103\"/>,\n",
       " <img alt=\"[알림]제36회 신용평가 전문가설문(SRE)을 실시합니다\" class=\"img\" data-src=\"https://imgnews.pstatic.net/image/origin/018/2025/10/10/6134664.jpg?type=nf206_146\" height=\"70\" src=\"https://imgnews.pstatic.net/image/origin/018/2025/10/10/6134664.jpg?type=nf206_146\" width=\"103\"/>,\n",
       " <img alt='\"2.7%만 더 오르면\"…삼성전자, 역대 최고가 임박' class=\"img\" data-src=\"https://imgnews.pstatic.net/image/origin/421/2025/10/10/8529944.jpg?type=nf206_146\" height=\"70\" src=\"https://imgnews.pstatic.net/image/origin/421/2025/10/10/8529944.jpg?type=nf206_146\" width=\"103\"/>,\n",
       " <img alt=\"한투운용&amp;#160;ACE ETF&amp;#160;리브랜딩&amp;#160;3주년 기념 커피차·기프티콘 이벤트\" class=\"img\" data-src=\"https://imgnews.pstatic.net/image/origin/366/2025/10/10/1113367.jpg?type=nf206_146\" height=\"70\" src=\"https://imgnews.pstatic.net/image/origin/366/2025/10/10/1113367.jpg?type=nf206_146\" width=\"103\"/>,\n",
       " <img alt=\"[포토] 치솟는 코스피\" class=\"img\" data-src=\"https://imgnews.pstatic.net/image/origin/277/2025/10/10/5662608.jpg?type=nf206_146\" height=\"70\" src=\"https://imgnews.pstatic.net/image/origin/277/2025/10/10/5662608.jpg?type=nf206_146\" width=\"103\"/>,\n",
       " <img alt=\"[포토] 끝없이 질주하는 코스피\" class=\"img\" data-src=\"https://imgnews.pstatic.net/image/origin/277/2025/10/10/5662605.jpg?type=nf206_146\" height=\"70\" src=\"https://imgnews.pstatic.net/image/origin/277/2025/10/10/5662605.jpg?type=nf206_146\" width=\"103\"/>,\n",
       " <img alt=\"&quot;3600선 '혈' 뚫은 코스피, 연말까지 3700선 돌파 전망&quot;[스톡톡스]\" class=\"img\" data-src=\"https://imgnews.pstatic.net/image/origin/018/2025/10/10/6134661.jpg?type=nf206_146\" height=\"70\" src=\"https://imgnews.pstatic.net/image/origin/018/2025/10/10/6134661.jpg?type=nf206_146\" width=\"103\"/>,\n",
       " <img alt='\"한계 있는 본업, 두나무는 히든카드\" 네이버 주가 강세' class=\"img\" data-src=\"https://imgnews.pstatic.net/image/origin/015/2025/10/10/5194928.jpg?type=nf206_146\" height=\"70\" src=\"https://imgnews.pstatic.net/image/origin/015/2025/10/10/5194928.jpg?type=nf206_146\" width=\"103\"/>,\n",
       " <img alt=\"[포토] 코스피 2% 가까이 폭등\" class=\"img\" data-src=\"https://imgnews.pstatic.net/image/origin/277/2025/10/10/5662604.jpg?type=nf206_146\" height=\"70\" src=\"https://imgnews.pstatic.net/image/origin/277/2025/10/10/5662604.jpg?type=nf206_146\" width=\"103\"/>,\n",
       " <img alt=\"“불법 공매도 ‘엄벌’은 말뿐”…금융당국, 과징금 최대 80% 깎았다\" class=\"img\" data-src=\"https://imgnews.pstatic.net/image/origin/016/2025/10/10/2539995.jpg?type=nf206_146\" height=\"70\" src=\"https://imgnews.pstatic.net/image/origin/016/2025/10/10/2539995.jpg?type=nf206_146\" width=\"103\"/>,\n",
       " <img alt=\"'초임' 진옥동·임종룡 연임 할까…이 정부 첫 금융 CEO 인사\" class=\"img\" data-src=\"https://imgnews.pstatic.net/image/origin/648/2025/10/10/40575.jpg?type=nf206_146\" height=\"70\" src=\"https://imgnews.pstatic.net/image/origin/648/2025/10/10/40575.jpg?type=nf206_146\" width=\"103\"/>,\n",
       " <img alt=\"비트코인, 연휴 중 최고가 돌파 후 12만달러선서 ‘횡보’\" class=\"img\" data-src=\"https://imgnews.pstatic.net/image/origin/029/2025/10/10/2986277.jpg?type=nf206_146\" height=\"70\" src=\"https://imgnews.pstatic.net/image/origin/029/2025/10/10/2986277.jpg?type=nf206_146\" width=\"103\"/>,\n",
       " <img alt=\"코스피, 사상 첫 3600선 돌파…삼성전자·SK하이닉스 신고가\" class=\"img\" data-src=\"https://imgnews.pstatic.net/image/origin/215/2025/10/10/1226596.jpg?type=nf206_146\" height=\"70\" src=\"https://imgnews.pstatic.net/image/origin/215/2025/10/10/1226596.jpg?type=nf206_146\" width=\"103\"/>]"
      ]
     },
     "execution_count": 50,
     "metadata": {},
     "output_type": "execute_result"
    }
   ],
   "source": [
    "import re\n",
    "\n",
    "soup.find_all('img',src= re.compile('\\.jpg'))"
   ]
  },
  {
   "cell_type": "code",
   "execution_count": null,
   "id": "056fe253",
   "metadata": {},
   "outputs": [
    {
     "data": {
      "text/plain": [
       "'네이버네이버페이증권'"
      ]
     },
     "execution_count": 52,
     "metadata": {},
     "output_type": "execute_result"
    }
   ],
   "source": [
    "soup.find('h1').text # '네이버네이버페이증권'\n",
    "soup.find('h1').get_text() # '네이버네이버페이증권'"
   ]
  },
  {
   "cell_type": "code",
   "execution_count": 54,
   "id": "45f8111e",
   "metadata": {},
   "outputs": [
    {
     "data": {
      "text/plain": [
       "'네이버페이 증권\\n\\n\\n\\n네이버네이버페이증권메뉴모음종목 검색검색전체메뉴홈국내해외공모주토론지표가상자산투자정보현재 위치뉴스현재 위치리서치실시간 속보주요뉴스많이 본 뉴스해외뉴스\\'비철금속 거목\\' 최창걸 고려아연 명예회장 영결식 엄수고(故) 최창걸 고려아연(010130) 명예회장의 영결식이 10일 오전 서울 종로구 고려아연 본사에서 엄수됐다. 현장에는 아들인 최윤범 고려아연 회장을 비롯해 유중근 여사(전 대한적십자 총재) 등 유가족과 이제중 부회장, 임직원들이 참석해 고인의 마지막 길을 배웅했다. 약 한 시간 동안 비공개로 진행된 영결식은 약력 보고와 추모 영상, 조사, 헌화 순...서울경제5분 전티쓰리, 30억 규모 자사주 취득 결정티쓰리는 30억원 규모의 자기주식 취득을 결정했다고 10일 공시했다. 취득 목적은 \\'주주가치 제고를 목적으로 자기주식 취득 후 소각\\'이다. 취득예상기간은 이달 13일부터 내년 1월 12일까지이며, 취득예정주식은 158만611주다. 뉴시스6분 전‘사상 첫 3600 정복’ 코스피, 연휴 내 참았던 투심 폭발…4000피向 질주 걸림돌 ‘이 지점’ [투자360]코스피, 장중 3610 선까지 훌쩍 뛰어 넘어 ‘사상 최고’ 추석 연휴 美 증시·AI주 랠리 호재로…三電·SK하닉 ‘활활’ 美 연준 금리 추가 인하 가능성도 투심 자극 원/달러 환율 1420원 돌파…韓 랠리 주역 外人 투심 약화 우려 코스피가 10일 장중 한때 3600선을 돌파했다. 이날 오전 서울 중구 하나은행 딜링룸 전광판에 9시 2분 기준 코스피...헤럴드경제6분 전에브리싱 랠리 속 진짜 주인공은 금?…S&P500을 추월한 ‘금의 시대’S&P500/금 비율 2.16→1.69배로 급감…팬데믹 이후 최저 골드만 “내년 말 온스당 4900달러”·시티그룹 “금 상승장 장기화 경향” [헤럴드경제=문이림 기자] 글로벌 금융 시장에 위험자산과 안전자산 가격이 동시에 급등하는 ‘에브리싱 랠리’가 펼쳐지는 가운데 주식의 시대가 저물고 금의 시대가 도래하고 있다는 분석이 나온다. 주식과 금의 상대적 ...헤럴드경제6분 전연휴 끝 실적 시즌 시작…\\'추석 랠리\\' 올해도 통할까코스피, 10일 장 초반 3600선 돌파 삼성전자·SK하이닉스 상승세 주도 긴 추석 연휴가 끝나자마자 증시가 폭발적인 기세로 치솟았다. 반도체발 훈풍에 힘입어 코스피가 사상 첫 3600선을 돌파했다. 실적 시즌과 금리 인하 기대감이 맞물리며 투자심리에도 불이 붙었다. ◆ 코스피, 사상 첫 3600선 돌파…SK하이닉스·삼성전자 52주 신고가 한국거래소에...더팩트7분 전[특징주]온코닉테라퓨틱스, 췌장암 신약 기대감·무상증자 권리락에 \\'上\\'온코닉테라퓨틱스가 췌장암 신약 개발 기대감과 무상증자 권리락 효과로 10일 장 초반 상한가를 기록 중이다. 이날 오전 10시 17분 기준 코스닥 시장에서 온코닉테라퓨틱스 주가는 일일 최대 상승폭인 29.75% 뛴 2만1150원을 나타내고 있다. 주가는 이날 개장과 동시에 상한가로 직행했다. 이날 온코닉테라퓨틱스는 자사가 개발 중인 차세대 합성치사 이중...아시아경제8분 전한국타이어, 영국 전기차 전시회 참가… 현지 소통 강화한국타이어앤테크놀로지(한국타이어)가 오는 11일부터 12일(현지시각)까지 영국에서 열리는 \\'에브리싱 일렉트릭 판버러 2025\\'에 대표후원사로 참가한다. 에브리싱 일렉트릭은 영국 전기차 전문 매체 \\'풀리 차지드\\'가 주최하는 영국 대표 전기차 박람회로, 글로벌 전기차 산업의 시장 동향과 최신 기술 정보를 공유하는 행사다. 한국타이어는 전기차 전용 타이어 ...머니S9분 전[알림]제36회 신용평가 전문가설문(SRE)을 실시합니다제36회 이데일리 신용평가 전문가 설문(SRE: Survey of Credit Rating by Edaily)을 실시합니다. SRE는 회사채시장 전문가들이 국내 3대 신용평가회사 신뢰 수준과 서비스 만족도를 평가하는 정기조사로 매년 10월 실시합니다. 지난 30회 SRE까지 매년 4월과 10월 두 차례에 걸쳐 조사를 진행했으나 31회부터는 매년 10월...이데일리10분 전프로티움사이언스, 누적 수주액 400억원 달성…올해 216억원 수주바이오 위탁개발분석생산기업(CDAMO) 프로티움사이언스가 올해 216억원의 수주를 기록했다. 10일 프로티움사이언스에 따르면 올해 수주까지 설립 4년만에 누적 수주 400억원을 돌파해 적지 않은 성과다. 회사는 연말까지 누적 수주액 430억원 달성을 목표로 하고 있다. 프로티움사이언스는 2021년 설립된 바이오 CDMO 전문기업으로, 설립 이후 꾸준한...이데일리10분 전\"2.7%만 더 오르면\"…삼성전자, 역대 최고가 임박한유주 박승희 기자 = 삼성전자(005930) 주가가 9만4000원대까지 오르며 액면 분할 이후 최고가를 찍은 2021년 1월11일 이후 가장 높은 성적을 거뒀다. 그간 랠리를 견인해 온 외국인 보유율도 11개월 만에 최고치를 기록했다. 10일 오전 9시55분 삼성전자는 전 거래일보다 5.84% 상승한 9만4200원에 거래 중이다. 장중 9만4300원...뉴스111분 전한투운용\\xa0ACE ETF\\xa0리브랜딩\\xa03주년 기념 커피차·기프티콘 이벤트여의도역 5번 출구 인근서 커피차 진행 한국투자신탁운용은 오는 13일 상장지수펀드(ETF) 리브랜딩 3주년을 기념해 깜짝 이벤트를 진행한다고 10일 밝혔다. 한국투자신탁운용은 지난 2022년 10월 13일 ETF 브랜드를 ACE로 변경한 바 있다. 한국투자신탁운용이 준비한 깜짝 이벤트는 ‘커피차’이다. 리브랜딩 3주년에 맞춰 여의도역 5번 출구와 여의...조선비즈13분 전[포토] 치솟는 코스피코스피가 사상 첫 3,610선을 돌파한 10일 서울 중구 하나은행 딜링룸 모니터에 코스피를 비롯해 원/달러 환율 등이 표시돼 있다. 이날 코스피 지수는 전 거래일 대비 48.90포인트(1.38%) 오른 3,598.11에, 원/달러 환율은 23.0원 오른 1423.0원, 코스닥은 4.61포인트(0.54%) 오른 858.86에 개장했다. 출발했다. 아시아경제14분 전[포토] 끝없이 질주하는 코스피코스피가 사상 첫 3,610선을 돌파한 10일 서울 중구 하나은행 딜링룸 모니터에 코스피를 비롯해 원/달러 환율 등이 표시돼 있다. 이날 코스피 지수는 전 거래일 대비 48.90포인트(1.38%) 오른 3,598.11에, 원/달러 환율은 23.0원 오른 1423.0원, 코스닥은 4.61포인트(0.54%) 오른 858.86에 개장했다. 출발했다. 아시아경제15분 전\"3600선 \\'혈\\' 뚫은 코스피, 연말까지 3700선 돌파 전망\"[스톡톡스]추석 연휴 이후 첫 거래일, 코스피가 3600선을 뚫은 가운데 연말 3700선까지 넘어설 것이라는 증권가 전망이 나왔다. 인공지능(AI) 반도체 상승 모멘텀이 연말까지 지속할 것이란 분석이 나오면서다. 10일 서울 중구 하나은행 딜링룸 현황판에 코스피 지수 등이 표시되고 있다.(사진=연합뉴스) 10일 김용구 유안타증권 연구원은 이데일리와 통화에서 “추...이데일리15분 전\"한계 있는 본업, 두나무는 히든카드\" 네이버 주가 강세네이버 주가가 장중 강세다. 두나무와의 결합으로 실적 개선 기대감이 부각된 영향으로 풀이된다. 10일 오전 10시17분 현재 네이버 주가는 전날 대비 1만4000원(5.53%) 오른 26만7000원에 거래되고 있다. 이날 이지은 대신증권 연구원은 네이버 종목 분석 보고서를 내고 \"네이버파이낸셜-두나무의 자회사 편입 및 두나무 연결 실적 반영이 현실화할...한국경제15분 전[포토] 코스피 2% 가까이 폭등코스피가 사상 첫 3,610선을 돌파한 10일 서울 중구 하나은행 딜링룸 모니터에 코스피를 비롯해 원/달러 환율 등이 표시돼 있다. 이날 코스피 지수는 전 거래일 대비 48.90포인트(1.38%) 오른 3,598.11에, 원/달러 환율은 23.0원 오른 1423.0원, 코스닥은 4.61포인트(0.54%) 오른 858.86에 개장했다. 출발했다. 아시아경제16분 전“불법 공매도 ‘엄벌’은 말뿐”…금융당국, 과징금 최대 80% 깎았다올해 9월까지 총 65건에 1027억 과징금 ‘고의성 부족’·‘이해 부족’ 사유로 감경 “선진 시장선 통하지 않는 사유” 비판도 불법 공매도 과징금 부과 규모가 큰 제재 대상 현황 [허영 의원실 제공] [헤럴드경제=경예은 기자] 금융당국이 불법 공매도에 대한 엄중 처벌을 천명했지만, 실제 과징금은 최대 80%까지 감경된 것으로 확인됐다. ‘고의성 부족...헤럴드경제16분 전\\'초임\\' 진옥동·임종룡 연임 할까…이 정부 첫 금융 CEO 인사이재명 정부 출범 후 첫 최고경영자(CEO) 인사를 앞두고 금융권이 술렁이고 있다. 진옥동 신한금융지주 회장, 임종룡 우리금융지주 회장, 빈대인 BNK금융지주 회장이 내년 3월 임기를 마친다. 새 정부 \\'생산적 금융 정책\\' 기조에 발맞춰 연임 의지를 보이고 있지만 정권 교체에 따른 기류변화로 인사 태풍이 불 수 있다는 관측도 나온다. 10일 금융권에 ...비즈워치16분 전비트코인, 연휴 중 최고가 돌파 후 12만달러선서 ‘횡보’연휴 기간 중 사상 최고가를 경신했던 비트코인이 차익 실현 매도에 12만달러대를 유지하고 있다. 10일 코인게코에 따르면 이날 오전 10시 기준 비트코인은 24시간 전보다 1.0% 하락한 12만1802달러에 거래되고 있다. 비트코인은 지난 7일 12만6000달러를 돌파하며 사상 최고가를 경신했다. 상승 흐름을 견인한 건 미국 주식시장 강세, 상장지수펀...디지털타임스20분 전코스피, 사상 첫 3600선 돌파…삼성전자·SK하이닉스 신고가추석 연휴 기간 쉬어간 코스피가 10일 장 초반 3,600선을 기록했다. 이날 코스피는 전 거래일보다 48.90포인트(1.38%) 오른 3,598.11에 장을 열었다. 개장 직후 3,606.86을 기록한 뒤, 오전 9시 23분 기준 3,594선에서 움직이고 있다. 투자자별 매매동향을 살펴보면, 외국인과 개인이 각각 1,324억 원, 2,042억 원 순...한국경제TV20분 전로딩중로그인이용약관개인정보 처리방침증권 고객센터기사배열 원칙 책임자 : 김수향청소년 보호 책임자 : 이정규네이버파이낸셜㈜은 전자결제서비스제공자 및 통신판매중개자이며 통신판매의 당사자가 아닙니다. 상품, 상품정보 및 거래에 관한 의무와 책임은 판매자에게 있습니다.네이버파이낸셜㈜ 사업자 정보펼치기페이 서비스메뉴자산·송금은 여기서금융포인트결제증권현재 페이지부동산닫기'"
      ]
     },
     "execution_count": 54,
     "metadata": {},
     "output_type": "execute_result"
    }
   ],
   "source": [
    "all_text = soup.get_text()\n",
    "all_text"
   ]
  },
  {
   "cell_type": "code",
   "execution_count": null,
   "id": "6313cacf",
   "metadata": {},
   "outputs": [
    {
     "data": {
      "text/plain": [
       "'https://m.naver.com/'"
      ]
     },
     "execution_count": 60,
     "metadata": {},
     "output_type": "execute_result"
    }
   ],
   "source": [
    "# 속성값 추출방법\n",
    "link = soup.find('a')\n",
    "link['href']\n",
    "link.get('href')"
   ]
  },
  {
   "cell_type": "code",
   "execution_count": null,
   "id": "ea0b3868",
   "metadata": {},
   "outputs": [
    {
     "data": {
      "text/plain": [
       "\"'비철금속 거목' 최창걸 고려아연 명예회장 영결식 엄수\""
      ]
     },
     "execution_count": 66,
     "metadata": {},
     "output_type": "execute_result"
    }
   ],
   "source": [
    "img = soup.find('img')\n",
    "img['src']\n",
    "img.get('alt', '기본텍스트') # alt 값이 없으면 기본텍스트를 반환한다.\n"
   ]
  },
  {
   "cell_type": "code",
   "execution_count": 74,
   "id": "2da55bb9",
   "metadata": {},
   "outputs": [
    {
     "data": {
      "text/plain": [
       "'<div id=\"__next\"><div class=\"FlexibleLayout-module_article__bwPeF FlexibleLayout-module_type-gray150__l7e7q\"><div class=\"FlexibleLayout-module_row__P4p6X\"><div style=\"height:96px\"><div class=\"StickyHeaderArea-module_article__hVjGg\" style=\"transform:translateY(0)\"><div><div class=\"Gnb_article__LPMiJ\"><header class=\"CommonHeader-module_article__sFY73 CommonHeader-module_left__lnT7u CommonHeader-module_bg-white__fJiiv\"><div class=\"CommonHeader-module_inner__CNjq5\"><h1 class=\"HeaderBrandMain-module_article__KG81J\"><a class=\"HeaderNpayButton-module_link__dCMvi\" href=\"https://m.naver.com/\"><svg fill=\"none\" height=\"22\" viewbox=\"0 0 22 22\" width=\"22\" xmlns=\"http://www.w3.org/2000/svg\"><path d=\"M22 11C22 13.1756 21.3549 15.3023 20.1462 17.1113C18.9375 18.9202 17.2195 20.3301 15.2095 21.1627C13.1995 21.9952 10.9878 22.2131 8.85401 21.7886C6.72022 21.3642 4.76021 20.3166 3.22183 18.7782C1.68345 17.2398 0.635805 15.2798 0.211368 13.146C-0.213069 11.0122 0.00476301 8.80047 0.837327 6.79048C1.66989 4.78049 3.07979 3.06253 4.88873 1.85383C6.69767 0.645137 8.82441 0 11 0C13.9174 0 16.7153 1.15892 18.7782 3.22183C20.8411 5.28473 22 8.08262 22 11ZM12.8398 5.83V11.3602L8.98976 5.83H5.83V16.1838H9.1575V10.637L13.0075 16.17H16.1783V5.83H12.8398Z\" fill=\"black\"></path></svg><span class=\"blind\">네이버</span></a><a class=\"HeaderNpayButton-module_link__dCMvi\" href=\"https://new-m.pay.naver.com\"><svg fill=\"none\" height=\"22\" viewbox=\"0 0 39 22\" width=\"39\" xmlns=\"http://www.w3.org/2000/svg\"><path d=\"M34.4319 5.21944L31.3913 12.1478L27.9518 5.21944H25.3072L30.1783 14.8317L28.1703 19.3358H30.7384L37 5.2331L34.4319 5.21944ZM23.6171 15.9331H21.1037V14.9328C20.1894 15.7342 19.0108 16.1685 17.7953 16.1518C14.7901 16.1518 12.4379 13.692 12.4379 10.5763C12.4379 7.46057 14.7874 5.00079 17.7953 5.00079C19.0104 4.9833 20.189 5.41657 21.1037 6.21701V5.21944H23.6171V15.9331ZM21.3987 10.5899C21.3987 8.57019 19.9891 7.03694 18.1204 7.03694C16.2517 7.03694 14.842 8.57019 14.842 10.5899C14.842 12.6097 16.249 14.1429 18.1204 14.1429C19.9918 14.1429 21.3987 12.596 21.3987 10.5899ZM0.00819554 19.3358H2.63088V15.023C3.52823 15.7695 4.66309 16.1699 5.83001 16.1518C8.83516 16.1518 11.1901 13.692 11.1901 10.5763C11.1901 7.46057 8.83789 5.00079 5.83001 5.00079C4.61166 4.9789 3.42899 5.4126 2.51341 6.21701V5.21944H0L0.00819554 19.3358ZM5.51856 7.03694C7.38722 7.03694 8.79691 8.57019 8.79691 10.5899C8.79691 12.6097 7.38722 14.1429 5.51856 14.1429C3.6499 14.1429 2.24021 12.6097 2.24021 10.5899C2.24021 8.57019 3.63351 7.03694 5.51856 7.03694Z\" fill=\"black\"></path></svg><span class=\"blind\">네이버페이</span></a><a class=\"HeaderName-module_article__-dT0a HeaderName-module_type-main__nbL5S\" href=\"/\">증권</a></h1><div class=\"CommonHeader-module_aside-right__auJsW\"><span class=\"blind\">메뉴모음</span><div class=\"SearchBoxButton-module_article__OZIez\"><a class=\"HeaderButton-module_article__KwTay SearchBoxButton-module_button__8sjYv\" href=\"/search\"><span class=\"SearchBoxButton-module_icon-search__ZW3zk\"><svg fill=\"none\" height=\"18\" viewbox=\"0 0 24 24\" width=\"18\" xmlns=\"http://www.w3.org/2000/svg\"><path clip-rule=\"evenodd\" d=\"M3.51966 10.25C3.51966 6.39487 6.64487 3.26966 10.5 3.26966C14.3551 3.26966 17.4803 6.39487 17.4803 10.25C17.4803 14.1051 14.3551 17.2303 10.5 17.2303C6.64487 17.2303 3.51966 14.1051 3.51966 10.25ZM10.5 1.5C5.66751 1.5 1.75 5.41751 1.75 10.25C1.75 15.0825 5.66751 19 10.5 19C12.5965 19 14.5209 18.2626 16.0278 17.0331C16.0625 17.0872 16.1035 17.1384 16.1508 17.1857L20.7501 21.785C21.1049 22.1399 21.6803 22.1399 22.0351 21.785C22.39 21.4302 22.39 20.8548 22.0351 20.5L17.4358 15.9006C17.3885 15.8534 17.3373 15.8124 17.2832 15.7777C18.5127 14.2708 19.25 12.3465 19.25 10.25C19.25 5.41751 15.3325 1.5 10.5 1.5Z\" fill=\"#1E1E23\" fill-rule=\"evenodd\"></path></svg></span><span class=\"SearchBoxButton-module_text__umyAC\">종목 검색</span><span class=\"blind\">검색</span></a></div><a class=\"HeaderButton-module_article__KwTay\" href=\"https://new-m.pay.naver.com/member/payservice\"><svg fill=\"none\" height=\"24\" viewbox=\"0 0 24 24\" width=\"24\" xmlns=\"http://www.w3.org/2000/svg\"><path clip-rule=\"evenodd\" d=\"M2 4C2 3.44772 2.44772 3 3 3H21C21.5523 3 22 3.44772 22 4C22 4.55228 21.5523 5 21 5H3C2.44772 5 2 4.55228 2 4Z\" fill=\"#1E1E23\" fill-rule=\"evenodd\"></path><path clip-rule=\"evenodd\" d=\"M2 12C2 11.4477 2.44772 11 3 11H21C21.5523 11 22 11.4477 22 12C22 12.5523 21.5523 13 21 13H3C2.44772 13 2 12.5523 2 12Z\" fill=\"#1E1E23\" fill-rule=\"evenodd\"></path><path clip-rule=\"evenodd\" d=\"M2 20C2 19.4477 2.44772 19 3 19H21C21.5523 19 22 19.4477 22 20C22 20.5523 21.5523 21 21 21H3C2.44772 21 2 20.5523 2 20Z\" fill=\"#1E1E23\" fill-rule=\"evenodd\"></path></svg><span class=\"blind\">전체메뉴</span></a></div></div></header></div></div><div class=\"\"><div class=\"Lnb_article__psmaj\"><div class=\"LineTab-module_article__IxSsG LineTab-module_bg-white__l-Qhm\"><ul class=\"LineTab-module_list__hJZ3g LineTab-module_main__Hebbk LineTab-module_flexible__svdK1 LineTab-module_max-width-wide__iZJgE\"><li class=\"LineTab-module_item__Q0W6v\"><button class=\"LineTab-module_link__MCdtL\" type=\"button\"><span>홈</span></button></li><li class=\"LineTab-module_item__Q0W6v\"><button class=\"LineTab-module_link__MCdtL\" type=\"button\"><span>국내</span></button></li><li class=\"LineTab-module_item__Q0W6v\"><button class=\"LineTab-module_link__MCdtL\" type=\"button\"><span>해외</span></button></li><li class=\"LineTab-module_item__Q0W6v\"><button class=\"LineTab-module_link__MCdtL\" type=\"button\"><span>공모주</span></button></li><li class=\"LineTab-module_item__Q0W6v\"><button class=\"LineTab-module_link__MCdtL\" type=\"button\"><span>토론</span></button></li><li class=\"LineTab-module_item__Q0W6v\"><button class=\"LineTab-module_link__MCdtL\" type=\"button\"><span>지표</span></button></li><li class=\"LineTab-module_item__Q0W6v\"><button class=\"LineTab-module_link__MCdtL\" type=\"button\"><span>가상자산</span></button></li><li class=\"LineTab-module_item__Q0W6v\"><button class=\"LineTab-module_link__MCdtL LineTab-module_is-selected__Uty3h\" type=\"button\"><span>투자정보</span><span class=\"blind\">현재 위치</span></button></li></ul></div></div></div></div></div></div><div class=\"FlexibleLayout-module_wrapper__9uXan\"><div class=\"FlexibleLayout-module_inner__hGuDc FlexibleLayout-module_type-full-height__423Op FlexibleLayout-module_type-white__AWDSF FlexibleLayout-module_width-type-wide__oCYon\" id=\"content\"><div class=\"InvestmentTab_article__1Haf5\"><ul class=\"SolidTab-module_article__EanQk SolidTab-module_colorset-gray100__b8aZl SolidTab-module_fixed__NWHdi\"><li class=\"SolidTab-module_item__11wk5\"><button class=\"SolidTab-module_link__WnM4u SolidTab-module_is-selected__AE3DW\" type=\"button\"><span>뉴스</span><span class=\"blind\">현재 위치</span></button></li><li class=\"SolidTab-module_item__11wk5\"><button class=\"SolidTab-module_link__WnM4u\" type=\"button\"><span>리서치</span></button></li></ul></div><div class=\"Tab_round__1KIkF Tab_article_news__vNfxr Tab_desktop__ai2qs\" id=\"\"><div class=\"Tab_area__pf_rC\"><div class=\"Tab_inner__lcpbv\"><ul class=\"Tab_list___bH51\"><li class=\"Tab_item__puifm Tab_isSelected__GzQvl\" id=\"tab_flashnews\"><a class=\"Tab_link__4W7i9\" data-nlogs=\"nav.rtn\"><span class=\"Tab_text__D56Aa\">실시간 속보</span></a></li><li class=\"Tab_item__puifm\" id=\"tab_mainnews\"><a class=\"Tab_link__4W7i9\" data-nlogs=\"nav.mnw\"><span class=\"Tab_text__D56Aa\">주요뉴스</span></a></li><li class=\"Tab_item__puifm\" id=\"tab_ranknews\"><a class=\"Tab_link__4W7i9\" data-nlogs=\"nav.pon\"><span class=\"Tab_text__D56Aa\">많이 본 뉴스</span></a></li><li class=\"Tab_item__puifm\" id=\"tab_worldnews\"><a class=\"Tab_link__4W7i9\" data-nlogs=\"nav.gnw\"><span class=\"Tab_text__D56Aa\">해외뉴스</span></a></li></ul></div></div></div><ul><li class=\"NewsList_item__UDkww\"><a class=\"NewsList_link__EB1t5\" href=\"https://n.news.naver.com/article/011/0004541748\" rel=\"noreferrer noopener\" target=\"_blank\"><span class=\"NewsList_inner__AXU8T\"><strong class=\"NewsList_title__v55VO\">\\'비철금속 거목\\' 최창걸 고려아연 명예회장 영결식 엄수</strong><p class=\"NewsList_text__d5Emm\">고(故) 최창걸 고려아연(010130) 명예회장의 영결식이 10일 오전 서울 종로구 고려아연 본사에서 엄수됐다. 현장에는 아들인 최윤범 고려아연 회장을 비롯해 유중근 여사(전 대한적십자 총재) 등 유가족과 이제중 부회장, 임직원들이 참석해 고인의 마지막 길을 배웅했다. 약 한 시간 동안 비공개로 진행된 영결식은 약력 보고와 추모 영상, 조사, 헌화 순...</p><span class=\"NewsList_information__kcJNR\"><cite class=\"NewsList_description__vmFPo\">서울경제</cite><time class=\"NewsList_description__vmFPo\">5분 전</time></span></span><span class=\"NewsList_thumb__1wE7y\"><img alt=\"\\'비철금속 거목\\' 최창걸 고려아연 명예회장 영결식 엄수\" class=\"img\" data-src=\"https://imgnews.pstatic.net/image/origin/011/2025/10/10/4541748.jpg?type=nf206_146\" height=\"70\" src=\"https://imgnews.pstatic.net/image/origin/011/2025/10/10/4541748.jpg?type=nf206_146\" width=\"103\"/></span></a></li><li class=\"NewsList_item__UDkww\"><a class=\"NewsList_link__EB1t5\" href=\"https://n.news.naver.com/article/003/0013526970\" rel=\"noreferrer noopener\" target=\"_blank\"><span class=\"NewsList_inner__AXU8T\"><strong class=\"NewsList_title__v55VO\">티쓰리, 30억 규모 자사주 취득 결정</strong><p class=\"NewsList_text__d5Emm\">티쓰리는 30억원 규모의 자기주식 취득을 결정했다고 10일 공시했다. 취득 목적은 \\'주주가치 제고를 목적으로 자기주식 취득 후 소각\\'이다. 취득예상기간은 이달 13일부터 내년 1월 12일까지이며, 취득예정주식은 158만611주다. </p><span class=\"NewsList_information__kcJNR\"><cite class=\"NewsList_description__vmFPo\">뉴시스</cite><time class=\"NewsList_description__vmFPo\">6분 전</time></span></span></a></li><li class=\"NewsList_item__UDkww\"><a class=\"NewsList_link__EB1t5\" href=\"https://n.news.naver.com/article/016/0002540004\" rel=\"noreferrer noopener\" target=\"_blank\"><span class=\"NewsList_inner__AXU8T\"><strong class=\"NewsList_title__v55VO\">‘사상 첫 3600 정복’ 코스피, 연휴 내 참았던 투심 폭발…4000피向 질주 걸림돌 ‘이 지점’ [투자360]</strong><p class=\"NewsList_text__d5Emm\">코스피, 장중 3610 선까지 훌쩍 뛰어 넘어 ‘사상 최고’ 추석 연휴 美 증시·AI주 랠리 호재로…三電·SK하닉 ‘활활’ 美 연준 금리 추가 인하 가능성도 투심 자극 원/달러 환율 1420원 돌파…韓 랠리 주역 外人 투심 약화 우려 코스피가 10일 장중 한때 3600선을 돌파했다. 이날 오전 서울 중구 하나은행 딜링룸 전광판에 9시 2분 기준 코스피...</p><span class=\"NewsList_information__kcJNR\"><cite class=\"NewsList_description__vmFPo\">헤럴드경제</cite><time class=\"NewsList_description__vmFPo\">6분 전</time></span></span><span class=\"NewsList_thumb__1wE7y\"><img alt=\"‘사상 첫 3600 정복’ 코스피, 연휴 내 참았던 투심 폭발…4000피向 질주 걸림돌 ‘이 지점’ [투자360]\" class=\"img\" data-src=\"https://imgnews.pstatic.net/image/origin/016/2025/10/10/2540004.jpg?type=nf206_146\" height=\"70\" src=\"https://imgnews.pstatic.net/image/origin/016/2025/10/10/2540004.jpg?type=nf206_146\" width=\"103\"/></span></a></li><li class=\"NewsList_item__UDkww\"><a class=\"NewsList_link__EB1t5\" href=\"https://n.news.naver.com/article/016/0002540003\" rel=\"noreferrer noopener\" target=\"_blank\"><span class=\"NewsList_inner__AXU8T\"><strong class=\"NewsList_title__v55VO\">에브리싱 랠리 속 진짜 주인공은 금?…S&amp;P500을 추월한 ‘금의 시대’</strong><p class=\"NewsList_text__d5Emm\">S&amp;P500/금 비율 2.16→1.69배로 급감…팬데믹 이후 최저 골드만 “내년 말 온스당 4900달러”·시티그룹 “금 상승장 장기화 경향” [헤럴드경제=문이림 기자] 글로벌 금융 시장에 위험자산과 안전자산 가격이 동시에 급등하는 ‘에브리싱 랠리’가 펼쳐지는 가운데 주식의 시대가 저물고 금의 시대가 도래하고 있다는 분석이 나온다. 주식과 금의 상대적 ...</p><span class=\"NewsList_information__kcJNR\"><cite class=\"NewsList_description__vmFPo\">헤럴드경제</cite><time class=\"NewsList_description__vmFPo\">6분 전</time></span></span><span class=\"NewsList_thumb__1wE7y\"><img alt=\"에브리싱 랠리 속 진짜 주인공은 금?…S&amp;P500을 추월한 ‘금의 시대’\" class=\"img\" data-src=\"https://imgnews.pstatic.net/image/origin/016/2025/10/10/2540003.jpg?type=nf206_146\" height=\"70\" src=\"https://imgnews.pstatic.net/image/origin/016/2025/10/10/2540003.jpg?type=nf206_146\" width=\"103\"/></span></a></li><li class=\"NewsList_item__UDkww\"><a class=\"NewsList_link__EB1t5\" href=\"https://n.news.naver.com/article/629/0000432712\" rel=\"noreferrer noopener\" target=\"_blank\"><span class=\"NewsList_inner__AXU8T\"><strong class=\"NewsList_title__v55VO\">연휴 끝 실적 시즌 시작…\\'추석 랠리\\' 올해도 통할까</strong><p class=\"NewsList_text__d5Emm\">코스피, 10일 장 초반 3600선 돌파 삼성전자·SK하이닉스 상승세 주도 긴 추석 연휴가 끝나자마자 증시가 폭발적인 기세로 치솟았다. 반도체발 훈풍에 힘입어 코스피가 사상 첫 3600선을 돌파했다. 실적 시즌과 금리 인하 기대감이 맞물리며 투자심리에도 불이 붙었다. ◆ 코스피, 사상 첫 3600선 돌파…SK하이닉스·삼성전자 52주 신고가 한국거래소에...</p><span class=\"NewsList_information__kcJNR\"><cite class=\"NewsList_description__vmFPo\">더팩트</cite><time class=\"NewsList_description__vmFPo\">7분 전</time></span></span><span class=\"NewsList_thumb__1wE7y\"><img alt=\"연휴 끝 실적 시즌 시작…\\'추석 랠리\\' 올해도 통할까\" class=\"img\" data-src=\"https://imgnews.pstatic.net/image/origin/629/2025/10/10/432712.jpg?type=nf206_146\" height=\"70\" src=\"https://imgnews.pstatic.net/image/origin/629/2025/10/10/432712.jpg?type=nf206_146\" width=\"103\"/></span></a></li><li class=\"NewsList_item__UDkww\"><a class=\"NewsList_link__EB1t5\" href=\"https://n.news.naver.com/article/277/0005662617\" rel=\"noreferrer noopener\" target=\"_blank\"><span class=\"NewsList_inner__AXU8T\"><strong class=\"NewsList_title__v55VO\">[특징주]온코닉테라퓨틱스, 췌장암 신약 기대감·무상증자 권리락에 \\'上\\'</strong><p class=\"NewsList_text__d5Emm\">온코닉테라퓨틱스가 췌장암 신약 개발 기대감과 무상증자 권리락 효과로 10일 장 초반 상한가를 기록 중이다. 이날 오전 10시 17분 기준 코스닥 시장에서 온코닉테라퓨틱스 주가는 일일 최대 상승폭인 29.75% 뛴 2만1150원을 나타내고 있다. 주가는 이날 개장과 동시에 상한가로 직행했다. 이날 온코닉테라퓨틱스는 자사가 개발 중인 차세대 합성치사 이중...</p><span class=\"NewsList_information__kcJNR\"><cite class=\"NewsList_description__vmFPo\">아시아경제</cite><time class=\"NewsList_description__vmFPo\">8분 전</time></span></span><span class=\"NewsList_thumb__1wE7y\"><img alt=\"[특징주]온코닉테라퓨틱스, 췌장암 신약 기대감·무상증자 권리락에 \\'上\\'\" class=\"img\" data-src=\"https://imgnews.pstatic.net/image/origin/277/2025/10/10/5662617.jpg?type=nf206_146\" height=\"70\" src=\"https://imgnews.pstatic.net/image/origin/277/2025/10/10/5662617.jpg?type=nf206_146\" width=\"103\"/></span></a></li><li class=\"NewsList_item__UDkww\"><a class=\"NewsList_link__EB1t5\" href=\"https://n.news.naver.com/article/417/0001105756\" rel=\"noreferrer noopener\" target=\"_blank\"><span class=\"NewsList_inner__AXU8T\"><strong class=\"NewsList_title__v55VO\">한국타이어, 영국 전기차 전시회 참가… 현지 소통 강화</strong><p class=\"NewsList_text__d5Emm\">한국타이어앤테크놀로지(한국타이어)가 오는 11일부터 12일(현지시각)까지 영국에서 열리는 \\'에브리싱 일렉트릭 판버러 2025\\'에 대표후원사로 참가한다. 에브리싱 일렉트릭은 영국 전기차 전문 매체 \\'풀리 차지드\\'가 주최하는 영국 대표 전기차 박람회로, 글로벌 전기차 산업의 시장 동향과 최신 기술 정보를 공유하는 행사다. 한국타이어는 전기차 전용 타이어 ...</p><span class=\"NewsList_information__kcJNR\"><cite class=\"NewsList_description__vmFPo\">머니S</cite><time class=\"NewsList_description__vmFPo\">9분 전</time></span></span><span class=\"NewsList_thumb__1wE7y\"><img alt=\"한국타이어, 영국 전기차 전시회 참가… 현지 소통 강화\" class=\"img\" data-src=\"https://imgnews.pstatic.net/image/origin/417/2025/10/10/1105756.jpg?type=nf206_146\" height=\"70\" src=\"https://imgnews.pstatic.net/image/origin/417/2025/10/10/1105756.jpg?type=nf206_146\" width=\"103\"/></span></a></li><div class=\"DividingLine_line__F02JJ\"></div><div id=\"ad_investment_flashnews_banner_0006134664_7\" style=\"list-style: none;\"><div style=\"width: 100%; height: auto; margin: 0px auto; line-height: 0;\"><iframe frameborder=\"no\" id=\"ad_investment_flashnews_banner_0006134664_7_tgtLREC\" name=\"\" scrolling=\"no\" style=\"width: 100%; height: 230px; visibility: inherit; border: 0px; vertical-align: bottom;\" tabindex=\"0\" title=\"AD\"></iframe></div></div><div class=\"DividingLine_line__F02JJ\"></div><li class=\"NewsList_item__UDkww\"><a class=\"NewsList_link__EB1t5\" href=\"https://n.news.naver.com/article/018/0006134664\" rel=\"noreferrer noopener\" target=\"_blank\"><span class=\"NewsList_inner__AXU8T\"><strong class=\"NewsList_title__v55VO\">[알림]제36회 신용평가 전문가설문(SRE)을 실시합니다</strong><p class=\"NewsList_text__d5Emm\">제36회 이데일리 신용평가 전문가 설문(SRE: Survey of Credit Rating by Edaily)을 실시합니다. SRE는 회사채시장 전문가들이 국내 3대 신용평가회사 신뢰 수준과 서비스 만족도를 평가하는 정기조사로 매년 10월 실시합니다. 지난 30회 SRE까지 매년 4월과 10월 두 차례에 걸쳐 조사를 진행했으나 31회부터는 매년 10월...</p><span class=\"NewsList_information__kcJNR\"><cite class=\"NewsList_description__vmFPo\">이데일리</cite><time class=\"NewsList_description__vmFPo\">10분 전</time></span></span><span class=\"NewsList_thumb__1wE7y\"><img alt=\"[알림]제36회 신용평가 전문가설문(SRE)을 실시합니다\" class=\"img\" data-src=\"https://imgnews.pstatic.net/image/origin/018/2025/10/10/6134664.jpg?type=nf206_146\" height=\"70\" src=\"https://imgnews.pstatic.net/image/origin/018/2025/10/10/6134664.jpg?type=nf206_146\" width=\"103\"/></span></a></li><li class=\"NewsList_item__UDkww\"><a class=\"NewsList_link__EB1t5\" href=\"https://n.news.naver.com/article/018/0006134663\" rel=\"noreferrer noopener\" target=\"_blank\"><span class=\"NewsList_inner__AXU8T\"><strong class=\"NewsList_title__v55VO\">프로티움사이언스, 누적 수주액 400억원 달성…올해 216억원 수주</strong><p class=\"NewsList_text__d5Emm\">바이오 위탁개발분석생산기업(CDAMO) 프로티움사이언스가 올해 216억원의 수주를 기록했다. 10일 프로티움사이언스에 따르면 올해 수주까지 설립 4년만에 누적 수주 400억원을 돌파해 적지 않은 성과다. 회사는 연말까지 누적 수주액 430억원 달성을 목표로 하고 있다. 프로티움사이언스는 2021년 설립된 바이오 CDMO 전문기업으로, 설립 이후 꾸준한...</p><span class=\"NewsList_information__kcJNR\"><cite class=\"NewsList_description__vmFPo\">이데일리</cite><time class=\"NewsList_description__vmFPo\">10분 전</time></span></span></a></li><li class=\"NewsList_item__UDkww\"><a class=\"NewsList_link__EB1t5\" href=\"https://n.news.naver.com/article/421/0008529944\" rel=\"noreferrer noopener\" target=\"_blank\"><span class=\"NewsList_inner__AXU8T\"><strong class=\"NewsList_title__v55VO\">\"2.7%만 더 오르면\"…삼성전자, 역대 최고가 임박</strong><p class=\"NewsList_text__d5Emm\">한유주 박승희 기자 = 삼성전자(005930) 주가가 9만4000원대까지 오르며 액면 분할 이후 최고가를 찍은 2021년 1월11일 이후 가장 높은 성적을 거뒀다. 그간 랠리를 견인해 온 외국인 보유율도 11개월 만에 최고치를 기록했다. 10일 오전 9시55분 삼성전자는 전 거래일보다 5.84% 상승한 9만4200원에 거래 중이다. 장중 9만4300원...</p><span class=\"NewsList_information__kcJNR\"><cite class=\"NewsList_description__vmFPo\">뉴스1</cite><time class=\"NewsList_description__vmFPo\">11분 전</time></span></span><span class=\"NewsList_thumb__1wE7y\"><img alt=\\'\"2.7%만 더 오르면\"…삼성전자, 역대 최고가 임박\\' class=\"img\" data-src=\"https://imgnews.pstatic.net/image/origin/421/2025/10/10/8529944.jpg?type=nf206_146\" height=\"70\" src=\"https://imgnews.pstatic.net/image/origin/421/2025/10/10/8529944.jpg?type=nf206_146\" width=\"103\"/></span></a></li><li class=\"NewsList_item__UDkww\"><a class=\"NewsList_link__EB1t5\" href=\"https://n.news.naver.com/article/366/0001113367\" rel=\"noreferrer noopener\" target=\"_blank\"><span class=\"NewsList_inner__AXU8T\"><strong class=\"NewsList_title__v55VO\">한투운용\\xa0ACE ETF\\xa0리브랜딩\\xa03주년 기념 커피차·기프티콘 이벤트</strong><p class=\"NewsList_text__d5Emm\">여의도역 5번 출구 인근서 커피차 진행 한국투자신탁운용은 오는 13일 상장지수펀드(ETF) 리브랜딩 3주년을 기념해 깜짝 이벤트를 진행한다고 10일 밝혔다. 한국투자신탁운용은 지난 2022년 10월 13일 ETF 브랜드를 ACE로 변경한 바 있다. 한국투자신탁운용이 준비한 깜짝 이벤트는 ‘커피차’이다. 리브랜딩 3주년에 맞춰 여의도역 5번 출구와 여의...</p><span class=\"NewsList_information__kcJNR\"><cite class=\"NewsList_description__vmFPo\">조선비즈</cite><time class=\"NewsList_description__vmFPo\">13분 전</time></span></span><span class=\"NewsList_thumb__1wE7y\"><img alt=\"한투운용&amp;#160;ACE ETF&amp;#160;리브랜딩&amp;#160;3주년 기념 커피차·기프티콘 이벤트\" class=\"img\" data-src=\"https://imgnews.pstatic.net/image/origin/366/2025/10/10/1113367.jpg?type=nf206_146\" height=\"70\" src=\"https://imgnews.pstatic.net/image/origin/366/2025/10/10/1113367.jpg?type=nf206_146\" width=\"103\"/></span></a></li><li class=\"NewsList_item__UDkww\"><a class=\"NewsList_link__EB1t5\" href=\"https://n.news.naver.com/article/277/0005662608\" rel=\"noreferrer noopener\" target=\"_blank\"><span class=\"NewsList_inner__AXU8T\"><strong class=\"NewsList_title__v55VO\">[포토] 치솟는 코스피</strong><p class=\"NewsList_text__d5Emm\">코스피가 사상 첫 3,610선을 돌파한 10일 서울 중구 하나은행 딜링룸 모니터에 코스피를 비롯해 원/달러 환율 등이 표시돼 있다. 이날 코스피 지수는 전 거래일 대비 48.90포인트(1.38%) 오른 3,598.11에, 원/달러 환율은 23.0원 오른 1423.0원, 코스닥은 4.61포인트(0.54%) 오른 858.86에 개장했다. 출발했다. </p><span class=\"NewsList_information__kcJNR\"><cite class=\"NewsList_description__vmFPo\">아시아경제</cite><time class=\"NewsList_description__vmFPo\">14분 전</time></span></span><span class=\"NewsList_thumb__1wE7y\"><img alt=\"[포토] 치솟는 코스피\" class=\"img\" data-src=\"https://imgnews.pstatic.net/image/origin/277/2025/10/10/5662608.jpg?type=nf206_146\" height=\"70\" src=\"https://imgnews.pstatic.net/image/origin/277/2025/10/10/5662608.jpg?type=nf206_146\" width=\"103\"/></span></a></li><li class=\"NewsList_item__UDkww\"><a class=\"NewsList_link__EB1t5\" href=\"https://n.news.naver.com/article/277/0005662605\" rel=\"noreferrer noopener\" target=\"_blank\"><span class=\"NewsList_inner__AXU8T\"><strong class=\"NewsList_title__v55VO\">[포토] 끝없이 질주하는 코스피</strong><p class=\"NewsList_text__d5Emm\">코스피가 사상 첫 3,610선을 돌파한 10일 서울 중구 하나은행 딜링룸 모니터에 코스피를 비롯해 원/달러 환율 등이 표시돼 있다. 이날 코스피 지수는 전 거래일 대비 48.90포인트(1.38%) 오른 3,598.11에, 원/달러 환율은 23.0원 오른 1423.0원, 코스닥은 4.61포인트(0.54%) 오른 858.86에 개장했다. 출발했다. </p><span class=\"NewsList_information__kcJNR\"><cite class=\"NewsList_description__vmFPo\">아시아경제</cite><time class=\"NewsList_description__vmFPo\">15분 전</time></span></span><span class=\"NewsList_thumb__1wE7y\"><img alt=\"[포토] 끝없이 질주하는 코스피\" class=\"img\" data-src=\"https://imgnews.pstatic.net/image/origin/277/2025/10/10/5662605.jpg?type=nf206_146\" height=\"70\" src=\"https://imgnews.pstatic.net/image/origin/277/2025/10/10/5662605.jpg?type=nf206_146\" width=\"103\"/></span></a></li><li class=\"NewsList_item__UDkww\"><a class=\"NewsList_link__EB1t5\" href=\"https://n.news.naver.com/article/018/0006134661\" rel=\"noreferrer noopener\" target=\"_blank\"><span class=\"NewsList_inner__AXU8T\"><strong class=\"NewsList_title__v55VO\">\"3600선 \\'혈\\' 뚫은 코스피, 연말까지 3700선 돌파 전망\"[스톡톡스]</strong><p class=\"NewsList_text__d5Emm\">추석 연휴 이후 첫 거래일, 코스피가 3600선을 뚫은 가운데 연말 3700선까지 넘어설 것이라는 증권가 전망이 나왔다. 인공지능(AI) 반도체 상승 모멘텀이 연말까지 지속할 것이란 분석이 나오면서다. 10일 서울 중구 하나은행 딜링룸 현황판에 코스피 지수 등이 표시되고 있다.(사진=연합뉴스) 10일 김용구 유안타증권 연구원은 이데일리와 통화에서 “추...</p><span class=\"NewsList_information__kcJNR\"><cite class=\"NewsList_description__vmFPo\">이데일리</cite><time class=\"NewsList_description__vmFPo\">15분 전</time></span></span><span class=\"NewsList_thumb__1wE7y\"><img alt=\"&quot;3600선 \\'혈\\' 뚫은 코스피, 연말까지 3700선 돌파 전망&quot;[스톡톡스]\" class=\"img\" data-src=\"https://imgnews.pstatic.net/image/origin/018/2025/10/10/6134661.jpg?type=nf206_146\" height=\"70\" src=\"https://imgnews.pstatic.net/image/origin/018/2025/10/10/6134661.jpg?type=nf206_146\" width=\"103\"/></span></a></li><div class=\"DividingLine_line__F02JJ\"></div><div id=\"ad_investment_flashnews_banner_0005194928_14\" style=\"list-style: none;\"><div style=\"width: 100%; height: auto; margin: 0px auto; line-height: 0;\"><iframe frameborder=\"no\" id=\"ad_investment_flashnews_banner_0005194928_14_tgtLREC\" name=\"\" scrolling=\"no\" style=\"width: 100%; height: 253px; visibility: inherit; border: 0px; vertical-align: bottom;\" tabindex=\"0\" title=\"AD\"></iframe></div></div><div class=\"DividingLine_line__F02JJ\"></div><li class=\"NewsList_item__UDkww\"><a class=\"NewsList_link__EB1t5\" href=\"https://n.news.naver.com/article/015/0005194928\" rel=\"noreferrer noopener\" target=\"_blank\"><span class=\"NewsList_inner__AXU8T\"><strong class=\"NewsList_title__v55VO\">\"한계 있는 본업, 두나무는 히든카드\" 네이버 주가 강세</strong><p class=\"NewsList_text__d5Emm\">네이버 주가가 장중 강세다. 두나무와의 결합으로 실적 개선 기대감이 부각된 영향으로 풀이된다. 10일 오전 10시17분 현재 네이버 주가는 전날 대비 1만4000원(5.53%) 오른 26만7000원에 거래되고 있다. 이날 이지은 대신증권 연구원은 네이버 종목 분석 보고서를 내고 \"네이버파이낸셜-두나무의 자회사 편입 및 두나무 연결 실적 반영이 현실화할...</p><span class=\"NewsList_information__kcJNR\"><cite class=\"NewsList_description__vmFPo\">한국경제</cite><time class=\"NewsList_description__vmFPo\">15분 전</time></span></span><span class=\"NewsList_thumb__1wE7y\"><img alt=\\'\"한계 있는 본업, 두나무는 히든카드\" 네이버 주가 강세\\' class=\"img\" data-src=\"https://imgnews.pstatic.net/image/origin/015/2025/10/10/5194928.jpg?type=nf206_146\" height=\"70\" src=\"https://imgnews.pstatic.net/image/origin/015/2025/10/10/5194928.jpg?type=nf206_146\" width=\"103\"/></span></a></li><li class=\"NewsList_item__UDkww\"><a class=\"NewsList_link__EB1t5\" href=\"https://n.news.naver.com/article/277/0005662604\" rel=\"noreferrer noopener\" target=\"_blank\"><span class=\"NewsList_inner__AXU8T\"><strong class=\"NewsList_title__v55VO\">[포토] 코스피 2% 가까이 폭등</strong><p class=\"NewsList_text__d5Emm\">코스피가 사상 첫 3,610선을 돌파한 10일 서울 중구 하나은행 딜링룸 모니터에 코스피를 비롯해 원/달러 환율 등이 표시돼 있다. 이날 코스피 지수는 전 거래일 대비 48.90포인트(1.38%) 오른 3,598.11에, 원/달러 환율은 23.0원 오른 1423.0원, 코스닥은 4.61포인트(0.54%) 오른 858.86에 개장했다. 출발했다. </p><span class=\"NewsList_information__kcJNR\"><cite class=\"NewsList_description__vmFPo\">아시아경제</cite><time class=\"NewsList_description__vmFPo\">16분 전</time></span></span><span class=\"NewsList_thumb__1wE7y\"><img alt=\"[포토] 코스피 2% 가까이 폭등\" class=\"img\" data-src=\"https://imgnews.pstatic.net/image/origin/277/2025/10/10/5662604.jpg?type=nf206_146\" height=\"70\" src=\"https://imgnews.pstatic.net/image/origin/277/2025/10/10/5662604.jpg?type=nf206_146\" width=\"103\"/></span></a></li><li class=\"NewsList_item__UDkww\"><a class=\"NewsList_link__EB1t5\" href=\"https://n.news.naver.com/article/016/0002539995\" rel=\"noreferrer noopener\" target=\"_blank\"><span class=\"NewsList_inner__AXU8T\"><strong class=\"NewsList_title__v55VO\">“불법 공매도 ‘엄벌’은 말뿐”…금융당국, 과징금 최대 80% 깎았다</strong><p class=\"NewsList_text__d5Emm\">올해 9월까지 총 65건에 1027억 과징금 ‘고의성 부족’·‘이해 부족’ 사유로 감경 “선진 시장선 통하지 않는 사유” 비판도 불법 공매도 과징금 부과 규모가 큰 제재 대상 현황 [허영 의원실 제공] [헤럴드경제=경예은 기자] 금융당국이 불법 공매도에 대한 엄중 처벌을 천명했지만, 실제 과징금은 최대 80%까지 감경된 것으로 확인됐다. ‘고의성 부족...</p><span class=\"NewsList_information__kcJNR\"><cite class=\"NewsList_description__vmFPo\">헤럴드경제</cite><time class=\"NewsList_description__vmFPo\">16분 전</time></span></span><span class=\"NewsList_thumb__1wE7y\"><img alt=\"“불법 공매도 ‘엄벌’은 말뿐”…금융당국, 과징금 최대 80% 깎았다\" class=\"img\" data-src=\"https://imgnews.pstatic.net/image/origin/016/2025/10/10/2539995.jpg?type=nf206_146\" height=\"70\" src=\"https://imgnews.pstatic.net/image/origin/016/2025/10/10/2539995.jpg?type=nf206_146\" width=\"103\"/></span></a></li><li class=\"NewsList_item__UDkww\"><a class=\"NewsList_link__EB1t5\" href=\"https://n.news.naver.com/article/648/0000040575\" rel=\"noreferrer noopener\" target=\"_blank\"><span class=\"NewsList_inner__AXU8T\"><strong class=\"NewsList_title__v55VO\">\\'초임\\' 진옥동·임종룡 연임 할까…이 정부 첫 금융 CEO 인사</strong><p class=\"NewsList_text__d5Emm\">이재명 정부 출범 후 첫 최고경영자(CEO) 인사를 앞두고 금융권이 술렁이고 있다. 진옥동 신한금융지주 회장, 임종룡 우리금융지주 회장, 빈대인 BNK금융지주 회장이 내년 3월 임기를 마친다. 새 정부 \\'생산적 금융 정책\\' 기조에 발맞춰 연임 의지를 보이고 있지만 정권 교체에 따른 기류변화로 인사 태풍이 불 수 있다는 관측도 나온다. 10일 금융권에 ...</p><span class=\"NewsList_information__kcJNR\"><cite class=\"NewsList_description__vmFPo\">비즈워치</cite><time class=\"NewsList_description__vmFPo\">16분 전</time></span></span><span class=\"NewsList_thumb__1wE7y\"><img alt=\"\\'초임\\' 진옥동·임종룡 연임 할까…이 정부 첫 금융 CEO 인사\" class=\"img\" data-src=\"https://imgnews.pstatic.net/image/origin/648/2025/10/10/40575.jpg?type=nf206_146\" height=\"70\" src=\"https://imgnews.pstatic.net/image/origin/648/2025/10/10/40575.jpg?type=nf206_146\" width=\"103\"/></span></a></li><li class=\"NewsList_item__UDkww\"><a class=\"NewsList_link__EB1t5\" href=\"https://n.news.naver.com/article/029/0002986277\" rel=\"noreferrer noopener\" target=\"_blank\"><span class=\"NewsList_inner__AXU8T\"><strong class=\"NewsList_title__v55VO\">비트코인, 연휴 중 최고가 돌파 후 12만달러선서 ‘횡보’</strong><p class=\"NewsList_text__d5Emm\">연휴 기간 중 사상 최고가를 경신했던 비트코인이 차익 실현 매도에 12만달러대를 유지하고 있다. 10일 코인게코에 따르면 이날 오전 10시 기준 비트코인은 24시간 전보다 1.0% 하락한 12만1802달러에 거래되고 있다. 비트코인은 지난 7일 12만6000달러를 돌파하며 사상 최고가를 경신했다. 상승 흐름을 견인한 건 미국 주식시장 강세, 상장지수펀...</p><span class=\"NewsList_information__kcJNR\"><cite class=\"NewsList_description__vmFPo\">디지털타임스</cite><time class=\"NewsList_description__vmFPo\">20분 전</time></span></span><span class=\"NewsList_thumb__1wE7y\"><img alt=\"비트코인, 연휴 중 최고가 돌파 후 12만달러선서 ‘횡보’\" class=\"img\" data-src=\"https://imgnews.pstatic.net/image/origin/029/2025/10/10/2986277.jpg?type=nf206_146\" height=\"70\" src=\"https://imgnews.pstatic.net/image/origin/029/2025/10/10/2986277.jpg?type=nf206_146\" width=\"103\"/></span></a></li><li class=\"NewsList_item__UDkww\"><a class=\"NewsList_link__EB1t5\" href=\"https://n.news.naver.com/article/215/0001226596\" rel=\"noreferrer noopener\" target=\"_blank\"><span class=\"NewsList_inner__AXU8T\"><strong class=\"NewsList_title__v55VO\">코스피, 사상 첫 3600선 돌파…삼성전자·SK하이닉스 신고가</strong><p class=\"NewsList_text__d5Emm\">추석 연휴 기간 쉬어간 코스피가 10일 장 초반 3,600선을 기록했다. 이날 코스피는 전 거래일보다 48.90포인트(1.38%) 오른 3,598.11에 장을 열었다. 개장 직후 3,606.86을 기록한 뒤, 오전 9시 23분 기준 3,594선에서 움직이고 있다. 투자자별 매매동향을 살펴보면, 외국인과 개인이 각각 1,324억 원, 2,042억 원 순...</p><span class=\"NewsList_information__kcJNR\"><cite class=\"NewsList_description__vmFPo\">한국경제TV</cite><time class=\"NewsList_description__vmFPo\">20분 전</time></span></span><span class=\"NewsList_thumb__1wE7y\"><img alt=\"코스피, 사상 첫 3600선 돌파…삼성전자·SK하이닉스 신고가\" class=\"img\" data-src=\"https://imgnews.pstatic.net/image/origin/215/2025/10/10/1226596.jpg?type=nf206_146\" height=\"70\" src=\"https://imgnews.pstatic.net/image/origin/215/2025/10/10/1226596.jpg?type=nf206_146\" width=\"103\"/></span></a></li></ul><div><div class=\"Loading_article__7J286\"><div class=\"Loading_dot_loader__gxSvH\"><div class=\"Loading_group__t4u28\"><span class=\"Loading_dot__lfQf9\"></span><span class=\"Loading_dot__lfQf9\"></span><span class=\"Loading_dot__lfQf9\"></span><span class=\"Loading_dot__lfQf9\"></span><span class=\"Loading_dot__lfQf9\"></span><span class=\"Loading_dot__lfQf9\"></span><span class=\"blind\">로딩중</span></div></div></div></div></div></div><div class=\"FlexibleLayout-module_row__P4p6X\"><div class=\"Footer-module_article__P38DG Footer-module_type-gray150__6VPmE Footer-module_width-type-wide__oqRPi Footer-module_is-bottom-margin__ZtHqT\"><div class=\"Footer-module_inner__J3glp\"><ul class=\"FooterQuickMenu-module_article__UX9-p\"><li class=\"FooterQuickMenu-module_item__UTOXd\"><a class=\"FooterQuickMenu-module_link__t0NIA\" data-nlogs=\"fot.login\" href=\"#\" target=\"_self\">로그인</a></li><li class=\"FooterQuickMenu-module_item__UTOXd\"><a class=\"FooterQuickMenu-module_link__t0NIA\" data-nlogs=\"fot.terms\" href=\"https://policy.naver.com/policy-mobile/term.html?type=1\" target=\"_self\">이용약관</a></li><li class=\"FooterQuickMenu-module_item__UTOXd\"><a class=\"FooterQuickMenu-module_link__t0NIA FooterQuickMenu-module_type-bold__Ngdla\" data-nlogs=\"fot.personal\" href=\"https://policy.naver.com/policy-mobile/privacy.html\" target=\"_self\">개인정보 처리방침</a></li><li class=\"FooterQuickMenu-module_item__UTOXd\"><a class=\"FooterQuickMenu-module_link__t0NIA\" data-nlogs=\"fot.help\" href=\"https://help.naver.com/alias/contents2/finance/finance_1.naver\" target=\"_self\">증권 고객센터</a></li><li class=\"FooterQuickMenu-module_item__UTOXd\"><span class=\"FooterQuickMenu-module_link__t0NIA\">기사배열 원칙 책임자 : 김수향</span></li><li class=\"FooterQuickMenu-module_item__UTOXd\"><span class=\"FooterQuickMenu-module_link__t0NIA\">청소년 보호 책임자 : 이정규</span></li></ul><div class=\"FooterInfo-module_article__NFe97 FooterInfo-module_type-gray700__CWZ1x\"><div class=\"FooterInfo-module_description__afB71\">네이버파이낸셜㈜은 전자결제서비스제공자 및 통신판매중개자이며 통신판매의 당사자가 아닙니다. 상품, 상품정보 및 거래에 관한 의무와 책임은 판매자에게 있습니다.</div><div class=\"FooterInfo-module_area-fold__-VV5Q\"><button class=\"FooterInfo-module_button__MRyzl\" data-nlogs=\"fot.corpinfo\" type=\"button\">네이버파이낸셜㈜ 사업자 정보<span class=\"FooterInfo-module_icon__pyqRF\"><svg fill=\"none\" height=\"4\" viewbox=\"0 0 10 6\" width=\"8\" xmlns=\"http://www.w3.org/2000/svg\"><path d=\"M1 1L5 5L9 1\" stroke=\"#767678\" stroke-linecap=\"round\" stroke-linejoin=\"round\" stroke-width=\"1.2\"></path></svg><span class=\"blind\">펼치기</span></span></button></div></div></div></div></div></div><h2 class=\"blind\" id=\"bottom-navigation\">페이 서비스메뉴</h2><ul class=\"BottomNavigationBarUI-module_article__wEzsF\"><li class=\"BottomNavigationBarUI-module_item__rBLJB\"><div class=\"BottomNavigationBarUI-module_tooltip__ZqqVQ\"><span class=\"BottomNavigationBarUI-module_highlight__ZJj6I\">자산·송금</span>은 여기서<span class=\"BottomNavigationBarUI-module_edge__8XbZL\"><svg fill=\"none\" height=\"5\" viewbox=\"0 0 8 5\" width=\"10\" xmlns=\"http://www.w3.org/2000/svg\"><path clip-rule=\"evenodd\" d=\"M1 1H7L4 4L1 1Z\" fill=\"#2e343a\" fill-rule=\"evenodd\" stroke=\"#2e343a\" stroke-linecap=\"round\" stroke-linejoin=\"round\"></path></svg></span></div><a class=\"IconText-module_article__983nq\" href=\"https://home.pay.naver.com/\"><div class=\"IconText-module_icon__Ltssg\"><div><svg fill=\"none\" height=\"24\" viewbox=\"0 0 24 24\" width=\"24\" xmlns=\"http://www.w3.org/2000/svg\"><path d=\"M15.6011 10.4619C15.7448 10.0896 16.1618 9.90477 16.5326 10.0491C16.8724 10.1813 17.0554 10.5442 16.9729 10.8905L16.9437 10.9844L14.8001 16.5383C14.577 17.1162 13.7982 17.152 13.5073 16.6433L13.4587 16.5416L11.9571 12.7049L10.4685 16.5397C10.2427 17.1214 9.45605 17.1505 9.17095 16.6341L9.12363 16.5308L7.05028 10.9769C6.91071 10.603 7.09939 10.1863 7.47171 10.0462C7.813 9.91773 8.19013 10.0662 8.35812 10.3798L8.39856 10.4694L9.81072 14.253L11.2835 10.4605C11.5075 9.88373 12.2852 9.84872 12.5758 10.357L12.6243 10.4586L14.1237 14.2877L15.6011 10.4619Z\" fill=\"#1E1E23\"></path><path d=\"M8.06081 12.5247C8.45843 12.5247 8.78076 12.8484 8.78076 13.2476C8.78076 13.6136 8.50991 13.9161 8.15851 13.964L8.06081 13.9706H6.71995C6.32233 13.9706 6 13.6469 6 13.2476C6 12.8817 6.27085 12.5792 6.62226 12.5313L6.71995 12.5247H8.06081Z\" fill=\"#1E1E23\"></path><path d=\"M17.2801 12.5247C17.6777 12.5247 18 12.8484 18 13.2476C18 13.6136 17.7292 13.9161 17.3777 13.964L17.2801 13.9706H15.9392C15.5416 13.9706 15.2192 13.6469 15.2192 13.2476C15.2192 12.8817 15.4901 12.5792 15.8415 12.5313L15.9392 12.5247H17.2801Z\" fill=\"#1E1E23\"></path><path clip-rule=\"evenodd\" d=\"M3.5 4.75C3.08579 4.75 2.75 5.08579 2.75 5.5V19.5C2.75 19.9142 3.08579 20.25 3.5 20.25H20.5C20.9142 20.25 21.25 19.9142 21.25 19.5V7.86111C21.25 7.4469 20.9142 7.11111 20.5 7.11111H12.6295L10.1136 4.93297C9.9773 4.81496 9.80303 4.75 9.62272 4.75H3.5ZM1.25 5.5C1.25 4.25736 2.25736 3.25 3.5 3.25H9.62272C10.1636 3.25 10.6865 3.44487 11.0954 3.79892L13.1886 5.61111H20.5C21.7426 5.61111 22.75 6.61847 22.75 7.86111V19.5C22.75 20.7426 21.7426 21.75 20.5 21.75H3.5C2.25736 21.75 1.25 20.7426 1.25 19.5V5.5Z\" fill=\"#1E1E23\" fill-rule=\"evenodd\"></path></svg></div></div>금융</a></li><li class=\"BottomNavigationBarUI-module_item__rBLJB\"><a class=\"IconText-module_article__983nq\" href=\"https://point.pay.naver.com/main\"><div class=\"IconText-module_icon__Ltssg\"><div><svg fill=\"none\" height=\"24\" viewbox=\"0 0 24 24\" width=\"24\" xmlns=\"http://www.w3.org/2000/svg\"><circle cx=\"12\" cy=\"12\" r=\"10.25\" stroke=\"#1E1E23\" stroke-width=\"1.5\"></circle><path d=\"M14.7078 7.86938C15.1217 7.8696 15.4576 8.20548 15.4578 8.61938V11.3596H17.0447L17.1208 11.3635C17.4992 11.4018 17.7947 11.7212 17.7947 12.1096C17.7947 12.498 17.4992 12.8174 17.1208 12.8557L17.0447 12.8596H15.4578V15.6282C15.4576 16.4491 14.4087 16.7927 13.9226 16.1311L9.95972 10.7327V15.7239C9.95951 16.1378 9.62369 16.4737 9.20972 16.4739C8.79563 16.4739 8.45993 16.1379 8.45972 15.7239V12.8596H7.03979C6.62558 12.8596 6.28979 12.5238 6.28979 12.1096C6.28979 11.6954 6.62558 11.3596 7.03979 11.3596H8.45972V8.75024C8.45972 7.98045 9.38143 7.62974 9.89722 8.13403L9.99487 8.24634L13.9578 13.6438V8.61938C13.958 8.20535 14.2937 7.86938 14.7078 7.86938Z\" fill=\"#1E1E23\"></path></svg></div></div>포인트</a></li><li class=\"BottomNavigationBarUI-module_item__rBLJB\"><a class=\"IconText-module_article__983nq\" href=\"https://new-m.pay.naver.com/historybenefit/home\"><div class=\"IconText-module_icon__Ltssg\"><div><svg fill=\"none\" height=\"24\" viewbox=\"0 0 24 24\" width=\"24\" xmlns=\"http://www.w3.org/2000/svg\"><path clip-rule=\"evenodd\" d=\"M4.5 3.75C4.08579 3.75 3.75 4.08579 3.75 4.5V21.0988C4.6703 20.4998 5.86015 20.5054 6.77543 21.1156L7.36132 21.5062L6.95844 22.1105L7.36133 21.5062C7.4453 21.5621 7.5547 21.5621 7.63867 21.5062L8.0547 22.1302L7.63868 21.5062L8.22457 21.1156C9.1483 20.4997 10.3517 20.4997 11.2754 21.1156L11.8613 21.5062L11.4453 22.1302L11.8613 21.5062C11.9453 21.5621 12.0547 21.5621 12.1387 21.5062L12.7246 21.1156C13.6483 20.4997 14.8517 20.4997 15.7754 21.1156L16.3613 21.5062L15.9453 22.1302L16.3613 21.5062C16.4453 21.5621 16.5547 21.5621 16.6387 21.5062L17.2246 21.1156C18.1398 20.5054 19.3297 20.4998 20.25 21.0988V4.5C20.25 4.08579 19.9142 3.75 19.5 3.75H4.5ZM2.25 4.5C2.25 3.25736 3.25736 2.25 4.5 2.25H19.5C20.7426 2.25 21.75 3.25736 21.75 4.5V22.5C21.75 22.7766 21.5978 23.0307 21.3539 23.1613C21.11 23.2918 20.8141 23.2775 20.584 23.124L19.4434 22.3636C19.0235 22.0837 18.4765 22.0837 18.0566 22.3636L17.4707 22.7542C16.8829 23.1461 16.1171 23.1461 15.5293 22.7542L14.9434 22.3636C14.5235 22.0837 13.9765 22.0837 13.5566 22.3636L12.9707 22.7542C12.3829 23.1461 11.6171 23.1461 11.0293 22.7542L10.4434 22.3636L10.8191 21.8L10.4434 22.3636C10.0235 22.0837 9.4765 22.0837 9.05662 22.3636L8.6406 21.7396L9.05662 22.3636L8.47072 22.7542C7.8829 23.1461 7.1171 23.1461 6.52928 22.7542L5.94338 22.3636L6.3594 21.7396L5.94337 22.3636C5.5235 22.0837 4.9765 22.0837 4.55662 22.3636L4.14713 21.7494L4.55662 22.3636L3.41602 23.124C3.18588 23.2775 2.88997 23.2918 2.64611 23.1613C2.40224 23.0307 2.25 22.7766 2.25 22.5V4.5Z\" fill=\"#1E1E23\" fill-rule=\"evenodd\"></path><path d=\"M6 7.75C6 7.33579 6.30996 7 6.69231 7H17.3077C17.69 7 18 7.33579 18 7.75C18 8.16421 17.69 8.5 17.3077 8.5H6.69231C6.30996 8.5 6 8.16421 6 7.75Z\" fill=\"#1E1E23\"></path><path d=\"M6 11.75C6 11.3358 6.30996 11 6.69231 11H17.3077C17.69 11 18 11.3358 18 11.75C18 12.1642 17.69 12.5 17.3077 12.5H6.69231C6.30996 12.5 6 12.1642 6 11.75Z\" fill=\"#1E1E23\"></path><path d=\"M6 15.75C6 15.3358 6.30996 15 6.69231 15H11.7692C12.1516 15 12.4615 15.3358 12.4615 15.75C12.4615 16.1642 12.1516 16.5 11.7692 16.5H6.69231C6.30996 16.5 6 16.1642 6 15.75Z\" fill=\"#1E1E23\"></path></svg></div></div>결제</a></li><li class=\"BottomNavigationBarUI-module_item__rBLJB\"><a class=\"IconText-module_article__983nq IconText-module_is-selected__81QfW\" href=\"https://m.stock.naver.com/\"><div class=\"IconText-module_icon__Ltssg\"><div><svg fill=\"none\" height=\"24\" viewbox=\"0 0 24 24\" width=\"24\" xmlns=\"http://www.w3.org/2000/svg\"><path d=\"M3 20.5V15.5037C3 15.1869 3.15016 14.8888 3.40477 14.7002L7.55258 11.6277C8.06099 11.2511 8.75103 11.234 9.27747 11.585L12.0225 13.415C12.549 13.766 13.239 13.7489 13.7474 13.3723L19.0857 9.41798C19.8777 8.83134 21 9.39668 21 10.3822V20.5C21 21.3284 20.3284 22 19.5 22H4.5C3.67157 22 3 21.3284 3 20.5Z\" fill=\"#1E1E23\"></path><path clip-rule=\"evenodd\" d=\"M18.6393 8.81531C19.9262 7.86203 21.75 8.7807 21.75 10.3822V20.5C21.75 21.7426 20.7426 22.75 19.5 22.75H4.5C3.25736 22.75 2.25 21.7426 2.25 20.5V15.5037C2.25 14.9492 2.51278 14.4276 2.95835 14.0975L3.40477 14.7002L2.95835 14.0975L7.10616 11.0251C7.86877 10.4602 8.90384 10.4345 9.69349 10.9609L12.4386 12.791C12.7018 12.9665 13.0468 12.9579 13.301 12.7696L18.6393 8.81531ZM20.25 10.3822C20.25 10.0127 19.8291 9.80066 19.5321 10.0206L14.1938 13.9749C13.4312 14.5398 12.3962 14.5655 11.6065 14.0391L8.86145 12.209C8.59823 12.0335 8.2532 12.0421 7.999 12.2304L3.85119 15.3028L3.41031 14.7076L3.85119 15.3028C3.78754 15.35 3.75 15.4245 3.75 15.5037V20.5C3.75 20.9142 4.08579 21.25 4.5 21.25H19.5C19.9142 21.25 20.25 20.9142 20.25 20.5V10.3822Z\" fill=\"#1E1E23\" fill-rule=\"evenodd\"></path><path clip-rule=\"evenodd\" d=\"M21.6027 3.55358C21.8493 3.88643 21.7793 4.35612 21.4465 4.60267L13.9114 10.1842C13.3183 10.6236 12.5132 10.6435 11.899 10.2341L8.86149 8.20902C8.59827 8.03354 8.25325 8.04209 7.99905 8.23039L3.44647 11.6027C3.11362 11.8492 2.64393 11.7793 2.39738 11.4464C2.15083 11.1136 2.22078 10.6439 2.55363 10.3973L7.1062 7.02505C7.86882 6.46015 8.90389 6.43451 9.69354 6.96094L12.7311 8.98598C12.8188 9.04447 12.9338 9.04162 13.0186 8.97885L20.5536 3.39733C20.8865 3.15078 21.3562 3.22074 21.6027 3.55358Z\" fill=\"#1E1E23\" fill-rule=\"evenodd\"></path><path clip-rule=\"evenodd\" d=\"M16.75 3.5C16.75 3.08579 17.0858 2.75 17.5 2.75H20.5C21.1904 2.75 21.75 3.30964 21.75 4V7C21.75 7.41421 21.4142 7.75 21 7.75C20.5858 7.75 20.25 7.41421 20.25 7V4.25H17.5C17.0858 4.25 16.75 3.91421 16.75 3.5Z\" fill=\"#1E1E23\" fill-rule=\"evenodd\"></path></svg></div></div>증권<span class=\"blind\">현재 페이지</span></a></li><li class=\"BottomNavigationBarUI-module_item__rBLJB\"><a class=\"IconText-module_article__983nq\" href=\"https://fin.land.naver.com/\"><div class=\"IconText-module_icon__Ltssg\"><div><svg fill=\"none\" height=\"24\" viewbox=\"0 0 24 24\" width=\"24\" xmlns=\"http://www.w3.org/2000/svg\"><path d=\"M8 9.40001C8 9.17909 8.17909 9.00001 8.4 9.00001H10.6C10.8209 9.00001 11 9.17909 11 9.40001V11.6C11 11.8209 10.8209 12 10.6 12H8.4C8.17909 12 8 11.8209 8 11.6V9.40001Z\" fill=\"#1E1E23\"></path><path d=\"M8 14.4C8 14.1791 8.17909 14 8.4 14H10.6C10.8209 14 11 14.1791 11 14.4V16.6C11 16.8209 10.8209 17 10.6 17H8.4C8.17909 17 8 16.8209 8 16.6V14.4Z\" fill=\"#1E1E23\"></path><path d=\"M13 9.40001C13 9.17909 13.1791 9.00001 13.4 9.00001H15.6C15.8209 9.00001 16 9.17909 16 9.40001V11.6C16 11.8209 15.8209 12 15.6 12H13.4C13.1791 12 13 11.8209 13 11.6V9.40001Z\" fill=\"#1E1E23\"></path><path d=\"M13 14.4C13 14.1791 13.1791 14 13.4 14H15.6C15.8209 14 16 14.1791 16 14.4V16.6C16 16.8209 15.8209 17 15.6 17H13.4C13.1791 17 13 16.8209 13 16.6V14.4Z\" fill=\"#1E1E23\"></path><path clip-rule=\"evenodd\" d=\"M12.3642 3.06032C12.1377 2.93448 11.8623 2.93448 11.6358 3.06032L4.13577 7.22699C3.89767 7.35927 3.75 7.61023 3.75 7.88261V20.5C3.75 20.9142 4.08579 21.25 4.5 21.25H19.5C19.9142 21.25 20.25 20.9142 20.25 20.5V7.88261C20.25 7.61023 20.1023 7.35927 19.8642 7.22699L12.3642 3.06032ZM10.9073 1.74909C11.5869 1.37156 12.4131 1.37156 13.0927 1.74909L20.5927 5.91575C21.307 6.31259 21.75 7.06548 21.75 7.88261V20.5C21.75 21.7426 20.7426 22.75 19.5 22.75H4.5C3.25736 22.75 2.25 21.7426 2.25 20.5V7.88261C2.25 7.06548 2.69301 6.31259 3.4073 5.91576L10.9073 1.74909Z\" fill=\"#1E1E23\" fill-rule=\"evenodd\"></path></svg></div></div>부동산</a></li></ul><div class=\"LayerFrame_dimmed__mcKV6\"><div class=\"LayerFrame_article__o75k1\"><div class=\"LayerFrame_layer__N_B4x\"><div class=\"LayerFrame_frameScroll__D7F1U\"></div><button class=\"LayerFrame_buttonClose__GMFJk\" type=\"button\"><svg height=\"24px\" viewbox=\"0 0 24 24\" width=\"24px\" xmlns=\"http://www.w3.org/2000/svg\"><path d=\"M19 19L5 5\" stroke=\"#1e1e23\" stroke-linecap=\"round\" stroke-width=\"1.6\"></path><path d=\"M5 19L19 5\" stroke=\"#1e1e23\" stroke-linecap=\"round\" stroke-width=\"1.6\"></path></svg><span class=\"blind\">닫기</span></button></div></div></div></div>'"
      ]
     },
     "execution_count": 74,
     "metadata": {},
     "output_type": "execute_result"
    }
   ],
   "source": [
    "soup.find('div').decode_contents() # bs4 객체 -> str 값 추출\n",
    "str(soup.find('div'))"
   ]
  },
  {
   "cell_type": "code",
   "execution_count": null,
   "id": "9d12663e",
   "metadata": {},
   "outputs": [],
   "source": [
    "# # python 데이터 수집\n",
    "\n",
    "# from selenium import webdriver\n",
    "# from selenium.webdriver.common.by import By\n",
    "# from selenium.webdriver.common.keys import Keys\n",
    "# from selenium.webdriver.support.ui import WebDriverWait\n",
    "# from selenium.webdriver.support import expected_conditions as EC\n",
    "# from webdriver_manager.chrome import ChromeDriverManager\n",
    "# from selenium.webdriver.firefox.options import Options\n",
    "# from selenium.webdriver.firefox.service import Service\n",
    "\n",
    "\n",
    "# #Chorome 드라이버 설정\n",
    "\n",
    "# # options = webdriver.ChromeOptions()\n",
    "# options = Options()\n",
    "# options.add_argument('--headless') # 백그라운드 실행\n",
    "# options.add_argument('--no-sandbox')\n",
    "# options.add_argument('--disable-dev-shm-usage')\n",
    "\n",
    "# service = Service(\"/opt/homebrew/bin/geckodriver\")  # 경로 명시\n",
    "# driver = webdriver.Firefox(service=service, options=opts)\n",
    "# # driver = webdriver.Chrome(ChromeDriverManager().install(), options=options)\n",
    "# driver = webdriver.Firefox(options=options)\n",
    "\n",
    "# driver.get(\"https://google.com\")"
   ]
  },
  {
   "cell_type": "code",
   "execution_count": null,
   "id": "4387378b",
   "metadata": {},
   "outputs": [],
   "source": [
    "\n",
    "driver.find_element(By.ID,'')\n"
   ]
  },
  {
   "cell_type": "code",
   "execution_count": 70,
   "id": "a49f7aa4",
   "metadata": {},
   "outputs": [
    {
     "name": "stdout",
     "output_type": "stream",
     "text": [
      "총 50개 데이터 수집 완료\n"
     ]
    }
   ],
   "source": [
    "import requests\n",
    "from bs4 import BeautifulSoup\n",
    "from openpyxl import Workbook\n",
    "\n",
    "# 시가총액 상위 종목 페이지에서 더 많은 데이터 수집\n",
    "url = 'https://finance.naver.com/sise/sise_market_sum.nhn'\n",
    "\n",
    "response = requests.get(url)\n",
    "soup = BeautifulSoup(response.text, 'html.parser')\n",
    "\n",
    "datas = []\n",
    "trs = soup.select('table.type_2 tbody tr')\n",
    "\n",
    "for tr in trs:\n",
    "    tds = tr.select('td')\n",
    "    if len(tds) >= 4 and tds[1].get_text().strip():\n",
    "        name = tds[1].get_text().strip()\n",
    "        current_price = tds[2].get_text().replace(\",\",\"\").strip()\n",
    "        \n",
    "        # 등락 정보\n",
    "        change_td = tds[3]\n",
    "        if 'red02' in str(change_td):\n",
    "            change_direction = 'up'\n",
    "        elif 'blue02' in str(change_td):\n",
    "            change_direction = 'down'\n",
    "        else:\n",
    "            change_direction = 'same'\n",
    "            \n",
    "        change_price = change_td.get_text().strip()\n",
    "        \n",
    "        if current_price and current_price.isdigit():\n",
    "            datas.append([name, current_price, change_direction, change_price])\n",
    "\n",
    "writer_wb = Workbook()\n",
    "writer_ws = writer_wb.create_sheet('결과')\n",
    "writer_ws.append(['stock_name','stock_price','up_down','up_down_price']) \n",
    "for data in datas:\n",
    "    writer_ws.append(data)\n",
    "    \n",
    "writer_wb.save(r'data/naver_fin_more.xlsx')\n",
    "print(f\"총 {len(datas)}개 데이터 수집 완료\")\n"
   ]
  },
  {
   "cell_type": "code",
   "execution_count": 73,
   "id": "a7bafa4c",
   "metadata": {},
   "outputs": [
    {
     "name": "stdout",
     "output_type": "stream",
     "text": [
      "최근 10개 데이터\n",
      "(205, '하이브', 274000, 'up', 6500)\n",
      "(204, 'SK텔레콤', 54500, 'up', 100)\n",
      "(203, '현대글로비스', 163600, 'same', 600)\n",
      "(202, '미래에셋증권', 21950, 'up', 250)\n",
      "(201, 'HD현대', 158900, 'same', 5500)\n",
      "(200, 'KT', 49950, 'same', 1250)\n",
      "(199, 'LG전자', 78500, 'up', 2100)\n",
      "(198, '삼성에스디에스', 168800, 'up', 2100)\n",
      "(197, '포스코퓨처엠', 147000, 'up', 500)\n",
      "(196, '효성중공업', 1490000, 'up', 78000)\n",
      "DB 연결이 종료되었습니다.\n"
     ]
    }
   ],
   "source": [
    "import os\n",
    "import pandas as pd\n",
    "import psycopg2\n",
    "from psycopg2.extras import execute_batch\n",
    "from dotenv import load_dotenv\n",
    "import re\n",
    "\n",
    "load_dotenv()\n",
    "\n",
    "db_config = {\n",
    "    'host': os.getenv(\"DB_HOST\"),\n",
    "    'port': 5432,\n",
    "    'database': os.getenv('DB_NAME'),\n",
    "    'user': os.getenv('DB_USER'),\n",
    "    'password': os.getenv('DB_PASS'),\n",
    "}\n",
    "\n",
    "\n",
    "conn = None\n",
    "cursor = None\n",
    "\n",
    "try:\n",
    "    # DB 연결\n",
    "    conn = psycopg2.connect(**db_config)\n",
    "    cursor = conn.cursor()\n",
    "\n",
    "    # 엑셀 로드 & 컬럼명 정리\n",
    "    df = pd.read_excel(\"data/naver_fin_more.xlsx\", sheet_name='결과')\n",
    "    df.rename(columns=lambda x: x.strip().lower().replace(\" \", \"_\"), inplace=True)\n",
    "\n",
    "\n",
    "    def extract_number(text):\n",
    "        numbers = re.findall(r'\\d+', str(text).replace(',', ''))\n",
    "        return int(''.join(numbers)) if numbers else 0\n",
    "    # 타입 변환: DB에 맞게 맞춤\n",
    "    df[\"stock_name\"] = df[\"stock_name\"].astype(str)   \n",
    "    df[\"stock_price\"]    = pd.to_numeric(df['stock_price'], errors='coerce').fillna(0).astype(int)\n",
    "    df[\"up_down\"]       = df['up_down'].astype(str)                     \n",
    "    df[\"up_down_price\"] = pd.to_numeric(df['up_down_price'].apply(extract_number), errors='coerce').fillna(0).astype(int)\n",
    "    \n",
    "    insert_sql = \"\"\"\n",
    "        INSERT INTO naver_stock (\n",
    "            stock_name, stock_price, up_down, up_down_price\n",
    "        )\n",
    "        VALUES (%s, %s, %s, %s)\n",
    "        RETURNING id;\n",
    "    \"\"\"\n",
    "\n",
    "    # 튜플 데이터 준비\n",
    "    rows_to_insert = [\n",
    "        (r[\"stock_name\"], r[\"stock_price\"], r[\"up_down\"], r[\"up_down_price\"])\n",
    "        for _, r in df.iterrows()\n",
    "    ]\n",
    "\n",
    "    # 대량 insert\n",
    "    execute_batch(cursor, insert_sql, rows_to_insert, page_size=100)\n",
    "    conn.commit()\n",
    "\n",
    "    # 최근 10개 데이터 조회\n",
    "    cursor.execute(\"\"\"\n",
    "        SELECT id, stock_name, stock_price, up_down, up_down_price\n",
    "        FROM naver_stock\n",
    "        ORDER BY id DESC\n",
    "        LIMIT 10\n",
    "    \"\"\")\n",
    "    recent = cursor.fetchall()\n",
    "\n",
    "    print(\"최근 10개 데이터\")\n",
    "    for row in recent:\n",
    "        print(row)\n",
    "\n",
    "except Exception as e:\n",
    "    print(\"에러 발생:\", e)\n",
    "\n",
    "finally:\n",
    "    if cursor:\n",
    "        cursor.close()\n",
    "    if conn:\n",
    "        conn.close()\n",
    "    print(\"DB 연결이 종료되었습니다.\")"
   ]
  },
  {
   "cell_type": "code",
   "execution_count": 77,
   "id": "1e6b573d",
   "metadata": {},
   "outputs": [
    {
     "name": "stdout",
     "output_type": "stream",
     "text": [
      "총 20개 뉴스 발견\n",
      "\n",
      "[1] 프랭클린템플턴, 유럽 아페라자산운용 인수...대체신용 운용자산 900억달러 넘어\n",
      "링크: https://n.news.naver.com/article/366/0001113443\n",
      "--------------------------------------------------\n",
      "\n",
      "[2] [특징주] 유니온머티리얼, 中 희토류 통제 소식에 상한가(종합)\n",
      "링크: https://n.news.naver.com/article/001/0015670796\n",
      "--------------------------------------------------\n",
      "\n",
      "[3] \"10만 찍고 11만 가자\"…질주하는 삼성전자, 목표가도 상향\n",
      "링크: https://n.news.naver.com/article/243/0000086157\n",
      "--------------------------------------------------\n",
      "\n",
      "[4] 코스피, 사상 최초로 3610선 마감…2거래일 연속 신기록(2보)\n",
      "링크: https://n.news.naver.com/article/421/0008530715\n",
      "--------------------------------------------------\n",
      "\n",
      "[5] [속보]삼성전자, 6.07% 오른 9만4400원 마감…4년 9개월 만에 최고치\n",
      "링크: https://n.news.naver.com/article/003/0013527747\n",
      "--------------------------------------------------\n",
      "\n",
      "[6] 코스피 3610.60(▲1.73%), 코스닥 859.49(▲0.61%), 원·달러 환율 1421.0원(▲21.0원) 마감[시황]\n",
      "링크: https://n.news.naver.com/article/003/0013527745\n",
      "--------------------------------------------------\n",
      "\n",
      "[7] [속보] 코스닥 859.49…0.61% 상승 마감\n",
      "링크: https://n.news.naver.com/article/417/0001105851\n",
      "--------------------------------------------------\n",
      "\n",
      "[8] [속보] 삼성전자 9만4천원선 마감…SK하이닉스 42만8천원 최고가\n",
      "링크: https://n.news.naver.com/article/422/0000789510\n",
      "--------------------------------------------------\n",
      "\n",
      "[9] [속보] 코스피, 연휴 끝내고 또 사상 최고치…3,610.60 마감\n",
      "링크: https://n.news.naver.com/article/422/0000789509\n",
      "--------------------------------------------------\n",
      "\n",
      "[10] [달러·원] 환율 21.0원 오른 1421.0원 (오후 3시 30분)\n",
      "링크: https://n.news.naver.com/article/421/0008530712\n",
      "--------------------------------------------------\n"
     ]
    }
   ],
   "source": [
    "from selenium import webdriver\n",
    "from selenium.webdriver.chrome.service import Service\n",
    "from selenium.webdriver.chrome.options import Options\n",
    "from selenium.webdriver.common.by import By\n",
    "from selenium.webdriver.support.ui import WebDriverWait\n",
    "from selenium.webdriver.support import expected_conditions as EC\n",
    "from webdriver_manager.chrome import ChromeDriverManager\n",
    "from bs4 import BeautifulSoup\n",
    "import time\n",
    "\n",
    "def scrape_naver_finance_news():\n",
    "    # Chrome 옵션 설정\n",
    "    options = Options()\n",
    "    options.add_argument('--headless')\n",
    "    options.add_argument('--no-sandbox')\n",
    "    options.add_argument('--disable-dev-shm-usage')\n",
    "\n",
    "    driver = None\n",
    "    try:\n",
    "        # Chrome 드라이버 실행\n",
    "        driver = webdriver.Chrome(service=Service(ChromeDriverManager().install()), options=options)\n",
    "\n",
    "        # 웹페이지 로드\n",
    "        url = \"https://m.stock.naver.com/investment/news/flashnews\"\n",
    "        driver.get(url)\n",
    "        time.sleep(3)\n",
    "\n",
    "        # BeautifulSoup으로 파싱\n",
    "        soup = BeautifulSoup(driver.page_source, 'html.parser')\n",
    "        \n",
    "        # 뉴스 아이템 찾기\n",
    "        news_items = soup.select('a.NewsList_link__EB1t5')\n",
    "        \n",
    "        print(f\"총 {len(news_items)}개 뉴스 발견\")\n",
    "        \n",
    "        for i, item in enumerate(news_items[:10]):\n",
    "            title_elem = item.select_one('strong.NewsList_title__v55VO')\n",
    "            title = title_elem.get_text(strip=True) if title_elem else \"제목 없음\"\n",
    "            \n",
    "            link = item.get('href', '')\n",
    "            if link and not link.startswith('http'):\n",
    "                link = 'https://n.news.naver.com' + link\n",
    "            \n",
    "            print(f\"\\n[{i+1}] {title}\")\n",
    "            print(f\"링크: {link}\")\n",
    "            print(\"-\" * 50)\n",
    "\n",
    "    except Exception as e:\n",
    "        print(f\"오류 발생: {e}\")\n",
    "    finally:\n",
    "        if driver:\n",
    "            driver.quit()\n",
    "\n",
    "if __name__ == \"__main__\":\n",
    "    scrape_naver_finance_news()"
   ]
  },
  {
   "cell_type": "markdown",
   "id": "1440b629",
   "metadata": {},
   "source": [
    "## Vector / 임베딩"
   ]
  },
  {
   "cell_type": "code",
   "execution_count": 5,
   "id": "859833d3",
   "metadata": {},
   "outputs": [
    {
     "name": "stdout",
     "output_type": "stream",
     "text": [
      "벡터차원:768\n"
     ]
    }
   ],
   "source": [
    "from sentence_transformers import SentenceTransformer\n",
    "sentences = [\"안녕하세요?\", \" 한국어 문장 임베딩을 위한 버트 모델입니다.\"]\n",
    "\n",
    "model = SentenceTransformer('jhgan/ko-sroberta-multitask')\n",
    "embeddings = model.encode(sentences)\n",
    "# print(embeddings)\n",
    "print(f\"벡터차원:{len(embeddings[0])}\")"
   ]
  },
  {
   "cell_type": "markdown",
   "id": "f64306d1",
   "metadata": {},
   "source": [
    "## 임베딩 서비스 (서버)\n"
   ]
  },
  {
   "cell_type": "code",
   "execution_count": 8,
   "id": "738c38b7",
   "metadata": {},
   "outputs": [],
   "source": [
    "from fastapi import FastAPI, Request\n",
    "from pydantic import BaseModel\n",
    "from sentence_transformers import SentenceTransformer\n",
    "import torch\n",
    "import numpy as np\n",
    "from typing import List\n",
    "\n",
    "app = FastAPI()\n",
    "\n",
    "model = SentenceTransformer('jhgan/ko-sroberta-multitask')\n",
    "\n",
    "# 요청 본문을 위한 pydantic 모델정의\n",
    "\n",
    "class TextRequest(BaseModel) :\n",
    "  sentences: List[str]\n",
    "\n",
    "# 응답 본문을 위한 pydantic 모델정의  \n",
    "class EmbeddingsResponse(BaseModel) :\n",
    "  embeddings: List[List[float]]\n",
    "  \n",
    "# 임베딩을 수행하는 API 엔드포인트\n",
    "\n",
    "@app.post(\"/embed\", response_model=EmbeddingsResponse)\n",
    "def get_embeddings(request: TextRequest):\n",
    "    # 입력된 한국어 문장 리스트를 임베딩하여 벡터를 반환합니다.\n",
    "    \n",
    "    # 모델이 이미 지정된 GPU에 로드되어 있으므로 별도의 설정 불필요\n",
    "    \n",
    "    embeddings = model.encode(request.sentences, convert_to_numpy=True)\n",
    "    \n",
    "    # numpy 배열을 파이썬 리스트로 변환\n",
    "    \n",
    "    embedding_list = embeddings.tolist()\n",
    "    \n",
    "    return {\"embeddings\" : embedding_list}"
   ]
  },
  {
   "cell_type": "code",
   "execution_count": 6,
   "id": "cc858e89",
   "metadata": {},
   "outputs": [
    {
     "name": "stdout",
     "output_type": "stream",
     "text": [
      "API 응답 상태 코드: 200\n",
      "임베딩 결과: \n",
      "문잔 1 임베딩 벡터 길이 : 768\n",
      "임베딩 예시 (앞 5개): [-0.3751046359539032, -0.7733840942382812, 0.5927708745002747, -0.3578626811504364, -0.12521325051784515]\n",
      "문잔 2 임베딩 벡터 길이 : 768\n",
      "임베딩 예시 (앞 5개): [-0.09361732006072998, -0.1819155067205429, -0.1923079788684845, -0.3873307704925537, -0.09404028952121735]\n"
     ]
    }
   ],
   "source": [
    "import requests\n",
    "import json\n",
    "import os\n",
    "from dotenv import load_dotenv\n",
    "\n",
    "# API endpoints URL\n",
    "load_dotenv()\n",
    "url = f\"http://{os.getenv('HOST')}:80/embed\"\n",
    "\n",
    "#post 요청으로 전송할 데이터\n",
    "# curl -d 옵션에 해당하는 json 데이터\n",
    "\n",
    "data = {\n",
    "  \"sentences\" : [\"안녕하세요?\", \" 한국어 문장 임베딩을 위한 버트 모델입니다.\"]\n",
    "}\n",
    "try :\n",
    "  response = requests.post(url, json=data)\n",
    "  response.raise_for_status() # 200 응답이 안되면 예외 발생\n",
    "\n",
    "  embeddings_result = response.json() # json 응답을 파이썬 딕셔너리로 변환\n",
    "\n",
    "  print(\"API 응답 상태 코드:\", response.status_code)\n",
    "  print(\"임베딩 결과: \")\n",
    "\n",
    "  for i, embedding in enumerate(embeddings_result['embeddings']) :\n",
    "    print(f\"문잔 {i+1} 임베딩 벡터 길이 : {len(embedding)}\")\n",
    "    print(f\"임베딩 예시 (앞 5개): {embedding[:5]}\")\n",
    "except requests.exceptions.RequestException as e :\n",
    "  print(f\"오류가 발생했습니다.: {e}\")"
   ]
  },
  {
   "cell_type": "markdown",
   "id": "bdb19f4a",
   "metadata": {},
   "source": [
    "vector DB 에 데이터 저장"
   ]
  },
  {
   "cell_type": "code",
   "execution_count": null,
   "id": "cee32af3",
   "metadata": {},
   "outputs": [
    {
     "name": "stdout",
     "output_type": "stream",
     "text": [
      "✅ API 응답 상태 코드: 200\n",
      "💾 저장 완료 → 문장: 안녕하세요?... | 벡터길이: 768\n",
      "💾 저장 완료 → 문장: 오늘 날씨가 정말 좋네요.... | 벡터길이: 768\n",
      "💾 저장 완료 → 문장: 이 모델은 문장 임베딩을 위한 테스트... | 벡터길이: 768\n",
      "💾 저장 완료 → 문장: 커피 한 잔 하실래요?... | 벡터길이: 768\n",
      "💾 저장 완료 → 문장: 서울의 가을은 참 아름답습니다.... | 벡터길이: 768\n",
      "💾 저장 완료 → 문장: 딥러닝 모델을 학습시키는 중입니다.... | 벡터길이: 768\n",
      "💾 저장 완료 → 문장: 데이터가 충분하지 않으면 과적합이 발... | 벡터길이: 768\n",
      "💾 저장 완료 → 문장: AWS에서 서버를 배포하고 있습니다.... | 벡터길이: 768\n",
      "💾 저장 완료 → 문장: 쿠버네티스를 이용하면 확장성이 좋아집... | 벡터길이: 768\n",
      "💾 저장 완료 → 문장: 오늘 점심은 뭐 먹을까요?... | 벡터길이: 768\n",
      "💾 저장 완료 → 문장: 여행을 가고 싶은데 시간이 없어요.... | 벡터길이: 768\n",
      "💾 저장 완료 → 문장: 영화관에서 새 영화를 봤어요.... | 벡터길이: 768\n",
      "💾 저장 완료 → 문장: 강아지가 너무 귀여워요.... | 벡터길이: 768\n",
      "💾 저장 완료 → 문장: 지금은 프로젝트 마감 준비 중이에요.... | 벡터길이: 768\n",
      "💾 저장 완료 → 문장: SQL 쿼리를 최적화해야 합니다.... | 벡터길이: 768\n",
      "💾 저장 완료 → 문장: 파이썬은 배우기 쉬운 언어입니다.... | 벡터길이: 768\n",
      "💾 저장 완료 → 문장: 텐서플로와 파이토치 중 어느 게 좋을... | 벡터길이: 768\n",
      "💾 저장 완료 → 문장: 기계 학습은 통계학적 지식이 중요합니... | 벡터길이: 768\n",
      "💾 저장 완료 → 문장: 집 근처에 새 카페가 생겼어요.... | 벡터길이: 768\n",
      "💾 저장 완료 → 문장: 코드를 디버깅하는 건 참 어렵네요.... | 벡터길이: 768\n",
      "💾 저장 완료 → 문장: 이 문장은 임베딩 테스트를 위해 작성... | 벡터길이: 768\n",
      "💾 저장 완료 → 문장: 인공지능이 인간의 언어를 이해할 수 ... | 벡터길이: 768\n",
      "💾 저장 완료 → 문장: 책을 읽는 습관을 기르고 싶어요.... | 벡터길이: 768\n",
      "💾 저장 완료 → 문장: 내일은 일찍 일어나야 해요.... | 벡터길이: 768\n",
      "💾 저장 완료 → 문장: 운동을 매일 꾸준히 하는 게 중요해요... | 벡터길이: 768\n",
      "💾 저장 완료 → 문장: 새로운 기능을 배포했습니다.... | 벡터길이: 768\n",
      "💾 저장 완료 → 문장: 휴가 때 일본에 다녀왔어요.... | 벡터길이: 768\n",
      "💾 저장 완료 → 문장: 모델의 성능을 평가하는 중입니다.... | 벡터길이: 768\n",
      "💾 저장 완료 → 문장: 데이터베이스 연결 오류가 발생했습니다... | 벡터길이: 768\n",
      "💾 저장 완료 → 문장: 맥북이 너무 뜨거워서 팬이 계속 돌아... | 벡터길이: 768\n",
      "💾 저장 완료 → 문장: 요즘은 클라우드 기술이 필수입니다.... | 벡터길이: 768\n",
      "💾 저장 완료 → 문장: 친구들과 주말에 등산을 갔어요.... | 벡터길이: 768\n",
      "💾 저장 완료 → 문장: 저녁으로 김치찌개를 먹었어요.... | 벡터길이: 768\n",
      "💾 저장 완료 → 문장: AI 서비스의 보안 문제를 점검해야 ... | 벡터길이: 768\n",
      "💾 저장 완료 → 문장: 프로젝트 일정이 조금 지연되었습니다.... | 벡터길이: 768\n",
      "💾 저장 완료 → 문장: 테스트 케이스를 더 추가해야 합니다.... | 벡터길이: 768\n",
      "💾 저장 완료 → 문장: 리눅스 명령어를 연습하고 있습니다.... | 벡터길이: 768\n",
      "💾 저장 완료 → 문장: 네트워크 설정 파일을 수정했어요.... | 벡터길이: 768\n",
      "💾 저장 완료 → 문장: 헬름 차트를 이용해서 배포했어요.... | 벡터길이: 768\n",
      "💾 저장 완료 → 문장: 이메일 서버가 응답하지 않습니다.... | 벡터길이: 768\n",
      "💾 저장 완료 → 문장: 새로운 기능이 정상적으로 작동합니다.... | 벡터길이: 768\n",
      "💾 저장 완료 → 문장: 회의가 내일 오전 10시에 있습니다.... | 벡터길이: 768\n",
      "💾 저장 완료 → 문장: JSON 포맷 오류가 발생했습니다.... | 벡터길이: 768\n",
      "💾 저장 완료 → 문장: Python 가상환경을 다시 설정했어... | 벡터길이: 768\n",
      "💾 저장 완료 → 문장: S3 버킷 접근 권한을 수정했습니다.... | 벡터길이: 768\n",
      "💾 저장 완료 → 문장: 깃허브 액션을 이용한 CI/CD를 구... | 벡터길이: 768\n",
      "💾 저장 완료 → 문장: PostgreSQL에 데이터를 저장했... | 벡터길이: 768\n",
      "💾 저장 완료 → 문장: Docker 이미지를 빌드 중입니다.... | 벡터길이: 768\n",
      "💾 저장 완료 → 문장: 로그 파일이 너무 커서 압축했어요.... | 벡터길이: 768\n",
      "💾 저장 완료 → 문장: 쿠버네티스 Pod가 CrashLoop... | 벡터길이: 768\n",
      "💾 저장 완료 → 문장: Ingress 설정이 올바르게 되어 ... | 벡터길이: 768\n",
      "💾 저장 완료 → 문장: 배포가 성공적으로 완료되었습니다.... | 벡터길이: 768\n",
      "💾 저장 완료 → 문장: 서버 부하 테스트를 진행했습니다.... | 벡터길이: 768\n",
      "💾 저장 완료 → 문장: Redis 캐시가 비워졌습니다.... | 벡터길이: 768\n",
      "💾 저장 완료 → 문장: API 응답 시간이 너무 길어요.... | 벡터길이: 768\n",
      "💾 저장 완료 → 문장: ElasticSearch 인덱스를 재... | 벡터길이: 768\n",
      "💾 저장 완료 → 문장: Grafana 대시보드에서 메트릭을 ... | 벡터길이: 768\n",
      "💾 저장 완료 → 문장: Prometheus 알람이 울렸습니다... | 벡터길이: 768\n",
      "💾 저장 완료 → 문장: CPU 사용률이 급격히 증가했습니다.... | 벡터길이: 768\n",
      "💾 저장 완료 → 문장: 메모리 누수가 의심됩니다.... | 벡터길이: 768\n",
      "💾 저장 완료 → 문장: SSL 인증서를 갱신했습니다.... | 벡터길이: 768\n",
      "💾 저장 완료 → 문장: 네임스페이스 리소스 제한을 수정했습니... | 벡터길이: 768\n",
      "💾 저장 완료 → 문장: 서비스 디스커버리가 잘 작동하고 있습... | 벡터길이: 768\n",
      "💾 저장 완료 → 문장: AWS IAM 권한 오류가 발생했습니... | 벡터길이: 768\n",
      "💾 저장 완료 → 문장: EKS 클러스터를 재시작했습니다.... | 벡터길이: 768\n",
      "💾 저장 완료 → 문장: Node 상태를 점검했습니다.... | 벡터길이: 768\n",
      "💾 저장 완료 → 문장: kubectl get pods 명령을... | 벡터길이: 768\n",
      "💾 저장 완료 → 문장: YAML 파일 들여쓰기를 다시 맞췄습... | 벡터길이: 768\n",
      "💾 저장 완료 → 문장: CI 파이프라인이 실패했습니다.... | 벡터길이: 768\n",
      "💾 저장 완료 → 문장: Jenkins 로그를 확인했습니다.... | 벡터길이: 768\n",
      "💾 저장 완료 → 문장: Terraform으로 인프라를 구성했... | 벡터길이: 768\n",
      "💾 저장 완료 → 문장: 보안 그룹 설정을 변경했습니다.... | 벡터길이: 768\n",
      "💾 저장 완료 → 문장: Route53 DNS 레코드를 추가했... | 벡터길이: 768\n",
      "💾 저장 완료 → 문장: VPC 서브넷 구성을 확인했습니다.... | 벡터길이: 768\n",
      "💾 저장 완료 → 문장: EC2 인스턴스를 재부팅했습니다.... | 벡터길이: 768\n",
      "💾 저장 완료 → 문장: Lambda 함수를 테스트했습니다.... | 벡터길이: 768\n",
      "💾 저장 완료 → 문장: CloudWatch 로그를 모니터링했... | 벡터길이: 768\n",
      "💾 저장 완료 → 문장: RDS 백업을 수행했습니다.... | 벡터길이: 768\n",
      "💾 저장 완료 → 문장: SQS 큐에 메시지를 전송했습니다.... | 벡터길이: 768\n",
      "💾 저장 완료 → 문장: SNS 알림을 받았습니다.... | 벡터길이: 768\n",
      "💾 저장 완료 → 문장: KMS 키를 새로 생성했습니다.... | 벡터길이: 768\n",
      "💾 저장 완료 → 문장: IAM Role을 수정했습니다.... | 벡터길이: 768\n",
      "💾 저장 완료 → 문장: ECR에 이미지를 푸시했습니다.... | 벡터길이: 768\n",
      "💾 저장 완료 → 문장: CloudFront 캐시를 무효화했습... | 벡터길이: 768\n",
      "💾 저장 완료 → 문장: ALB 헬스체크가 실패했습니다.... | 벡터길이: 768\n",
      "💾 저장 완료 → 문장: EFS 마운트가 실패했습니다.... | 벡터길이: 768\n",
      "💾 저장 완료 → 문장: API Gateway 구성을 업데이트... | 벡터길이: 768\n",
      "💾 저장 완료 → 문장: Step Functions 워크플로우... | 벡터길이: 768\n",
      "💾 저장 완료 → 문장: DynamoDB 쿼리 성능을 개선했습... | 벡터길이: 768\n",
      "💾 저장 완료 → 문장: Cognito 사용자 로그인을 테스트... | 벡터길이: 768\n",
      "💾 저장 완료 → 문장: SageMaker 엔드포인트를 배포했... | 벡터길이: 768\n",
      "💾 저장 완료 → 문장: CloudFormation 스택이 롤... | 벡터길이: 768\n",
      "💾 저장 완료 → 문장: SNS 구독이 정상적으로 동작합니다.... | 벡터길이: 768\n",
      "💾 저장 완료 → 문장: EventBridge 룰을 수정했습니... | 벡터길이: 768\n",
      "💾 저장 완료 → 문장: AWS CLI로 리소스를 조회했습니다... | 벡터길이: 768\n",
      "💾 저장 완료 → 문장: 모델 임베딩 테스트를 완료했습니다.... | 벡터길이: 768\n",
      "💾 저장 완료 → 문장: 벡터 데이터베이스에 데이터를 저장했습... | 벡터길이: 768\n",
      "💾 저장 완료 → 문장: pgvector 확장을 성공적으로 설... | 벡터길이: 768\n",
      "💾 저장 완료 → 문장: 이 문장은 100번째 테스트 문장입니... | 벡터길이: 768\n",
      "🎉 모든 임베딩 저장 완료\n"
     ]
    }
   ],
   "source": [
    "import requests\n",
    "import os\n",
    "import json\n",
    "import psycopg2\n",
    "from psycopg2.extras import Json\n",
    "from dotenv import load_dotenv\n",
    "\n",
    "# .env에서 환경 변수 불러오기\n",
    "load_dotenv()\n",
    "\n",
    "# API endpoint URL\n",
    "url = f\"http://{os.getenv('HOST')}:80/embed\"\n",
    "\n",
    "# DB 연결 정보 (PostgreSQL)\n",
    "DB_HOST = os.getenv(\"DB_HOST\")\n",
    "DB_NAME = os.getenv(\"DB_NAME\")\n",
    "DB_USER = os.getenv(\"DB_USER\")\n",
    "DB_PASS = os.getenv(\"DB_PASS\")\n",
    "DB_PORT = os.getenv(\"DB_PORT\", 5432)\n",
    "\n",
    "# 전송할 문장 데이터\n",
    "data = {\n",
    "    \"sentences\": [\n",
    "        \"안녕하세요?\",\n",
    "        \"오늘 날씨가 정말 좋네요.\",\n",
    "        \"이 모델은 문장 임베딩을 위한 테스트입니다.\",\n",
    "        \"커피 한 잔 하실래요?\",\n",
    "        \"서울의 가을은 참 아름답습니다.\",\n",
    "        \"딥러닝 모델을 학습시키는 중입니다.\",\n",
    "        \"데이터가 충분하지 않으면 과적합이 발생합니다.\",\n",
    "        \"AWS에서 서버를 배포하고 있습니다.\",\n",
    "        \"쿠버네티스를 이용하면 확장성이 좋아집니다.\",\n",
    "        \"오늘 점심은 뭐 먹을까요?\",\n",
    "        \"여행을 가고 싶은데 시간이 없어요.\",\n",
    "        \"영화관에서 새 영화를 봤어요.\",\n",
    "        \"강아지가 너무 귀여워요.\",\n",
    "        \"지금은 프로젝트 마감 준비 중이에요.\",\n",
    "        \"SQL 쿼리를 최적화해야 합니다.\",\n",
    "        \"파이썬은 배우기 쉬운 언어입니다.\",\n",
    "        \"텐서플로와 파이토치 중 어느 게 좋을까요?\",\n",
    "        \"기계 학습은 통계학적 지식이 중요합니다.\",\n",
    "        \"집 근처에 새 카페가 생겼어요.\",\n",
    "        \"코드를 디버깅하는 건 참 어렵네요.\",\n",
    "        \"이 문장은 임베딩 테스트를 위해 작성되었습니다.\",\n",
    "        \"인공지능이 인간의 언어를 이해할 수 있을까요?\",\n",
    "        \"책을 읽는 습관을 기르고 싶어요.\",\n",
    "        \"내일은 일찍 일어나야 해요.\",\n",
    "        \"운동을 매일 꾸준히 하는 게 중요해요.\",\n",
    "        \"새로운 기능을 배포했습니다.\",\n",
    "        \"휴가 때 일본에 다녀왔어요.\",\n",
    "        \"모델의 성능을 평가하는 중입니다.\",\n",
    "        \"데이터베이스 연결 오류가 발생했습니다.\",\n",
    "        \"맥북이 너무 뜨거워서 팬이 계속 돌아요.\",\n",
    "        \"요즘은 클라우드 기술이 필수입니다.\",\n",
    "        \"친구들과 주말에 등산을 갔어요.\",\n",
    "        \"저녁으로 김치찌개를 먹었어요.\",\n",
    "        \"AI 서비스의 보안 문제를 점검해야 합니다.\",\n",
    "        \"프로젝트 일정이 조금 지연되었습니다.\",\n",
    "        \"테스트 케이스를 더 추가해야 합니다.\",\n",
    "        \"리눅스 명령어를 연습하고 있습니다.\",\n",
    "        \"네트워크 설정 파일을 수정했어요.\",\n",
    "        \"헬름 차트를 이용해서 배포했어요.\",\n",
    "        \"이메일 서버가 응답하지 않습니다.\",\n",
    "        \"새로운 기능이 정상적으로 작동합니다.\",\n",
    "        \"회의가 내일 오전 10시에 있습니다.\",\n",
    "        \"JSON 포맷 오류가 발생했습니다.\",\n",
    "        \"Python 가상환경을 다시 설정했어요.\",\n",
    "        \"S3 버킷 접근 권한을 수정했습니다.\",\n",
    "        \"깃허브 액션을 이용한 CI/CD를 구성했습니다.\",\n",
    "        \"PostgreSQL에 데이터를 저장했습니다.\",\n",
    "        \"Docker 이미지를 빌드 중입니다.\",\n",
    "        \"로그 파일이 너무 커서 압축했어요.\",\n",
    "        \"쿠버네티스 Pod가 CrashLoopBackOff 상태입니다.\",\n",
    "        \"Ingress 설정이 올바르게 되어 있나요?\",\n",
    "        \"배포가 성공적으로 완료되었습니다.\",\n",
    "        \"서버 부하 테스트를 진행했습니다.\",\n",
    "        \"Redis 캐시가 비워졌습니다.\",\n",
    "        \"API 응답 시간이 너무 길어요.\",\n",
    "        \"ElasticSearch 인덱스를 재생성했습니다.\",\n",
    "        \"Grafana 대시보드에서 메트릭을 확인했습니다.\",\n",
    "        \"Prometheus 알람이 울렸습니다.\",\n",
    "        \"CPU 사용률이 급격히 증가했습니다.\",\n",
    "        \"메모리 누수가 의심됩니다.\",\n",
    "        \"SSL 인증서를 갱신했습니다.\",\n",
    "        \"네임스페이스 리소스 제한을 수정했습니다.\",\n",
    "        \"서비스 디스커버리가 잘 작동하고 있습니다.\",\n",
    "        \"AWS IAM 권한 오류가 발생했습니다.\",\n",
    "        \"EKS 클러스터를 재시작했습니다.\",\n",
    "        \"Node 상태를 점검했습니다.\",\n",
    "        \"kubectl get pods 명령을 실행했습니다.\",\n",
    "        \"YAML 파일 들여쓰기를 다시 맞췄습니다.\",\n",
    "        \"CI 파이프라인이 실패했습니다.\",\n",
    "        \"Jenkins 로그를 확인했습니다.\",\n",
    "        \"Terraform으로 인프라를 구성했습니다.\",\n",
    "        \"보안 그룹 설정을 변경했습니다.\",\n",
    "        \"Route53 DNS 레코드를 추가했습니다.\",\n",
    "        \"VPC 서브넷 구성을 확인했습니다.\",\n",
    "        \"EC2 인스턴스를 재부팅했습니다.\",\n",
    "        \"Lambda 함수를 테스트했습니다.\",\n",
    "        \"CloudWatch 로그를 모니터링했습니다.\",\n",
    "        \"RDS 백업을 수행했습니다.\",\n",
    "        \"SQS 큐에 메시지를 전송했습니다.\",\n",
    "        \"SNS 알림을 받았습니다.\",\n",
    "        \"KMS 키를 새로 생성했습니다.\",\n",
    "        \"IAM Role을 수정했습니다.\",\n",
    "        \"ECR에 이미지를 푸시했습니다.\",\n",
    "        \"CloudFront 캐시를 무효화했습니다.\",\n",
    "        \"ALB 헬스체크가 실패했습니다.\",\n",
    "        \"EFS 마운트가 실패했습니다.\",\n",
    "        \"API Gateway 구성을 업데이트했습니다.\",\n",
    "        \"Step Functions 워크플로우를 실행했습니다.\",\n",
    "        \"DynamoDB 쿼리 성능을 개선했습니다.\",\n",
    "        \"Cognito 사용자 로그인을 테스트했습니다.\",\n",
    "        \"SageMaker 엔드포인트를 배포했습니다.\",\n",
    "        \"CloudFormation 스택이 롤백되었습니다.\",\n",
    "        \"SNS 구독이 정상적으로 동작합니다.\",\n",
    "        \"EventBridge 룰을 수정했습니다.\",\n",
    "        \"AWS CLI로 리소스를 조회했습니다.\",\n",
    "        \"모델 임베딩 테스트를 완료했습니다.\",\n",
    "        \"벡터 데이터베이스에 데이터를 저장했습니다.\",\n",
    "        \"pgvector 확장을 성공적으로 설치했습니다.\",\n",
    "        \"이 문장은 100번째 테스트 문장입니다.\"\n",
    "    ]\n",
    "}\n",
    "\n",
    "try:\n",
    "    # 1️⃣ 임베딩 API 요청\n",
    "    response = requests.post(url, json=data)\n",
    "    response.raise_for_status()\n",
    "    embeddings_result = response.json()\n",
    "\n",
    "    print(\"✅ API 응답 상태 코드:\", response.status_code)\n",
    "\n",
    "    # 2️⃣ PostgreSQL 연결\n",
    "    conn = psycopg2.connect(\n",
    "        host=DB_HOST,\n",
    "        dbname=DB_NAME,\n",
    "        user=DB_USER,\n",
    "        password=DB_PASS,\n",
    "        port=DB_PORT\n",
    "    )\n",
    "    cur = conn.cursor()\n",
    "\n",
    "    # 3️⃣ 테이블에 삽입\n",
    "    insert_query = \"\"\"\n",
    "    INSERT INTO doc_vector_list (title, vector_title)\n",
    "    VALUES (%s, %s);\n",
    "    \"\"\"\n",
    "\n",
    "    for sentence, embedding in zip(data[\"sentences\"], embeddings_result[\"embeddings\"]):\n",
    "        cur.execute(insert_query, (sentence, embedding))\n",
    "        print(f\"💾 저장 완료 → 문장: {sentence[:20]}... | 벡터길이: {len(embedding)}\")\n",
    "\n",
    "    conn.commit()\n",
    "    print(\"🎉 모든 임베딩 저장 완료\")\n",
    "\n",
    "except requests.exceptions.RequestException as e:\n",
    "    print(f\"❌ API 요청 오류: {e}\")\n",
    "\n",
    "except psycopg2.Error as e:\n",
    "    print(f\"❌ DB 오류: {e}\")\n",
    "\n",
    "finally:\n",
    "    if 'cur' in locals(): cur.close()\n",
    "    if 'conn' in locals(): conn.close()"
   ]
  },
  {
   "cell_type": "markdown",
   "id": "75f390b5",
   "metadata": {},
   "source": [
    "### 유사도 검색"
   ]
  },
  {
   "cell_type": "code",
   "execution_count": 11,
   "id": "ee965f6c",
   "metadata": {},
   "outputs": [
    {
     "name": "stdout",
     "output_type": "stream",
     "text": [
      "\n",
      "로컬 벡터DB의 답변:\n",
      "\n",
      "질문: 안녕하세요\n",
      "\n",
      "참고 정보를 바탕으로 한 답변:\n",
      "안녕하세요?\n",
      "Ingress 설정이 올바르게 되어 있나요?\n",
      "SNS 알림을 받았습니다.\n",
      "\n",
      "위 정보들이 귀하의 질문과 관련이 있습니다.\n",
      "\n"
     ]
    }
   ],
   "source": [
    "import os\n",
    "import psycopg2\n",
    "from dotenv import load_dotenv\n",
    "import requests\n",
    "\n",
    "load_dotenv()\n",
    "\n",
    "# Postgres 접속정보\n",
    "db_config = {\n",
    "    \"host\": os.getenv(\"DB_HOST\"),\n",
    "    \"dbname\": os.getenv(\"DB_NAME\"),\n",
    "    \"user\": os.getenv(\"DB_USER\"),\n",
    "    \"password\": os.getenv(\"DB_PASS\"),\n",
    "    \"port\": os.getenv(\"DB_PORT\"),\n",
    "}\n",
    "\n",
    "# 임베딩 생성 (로컬 서버 사용)\n",
    "def get_embedding(text: str) -> list:\n",
    "    url = \"http://140.238.1.184:80/embed\"\n",
    "    \n",
    "    data = {\n",
    "        \"sentences\": [text]\n",
    "    }\n",
    "    \n",
    "    try:\n",
    "        response = requests.post(url, json=data)\n",
    "        response.raise_for_status()\n",
    "        result = response.json()\n",
    "        return result[\"embeddings\"][0]  # 첫 번째 문장의 임베딩 벡터 반환\n",
    "    except requests.exceptions.RequestException as e:\n",
    "        print(f\"임베딩 서버 오류: {e}\")\n",
    "        return None\n",
    "\n",
    "# 가장 유사한 문장 검색\n",
    "def find_most_similar(text_vector: list) -> str:\n",
    "    if not text_vector:\n",
    "        return \"\"\n",
    "    \n",
    "    # pgvector 리터럴: [v1,v2,...] 형태\n",
    "    vector_str = \"[\" + \",\".join(map(str, text_vector)) + \"]\"\n",
    "\n",
    "    sql = \"\"\"\n",
    "        SELECT title, vector_title <-> %s::vector AS distance\n",
    "        FROM doc_vector_list\n",
    "        ORDER BY distance ASC\n",
    "        LIMIT 3;\n",
    "    \"\"\"\n",
    "\n",
    "    conn = psycopg2.connect(**db_config)\n",
    "    cur = conn.cursor()\n",
    "    try:\n",
    "        cur.execute(sql, (vector_str,))\n",
    "        rows = cur.fetchall()\n",
    "        return \"\\n\".join(row[0] for row in rows)\n",
    "    except psycopg2.Error as e:\n",
    "        print(f\"Database error: {e}\")\n",
    "        return \"\"\n",
    "    finally:\n",
    "        cur.close()\n",
    "        conn.close()\n",
    "\n",
    "# 로컬 벡터 DB 기반 응답 생성\n",
    "def ask_local_vectorDB(context: str, question: str) -> str:\n",
    "    if not context:\n",
    "        return \"관련된 정보를 찾을 수 없습니다.\"\n",
    "    \n",
    "    # 간단한 키워드 매칭 기반 응답 생성\n",
    "    response = f\"\"\"\n",
    "질문: {question}\n",
    "\n",
    "참고 정보를 바탕으로 한 답변:\n",
    "{context}\n",
    "\n",
    "위 정보들이 귀하의 질문과 관련이 있습니다.\n",
    "\"\"\"\n",
    "    return response\n",
    "\n",
    "if __name__ == \"__main__\":\n",
    "    user_question = input(\"질문을 입력하세요: \").strip()\n",
    "    \n",
    "    # 사용자 질문 임베딩\n",
    "    question_vector = get_embedding(user_question)\n",
    "    \n",
    "    if question_vector:\n",
    "        # 가장 유사한 문장 검색\n",
    "        context_text = find_most_similar(question_vector)\n",
    "        \n",
    "        if context_text:\n",
    "            answer = ask_local_vectorDB(context_text, user_question)\n",
    "            print(f\"\\n로컬 벡터DB의 답변:\\n{answer}\")\n",
    "        else:\n",
    "            print(\"유사한 문장을 찾을 수 없습니다.\")\n",
    "    else:\n",
    "        print(\"임베딩 생성에 실패했습니다.\")"
   ]
  }
 ],
 "metadata": {
  "kernelspec": {
   "display_name": "langCh-env",
   "language": "python",
   "name": "python3"
  },
  "language_info": {
   "codemirror_mode": {
    "name": "ipython",
    "version": 3
   },
   "file_extension": ".py",
   "mimetype": "text/x-python",
   "name": "python",
   "nbconvert_exporter": "python",
   "pygments_lexer": "ipython3",
   "version": "3.10.18"
  }
 },
 "nbformat": 4,
 "nbformat_minor": 5
}
