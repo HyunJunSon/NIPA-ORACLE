{
 "cells": [
  {
   "cell_type": "code",
   "execution_count": 4,
   "id": "207bd1d8",
   "metadata": {},
   "outputs": [
    {
     "name": "stdout",
     "output_type": "stream",
     "text": [
      "hell python\n"
     ]
    }
   ],
   "source": [
    "print(\"hell python\")"
   ]
  },
  {
   "cell_type": "code",
   "execution_count": 5,
   "id": "73d6ab8d",
   "metadata": {},
   "outputs": [
    {
     "name": "stdout",
     "output_type": "stream",
     "text": [
      "True\n"
     ]
    }
   ],
   "source": [
    "a = [1,2,3]\n",
    "b = a\n",
    "c = [1,2,3]\n",
    "\n",
    "print(a == b)"
   ]
  },
  {
   "cell_type": "code",
   "execution_count": 6,
   "id": "9228b69b",
   "metadata": {},
   "outputs": [
    {
     "name": "stdout",
     "output_type": "stream",
     "text": [
      "False\n"
     ]
    }
   ],
   "source": [
    "print( a is c)"
   ]
  },
  {
   "cell_type": "code",
   "execution_count": 7,
   "id": "8ab8ba7c",
   "metadata": {},
   "outputs": [
    {
     "data": {
      "text/plain": [
       "2"
      ]
     },
     "execution_count": 7,
     "metadata": {},
     "output_type": "execute_result"
    }
   ],
   "source": [
    "5//2"
   ]
  },
  {
   "cell_type": "code",
   "execution_count": 8,
   "id": "0dec4c00",
   "metadata": {},
   "outputs": [
    {
     "data": {
      "text/plain": [
       "2.5"
      ]
     },
     "execution_count": 8,
     "metadata": {},
     "output_type": "execute_result"
    }
   ],
   "source": [
    "5/2"
   ]
  },
  {
   "cell_type": "code",
   "execution_count": 9,
   "id": "c045ec06",
   "metadata": {},
   "outputs": [
    {
     "name": "stdout",
     "output_type": "stream",
     "text": [
      "Not Found\n"
     ]
    }
   ],
   "source": [
    "status = 404\n",
    "match status :\n",
    "  case 200:\n",
    "    print(\"OK\")\n",
    "  case 404:\n",
    "    print(\"Not Found\")\n",
    "  case _:\n",
    "    print(\"Unknown status\")"
   ]
  },
  {
   "cell_type": "code",
   "execution_count": 10,
   "id": "eea94760",
   "metadata": {},
   "outputs": [
    {
     "name": "stdout",
     "output_type": "stream",
     "text": [
      "{1, 2, 3, 4, 5}\n",
      "{3}\n"
     ]
    }
   ],
   "source": [
    "a = {1,2,3}\n",
    "b = {3,4,5}\n",
    "\n",
    "print(a|b)\n",
    "print(a&b)"
   ]
  },
  {
   "cell_type": "code",
   "execution_count": 11,
   "id": "85a7a78f",
   "metadata": {},
   "outputs": [
    {
     "data": {
      "text/plain": [
       "'컴공'"
      ]
     },
     "execution_count": 11,
     "metadata": {},
     "output_type": "execute_result"
    }
   ],
   "source": [
    "stu = {\"name\" : '태형', \"age\":2,\"major\":\"컴공\"}\n",
    "\n",
    "stu[\"name\"]\n",
    "stu[\"age\"]\n",
    "stu[\"major\"]\n"
   ]
  },
  {
   "cell_type": "code",
   "execution_count": 12,
   "id": "0e84bc87",
   "metadata": {},
   "outputs": [
    {
     "data": {
      "text/plain": [
       "{'name': '현준', 'age': 2, 'major': '컴공'}"
      ]
     },
     "execution_count": 12,
     "metadata": {},
     "output_type": "execute_result"
    }
   ],
   "source": [
    "stu[\"name\"]= \"현준\"\n",
    "stu"
   ]
  },
  {
   "cell_type": "code",
   "execution_count": 13,
   "id": "aaafb887",
   "metadata": {},
   "outputs": [
    {
     "name": "stdout",
     "output_type": "stream",
     "text": [
      "name 현준\n",
      "age 2\n",
      "major 컴공\n"
     ]
    }
   ],
   "source": [
    "for k in stu :\n",
    "  print(k, stu[k])"
   ]
  },
  {
   "cell_type": "code",
   "execution_count": 14,
   "id": "d8978b41",
   "metadata": {},
   "outputs": [
    {
     "name": "stdout",
     "output_type": "stream",
     "text": [
      "False\n",
      "4400574912 4400573760\n"
     ]
    }
   ],
   "source": [
    "orig = [[1,2],[3,4]]\n",
    "copied = orig.copy() # 얕은복사임\n",
    "copied[0][0] = 99\n",
    "print(orig is copied)\n",
    "print(id(orig), id(copied))\n"
   ]
  },
  {
   "cell_type": "code",
   "execution_count": 15,
   "id": "173747d5",
   "metadata": {},
   "outputs": [
    {
     "name": "stdout",
     "output_type": "stream",
     "text": [
      "False\n",
      "4400576768 4400575424\n"
     ]
    }
   ],
   "source": [
    "import copy\n",
    "\n",
    "orig2 = [[1,2],[3,4]]\n",
    "deep_copied = copy.deepcopy(orig2)\n",
    "deep_copied\n",
    "\n",
    "print(orig2 is deep_copied)\n",
    "print(id(orig2), id(deep_copied))"
   ]
  },
  {
   "cell_type": "code",
   "execution_count": 16,
   "id": "2c1ee5a2",
   "metadata": {},
   "outputs": [
    {
     "name": "stdout",
     "output_type": "stream",
     "text": [
      "True\n",
      "True\n",
      "4400577856 4400577856\n",
      "[1, 2, 99]\n",
      "[1, 2, 99]\n"
     ]
    }
   ],
   "source": [
    "a = [1,2,3]\n",
    "b = a\n",
    "print(a==b)\n",
    "print ( a is b)\n",
    "print(id(a), id(b))\n",
    "a[2] = 99\n",
    "print(a)\n",
    "print(b)"
   ]
  },
  {
   "cell_type": "code",
   "execution_count": 17,
   "id": "56e37a25",
   "metadata": {},
   "outputs": [
    {
     "name": "stdout",
     "output_type": "stream",
     "text": [
      "True\n",
      "False\n",
      "4400573824 4400562816\n"
     ]
    }
   ],
   "source": [
    "import copy\n",
    "c = [1,2,3]\n",
    "d = copy.deepcopy(c)\n",
    "print(c == d)\n",
    "print(c is d)\n",
    "print(id(c), id(d))"
   ]
  },
  {
   "cell_type": "code",
   "execution_count": 18,
   "id": "213ed739",
   "metadata": {},
   "outputs": [
    {
     "name": "stdout",
     "output_type": "stream",
     "text": [
      "True\n",
      "True\n",
      "4400584576 4400584576\n",
      "[[99, 2], [3, 4]]\n",
      "[[99, 2], [3, 4]]\n"
     ]
    }
   ],
   "source": [
    "t = [[1,2],[3,4]]\n",
    "p = t\n",
    "print(t == p)\n",
    "print(t is p)\n",
    "print(id(t), id(p))\n",
    "p[0][0] = 99\n",
    "\n",
    "print(t)\n",
    "print(p)"
   ]
  },
  {
   "cell_type": "code",
   "execution_count": 19,
   "id": "9d980a91",
   "metadata": {},
   "outputs": [
    {
     "name": "stdout",
     "output_type": "stream",
     "text": [
      "True\n",
      "False\n",
      "4400573824 4400562816\n",
      "[[99, 2], [3, 4]] [[1, 2], [3, 4]]\n"
     ]
    }
   ],
   "source": [
    "import copy\n",
    "p = [[1,2],[3,4]]\n",
    "q = copy.deepcopy(p)\n",
    "print(p == q)\n",
    "print(p is q)\n",
    "print(id(c), id(d))\n",
    "p[0][0] = 99\n",
    "\n",
    "print(p,q)"
   ]
  },
  {
   "cell_type": "code",
   "execution_count": 20,
   "id": "d9c0226e",
   "metadata": {},
   "outputs": [
    {
     "data": {
      "text/plain": [
       "15"
      ]
     },
     "execution_count": 20,
     "metadata": {},
     "output_type": "execute_result"
    }
   ],
   "source": [
    "def total_sum(*args) :\n",
    "  return sum(args)\n",
    "\n",
    "total_sum(1,2,3,4,5)"
   ]
  },
  {
   "cell_type": "code",
   "execution_count": 21,
   "id": "5ebd173a",
   "metadata": {},
   "outputs": [],
   "source": [
    "with open(\"example.txt\", \"w\", encoding='utf-8') as f :\n",
    "  f.write(\"Python 파일입출력테스트\\n\")"
   ]
  },
  {
   "cell_type": "code",
   "execution_count": 22,
   "id": "02271033",
   "metadata": {},
   "outputs": [],
   "source": [
    "with open(\"example2.txt\", \"w\",encoding='utf-8') as f2 :\n",
    "  f2.write(\"hi 내이름은 손현준\")"
   ]
  },
  {
   "cell_type": "code",
   "execution_count": 23,
   "id": "0f8a8748",
   "metadata": {},
   "outputs": [
    {
     "name": "stdout",
     "output_type": "stream",
     "text": [
      "Python 파일입출력테스트\n",
      "\n"
     ]
    }
   ],
   "source": [
    "with open(\"example.txt\",\"r\", encoding='utf-8') as f3 :\n",
    "  content = f3.read()\n",
    "  print(content)"
   ]
  },
  {
   "cell_type": "code",
   "execution_count": 24,
   "id": "c2434fee",
   "metadata": {},
   "outputs": [],
   "source": [
    "import json\n",
    "\n",
    "data = {\"name\": \"Alice\", \"age\": 25}\n",
    "\n",
    "with open(\"data.json\" ,\"w\") as f :\n",
    "  json.dump(data, f)\n"
   ]
  },
  {
   "cell_type": "code",
   "execution_count": 25,
   "id": "d3c0beb7",
   "metadata": {},
   "outputs": [
    {
     "name": "stdout",
     "output_type": "stream",
     "text": [
      "{'name': 'Alice', 'age': 25}\n"
     ]
    }
   ],
   "source": [
    "with open(\"data.json\" ,\"r\") as f :\n",
    "  loaded = json.load(f)\n",
    "  print(loaded)"
   ]
  },
  {
   "cell_type": "code",
   "execution_count": 26,
   "id": "f5d5ed6f",
   "metadata": {},
   "outputs": [
    {
     "name": "stdout",
     "output_type": "stream",
     "text": [
      "지민의 평균점수는 85.0점 입니다.\n"
     ]
    }
   ],
   "source": [
    "class Student :\n",
    "  def __init__(self, name):\n",
    "    self.name = name\n",
    "    self.scores = []\n",
    "    \n",
    "  def add_score(self,score) :\n",
    "    self.scores.append(score)\n",
    "  \n",
    "  def average(self):\n",
    "    return sum(self.scores)/ len(self.scores)\n",
    "  \n",
    "s = Student(\"지민\")\n",
    "s.add_score(90)\n",
    "s.add_score(80)\n",
    "print(f\"{s.name}의 평균점수는 {s.average()}점 입니다.\")"
   ]
  },
  {
   "cell_type": "code",
   "execution_count": 27,
   "id": "c6fea96e",
   "metadata": {},
   "outputs": [
    {
     "name": "stdout",
     "output_type": "stream",
     "text": [
      "총 학생 수: 2\n"
     ]
    }
   ],
   "source": [
    "class Student :\n",
    "  count = 0\n",
    "  \n",
    "  def __init__(self,name) :\n",
    "    self.name = name\n",
    "    Student.count += 1\n",
    "  \n",
    "  def show(self) :\n",
    "    print(f\"{self.name} 학생입니다.\")\n",
    "    \n",
    "\n",
    "s1 = Student(\"민지\")\n",
    "s2 = Student(\"지후\")\n",
    "\n",
    "print(\"총 학생 수:\", Student.count)"
   ]
  },
  {
   "cell_type": "code",
   "execution_count": 28,
   "id": "15ab51d4",
   "metadata": {},
   "outputs": [
    {
     "name": "stdout",
     "output_type": "stream",
     "text": [
      "바둑이이 멍멍 짓는다.\n",
      "나비이 야옹 울다\n"
     ]
    }
   ],
   "source": [
    "class Animal:\n",
    "  def __init__(self, name):\n",
    "    self.name = name\n",
    "    \n",
    "  def speak(self) :\n",
    "    print(\"...소리를 낸다.\")\n",
    "    \n",
    "\n",
    "class Dog(Animal) :\n",
    "  def speak(self):\n",
    "    print(f\"{self.name}이 멍멍 짓는다.\")\n",
    "    \n",
    "class Cat(Animal) :\n",
    "  def speak(self):\n",
    "    print(f\"{self.name}이 야옹 울다\")\n",
    "    \n",
    "\n",
    "d = Dog(\"바둑이\")\n",
    "c = Cat(\"나비\")\n",
    "\n",
    "d.speak()\n",
    "c.speak()\n"
   ]
  },
  {
   "cell_type": "code",
   "execution_count": 29,
   "id": "27c67fb3",
   "metadata": {},
   "outputs": [
    {
     "name": "stdout",
     "output_type": "stream",
     "text": [
      "잔액: 13000\n",
      "잔액부족\n"
     ]
    }
   ],
   "source": [
    "class BankAccount:\n",
    "  def __init__(self,owner,balance) :\n",
    "    self.owner = owner\n",
    "    self._balance = balance\n",
    "    \n",
    "  def deposit(self, amount):\n",
    "    self._balance += amount\n",
    "    \n",
    "  def withdraw(self, amount):\n",
    "    if amount <= self._balance :\n",
    "      self._balance -= amount\n",
    "      \n",
    "    else:\n",
    "      print(\"잔액부족\")\n",
    "      \n",
    "  def get_balance(self):\n",
    "    return self._balance\n",
    "\n",
    "acc = BankAccount(\"수지\", 10000)\n",
    "acc.deposit(3000)\n",
    "print(\"잔액:\", acc.get_balance())\n",
    "acc.withdraw(15000)"
   ]
  },
  {
   "cell_type": "code",
   "execution_count": 30,
   "id": "9ef0690e",
   "metadata": {},
   "outputs": [
    {
     "name": "stdout",
     "output_type": "stream",
     "text": [
      "숫자가 아닙니다.\n",
      "연산이 완료되었습니다.\n"
     ]
    }
   ],
   "source": [
    "try :\n",
    "  num = int(input(\"숫자를 입력하세요:\"))\n",
    "  result = 10/ num\n",
    "except ValueError:\n",
    "  print(\"숫자가 아닙니다.\")\n",
    "except ZeroDivisionError :\n",
    "  print(\"0으로 나눌수 없습니다.\")\n",
    "else :\n",
    "  print(f\"결과:{result}\")\n",
    "  \n",
    "finally:\n",
    "  print(\"연산이 완료되었습니다.\")"
   ]
  },
  {
   "cell_type": "code",
   "execution_count": 31,
   "id": "2d62405e",
   "metadata": {},
   "outputs": [
    {
     "data": {
      "text/plain": [
       "1"
      ]
     },
     "execution_count": 31,
     "metadata": {},
     "output_type": "execute_result"
    }
   ],
   "source": [
    "import random\n",
    "\n",
    "dice = random.randint(1,6)\n",
    "\n",
    "dice"
   ]
  },
  {
   "cell_type": "code",
   "execution_count": 32,
   "id": "0876a920",
   "metadata": {},
   "outputs": [
    {
     "name": "stdout",
     "output_type": "stream",
     "text": [
      "오늘날짜: 2025-09-24\n"
     ]
    }
   ],
   "source": [
    "import datetime\n",
    "\n",
    "today = datetime.date.today()\n",
    "print(\"오늘날짜:\", today)\n"
   ]
  },
  {
   "cell_type": "code",
   "execution_count": null,
   "id": "4ee83c6f",
   "metadata": {},
   "outputs": [
    {
     "name": "stdout",
     "output_type": "stream",
     "text": [
      " * Serving Flask app '__main__'\n",
      " * Debug mode: off\n"
     ]
    },
    {
     "name": "stderr",
     "output_type": "stream",
     "text": [
      "\u001b[31m\u001b[1mWARNING: This is a development server. Do not use it in a production deployment. Use a production WSGI server instead.\u001b[0m\n",
      " * Running on all addresses (0.0.0.0)\n",
      " * Running on http://127.0.0.1:5000\n",
      " * Running on http://192.168.219.106:5000\n",
      "\u001b[33mPress CTRL+C to quit\u001b[0m\n",
      "127.0.0.1 - - [24/Sep/2025 20:27:06] \"GET / HTTP/1.1\" 200 -\n"
     ]
    }
   ],
   "source": [
    "from flask import Flask\n",
    "\n",
    "app = Flask(__name__)\n",
    "\n",
    "@app.route(\"/\")\n",
    "def hello():\n",
    "    html_out = \"\"\"\n",
    "      <html>\n",
    "        <head>\n",
    "          <title>Flask Example</title>\n",
    "        </head>\n",
    "        <body>\n",
    "          <h1>Hello, Flask world!</h1>\n",
    "          <p>This is a simple HTML page served by Flask.</p>\n",
    "        </body>\n",
    "      </html>\n",
    "      \"\"\"\n",
    "    return html_out\n",
    "\n",
    "if __name__ == \"__main__\":\n",
    "    app.run(host=\"0.0.0.0\", port=5000)"
   ]
  },
  {
   "cell_type": "code",
   "execution_count": 6,
   "id": "ed8948c2",
   "metadata": {},
   "outputs": [
    {
     "name": "stdout",
     "output_type": "stream",
     "text": [
      "inserted data id: 1\n",
      "inserted data id: 2\n",
      "inserted data id: 3\n",
      "최근 10개 데이터\n",
      "(3, '세 번째 제목', '데이터베이스 프로그레밍 예제', datetime.datetime(2025, 9, 24, 22, 41, 53, 819134))\n",
      "(2, '두 번째 제목', 'Python으로 PostgresSQL을 작성하는 예제입니다.', datetime.datetime(2025, 9, 24, 22, 41, 53, 819134))\n",
      "(1, '첫 번째 제목', '이것은 첫 번째 문서의 본문 내용입니다.', datetime.datetime(2025, 9, 24, 22, 41, 53, 819134))\n"
     ]
    }
   ],
   "source": [
    "import psycopg2\n",
    "from datetime import datetime\n",
    "\n",
    "db_config = {\n",
    "  'host': '168.107.31.137',\n",
    "  'port': 5432,\n",
    "  'database': 'postgres',\n",
    "  'user': 'postgres',\n",
    "  'password':'dbtest1212'\n",
    "}\n",
    "\n",
    "try:\n",
    "  # DB 연결\n",
    "  conn = psycopg2.connect(**db_config)\n",
    "  cursor = conn.cursor()\n",
    "  \n",
    "  cursor.execute(\n",
    "  \"\"\"CREATE TABLE IF NOT EXISTS mytest(\n",
    "      id serial primary key,\n",
    "      title varchar,\n",
    "      doc_body varchar,\n",
    "      created_at TIMESTAMP DEFAULT CURRENT_TIMESTAMP\n",
    "  )\n",
    "  \"\"\"\n",
    "  )\n",
    "  conn.commit()\n",
    "  \n",
    "  # insert database\n",
    "  sample_data = [\n",
    "    (\"첫 번째 제목\", \"이것은 첫 번째 문서의 본문 내용입니다.\"),\n",
    "    (\"두 번째 제목\", \"Python으로 PostgresSQL을 작성하는 예제입니다.\"),\n",
    "    (\"세 번째 제목\", \"데이터베이스 프로그레밍 예제\")\n",
    "  ]\n",
    "  \n",
    "  insert_query = \"\"\"\n",
    "    INSERT INTO mytest (title, doc_body)\n",
    "    VALUES (%s, %s)\n",
    "    RETURNING id;\n",
    "  \"\"\"\n",
    "  \n",
    "  inserted_ids = []\n",
    "  \n",
    "  for title,doc_body in sample_data :\n",
    "    cursor.execute(insert_query,(title, doc_body))\n",
    "    inserted_id = cursor.fetchone()[0]\n",
    "    inserted_ids.append(inserted_id)\n",
    "    print(\"inserted data id:\", inserted_id)\n",
    "  conn.commit()\n",
    "  \n",
    "  #최근 10개 데이터 조회\n",
    "  \n",
    "  cursor.execute(\"\"\"\n",
    "                  select id,title,doc_body,created_at from mytest order by id desc limit 10\n",
    "                  \"\"\"\n",
    "  )\n",
    "  rows = cursor.fetchall()\n",
    "  print(\"최근 10개 데이터\")\n",
    "  for row in rows:\n",
    "    print(row)\n",
    "    \n",
    "except Exception as e :\n",
    "  print(\"Error\", e)\n",
    "finally :\n",
    "  if cursor :\n",
    "    cursor.close()\n",
    "  if conn:\n",
    "    conn.close()"
   ]
  },
  {
   "cell_type": "code",
   "execution_count": null,
   "id": "9f27452c",
   "metadata": {},
   "outputs": [
    {
     "name": "stdout",
     "output_type": "stream",
     "text": [
      " * Serving Flask app '__main__'\n",
      " * Debug mode: off\n"
     ]
    },
    {
     "name": "stderr",
     "output_type": "stream",
     "text": [
      "\u001b[31m\u001b[1mWARNING: This is a development server. Do not use it in a production deployment. Use a production WSGI server instead.\u001b[0m\n",
      " * Running on all addresses (0.0.0.0)\n",
      " * Running on http://127.0.0.1:5001\n",
      " * Running on http://192.168.219.106:5001\n",
      "\u001b[33mPress CTRL+C to quit\u001b[0m\n",
      "127.0.0.1 - - [24/Sep/2025 23:28:04] \"GET / HTTP/1.1\" 200 -\n"
     ]
    }
   ],
   "source": [
    "import os\n",
    "import psycopg2\n",
    "from flask import Flask, render_template, request, g\n",
    "\n",
    "app = Flask(__name__)\n",
    "\n",
    "DB_HOST = \"168.107.31.137\"\n",
    "DB_NAME = \"postgres\"\n",
    "DB_USER = \"postgres\"\n",
    "DB_PASS = \"dbtest1212\"\n",
    "DB_PORT = 5432\n",
    "\n",
    "def get_db() :\n",
    "  if 'db' not in g :\n",
    "    g.db = psycopg2.connect(\n",
    "      host=DB_HOST,\n",
    "      dbname = DB_NAME,\n",
    "      user= DB_USER,\n",
    "      password = DB_PASS,\n",
    "      port = DB_PORT\n",
    "    )\n",
    "    return g.db\n",
    "  \n",
    "  \n",
    "@app.teardown_appcontext\n",
    "def close_db(error) :\n",
    "  db = g.pop('db',None)\n",
    "  if db is not None:\n",
    "    db.close()\n",
    "      \n",
    "@app.route(\"/\")\n",
    "def index():\n",
    "  \n",
    "  page = request.args.get('page',1, type=int)\n",
    "  per_page = 10\n",
    "  \n",
    "  try:\n",
    "    conn = get_db()\n",
    "    cursor = conn.cursor()\n",
    "    \n",
    "    cursor.execute(\"SELECT COUNT(*) FROM tbl_docu_info\")\n",
    "    total_items = cursor.fetchone()[0]\n",
    "    total_pages = (total_items + per_page -1) // per_page\n",
    "    \n",
    "    offset = (page - 1) * per_page\n",
    "    \n",
    "    query = \"\"\"\n",
    "      SELECT id, title, doc_body\n",
    "      FROM tbl_docu_info\n",
    "      ORDER BY id DESC\n",
    "      LIMIT %s OFFSET %s; \n",
    "    \"\"\"\n",
    "    \n",
    "    cursor.execute(query, (per_page,offset))\n",
    "    documents = cursor.fetchall()\n",
    "    \n",
    "  except psycopg2.Error as e:\n",
    "    print(f\"Database error: {e}\")\n",
    "    documents = []\n",
    "    total_pages = ()\n",
    "    \n",
    "  finally :\n",
    "    if 'cursor' in locals() :\n",
    "      cursor.close()\n",
    "      \n",
    "  return render_template(\n",
    "    \"index.html\",\n",
    "    documents = documents,\n",
    "    page = page,\n",
    "    total_pages = total_pages\n",
    "  )\n",
    "    \n",
    "if __name__ == \"__main__\" :\n",
    "  app.run(host = \"0.0.0.0\", port=5001, debug=False)"
   ]
  },
  {
   "cell_type": "code",
   "execution_count": 22,
   "id": "43c8d2fc",
   "metadata": {},
   "outputs": [
    {
     "name": "stdout",
     "output_type": "stream",
     "text": [
      "1\n",
      "2\n",
      "3\n",
      "4\n"
     ]
    }
   ],
   "source": [
    "a = [2,3,4,1,1,1]\n",
    "for i in list(set(a)) :\n",
    "  print(i)\n"
   ]
  },
  {
   "cell_type": "code",
   "execution_count": null,
   "id": "dc488c89",
   "metadata": {},
   "outputs": [
    {
     "data": {
      "text/plain": [
       "OrderedDict([(2, None), (3, None), (4, None), (1, None)])"
      ]
     },
     "execution_count": 26,
     "metadata": {},
     "output_type": "execute_result"
    }
   ],
   "source": [
    "from collections import OrderedDict\n",
    "arr = [2,3,4,1,1,1]\n",
    "\n",
    "OrderedDict.fromkeys(arr)"
   ]
  },
  {
   "cell_type": "code",
   "execution_count": 28,
   "id": "c03a5ce7",
   "metadata": {},
   "outputs": [
    {
     "data": {
      "text/plain": [
       "odict_keys([2, 3, 4, 1])"
      ]
     },
     "execution_count": 28,
     "metadata": {},
     "output_type": "execute_result"
    }
   ],
   "source": [
    "\n",
    "OrderedDict.fromkeys(arr).keys()"
   ]
  },
  {
   "cell_type": "code",
   "execution_count": 32,
   "id": "fc1a3f21",
   "metadata": {},
   "outputs": [
    {
     "data": {
      "text/plain": [
       "'0b1010'"
      ]
     },
     "execution_count": 32,
     "metadata": {},
     "output_type": "execute_result"
    }
   ],
   "source": [
    "bin(10)"
   ]
  },
  {
   "cell_type": "code",
   "execution_count": 33,
   "id": "18551ee8",
   "metadata": {},
   "outputs": [
    {
     "data": {
      "text/plain": [
       "'1010'"
      ]
     },
     "execution_count": 33,
     "metadata": {},
     "output_type": "execute_result"
    }
   ],
   "source": [
    "format(10, 'b')"
   ]
  },
  {
   "cell_type": "code",
   "execution_count": 36,
   "id": "0f6139c5",
   "metadata": {},
   "outputs": [
    {
     "data": {
      "text/plain": [
       "8"
      ]
     },
     "execution_count": 36,
     "metadata": {},
     "output_type": "execute_result"
    }
   ],
   "source": [
    "int('1000', 2)"
   ]
  },
  {
   "cell_type": "code",
   "execution_count": 37,
   "id": "7dba5468",
   "metadata": {},
   "outputs": [
    {
     "data": {
      "text/plain": [
       "'1010'"
      ]
     },
     "execution_count": 37,
     "metadata": {},
     "output_type": "execute_result"
    }
   ],
   "source": [
    "f\"{10:b}\""
   ]
  },
  {
   "cell_type": "code",
   "execution_count": 41,
   "id": "89b6848a",
   "metadata": {},
   "outputs": [
    {
     "data": {
      "text/plain": [
       "2"
      ]
     },
     "execution_count": 41,
     "metadata": {},
     "output_type": "execute_result"
    }
   ],
   "source": [
    "int.bit_count(10)  # 2 (1010 → 1이 2개)"
   ]
  },
  {
   "cell_type": "code",
   "execution_count": 43,
   "id": "8accfd19",
   "metadata": {},
   "outputs": [
    {
     "data": {
      "text/plain": [
       "'101'"
      ]
     },
     "execution_count": 43,
     "metadata": {},
     "output_type": "execute_result"
    }
   ],
   "source": [
    "int('10',2) + int('11',2)\n",
    "format(5,'b')"
   ]
  },
  {
   "cell_type": "code",
   "execution_count": 44,
   "id": "cc22cf06",
   "metadata": {},
   "outputs": [
    {
     "data": {
      "text/plain": [
       "['.', '...', '.']"
      ]
     },
     "execution_count": 44,
     "metadata": {},
     "output_type": "execute_result"
    }
   ],
   "source": [
    "\".xx...xx.\".split(\"xx\")"
   ]
  },
  {
   "cell_type": "code",
   "execution_count": 45,
   "id": "4f9f915a",
   "metadata": {},
   "outputs": [
    {
     "data": {
      "text/plain": [
       "['', '..', '.', '..', '']"
      ]
     },
     "execution_count": 45,
     "metadata": {},
     "output_type": "execute_result"
    }
   ],
   "source": [
    "\"x..x.x..x\".split(\"x\")"
   ]
  },
  {
   "cell_type": "code",
   "execution_count": 46,
   "id": "fd23ae39",
   "metadata": {},
   "outputs": [
    {
     "data": {
      "text/plain": [
       "['', '...', '...', '']"
      ]
     },
     "execution_count": 46,
     "metadata": {},
     "output_type": "execute_result"
    }
   ],
   "source": [
    "\"x...x...x\".split(\"x\")"
   ]
  },
  {
   "cell_type": "code",
   "execution_count": null,
   "id": "865b83f2",
   "metadata": {},
   "outputs": [
    {
     "data": {
      "text/plain": [
       "['', '  동해물과 백두산이', '  마르고 닳도록', '  하느님이 보우하사 ', '  우리나라만세', '  ']"
      ]
     },
     "execution_count": 48,
     "metadata": {},
     "output_type": "execute_result"
    }
   ],
   "source": [
    "li =   \"\"\"\n",
    "  동해물과 백두산이\n",
    "  마르고 닳도록\n",
    "  하느님이 보우하사 \n",
    "  우리나라만세\n",
    "  \"\"\"\n",
    "  \n",
    "li.splitlines()"
   ]
  },
  {
   "cell_type": "code",
   "execution_count": 49,
   "id": "c7a12573",
   "metadata": {},
   "outputs": [
    {
     "data": {
      "text/plain": [
       "[('aaa', 'bbb'), ('aaaa', 'bbb'), ('a', 'bb')]"
      ]
     },
     "execution_count": 49,
     "metadata": {},
     "output_type": "execute_result"
    }
   ],
   "source": [
    "import re\n",
    "\n",
    "st = \"aaabbbaaaabbbabba\"\n",
    "\n",
    "re.findall(r'(a+)(b+)', st)"
   ]
  },
  {
   "cell_type": "code",
   "execution_count": null,
   "id": "48fd3861",
   "metadata": {},
   "outputs": [
    {
     "data": {
      "text/plain": [
       "[0, 1, 2]"
      ]
     },
     "execution_count": 72,
     "metadata": {},
     "output_type": "execute_result"
    }
   ],
   "source": [
    "import re\n",
    "\n",
    "rm = re.match(r\"(\\d+)(\\w+)(\\d+)\", \"111aaa111\")\n"
   ]
  },
  {
   "cell_type": "code",
   "execution_count": null,
   "id": "852dc3f4",
   "metadata": {},
   "outputs": [
    {
     "data": {
      "text/plain": [
       "<re.Match object; span=(10, 15), match='11111'>"
      ]
     },
     "execution_count": 78,
     "metadata": {},
     "output_type": "execute_result"
    }
   ],
   "source": [
    "import re\n",
    "\n",
    "re.search(r\"\\d+\", \"bbbbbbaaaa11111aaaabb\")"
   ]
  },
  {
   "cell_type": "code",
   "execution_count": 79,
   "id": "0ae1a4fd",
   "metadata": {},
   "outputs": [
    {
     "data": {
      "text/plain": [
       "['11111', '22222', '3333']"
      ]
     },
     "execution_count": 79,
     "metadata": {},
     "output_type": "execute_result"
    }
   ],
   "source": [
    "import re\n",
    "\n",
    "re.findall(r\"\\d+\", \"aaaaa11111bbbb22222cccc3333\")\n"
   ]
  },
  {
   "cell_type": "code",
   "execution_count": 90,
   "id": "6fdd4748",
   "metadata": {},
   "outputs": [
    {
     "data": {
      "text/plain": [
       "['aaaaa', 'bbbb', 'cccc']"
      ]
     },
     "execution_count": 90,
     "metadata": {},
     "output_type": "execute_result"
    }
   ],
   "source": [
    "import re\n",
    "target = \"aaaaa11111bbbb22222cccc3333\"\n",
    "re.split(r\"\\d+\", target, 3)[:-1]"
   ]
  },
  {
   "cell_type": "code",
   "execution_count": 100,
   "id": "1efba5d1",
   "metadata": {},
   "outputs": [
    {
     "data": {
      "text/plain": [
       "[6, 45, 4, 3, 3, 2, 1]"
      ]
     },
     "execution_count": 100,
     "metadata": {},
     "output_type": "execute_result"
    }
   ],
   "source": [
    "st =\"ABCDE\"\n",
    "arr = [1,2,3,3,4,45,6]\n",
    "st[::-1]\n",
    "arr[::-1]"
   ]
  },
  {
   "cell_type": "code",
   "execution_count": null,
   "id": "d6509f77",
   "metadata": {},
   "outputs": [
    {
     "data": {
      "text/plain": [
       "'aaaaa*bbbbbbcccc*'"
      ]
     },
     "execution_count": 101,
     "metadata": {},
     "output_type": "execute_result"
    }
   ],
   "source": [
    "import re\n",
    "\n",
    "re.sub(r\"\\d+\",\"*\", \"aaaaa11111bbbbbbcccc2222\")\n"
   ]
  },
  {
   "cell_type": "code",
   "execution_count": null,
   "id": "2b43dde4",
   "metadata": {},
   "outputs": [
    {
     "data": {
      "text/plain": [
       "'bpbadebpdjfeijf'"
      ]
     },
     "execution_count": 105,
     "metadata": {},
     "output_type": "execute_result"
    }
   ],
   "source": [
    "import re\n",
    "\n",
    "st =\"BbadePdjfeijf\"\n",
    "\n",
    "st = re.sub(r\"[BP]\", \"bp\",st)\n",
    "\n",
    "  "
   ]
  },
  {
   "cell_type": "code",
   "execution_count": 106,
   "id": "41a64fea",
   "metadata": {},
   "outputs": [
    {
     "data": {
      "text/plain": [
       "'example'"
      ]
     },
     "execution_count": 106,
     "metadata": {},
     "output_type": "execute_result"
    }
   ],
   "source": [
    "'www.example.com'.strip('cmowz.')"
   ]
  },
  {
   "cell_type": "code",
   "execution_count": 107,
   "id": "e8122468",
   "metadata": {},
   "outputs": [
    {
     "data": {
      "text/plain": [
       "'Section 3.2.1 Issue #32'"
      ]
     },
     "execution_count": 107,
     "metadata": {},
     "output_type": "execute_result"
    }
   ],
   "source": [
    "comment_string = '#....... Section 3.2.1 Issue #32 .......'\n",
    "comment_string.strip('.#! ')"
   ]
  },
  {
   "cell_type": "code",
   "execution_count": 108,
   "id": "70151f6a",
   "metadata": {},
   "outputs": [
    {
     "data": {
      "text/plain": [
       "{'may': 5, 'kein': 10, 'kain': 1, 'radi': 3}"
      ]
     },
     "execution_count": 108,
     "metadata": {},
     "output_type": "execute_result"
    }
   ],
   "source": [
    "dict(zip([\"may\", \"kein\", \"kain\", \"radi\"],[5, 10, 1, 3]))"
   ]
  }
 ],
 "metadata": {
  "kernelspec": {
   "display_name": "langCh-env",
   "language": "python",
   "name": "python3"
  },
  "language_info": {
   "codemirror_mode": {
    "name": "ipython",
    "version": 3
   },
   "file_extension": ".py",
   "mimetype": "text/x-python",
   "name": "python",
   "nbconvert_exporter": "python",
   "pygments_lexer": "ipython3",
   "version": "3.10.18"
  }
 },
 "nbformat": 4,
 "nbformat_minor": 5
}
