{
 "cells": [
  {
   "cell_type": "code",
   "execution_count": null,
   "id": "4651edc3",
   "metadata": {},
   "outputs": [
    {
     "name": "stdout",
     "output_type": "stream",
     "text": [
      "1\n",
      "<class 'tuple'>\n"
     ]
    }
   ],
   "source": [
    "import numpy as np\n",
    "\n",
    "tsor = np.arange(7.0) # array([0., 1., 2., 3., 4., 5., 6.])\n",
    "print(tsor.ndim) #1\n",
    "print(tsor.shape) # (7,)"
   ]
  },
  {
   "cell_type": "code",
   "execution_count": null,
   "id": "53517a55",
   "metadata": {},
   "outputs": [
    {
     "name": "stdout",
     "output_type": "stream",
     "text": [
      "Rank of t: 2\n",
      "Shape of t: (4, 3)\n"
     ]
    }
   ],
   "source": [
    "t = np.arange(1.0,13.0).reshape(4,3)\n",
    "print('Rank of t:', t.ndim) # Rank of t: 2\n",
    "print('Shape of t:', t.shape) # Shape of t: (4, 3)"
   ]
  },
  {
   "cell_type": "code",
   "execution_count": 24,
   "id": "0d147c42",
   "metadata": {},
   "outputs": [
    {
     "data": {
      "text/plain": [
       "tensor([[0., 1., 2., 3.],\n",
       "        [4., 5., 6., 7.]])"
      ]
     },
     "execution_count": 24,
     "metadata": {},
     "output_type": "execute_result"
    }
   ],
   "source": [
    "import torch\n",
    "\n",
    "tsor = torch.FloatTensor([0.,1.,2.,3.,4.,5.,6.,]) #torch.Tensor\n",
    "torch.arange(8.0).reshape(2,4)"
   ]
  },
  {
   "cell_type": "code",
   "execution_count": 37,
   "id": "6ee27583",
   "metadata": {},
   "outputs": [
    {
     "name": "stdout",
     "output_type": "stream",
     "text": [
      "torch.Size([7]) torch.Size([7])\n"
     ]
    }
   ],
   "source": [
    "tsor.dim() # 메소드임\n",
    "tsor.shape # 속성값\n",
    "tsor.size() # 메소드\n",
    "tsor.ndim # 속성값\n",
    "\n",
    "print(tsor.shape, tsor.size())"
   ]
  },
  {
   "cell_type": "code",
   "execution_count": 39,
   "id": "1e8f4689",
   "metadata": {},
   "outputs": [
    {
     "data": {
      "text/plain": [
       "tensor([[ 1.,  2.,  3.],\n",
       "        [ 4.,  5.,  6.],\n",
       "        [ 7.,  8.,  9.],\n",
       "        [10., 11., 12.]])"
      ]
     },
     "execution_count": 39,
     "metadata": {},
     "output_type": "execute_result"
    }
   ],
   "source": [
    "t = torch.arange(1.0,13.0).reshape(4,3)\n",
    "t"
   ]
  },
  {
   "cell_type": "code",
   "execution_count": 42,
   "id": "fe25ef45",
   "metadata": {},
   "outputs": [
    {
     "data": {
      "text/plain": [
       "tensor([[ 1.,  2.],\n",
       "        [ 4.,  5.],\n",
       "        [ 7.,  8.],\n",
       "        [10., 11.]])"
      ]
     },
     "execution_count": 42,
     "metadata": {},
     "output_type": "execute_result"
    }
   ],
   "source": [
    "t[:,1] # tensor([ 2.,  5.,  8., 11.])\n",
    "t[:,1].size() # torch.Size([4])\n",
    "t[:,: -1]\n"
   ]
  },
  {
   "cell_type": "code",
   "execution_count": null,
   "id": "d47e169f",
   "metadata": {},
   "outputs": [
    {
     "data": {
      "text/plain": [
       "tensor([[5., 5.]])"
      ]
     },
     "execution_count": 47,
     "metadata": {},
     "output_type": "execute_result"
    }
   ],
   "source": [
    "m1 = torch.FloatTensor([[3,3]]) # tensor([[3., 3.]])\n",
    "m2 = torch.FloatTensor([[2,2]]) # tensor([[2., 2.]])\n",
    "\n",
    "m1 + m2 # tensor([[5., 5.]])\n"
   ]
  },
  {
   "cell_type": "code",
   "execution_count": null,
   "id": "c813eba6",
   "metadata": {},
   "outputs": [],
   "source": []
  }
 ],
 "metadata": {
  "kernelspec": {
   "display_name": "langCh-env",
   "language": "python",
   "name": "python3"
  },
  "language_info": {
   "codemirror_mode": {
    "name": "ipython",
    "version": 3
   },
   "file_extension": ".py",
   "mimetype": "text/x-python",
   "name": "python",
   "nbconvert_exporter": "python",
   "pygments_lexer": "ipython3",
   "version": "3.10.18"
  }
 },
 "nbformat": 4,
 "nbformat_minor": 5
}
