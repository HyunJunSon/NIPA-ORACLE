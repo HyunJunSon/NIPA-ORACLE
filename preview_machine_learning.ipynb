{
 "cells": [
  {
   "cell_type": "markdown",
   "id": "9d2716cf",
   "metadata": {},
   "source": [
    "## 머신러닝 기초"
   ]
  },
  {
   "cell_type": "code",
   "execution_count": 2,
   "id": "8c8fc7ba",
   "metadata": {},
   "outputs": [
    {
     "name": "stdout",
     "output_type": "stream",
     "text": [
      "tensor(4.)\n"
     ]
    }
   ],
   "source": [
    "import torch\n",
    "\n",
    "x = torch.tensor(2.0, requires_grad=True)\n",
    "y = x ** 2\n",
    "y.backward()\n",
    "print(x.grad)"
   ]
  },
  {
   "cell_type": "code",
   "execution_count": 3,
   "id": "c0f33ce2",
   "metadata": {},
   "outputs": [
    {
     "data": {
      "text/plain": [
       "(7,)"
      ]
     },
     "execution_count": 3,
     "metadata": {},
     "output_type": "execute_result"
    }
   ],
   "source": [
    "import numpy as np\n",
    "\n",
    "tsor = np.arange(7.0)\n",
    "tsor.ndim # 1.    # 텐서의 차원\n",
    "tsor.shape # (7,)  # 텐서의 크기\n",
    "\n"
   ]
  },
  {
   "cell_type": "code",
   "execution_count": 4,
   "id": "0c3576d8",
   "metadata": {},
   "outputs": [
    {
     "data": {
      "text/plain": [
       "(4, 3)"
      ]
     },
     "execution_count": 4,
     "metadata": {},
     "output_type": "execute_result"
    }
   ],
   "source": [
    "tsor2 = np.arange(1.0, 13).reshape((4,3))\n",
    "tsor2.ndim #2\n",
    "tsor2.shape # (4,3)\n"
   ]
  },
  {
   "cell_type": "code",
   "execution_count": 2,
   "id": "2e1dde4d",
   "metadata": {},
   "outputs": [
    {
     "data": {
      "text/plain": [
       "7"
      ]
     },
     "execution_count": 2,
     "metadata": {},
     "output_type": "execute_result"
    }
   ],
   "source": [
    "import torch\n",
    "\n",
    "tsor3 = torch.arange(0.0, 7)\n",
    "tsor3.dim() # 1\n",
    "tsor3.shape  # torch.Size([7])\n",
    "tsor3.size() # torch.Size([7])\n",
    "tsor3.shape[0]"
   ]
  },
  {
   "cell_type": "code",
   "execution_count": null,
   "id": "9443fb12",
   "metadata": {},
   "outputs": [
    {
     "data": {
      "text/plain": [
       "tensor([[ 1.,  2.],\n",
       "        [ 4.,  5.],\n",
       "        [ 7.,  8.],\n",
       "        [10., 11.]])"
      ]
     },
     "execution_count": 14,
     "metadata": {},
     "output_type": "execute_result"
    }
   ],
   "source": [
    "t = torch.arange(1,13.0).reshape((4,3))\n",
    "t.dim() #2\n",
    "t.size() # torch.Size([4, 3])\n",
    "t.shape # torch.Size([4, 3])\n",
    "\n",
    "t[:,1]\n",
    "t[:,1].size()\n",
    "t[:,:-1] # 마지막 차원 제외\n"
   ]
  },
  {
   "cell_type": "code",
   "execution_count": null,
   "id": "4ba1c5a6",
   "metadata": {},
   "outputs": [
    {
     "data": {
      "text/plain": [
       "tensor([5., 5.])"
      ]
     },
     "execution_count": 16,
     "metadata": {},
     "output_type": "execute_result"
    }
   ],
   "source": [
    "m1 = torch.FloatTensor([3,3])\n",
    "m2 = torch.FloatTensor([2,2])\n",
    "m1 + m2 # tensor([5., 5.])"
   ]
  },
  {
   "cell_type": "code",
   "execution_count": null,
   "id": "ffcbc1b0",
   "metadata": {},
   "outputs": [
    {
     "data": {
      "text/plain": [
       "tensor([4., 5.])"
      ]
     },
     "execution_count": 17,
     "metadata": {},
     "output_type": "execute_result"
    }
   ],
   "source": [
    "m1 = torch.FloatTensor([1,2])\n",
    "m2 = torch.FloatTensor([3])\n",
    "m1 + m2 # tensor([4., 5.]) 큰 size에 맞춰서 작은 사이즈가 중복되어 생김"
   ]
  },
  {
   "cell_type": "code",
   "execution_count": null,
   "id": "342198b4",
   "metadata": {},
   "outputs": [
    {
     "data": {
      "text/plain": [
       "tensor([[2., 3.],\n",
       "        [5., 6.]])"
      ]
     },
     "execution_count": 18,
     "metadata": {},
     "output_type": "execute_result"
    }
   ],
   "source": [
    "m1 = torch.FloatTensor([[1,2],[3,4]]) # 2*2\n",
    "m2 = torch.FloatTensor([[1],[2]]) # 2*1\n",
    "m1 + m2 # tensor([[2., 3.],\n",
    "        #         [5., 6.]])"
   ]
  },
  {
   "cell_type": "code",
   "execution_count": 30,
   "id": "b1aacb5e",
   "metadata": {},
   "outputs": [
    {
     "data": {
      "text/plain": [
       "tensor([[ 5.],\n",
       "        [11.]])"
      ]
     },
     "execution_count": 30,
     "metadata": {},
     "output_type": "execute_result"
    }
   ],
   "source": [
    "m1 = torch.FloatTensor([[1,2],[3,4]]) # 2*2\n",
    "m2 = torch.FloatTensor([[1],[2]]) # 2*1\n",
    "\n",
    "m1.matmul(m2).shape # torch.Size([2, 1]) 내적 (dot 연산) -> matrix multiplication \n",
    "(m1 @ m2).shape # 위와 같은 연산\n",
    "torch.matmul(m1,m2)\n",
    "# torch.dot(m1,m2) 벡터끼리의 내적만 지원함 행렬곱은 안됨 -> 1D 전용"
   ]
  },
  {
   "cell_type": "markdown",
   "id": "78d77b36",
   "metadata": {},
   "source": [
    "#### 평균"
   ]
  },
  {
   "cell_type": "code",
   "execution_count": null,
   "id": "798c2b67",
   "metadata": {},
   "outputs": [
    {
     "data": {
      "text/plain": [
       "tensor([1.5000, 3.5000])"
      ]
     },
     "execution_count": 44,
     "metadata": {},
     "output_type": "execute_result"
    }
   ],
   "source": [
    "t = torch.FloatTensor([1,2])\n",
    "t.mean() # tensor(1.5000)\n",
    "m1 = torch.FloatTensor([[1,2],[3,4]]) # 2*2\n",
    "m1.mean()\n",
    "\n",
    "m1.mean(dim=0 ,dtype=torch.float) # tensor([2., 3.])\n",
    "m1.mean(dim=1 ,dtype=torch.float) # tensor([1.5000, 3.5000])\n",
    "# m1.mean(dim=2 ,dtype=torch.float) # Dimension out of range (expected to be in range of [-2, 1], but got 2)\n",
    "\n",
    "# dim=0이면 0번째 축(행 방향) 을 없애면서 계산,\n",
    "# dim=1이면 1번째 축(열 방향) 을 없애면서 계산\n",
    "m1.mean(dim=-1 ,dtype=torch.float) # tensor([1.5000, 3.5000])\n"
   ]
  },
  {
   "cell_type": "markdown",
   "id": "b6a46c61",
   "metadata": {},
   "source": [
    "#### 덧셈\n"
   ]
  },
  {
   "cell_type": "code",
   "execution_count": null,
   "id": "2ba69c1d",
   "metadata": {},
   "outputs": [
    {
     "data": {
      "text/plain": [
       "tensor([3., 7.])"
      ]
     },
     "execution_count": 49,
     "metadata": {},
     "output_type": "execute_result"
    }
   ],
   "source": [
    "t2 = torch.FloatTensor([[1,2],[3,4]])\n",
    "t2.sum() #tensor(10.)\n",
    "t2.sum(dim=0) # tensor([4., 6.])\n",
    "t2.sum(dim=1) # tensor([3., 7.])\n",
    "t2.sum(dim=-1) # tensor([3., 7.])"
   ]
  },
  {
   "cell_type": "markdown",
   "id": "96421c8e",
   "metadata": {},
   "source": [
    "#### max, arxmax\n"
   ]
  },
  {
   "cell_type": "code",
   "execution_count": null,
   "id": "350e8495",
   "metadata": {},
   "outputs": [
    {
     "data": {
      "text/plain": [
       "tensor([1, 1])"
      ]
     },
     "execution_count": 54,
     "metadata": {},
     "output_type": "execute_result"
    }
   ],
   "source": [
    "t3 = torch.FloatTensor([[1,2],[3,4]])\n",
    "t3.max() # tensor(4.)\n",
    "t3.max(dim=0) # torch.return_types.max(values=tensor([3., 4.]),indices=tensor([1, 1])) # indice= 최대값위치\n",
    "t3.max(dim=1) # torch.return_types.max(values=tensor([2., 4.]),(indices=tensor([1, 1]))\n",
    "\n",
    "t3.max(dim=0)[0] # tensor([3., 4.]) -> tensor\n",
    "t3.max(dim=0)[1] # tensor([1, 1]) -> indice"
   ]
  },
  {
   "cell_type": "markdown",
   "id": "12a70194",
   "metadata": {},
   "source": [
    "#### view - 원소의 수를 유지하며 텐서 크기 변경 (np.reshape())"
   ]
  },
  {
   "cell_type": "code",
   "execution_count": null,
   "id": "f764e47d",
   "metadata": {},
   "outputs": [
    {
     "data": {
      "text/plain": [
       "tensor([[ 0.,  1.,  2.],\n",
       "        [ 3.,  4.,  5.],\n",
       "        [ 6.,  7.,  8.],\n",
       "        [ 9., 10., 11.]])"
      ]
     },
     "execution_count": 69,
     "metadata": {},
     "output_type": "execute_result"
    }
   ],
   "source": [
    "import numpy as np\n",
    "tt = np.arange(0,12).reshape((4,3))\n",
    "tt\n",
    "\n",
    "ft = torch.FloatTensor(tt)\n",
    "\n",
    "# tensor([[ 0.,  1.,  2.],\n",
    "#         [ 3.,  4.,  5.],\n",
    "#         [ 6.,  7.,  8.],\n",
    "#         [ 9., 10., 11.]])\n",
    "\n",
    "\n",
    "ft.shape # torch.Size([4, 3])\n",
    "ft"
   ]
  },
  {
   "cell_type": "code",
   "execution_count": 71,
   "id": "ba3e319a",
   "metadata": {},
   "outputs": [
    {
     "data": {
      "text/plain": [
       "tensor([[ 0.,  1.],\n",
       "        [ 2.,  3.],\n",
       "        [ 4.,  5.],\n",
       "        [ 6.,  7.],\n",
       "        [ 8.,  9.],\n",
       "        [10., 11.]])"
      ]
     },
     "execution_count": 71,
     "metadata": {},
     "output_type": "execute_result"
    }
   ],
   "source": [
    "ft.view([-1,2])"
   ]
  },
  {
   "cell_type": "code",
   "execution_count": 74,
   "id": "47f1825c",
   "metadata": {},
   "outputs": [
    {
     "data": {
      "text/plain": [
       "torch.Size([4, 1, 3])"
      ]
     },
     "execution_count": 74,
     "metadata": {},
     "output_type": "execute_result"
    }
   ],
   "source": [
    "ft.view([-1,1,3]).shape # torch.Size([4, 1, 3])"
   ]
  },
  {
   "cell_type": "markdown",
   "id": "c044b6ca",
   "metadata": {},
   "source": [
    "#### squeeze -1 차원 제거, unsqueeze +1 차원추가"
   ]
  },
  {
   "cell_type": "code",
   "execution_count": null,
   "id": "dff4ac5b",
   "metadata": {},
   "outputs": [
    {
     "data": {
      "text/plain": [
       "torch.Size([3, 1])"
      ]
     },
     "execution_count": 90,
     "metadata": {},
     "output_type": "execute_result"
    }
   ],
   "source": [
    "ttt = ttt = torch.arange(1,4).reshape((3,1))\n",
    "\n",
    "ttt.shape #torch.Size([3, 1])\n",
    "ttt.squeeze().shape # torch.Size([3])\n",
    "\n",
    "\n",
    "tttt = torch.arange(1,4).reshape((3,1))\n",
    "# tensor([[1],\n",
    "#         [2],\n",
    "#         [3]])\n",
    "# torch.Size([3, 1])\n",
    "\n",
    "tttt.unsqueeze(0) # 인덱스가 0부터 시작하므로 0은 첫번째 차원을 의미한다.\n",
    "\n",
    "# tensor([[[1],\n",
    "#          [2],\n",
    "#          [3]]])\n",
    "# torch.Size([1, 3, 1])\n",
    "\n",
    "tttt.unsqueeze(1)\n",
    "\n",
    "# tensor([[[1]],\n",
    "\n",
    "#         [[2]],\n",
    "\n",
    "        # [[3]]])\n",
    "tttt.unsqueeze(1).shape\n",
    "\n",
    "#torch.Size([3, 1, 1])\n",
    "\n"
   ]
  },
  {
   "cell_type": "code",
   "execution_count": 95,
   "id": "9c34597b",
   "metadata": {},
   "outputs": [
    {
     "data": {
      "text/plain": [
       "tensor([[1, 2, 3]])"
      ]
     },
     "execution_count": 95,
     "metadata": {},
     "output_type": "execute_result"
    }
   ],
   "source": [
    "tttt.unsqueeze(-1).shape # torch.Size([3, 1, 1])\n",
    "\n",
    "tttt.view(1,-1) # torch.Size([1, 3])"
   ]
  },
  {
   "cell_type": "markdown",
   "id": "460bdb0a",
   "metadata": {},
   "source": [
    "#### 타입캐스팅"
   ]
  },
  {
   "cell_type": "code",
   "execution_count": null,
   "id": "2d809128",
   "metadata": {},
   "outputs": [
    {
     "data": {
      "text/plain": [
       "tensor([1., 0., 0., 1.])"
      ]
     },
     "execution_count": 103,
     "metadata": {},
     "output_type": "execute_result"
    }
   ],
   "source": [
    "ft = torch.LongTensor([1,2,3,4]) #tensor([1, 2, 3, 4])\n",
    "ft.float() # tensor([1., 2., 3., 4.])\n",
    "\n",
    "bt = torch.ByteTensor([True, False, False, True]) # tensor([1, 0, 0, 1], dtype=torch.uint8)\n",
    "bt.long() # tensor([1, 0, 0, 1])\n",
    "bt.float() # tensor([1., 0., 0., 1.])"
   ]
  },
  {
   "cell_type": "markdown",
   "id": "bbe31633",
   "metadata": {},
   "source": [
    "#### tensor 연산"
   ]
  },
  {
   "cell_type": "code",
   "execution_count": null,
   "id": "ac7407cf",
   "metadata": {},
   "outputs": [
    {
     "data": {
      "text/plain": [
       "tensor([[1., 2.],\n",
       "        [3., 4.],\n",
       "        [5., 6.],\n",
       "        [7., 8.]])"
      ]
     },
     "execution_count": 105,
     "metadata": {},
     "output_type": "execute_result"
    }
   ],
   "source": [
    "x = torch.FloatTensor([[1,2],[3,4]])\n",
    "y = torch.FloatTensor([[5,6],[7,8]])\n",
    "\n",
    "torch.cat((x,y)) #"
   ]
  }
 ],
 "metadata": {
  "kernelspec": {
   "display_name": "langCh-env",
   "language": "python",
   "name": "python3"
  },
  "language_info": {
   "codemirror_mode": {
    "name": "ipython",
    "version": 3
   },
   "file_extension": ".py",
   "mimetype": "text/x-python",
   "name": "python",
   "nbconvert_exporter": "python",
   "pygments_lexer": "ipython3",
   "version": "3.10.18"
  }
 },
 "nbformat": 4,
 "nbformat_minor": 5
}
